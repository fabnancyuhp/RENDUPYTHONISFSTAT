{
  "nbformat": 4,
  "nbformat_minor": 0,
  "metadata": {
    "kernelspec": {
      "display_name": "Python 3",
      "language": "python",
      "name": "python3"
    },
    "language_info": {
      "codemirror_mode": {
        "name": "ipython",
        "version": 3
      },
      "file_extension": ".py",
      "mimetype": "text/x-python",
      "name": "python",
      "nbconvert_exporter": "python",
      "pygments_lexer": "ipython3",
      "version": "3.7.4"
    },
    "colab": {
      "name": "First Assignment.ipynb",
      "provenance": [],
      "include_colab_link": true
    }
  },
  "cells": [
    {
      "cell_type": "markdown",
      "metadata": {
        "id": "view-in-github",
        "colab_type": "text"
      },
      "source": [
        "<a href=\"https://colab.research.google.com/github/fabnancyuhp/RENDUPYTHONISFSTAT/blob/master/First_Assignment.ipynb\" target=\"_parent\"><img src=\"https://colab.research.google.com/assets/colab-badge.svg\" alt=\"Open In Colab\"/></a>"
      ]
    },
    {
      "cell_type": "markdown",
      "metadata": {
        "id": "Jadf7XEk6sCx",
        "colab_type": "text"
      },
      "source": [
        "Exercise 1:"
      ]
    },
    {
      "cell_type": "code",
      "metadata": {
        "id": "XQ4U__Zn6sC5",
        "colab_type": "code",
        "colab": {},
        "outputId": "348d04d4-6bdd-463d-99c6-b93ea844021d"
      },
      "source": [
        "import numpy as np\n",
        "M = np.array([[5, 2.6 , 5, 9],[4, 3.6, 9, 10],[5.5, 4, 6, 7]])\n",
        "np.mean(M, axis = 0)    #mean by column\n",
        "np.mean(M, axis = 1)    #mean by row"
      ],
      "execution_count": 0,
      "outputs": [
        {
          "output_type": "execute_result",
          "data": {
            "text/plain": [
              "array([4.83333333, 3.4       , 6.66666667, 8.66666667])"
            ]
          },
          "metadata": {
            "tags": []
          },
          "execution_count": 4
        }
      ]
    },
    {
      "cell_type": "markdown",
      "metadata": {
        "id": "iPrqXl1K6sDF",
        "colab_type": "text"
      },
      "source": [
        "Exercise 2:"
      ]
    },
    {
      "cell_type": "code",
      "metadata": {
        "id": "Rq97_k146sDH",
        "colab_type": "code",
        "colab": {},
        "outputId": "78ad3972-1ae0-49a9-ffb3-ac86dc3e89f3"
      },
      "source": [
        "import numpy as np\n",
        "prob = np.array([1/6, 1/3, 1/2])\n",
        "states = np.array(['voit', 'velo', 'trot'])\n",
        "simu = np.random.choice(states, size = 20, replace = True, p = prob)\n",
        "simu  #vecteur de taille 20 "
      ],
      "execution_count": 0,
      "outputs": [
        {
          "output_type": "execute_result",
          "data": {
            "text/plain": [
              "array(['voit', 'trot', 'voit', 'trot', 'trot', 'velo', 'trot', 'trot',\n",
              "       'trot', 'velo', 'trot', 'velo', 'velo', 'trot', 'velo', 'voit',\n",
              "       'trot', 'trot', 'velo', 'velo'], dtype='<U4')"
            ]
          },
          "metadata": {
            "tags": []
          },
          "execution_count": 6
        }
      ]
    },
    {
      "cell_type": "code",
      "metadata": {
        "id": "pxHcYHrq6sDO",
        "colab_type": "code",
        "colab": {},
        "outputId": "1cedf9b2-9dd0-4280-abd2-5adb4d2d550c"
      },
      "source": [
        "array = np.random.normal(4, np.sqrt(10), 10)\n",
        "array"
      ],
      "execution_count": 0,
      "outputs": [
        {
          "output_type": "execute_result",
          "data": {
            "text/plain": [
              "array([ 5.91601219, 10.14403258, -0.13275965,  5.25678993,  2.87802916,\n",
              "        3.66788489,  6.4284574 , -0.32906006,  2.22244761,  2.16328693])"
            ]
          },
          "metadata": {
            "tags": []
          },
          "execution_count": 11
        }
      ]
    },
    {
      "cell_type": "markdown",
      "metadata": {
        "id": "59jk_jXB6sDU",
        "colab_type": "text"
      },
      "source": [
        "Exercise 3:"
      ]
    },
    {
      "cell_type": "code",
      "metadata": {
        "id": "boxgtzEN6sDX",
        "colab_type": "code",
        "colab": {},
        "outputId": "cd65e614-60a0-4b05-9683-2b72bb3822a6"
      },
      "source": [
        "import numpy as np\n",
        "V1 = 2*np.ones(4, dtype = int)\n",
        "V2 = np.insert(V1, 2, 5)\n",
        "V2 = V2.reshape(1,5)\n",
        "M = np.concatenate([V2]*6, axis = 0)\n",
        "M"
      ],
      "execution_count": 0,
      "outputs": [
        {
          "output_type": "execute_result",
          "data": {
            "text/plain": [
              "array([[2, 2, 5, 2, 2],\n",
              "       [2, 2, 5, 2, 2],\n",
              "       [2, 2, 5, 2, 2],\n",
              "       [2, 2, 5, 2, 2],\n",
              "       [2, 2, 5, 2, 2],\n",
              "       [2, 2, 5, 2, 2]])"
            ]
          },
          "metadata": {
            "tags": []
          },
          "execution_count": 15
        }
      ]
    },
    {
      "cell_type": "markdown",
      "metadata": {
        "id": "zIzVQHHw6sDd",
        "colab_type": "text"
      },
      "source": [
        "Exercise 4:"
      ]
    },
    {
      "cell_type": "code",
      "metadata": {
        "id": "vDBeq3qJ6sDf",
        "colab_type": "code",
        "colab": {},
        "outputId": "6930fa56-42a7-4b07-91e4-42e4962f3e22"
      },
      "source": [
        "import numpy as np\n",
        "import matplotlib.pyplot as plt\n",
        "from scipy.special import gamma\n",
        "x = np.linspace(0, 20, 200)\n",
        "y = (x**2 * np.exp(-x))/gamma(3)\n",
        "plt.plot(x,y, color = 'orange')\n",
        "x1 = np.linspace(3,10,1000)\n",
        "y1 = (x1**2 * np.exp(-x1))/gamma(3)\n",
        "plt.fill_between(x1,y1, color = 'red')\n",
        "plt.show\n",
        "\n",
        "#Riemann sum\n",
        "((10-3)/1000)*np.sum(y1)\n",
        "\n",
        "#Integral with scipy package\n",
        "def f(x):\n",
        "    y = (x**2 * np.exp(-x))/gamma(3)\n",
        "    return(y)\n",
        "from scipy.integrate import quad\n",
        "quad(f, 3, 10)\n",
        "    "
      ],
      "execution_count": 0,
      "outputs": [
        {
          "output_type": "execute_result",
          "data": {
            "text/plain": [
              "(0.420420685411332, 4.667607249723504e-15)"
            ]
          },
          "metadata": {
            "tags": []
          },
          "execution_count": 18
        },
        {
          "output_type": "display_data",
          "data": {
            "image/png": "[encoded data removed]",
            "text/plain": [
              "<Figure size 432x288 with 1 Axes>"
            ]
          },
          "metadata": {
            "tags": [],
            "needs_background": "light"
          }
        }
      ]
    },
    {
      "cell_type": "markdown",
      "metadata": {
        "id": "NmrMpzqD6sDl",
        "colab_type": "text"
      },
      "source": [
        "Exercise 5:"
      ]
    },
    {
      "cell_type": "code",
      "metadata": {
        "id": "zPfHRFsX6sDn",
        "colab_type": "code",
        "colab": {},
        "outputId": "fb81e4db-8aa2-40fb-d8a3-bdf62b2811a7"
      },
      "source": [
        "import numpy as np\n",
        "np.random.seed(1998)\n",
        "proba = [0.1,0.2,0.3,0.4]\n",
        "etat = np.array(['A','B','C','D'])\n",
        "Simu = np.random.choice(etat, size=1000, replace=True, p=proba)\n",
        "x_pos = np.arange(len(etat))\n",
        "\n",
        "keys, height = np.unique(Simu, return_counts=True)\n",
        "height = height/10\n",
        "barlist=plt.bar(x_pos, height,edgecolor='blue',alpha=0.7,color=['green','yellow','orange', 'red'])\n",
        "plt.xticks(x_pos,etat ,color='black',fontweight='bold')\n",
        "plt.box(False)\n",
        "for i in range(0,len(height)):\n",
        "    plt.text(x_pos[i]-0.18,height[i]+2.5,str(height[i]) + \"%\", color='black',fontweight='bold')\n",
        "plt.show()\n"
      ],
      "execution_count": 0,
      "outputs": [
        {
          "output_type": "display_data",
          "data": {
            "image/png": "[encoded data removed]",
            "text/plain": [
              "<Figure size 432x288 with 1 Axes>"
            ]
          },
          "metadata": {
            "tags": [],
            "needs_background": "light"
          }
        }
      ]
    },
    {
      "cell_type": "markdown",
      "metadata": {
        "id": "ZH6qrPd-6sDs",
        "colab_type": "text"
      },
      "source": [
        "Exercise 6:"
      ]
    },
    {
      "cell_type": "code",
      "metadata": {
        "id": "k4nl5IlB6sDt",
        "colab_type": "code",
        "colab": {},
        "outputId": "f62a5686-0457-4348-fb15-343240d1fc11"
      },
      "source": [
        "import numpy as np\n",
        "import matplotlib.pyplot as plt\n",
        "import math as mt\n",
        "np.random.seed(1998)\n",
        "extractions = np.random.normal(6, 3, size = 10000)\n",
        "plt.hist(extractions,bins='sturges',density=True)\n",
        "\n",
        "x = np.linspace(-6, 16, 200)\n",
        "y = (np.exp(-0.5*((x-6)/3)**2))/np.sqrt(18*mt.pi)\n",
        "plt.plot(x,y,color='black')\n",
        "plt.show"
      ],
      "execution_count": 0,
      "outputs": [
        {
          "output_type": "execute_result",
          "data": {
            "text/plain": [
              "<function matplotlib.pyplot.show(*args, **kw)>"
            ]
          },
          "metadata": {
            "tags": []
          },
          "execution_count": 113
        },
        {
          "output_type": "display_data",
          "data": {
            "image/png": "[encoded data removed]",
            "text/plain": [
              "<Figure size 432x288 with 1 Axes>"
            ]
          },
          "metadata": {
            "tags": [],
            "needs_background": "light"
          }
        }
      ]
    },
    {
      "cell_type": "markdown",
      "metadata": {
        "id": "lvGJLwu76sD0",
        "colab_type": "text"
      },
      "source": [
        "Esercizio 7:"
      ]
    },
    {
      "cell_type": "code",
      "metadata": {
        "id": "-a2kAZbf6sD2",
        "colab_type": "code",
        "colab": {},
        "outputId": "5555173a-9b66-4f43-f5cb-a851655f5429"
      },
      "source": [
        "#nous simulons l'extraction des mâles et des femmes selon leur loi de probabilité\n",
        "M = np.random.binomial(1, 32455859/(32455859+34534967), size=(100000,100))\n",
        "#nous simulons echantillons pour le deux lois\n",
        "MW = np.random.normal(77.4, 12, size=(100000,100))\n",
        "WW = np.random.normal(62.4, 10.9, size=(100000,100))\n",
        "tM = (1 - M)\n",
        "#nous associons chacune réalisation à les males et à les femmes\n",
        "sum_MW = np.sum(M * MW, axis = 1)\n",
        "sum_WW = np.sum(tM * WW, axis = 1)\n",
        "#nous ajoutons le poids de tous les passagers\n",
        "TOT = sum_MW + sum_WW\n",
        "#nous vérifions combien de fois la limite de 7200a été dépassée\n",
        "TF = TOT>7200\n",
        "np.sum(TF)/100000\n",
        "#sur un simulation de 100.000 echantillons de 100 passagers\n",
        "#le limite est dépassée moins de 5% des cas\n"
      ],
      "execution_count": 0,
      "outputs": [
        {
          "output_type": "execute_result",
          "data": {
            "text/plain": [
              "0.04417"
            ]
          },
          "metadata": {
            "tags": []
          },
          "execution_count": 35
        }
      ]
    },
    {
      "cell_type": "markdown",
      "metadata": {
        "id": "rxBRjXFS6sD9",
        "colab_type": "text"
      },
      "source": [
        "Esercizio 8:"
      ]
    },
    {
      "cell_type": "code",
      "metadata": {
        "id": "bEpuzNA56sD-",
        "colab_type": "code",
        "colab": {},
        "outputId": "c04471d2-f868-48f2-9092-fd5b4b3a89ae"
      },
      "source": [
        "import numpy as np\n",
        "import matplotlib.pyplot as plt\n",
        "np.random.seed(1999)\n",
        "mixture_components = np.random.choice([1,2], size = 400, replace = True, p = [1/3, 2/3])\n",
        "n1 = sum(mixture_components== 1)\n",
        "n2 = sum(mixture_components== 2)\n",
        "mu1 = np.array([0,0])\n",
        "mu2 = np.array([1,1])\n",
        "cov1 = np.array([[1,0], [0,1]])\n",
        "cov2 = np.array([[0.25, 0], [0, 0.25]])\n",
        "\n",
        "estr1 = np.random.multivariate_normal(mu1, cov1, n1)\n",
        "estr2 = np.random.multivariate_normal(mu2, cov2, n2)\n",
        "\n",
        "plt.scatter(estr1[:,0], estr1[:,1], color = \"orange\", alpha = 0.3)\n",
        "plt.scatter(estr2[:,0], estr2[:,1], color = \"green\", alpha = 0.3)\n",
        "plt.show()\n",
        "\n",
        "#nous pouvons voir que la nuage vert est centré sur (1,1) et est plus compact à \n",
        "#cause de la plus petite variance de la deuxieme distribution\n"
      ],
      "execution_count": 0,
      "outputs": [
        {
          "output_type": "display_data",
          "data": {
            "image/png": "[encoded data removed]",
            "text/plain": [
              "<Figure size 432x288 with 1 Axes>"
            ]
          },
          "metadata": {
            "tags": [],
            "needs_background": "light"
          }
        }
      ]
    }
  ]
}
