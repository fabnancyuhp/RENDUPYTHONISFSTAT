{
  "nbformat": 4,
  "nbformat_minor": 0,
  "metadata": {
    "kernelspec": {
      "display_name": "Python 3",
      "language": "python",
      "name": "python3"
    },
    "language_info": {
      "codemirror_mode": {
        "name": "ipython",
        "version": 3
      },
      "file_extension": ".py",
      "mimetype": "text/x-python",
      "name": "python",
      "nbconvert_exporter": "python",
      "pygments_lexer": "ipython3",
      "version": "3.7.1"
    },
    "colab": {
      "name": "Structure de base numérique-etudiant_LEGROS_Adrien.ipynb",
      "provenance": [],
      "include_colab_link": true
    }
  },
  "cells": [
    {
      "cell_type": "markdown",
      "metadata": {
        "id": "view-in-github",
        "colab_type": "text"
      },
      "source": [
        "<a href=\"https://colab.research.google.com/github/fabnancyuhp/RENDUPYTHONISFSTAT/blob/master/Structure_de_base_num%C3%A9rique_etudiant_LEGROS_Adrien.ipynb\" target=\"_parent\"><img src=\"https://colab.research.google.com/assets/colab-badge.svg\" alt=\"Open In Colab\"/></a>"
      ]
    },
    {
      "cell_type": "markdown",
      "metadata": {
        "id": "Ko9iLhQ5hzbc",
        "colab_type": "text"
      },
      "source": [
        "Dans ce chapitre on considére que les listes, les tuples, les fonctions sont maitrisés. Le but de ce chapitre est \n",
        "<ul>\n",
        "    <li>D'introduire les packages numpy, scipy, matplotlib. </li>\n",
        "    <li>De construire des matrices et des vecteurs</li>\n",
        "    <li>De faire des simulations</li>\n",
        "    <li>De tracer des graphiques</li>\n",
        "</ul>"
      ]
    },
    {
      "cell_type": "markdown",
      "metadata": {
        "id": "HP4NRmykhzbj",
        "colab_type": "text"
      },
      "source": [
        "# Introduction à la librairie numpy : Matrices et vecteurs en python"
      ]
    },
    {
      "cell_type": "markdown",
      "metadata": {
        "id": "xPdVkn_ohzbl",
        "colab_type": "text"
      },
      "source": [
        "On va créer la matrice suivante:\n",
        "    $$A=\\left(\\begin{array}{ccc}\n",
        "    1.1 & 2.6 & 5\\\\\n",
        "    3 & 3.6 & 9\\\\\n",
        "    5.5 & 4 & 4.9\n",
        "    \\end{array}\\right)$$\n"
      ]
    },
    {
      "cell_type": "code",
      "metadata": {
        "id": "umBhdtU9hzbm",
        "colab_type": "code",
        "colab": {},
        "outputId": "010d3c13-9c5e-474d-d9ad-91429328d83c"
      },
      "source": [
        "import numpy as np\n",
        "A = np.array([[1.1,2.6,5],[3,3.6,9],[5.5,4,4.9]])\n",
        "A"
      ],
      "execution_count": 0,
      "outputs": [
        {
          "output_type": "execute_result",
          "data": {
            "text/plain": [
              "array([[1.1, 2.6, 5. ],\n",
              "       [3. , 3.6, 9. ],\n",
              "       [5.5, 4. , 4.9]])"
            ]
          },
          "metadata": {
            "tags": []
          },
          "execution_count": 92
        }
      ]
    },
    {
      "cell_type": "markdown",
      "metadata": {
        "id": "U27qoORFhzbw",
        "colab_type": "text"
      },
      "source": [
        "On détermine les dimensions de A:"
      ]
    },
    {
      "cell_type": "code",
      "metadata": {
        "id": "VOj0xOerhzby",
        "colab_type": "code",
        "colab": {},
        "outputId": "faf23df2-0359-41c0-e0ff-bdc1d69411e6"
      },
      "source": [
        "A.shape"
      ],
      "execution_count": 0,
      "outputs": [
        {
          "output_type": "execute_result",
          "data": {
            "text/plain": [
              "(3, 3)"
            ]
          },
          "metadata": {
            "tags": []
          },
          "execution_count": 93
        }
      ]
    },
    {
      "cell_type": "markdown",
      "metadata": {
        "id": "7tmE7J5Rhzb7",
        "colab_type": "text"
      },
      "source": [
        "On va céer le vecteur suivant : B = [1.2,3.8,5.9]:"
      ]
    },
    {
      "cell_type": "code",
      "metadata": {
        "id": "HJuvwrazhzb9",
        "colab_type": "code",
        "colab": {},
        "outputId": "da1ba79a-1e1c-475e-d270-0350d386927f"
      },
      "source": [
        "import numpy as np\n",
        "B = np.array([1.2,3.8,5.9])\n",
        "B"
      ],
      "execution_count": 0,
      "outputs": [
        {
          "output_type": "execute_result",
          "data": {
            "text/plain": [
              "array([1.2, 3.8, 5.9])"
            ]
          },
          "metadata": {
            "tags": []
          },
          "execution_count": 94
        }
      ]
    },
    {
      "cell_type": "markdown",
      "metadata": {
        "id": "3mbTAG5IhzcD",
        "colab_type": "text"
      },
      "source": [
        "On détermine les dimension de B:"
      ]
    },
    {
      "cell_type": "code",
      "metadata": {
        "id": "tcVCrScOhzcG",
        "colab_type": "code",
        "colab": {},
        "outputId": "f3c058d0-2712-4251-d8ad-e98a725c30a8"
      },
      "source": [
        "B.shape\n",
        "np.var(B)"
      ],
      "execution_count": 0,
      "outputs": [
        {
          "output_type": "execute_result",
          "data": {
            "text/plain": [
              "3.6955555555555564"
            ]
          },
          "metadata": {
            "tags": []
          },
          "execution_count": 95
        }
      ]
    },
    {
      "cell_type": "markdown",
      "metadata": {
        "id": "sS0sPS3ChzcP",
        "colab_type": "text"
      },
      "source": [
        "Voici quelques fonctions utiles en statistique:\n",
        "<ul>\n",
        "    <li>np.sum : somme d'array </li>\n",
        "    <li>np.cumsum : somme cumulée d'un array</li>\n",
        "    <li>np.var : variance</li>\n",
        "    <li>np.mean : moyenne</li>\n",
        "    <li>np.size : taille</li>\n",
        "</ul>"
      ]
    },
    {
      "cell_type": "markdown",
      "metadata": {
        "id": "OOzJnhIuhzcR",
        "colab_type": "text"
      },
      "source": [
        "On va montrer comment s'utilise la fonction np.var sur la matrice A. Les autres fonctions s'utilisent de la même façon."
      ]
    },
    {
      "cell_type": "markdown",
      "metadata": {
        "id": "SsRhMVSDhzcT",
        "colab_type": "text"
      },
      "source": [
        "Variance de chaque colonne:"
      ]
    },
    {
      "cell_type": "code",
      "metadata": {
        "id": "hftCU0W6hzcV",
        "colab_type": "code",
        "colab": {}
      },
      "source": [
        "tmp_col=np.var(A,axis=0)"
      ],
      "execution_count": 0,
      "outputs": []
    },
    {
      "cell_type": "code",
      "metadata": {
        "id": "_1SHHjBKhzcb",
        "colab_type": "code",
        "colab": {},
        "outputId": "67df265a-0bea-4326-ac7b-435859cd4a59"
      },
      "source": [
        "Variance de chaque ligne:"
      ],
      "execution_count": 0,
      "outputs": [
        {
          "output_type": "error",
          "ename": "SyntaxError",
          "evalue": "invalid syntax (<ipython-input-97-219795b9f630>, line 1)",
          "traceback": [
            "\u001b[1;36m  File \u001b[1;32m\"<ipython-input-97-219795b9f630>\"\u001b[1;36m, line \u001b[1;32m1\u001b[0m\n\u001b[1;33m    Variance de chaque ligne:\u001b[0m\n\u001b[1;37m              ^\u001b[0m\n\u001b[1;31mSyntaxError\u001b[0m\u001b[1;31m:\u001b[0m invalid syntax\n"
          ]
        }
      ]
    },
    {
      "cell_type": "code",
      "metadata": {
        "id": "5qIxWGQfhzci",
        "colab_type": "code",
        "colab": {}
      },
      "source": [
        "tmp_ligne = np.var(A,axis=1)\n",
        "\n",
        "np.var(tmp_ligne)\n",
        "np.var(tmp_col)"
      ],
      "execution_count": 0,
      "outputs": []
    },
    {
      "cell_type": "markdown",
      "metadata": {
        "id": "-AFxgP-ahzco",
        "colab_type": "text"
      },
      "source": [
        "Variance globale:"
      ]
    },
    {
      "cell_type": "code",
      "metadata": {
        "id": "UrZABmsthzcr",
        "colab_type": "code",
        "colab": {}
      },
      "source": [
        "np.var(A)"
      ],
      "execution_count": 0,
      "outputs": []
    },
    {
      "cell_type": "markdown",
      "metadata": {
        "id": "3kr-bl80hzcy",
        "colab_type": "text"
      },
      "source": [
        "<h3> Exercice 1 </h3>\n",
        "Calculer la moyenne sur chaque ligne, sur chaques colonnes de la matrice :\n",
        "$A=\\left(\\begin{array}{cccc}\n",
        "    5 & 2.6 & 5 & 9\\\\\n",
        "    4 & 3.6 & 9 & 10\\\\\n",
        "    5.5 & 4 & 6 & 7\n",
        "    \\end{array}\\right) $"
      ]
    },
    {
      "cell_type": "code",
      "metadata": {
        "id": "CUHHD9FOhzc0",
        "colab_type": "code",
        "colab": {}
      },
      "source": [
        "A = np.array([[5,2.6,5,9],[4,3.6,9,10],[5.5,4,6,7]])\n",
        "A\n",
        "moy_ligne = np.mean(A,axis=1)\n",
        "moy_col = np.mean(A,axis=0)\n",
        "print('moy par ligne:',moy_ligne)\n",
        "print('moy par ligne:',moy_col)"
      ],
      "execution_count": 0,
      "outputs": []
    },
    {
      "cell_type": "markdown",
      "metadata": {
        "id": "Vx3Yr-BAhzc-",
        "colab_type": "text"
      },
      "source": [
        "# Simulation avec Python\n",
        "Le package numpy de Python permet de réaliser des objets array simulés.\n",
        "<ul>\n",
        "    <li>numpy.random.uniform(low=a, high=b, size=None) : simulation uniforme sur [a,b] </li>\n",
        "    <li>numpy.random.normal(loc=a, scale=b, size=None) : simulation d'une va normal de moyenne a et d'écart type b</li>\n",
        "    <li>numpy.random.poisson</li>\n",
        "</ul>"
      ]
    },
    {
      "cell_type": "markdown",
      "metadata": {
        "id": "iwwXmu1ihzdA",
        "colab_type": "text"
      },
      "source": [
        "On va simuler une matrice avec numpy.random.uniform:"
      ]
    },
    {
      "cell_type": "code",
      "metadata": {
        "id": "FLErSbuhhzdB",
        "colab_type": "code",
        "colab": {}
      },
      "source": [
        "import numpy as np\n",
        "Uni = np.random.uniform(2,6,size=(3,2))\n",
        "Uni"
      ],
      "execution_count": 0,
      "outputs": []
    },
    {
      "cell_type": "markdown",
      "metadata": {
        "id": "yOW-SqR_hzdH",
        "colab_type": "text"
      },
      "source": [
        "On va simuler une matrice et un vecteur avec numpy.random.normal:"
      ]
    },
    {
      "cell_type": "code",
      "metadata": {
        "id": "hDq4xjgThzdJ",
        "colab_type": "code",
        "colab": {}
      },
      "source": [
        "import numpy as np\n",
        "Norm = np.random.normal(2,3,size=(2,3))\n",
        "Norm"
      ],
      "execution_count": 0,
      "outputs": []
    },
    {
      "cell_type": "code",
      "metadata": {
        "id": "xXw48XnmhzdP",
        "colab_type": "code",
        "colab": {}
      },
      "source": [
        "Nve = np.random.normal(6,2,size=5)\n",
        "Nve"
      ],
      "execution_count": 0,
      "outputs": []
    },
    {
      "cell_type": "markdown",
      "metadata": {
        "id": "6VFKHOi5hzdV",
        "colab_type": "text"
      },
      "source": [
        "<h2>Simulation d'un vecteur de probabilité:</h2>\n",
        "On va simuler le vecteur de probabilité v=[1/4,1/5,1/5,1-1/4-2*1/5] sur les états [a,b,c,d]:"
      ]
    },
    {
      "cell_type": "code",
      "metadata": {
        "id": "uWxop2GFhzdY",
        "colab_type": "code",
        "colab": {},
        "outputId": "53f8c9d2-6690-429a-e3f5-31fcff65af3e"
      },
      "source": [
        "import numpy as np\n",
        "proba = np.array([1/4,1/5,1/5,1-1/4-2*1/5])\n",
        "etat = np.array(['a','b','c','d'])\n",
        "Simu = np.random.choice(etat, size=20, replace=True, p=proba)\n",
        "Simu"
      ],
      "execution_count": 0,
      "outputs": [
        {
          "output_type": "execute_result",
          "data": {
            "text/plain": [
              "array(['b', 'd', 'b', 'b', 'a', 'a', 'd', 'c', 'b', 'd', 'd', 'b', 'd',\n",
              "       'd', 'a', 'a', 'd', 'b', 'c', 'a'], dtype='<U1')"
            ]
          },
          "metadata": {
            "tags": []
          },
          "execution_count": 98
        }
      ]
    },
    {
      "cell_type": "markdown",
      "metadata": {
        "id": "5uwigeyshzdf",
        "colab_type": "text"
      },
      "source": [
        "<h3>Exercice 2</h3>\n",
        "Simuler un vecteur de probabilité sur l'ensemble des état ['voit','velo','trot'] dont les probabilité de chaque état sont [1/6 , 2/6 , 3/6]. Simuler ensuite un objet numpy.array de taille 10 issu d'une loi normal de moyenne 4 et variance 10."
      ]
    },
    {
      "cell_type": "code",
      "metadata": {
        "id": "H_OIWpO9hzdh",
        "colab_type": "code",
        "colab": {},
        "outputId": "aa924fa4-37f7-4854-9f85-f759cef3605c"
      },
      "source": [
        "proba = np.array([1/6,2/6,3/6])\n",
        "etat = np.array(['voit','velo','trot'])\n",
        "simu = np.random.choice(etat,size=(3,3),replace=True,p=proba)\n",
        "print(simu)"
      ],
      "execution_count": 0,
      "outputs": [
        {
          "output_type": "stream",
          "text": [
            "[['trot' 'velo' 'trot']\n",
            " ['trot' 'velo' 'trot']\n",
            " ['trot' 'trot' 'trot']]\n"
          ],
          "name": "stdout"
        }
      ]
    },
    {
      "cell_type": "code",
      "metadata": {
        "id": "hMdLCGL-hzdn",
        "colab_type": "code",
        "colab": {},
        "outputId": "876239dc-dadd-408a-ffc4-d8e9d71015ba"
      },
      "source": [
        "simu = np.random.normal(4,10,10)\n",
        "print(simu)\n",
        "print(type(simu))"
      ],
      "execution_count": 0,
      "outputs": [
        {
          "output_type": "stream",
          "text": [
            "[ -4.26014637 -10.95241003  15.84749983   7.74055306   1.74024746\n",
            "  -1.69184295  26.59069732  -0.85852855  -0.44989677   6.55663969]\n",
            "<class 'numpy.ndarray'>\n"
          ],
          "name": "stdout"
        }
      ]
    },
    {
      "cell_type": "markdown",
      "metadata": {
        "id": "LvWO_RLShzdu",
        "colab_type": "text"
      },
      "source": [
        "# Fonction particuliere sur les objet array\n",
        "On présente des fonction permettant la modification, la construction d'objet array.\n",
        "<ul>\n",
        "    <li> numpy.arange([start, ]stop, [step, ]dtype=None) :</li>\n",
        "    <li> numpy.linspace(start, stop, num=50, endpoint=True, retstep=False, dtype=None, axis=0)</li>\n",
        "    <li> numpy.insert(arr, obj, values, axis=None)</li>\n",
        "    <li> numpy.append(arr, values, axis=None)</li>\n",
        "    <li> numpy.concatenate((a1, a2, ...), axis=0, out=None)</li>\n",
        "    <li> numpy.stack(arrays, axis=0, out=None)</li>\n",
        "    <li> numpy.ones</li>\n",
        "</ul>"
      ]
    },
    {
      "cell_type": "markdown",
      "metadata": {
        "id": "nfzyrhGfhzdw",
        "colab_type": "text"
      },
      "source": [
        "On construit V1 un vecteur comprenant des nombres compris entre 2 et 8 par pas de 2."
      ]
    },
    {
      "cell_type": "code",
      "metadata": {
        "id": "YveaPxm7hzdy",
        "colab_type": "code",
        "colab": {},
        "outputId": "1e213407-e8b7-47ce-8788-1590be44f2a6"
      },
      "source": [
        "import numpy as np\n",
        "V1 = np.arange(2,10,2)\n",
        "V1"
      ],
      "execution_count": 0,
      "outputs": [
        {
          "output_type": "execute_result",
          "data": {
            "text/plain": [
              "array([2, 4, 6, 8])"
            ]
          },
          "metadata": {
            "tags": []
          },
          "execution_count": 101
        }
      ]
    },
    {
      "cell_type": "markdown",
      "metadata": {
        "id": "3KOl_Myfhzd3",
        "colab_type": "text"
      },
      "source": [
        "On construit un vecteur V2 comprenant  5 valeurs comprises entre 6 et 8 :"
      ]
    },
    {
      "cell_type": "code",
      "metadata": {
        "id": "cH38Bs54hzd7",
        "colab_type": "code",
        "colab": {},
        "outputId": "c98778ce-66c6-4a48-b9f1-15e9537101aa"
      },
      "source": [
        "import numpy as np\n",
        "V2 = np.linspace(6,8,5)\n",
        "V2"
      ],
      "execution_count": 0,
      "outputs": [
        {
          "output_type": "execute_result",
          "data": {
            "text/plain": [
              "array([6. , 6.5, 7. , 7.5, 8. ])"
            ]
          },
          "metadata": {
            "tags": []
          },
          "execution_count": 102
        }
      ]
    },
    {
      "cell_type": "code",
      "metadata": {
        "id": "uqbziIKphzeB",
        "colab_type": "code",
        "colab": {},
        "outputId": "9c503899-f5dd-4afd-e263-94d11f385c61"
      },
      "source": [
        "Ici, on concatène V1 et V2:"
      ],
      "execution_count": 0,
      "outputs": [
        {
          "output_type": "error",
          "ename": "SyntaxError",
          "evalue": "invalid syntax (<ipython-input-103-ded19d9539ba>, line 1)",
          "traceback": [
            "\u001b[1;36m  File \u001b[1;32m\"<ipython-input-103-ded19d9539ba>\"\u001b[1;36m, line \u001b[1;32m1\u001b[0m\n\u001b[1;33m    Ici, on concatène V1 et V2:\u001b[0m\n\u001b[1;37m                    ^\u001b[0m\n\u001b[1;31mSyntaxError\u001b[0m\u001b[1;31m:\u001b[0m invalid syntax\n"
          ]
        }
      ]
    },
    {
      "cell_type": "code",
      "metadata": {
        "id": "UmWHtCEPhzeG",
        "colab_type": "code",
        "colab": {}
      },
      "source": [
        "np.concatenate([V1,V2])"
      ],
      "execution_count": 0,
      "outputs": []
    },
    {
      "cell_type": "markdown",
      "metadata": {
        "id": "xza0xZhFhzeL",
        "colab_type": "text"
      },
      "source": [
        "On va concatener une matrice (3,3) avec une matrice (3,2) selon l'axe horizontal:"
      ]
    },
    {
      "cell_type": "code",
      "metadata": {
        "id": "PKsB5OOMhzeN",
        "colab_type": "code",
        "colab": {}
      },
      "source": [
        "import numpy as np\n",
        "M1 = np.array([[1,2,6],[4,5,6],[8,8,8]])\n",
        "M2 = np.array([[6,5],[4,4],[2,1]])\n",
        "np.concatenate([M1,M2],axis=1)"
      ],
      "execution_count": 0,
      "outputs": []
    },
    {
      "cell_type": "markdown",
      "metadata": {
        "id": "KwIDiHrqhzeY",
        "colab_type": "text"
      },
      "source": [
        "On va créer un vecteur ayant que des 1 excepté son 9 ieme élément qui vaut 15"
      ]
    },
    {
      "cell_type": "code",
      "metadata": {
        "id": "OcFcnJzGhzeZ",
        "colab_type": "code",
        "colab": {}
      },
      "source": [
        "V3 = np.ones(15)\n",
        "np.insert(V3,9,15)"
      ],
      "execution_count": 0,
      "outputs": []
    },
    {
      "cell_type": "code",
      "metadata": {
        "id": "UkszwrXuhzee",
        "colab_type": "code",
        "colab": {}
      },
      "source": [
        "On va utiliser append pour "
      ],
      "execution_count": 0,
      "outputs": []
    },
    {
      "cell_type": "code",
      "metadata": {
        "id": "klVIFpUUhzek",
        "colab_type": "code",
        "colab": {}
      },
      "source": [
        "import numpy as np\n",
        "V1 = np.array([5,8,9])\n",
        "V2 = np.array([9,9,5,6.8])\n",
        "print(np.append(V1,V2))\n",
        "print(np.concatenate([V1,V2]))"
      ],
      "execution_count": 0,
      "outputs": []
    },
    {
      "cell_type": "markdown",
      "metadata": {
        "id": "WkruBu-vhzes",
        "colab_type": "text"
      },
      "source": [
        "On va créer une matrice ayant 5 fois la même ligne et 1 ligne différents: "
      ]
    },
    {
      "cell_type": "code",
      "metadata": {
        "id": "UVMywdOVhzeu",
        "colab_type": "code",
        "colab": {}
      },
      "source": [
        "import numpy as np\n",
        "V1 = np.array([[1,4,2.3,9]])\n",
        "V2 = np.array([[1,9.9,5.2,1]])\n",
        "np.concatenate([V1,V1,V2,V1,V1,V1],axis=0)"
      ],
      "execution_count": 0,
      "outputs": []
    },
    {
      "cell_type": "markdown",
      "metadata": {
        "id": "XWlEZSo2hze0",
        "colab_type": "text"
      },
      "source": [
        "<h3> Exercice 3</h3>\n",
        "Créer la matrice suivante en utilisant np.concatenate, np.one, np.insert:\n",
        "$$\\left(\\begin{array}{ccccc}\n",
        "2 &2 &5 &2 & 2\\\\\n",
        "2 &2 &5 &2 & 2\\\\\n",
        "2 &2 &5 &2 & 2\\\\\n",
        "2 &2 &5 &2 & 2\\\\\n",
        "2 &2 &5 &2 &2\\\\\n",
        "2 &2 &5 &2 &2\n",
        "\\end{array}\\right)\n",
        "$$"
      ]
    },
    {
      "cell_type": "code",
      "metadata": {
        "id": "A6EKOH1dhze1",
        "colab_type": "code",
        "colab": {}
      },
      "source": [
        "import numpy as np\n",
        "V1 = 2*np.ones(4,dtype=int)\n",
        "V2 = np.insert(V1,2,5)\n",
        "V2 = V2.reshape(1,5)\n",
        "M = np.concatenate([V2]*6,axis=0)\n",
        "M "
      ],
      "execution_count": 0,
      "outputs": []
    },
    {
      "cell_type": "code",
      "metadata": {
        "id": "S3v6D97Fhze7",
        "colab_type": "code",
        "colab": {}
      },
      "source": [
        "V1 = 2*np.ones(4,dtype=int)\n",
        "V1.shape\n",
        "V1.reshape(1,4)"
      ],
      "execution_count": 0,
      "outputs": []
    },
    {
      "cell_type": "markdown",
      "metadata": {
        "id": "SHWbdDiKhzfC",
        "colab_type": "text"
      },
      "source": [
        "# Courbe de fonction\n",
        "<ul>\n",
        "    <li> numpy.cos</li>\n",
        "    <li> numpy.sin</li>\n",
        "    <li> numpy.log</li>\n",
        "    <li> numpy.exp</li>\n",
        "</ul>\n",
        "On va tracer la courbe de$f(x)=\\ln(1+(sin(x))^{2})$ sur [0,5]. On utilise le package matplotlib.pyplot pour tracer cette courbe."
      ]
    },
    {
      "cell_type": "code",
      "metadata": {
        "id": "Qk8T0vz9hzfD",
        "colab_type": "code",
        "colab": {}
      },
      "source": [
        "import numpy as np\n",
        "x = np.linspace(0,5,40)\n",
        "y = np.log(1+np.sin(x)**2)\n",
        "\n",
        "import matplotlib.pyplot as plt\n",
        "plt.plot(x,y)\n",
        "plt.show()"
      ],
      "execution_count": 0,
      "outputs": []
    },
    {
      "cell_type": "markdown",
      "metadata": {
        "id": "2RfK06LIhzfH",
        "colab_type": "text"
      },
      "source": [
        "# Exemple\n",
        "* Tracer la courbe de la fonction $f(x)=\\frac{1}{4\\Gamma(2)}xe^{-x/2}$ ou $\\Gamma(t)=\\int_{0}^{+\\infty}x^{t-1}e^{-x}dx$ sur [0,10]. On utilise la fonction gamma fournit par package scipy. \n",
        "* Mettre en évidence l'aire sous la courbe entre 2 et 6.\n",
        "* Calculer $\\int_{2}^{4}\\frac{1}{4\\Gamma(2)}xe^{-x/2}dx$"
      ]
    },
    {
      "cell_type": "code",
      "metadata": {
        "scrolled": true,
        "id": "T8WSxEtzhzfN",
        "colab_type": "code",
        "colab": {}
      },
      "source": [
        "from scipy.special import gamma\n",
        "import numpy as np\n",
        "import matplotlib.pyplot as plt \n",
        "\n",
        "x = np.linspace(0,10,100)\n",
        "y = (1/(4*gamma(2)))*x*np.exp(-x/2)\n",
        "plt.plot(x,y)\n",
        "x1 = np.linspace(2,6,20)\n",
        "y1 = (1/(4*gamma(2)))*x1*np.exp(-x1/2)\n",
        "plt.fill_between(x1,y1, color='blue',alpha=0.3)\n",
        "plt.show()"
      ],
      "execution_count": 0,
      "outputs": []
    },
    {
      "cell_type": "markdown",
      "metadata": {
        "id": "PEKDfvXMhzfR",
        "colab_type": "text"
      },
      "source": [
        "On calcul l'integrale à laide d'une somme de Riemman:\n",
        "    $\\frac{b-a}{n}\\sum_{i=0}^{n}f(a+i(b-a)/n)$"
      ]
    },
    {
      "cell_type": "code",
      "metadata": {
        "id": "IsI1mMIuhzfS",
        "colab_type": "code",
        "colab": {}
      },
      "source": [
        "x = np.linspace(2,4,100)\n",
        "y = (1/(4*gamma(2)))*x*np.exp(-x/2)\n",
        "((4-2)/100)*np.sum(y)"
      ],
      "execution_count": 0,
      "outputs": []
    },
    {
      "cell_type": "markdown",
      "metadata": {
        "id": "AERza88LhzfW",
        "colab_type": "text"
      },
      "source": [
        "On verifie les résultats. On remarque l'utilisation du package scipy."
      ]
    },
    {
      "cell_type": "code",
      "metadata": {
        "id": "m1o9VW8zhzfX",
        "colab_type": "code",
        "colab": {}
      },
      "source": [
        "def f(x):\n",
        "    y= (1/(4*gamma(2)))*x*np.exp(-x/2)\n",
        "    return(y)\n",
        "\n",
        "from scipy.integrate import quad\n",
        "quad(f,2,4)"
      ],
      "execution_count": 0,
      "outputs": []
    },
    {
      "cell_type": "markdown",
      "metadata": {
        "id": "pA2ErVSfhzfb",
        "colab_type": "text"
      },
      "source": [
        "<h3>Exercice 4</h3>\n",
        "Soit $f(x)=\\frac{1}{\\Gamma(3)}x^{2}e^{-x}$\n",
        "<ul>\n",
        "<li>Tracer la courbe de f entre 0 et 20.</li>\n",
        "<li>Déssiner l'aire sous la coubre entre 3 et 10</li>\n",
        "<li>Calculer $\\int_{3}^{10}f(x)dx.$</li>\n",
        "</ul>\n"
      ]
    },
    {
      "cell_type": "code",
      "metadata": {
        "id": "TxXq08Lehzfc",
        "colab_type": "code",
        "colab": {}
      },
      "source": [
        "from scipy.special import gamma\n",
        "\n",
        "x = np.linspace(0,20,100)\n",
        "def f(x):\n",
        "    y = (1/gamma(3))*x**2*np.exp(-x)\n",
        "    return(y)\n",
        "y = f(x)\n",
        "plt.plot(x,y)\n",
        "\n",
        "x1 = np.linspace(3,10,100)\n",
        "y1 = f(x1)\n",
        "plt.fill_between(x1,y1,color='green',alpha=0.5)\n",
        "\n",
        "integ_rieman = (20/100)*np.sum(y)\n",
        "print('integrale Rieman:',integ_rieman)\n",
        "\n",
        "from scipy.integrate import quad\n",
        "integ_leb = quad(f,0,20)\n",
        "print('integrale Lebesgue:',integ_leb)"
      ],
      "execution_count": 0,
      "outputs": []
    },
    {
      "cell_type": "markdown",
      "metadata": {
        "id": "O5NR4f_qhzfg",
        "colab_type": "text"
      },
      "source": [
        "# Barplot et histogramme"
      ]
    },
    {
      "cell_type": "markdown",
      "metadata": {
        "id": "zKjpzYLShzfh",
        "colab_type": "text"
      },
      "source": [
        "<b>Exemple de Barplot </b>. Parmi un ensemble de 17 étudiants, 8 sont équipés d'ordinateur windows, 6 d'apple et 3 d'ubuntu. On va représenter ces données avec un barplot."
      ]
    },
    {
      "cell_type": "code",
      "metadata": {
        "id": "4EaIgYS_hzfi",
        "colab_type": "code",
        "colab": {},
        "outputId": "48c1460e-d676-4afe-c841-cb0588b048de"
      },
      "source": [
        "import numpy as np\n",
        "import matplotlib.pyplot as plt\n",
        "\n",
        "\n",
        "#les noms de bars\n",
        "bars = np.array(['windows','apple','ubuntu'])\n",
        "y_pos = np.arange(len(bars))\n",
        "#la hauteur des bars\n",
        "height = np.array([8,6,3])\n",
        "\n",
        "\n",
        "barlist=plt.bar(y_pos, height,edgecolor='blue',alpha=1,color=['blue','blue','blue']) #\n",
        "plt.xticks(y_pos,bars,color='black',fontweight='bold')\n",
        "#plt.tick_params(top='off', bottom='off', left='off', right='off', labelleft='off', labelbottom='on')\n",
        "#for spine in plt.gca().spines.values():\n",
        "    #spine.set_visible(False)\n",
        "plt.box(False)\n",
        "plt.yticks([])\n",
        "for i in range(0,len(height)):\n",
        "    plt.text(y_pos[i],height[i]+0.5,str(height[i]),color='black',fontweight='bold')\n",
        "\n",
        "#    \n",
        "#for i in range(0,len(height)):\n",
        "    #barlist[i].set_color('blue',alpha=height[i]/np.sum(height))\n",
        "plt.show()"
      ],
      "execution_count": 0,
      "outputs": [
        {
          "output_type": "display_data",
          "data": {
            "image/png": "[encoded data removed]",
            "text/plain": [
              "<Figure size 432x288 with 1 Axes>"
            ]
          },
          "metadata": {
            "tags": [],
            "needs_background": "light"
          }
        }
      ]
    },
    {
      "cell_type": "markdown",
      "metadata": {
        "id": "rGUbCdbohzft",
        "colab_type": "text"
      },
      "source": [
        "<h3>Exercice 5</h3>\n",
        "Dans la liste python ci dessous on 5 modalitées : A,B,C,D. Représenter ces données à l'aide d'un diagramme en bar. Chaque bar représente un pourcentage."
      ]
    },
    {
      "cell_type": "code",
      "metadata": {
        "id": "ABI_KuPbhzfy",
        "colab_type": "code",
        "colab": {},
        "outputId": "7f6cc16f-3206-4698-8bcd-6a710f628aae"
      },
      "source": [
        "#executer la cellule\n",
        "import numpy as np\n",
        "np.random.seed(1998)\n",
        "\n",
        "proba = [0.1,0.2,0.3,0.4]\n",
        "etat = np.array(['A','B','C','D'])\n",
        "Simu = np.random.choice(etat, size=1000, replace=True, p=proba)\n",
        "Simu[0:6]"
      ],
      "execution_count": 0,
      "outputs": [
        {
          "output_type": "execute_result",
          "data": {
            "text/plain": [
              "array(['C', 'D', 'B', 'D', 'C', 'D'], dtype='<U1')"
            ]
          },
          "metadata": {
            "tags": []
          },
          "execution_count": 112
        }
      ]
    },
    {
      "cell_type": "code",
      "metadata": {
        "id": "7Vk3jL06hzf8",
        "colab_type": "code",
        "colab": {},
        "outputId": "33f56d81-2954-4407-b046-736c52ca331d"
      },
      "source": [
        "from collections import Counter\n",
        "\n",
        "counter = Counter(Simu)\n",
        "y_pos = list(counter)\n",
        "height = counter.values()\n",
        "\n",
        "plt.bar(y_pos,height)\n"
      ],
      "execution_count": 0,
      "outputs": [
        {
          "output_type": "execute_result",
          "data": {
            "text/plain": [
              "<BarContainer object of 4 artists>"
            ]
          },
          "metadata": {
            "tags": []
          },
          "execution_count": 134
        },
        {
          "output_type": "display_data",
          "data": {
            "image/png": "[encoded data removed]",
            "text/plain": [
              "<Figure size 432x288 with 1 Axes>"
            ]
          },
          "metadata": {
            "tags": [],
            "needs_background": "light"
          }
        }
      ]
    },
    {
      "cell_type": "code",
      "metadata": {
        "id": "z6n_NRUWhzgB",
        "colab_type": "code",
        "colab": {},
        "outputId": "3cf945b2-6c89-491b-a7f1-a4d9f7c32478"
      },
      "source": [
        "plt.hist(Simu)"
      ],
      "execution_count": 0,
      "outputs": [
        {
          "output_type": "execute_result",
          "data": {
            "text/plain": [
              "(array([313.,   0.,   0., 390.,   0.,   0., 196.,   0.,   0., 101.]),\n",
              " array([0. , 0.3, 0.6, 0.9, 1.2, 1.5, 1.8, 2.1, 2.4, 2.7, 3. ]),\n",
              " <a list of 10 Patch objects>)"
            ]
          },
          "metadata": {
            "tags": []
          },
          "execution_count": 142
        },
        {
          "output_type": "display_data",
          "data": {
            "image/png": "[encoded data removed]",
            "text/plain": [
              "<Figure size 432x288 with 1 Axes>"
            ]
          },
          "metadata": {
            "tags": [],
            "needs_background": "light"
          }
        }
      ]
    },
    {
      "cell_type": "markdown",
      "metadata": {
        "id": "9_JhdTfghzgL",
        "colab_type": "text"
      },
      "source": [
        "<b>Exemple d'histogramme </b>\n",
        "* Simuler un échantillon de Poisson de parametre 4 et de taille 10 000.\n",
        "* Tracer son histogramme.\n",
        "* Tracer dans la meme figure que l'histoire la courbe $f(x)=\\frac{1}{2\\sqrt{2\\pi}}e^{-\\frac{1}{2}\\left(\\frac{x-4}{2}\\right)^{2}}$ entre 0 et 15."
      ]
    },
    {
      "cell_type": "markdown",
      "metadata": {
        "id": "AtnPwbsUhzgN",
        "colab_type": "text"
      },
      "source": [
        "On simule l'échantillon de loi de poisson"
      ]
    },
    {
      "cell_type": "code",
      "metadata": {
        "id": "LidzTF0HhzgP",
        "colab_type": "code",
        "colab": {},
        "outputId": "8df83234-9fde-4281-cda8-ec9846fa249d"
      },
      "source": [
        "import numpy as np\n",
        "np.random.seed(1998)\n",
        "pois = np.random.poisson(4, 10000)\n",
        "pois[1:10]"
      ],
      "execution_count": 0,
      "outputs": [
        {
          "output_type": "execute_result",
          "data": {
            "text/plain": [
              "array([4, 2, 6, 7, 4, 5, 6, 2, 2])"
            ]
          },
          "metadata": {
            "tags": []
          },
          "execution_count": 137
        }
      ]
    },
    {
      "cell_type": "markdown",
      "metadata": {
        "id": "9i_jZgunhzgX",
        "colab_type": "text"
      },
      "source": [
        "On trace l'histogrammme en utilisant plt.hist"
      ]
    },
    {
      "cell_type": "code",
      "metadata": {
        "id": "td8JnN46hzgY",
        "colab_type": "code",
        "colab": {},
        "outputId": "0fc1bab6-0014-4363-c66b-dc36679912e1"
      },
      "source": [
        "import numpy as np\n",
        "import matplotlib.pyplot as plt\n",
        "plt.hist(pois,bins='sturges',density=True)  #sturges\n",
        "x = np.linspace(0,14,100)\n",
        "y = (1/(2*np.sqrt(2*np.pi)))*np.exp(-(1/2)*((x-4)/2)**2)\n",
        "plt.plot(x,y,color='black')\n",
        "plt.show"
      ],
      "execution_count": 0,
      "outputs": [
        {
          "output_type": "execute_result",
          "data": {
            "text/plain": [
              "<function matplotlib.pyplot.show(*args, **kw)>"
            ]
          },
          "metadata": {
            "tags": []
          },
          "execution_count": 141
        },
        {
          "output_type": "display_data",
          "data": {
            "image/png": "[encoded data removed]",
            "text/plain": [
              "<Figure size 432x288 with 1 Axes>"
            ]
          },
          "metadata": {
            "tags": [],
            "needs_background": "light"
          }
        }
      ]
    },
    {
      "cell_type": "markdown",
      "metadata": {
        "id": "ZUE4U7EHhzgc",
        "colab_type": "text"
      },
      "source": [
        "<h3>Exercice 6: histogramme</h3>\n",
        "<ul>\n",
        "<li>Simuler un échantillon de taille 10000 de loi normal de moyenne 6 et d'écart type 3</li>\n",
        "<li>Faire l'histogramme de cet échantillon en utilisant plt.hist avec l'option density=True et bins='sturges'.</li>\n",
        "<li>Tracer la courbe $f(x)=\\frac{1}{\\sqrt{2\\pi\\times9}}e^{-\\frac{1}{2}\\left(\\frac{x-6}{3}\\right)^{2}}$ sur le même graphique dans l'interval [-6,16].</li>    \n",
        "</ul>"
      ]
    },
    {
      "cell_type": "code",
      "metadata": {
        "id": "DLlNfQXChzgf",
        "colab_type": "code",
        "colab": {},
        "outputId": "bc6159f7-bc0e-4ef9-aa2e-bc6773de130d"
      },
      "source": [
        "simu = np.random.normal(6,3,10000)\n",
        "plt.hist(simu,bins='sturges',density=True)\n",
        "x = np.linspace(-6,16,1000)\n",
        "y = (1/np.sqrt(2*np.pi*9))*np.exp(-0.5*((x-6)/3)**2)\n",
        "plt.plot(x,y,color=\"black\")\n",
        "plt.show()"
      ],
      "execution_count": 0,
      "outputs": [
        {
          "output_type": "display_data",
          "data": {
            "image/png": "[encoded data removed]",
            "text/plain": [
              "<Figure size 432x288 with 1 Axes>"
            ]
          },
          "metadata": {
            "tags": [],
            "needs_background": "light"
          }
        }
      ]
    },
    {
      "cell_type": "markdown",
      "metadata": {
        "id": "J79YpTZ0hzgl",
        "colab_type": "text"
      },
      "source": [
        "# Nuage de points"
      ]
    },
    {
      "cell_type": "markdown",
      "metadata": {
        "id": "Byl1_jb3hzgm",
        "colab_type": "text"
      },
      "source": [
        "On va simuler un nuage de point provenant d’un modèle linéaire Y = 0.5 + 2X. On trace le nuage de\n",
        "point à l’aide de la fonction plt.scatter. Ensuite on trace la droite d’équation Y = 0.5 + 2X sur le même\n",
        "grpahique."
      ]
    },
    {
      "cell_type": "code",
      "metadata": {
        "id": "0Vxxi0eHhzgn",
        "colab_type": "code",
        "colab": {}
      },
      "source": [
        "import numpy as np\n",
        "np.random.seed(seed=1998)\n",
        "x = np.random.normal(loc=4,scale=1,size=100)\n",
        "e = np.random.normal(loc=0,scale=4,size=100)\n",
        "y = 0.5+2*x+e\n",
        "\n",
        "M = max(x)\n",
        "m = min(x)\n",
        "x_trend = np.arange(m,M+0.1,0.1)\n",
        "y_trend = 0.5+2*x_trend"
      ],
      "execution_count": 0,
      "outputs": []
    },
    {
      "cell_type": "code",
      "metadata": {
        "id": "ZNl95Spvhzgt",
        "colab_type": "code",
        "colab": {},
        "outputId": "3f7a4127-53f4-480e-e311-fc48a8d20f8b"
      },
      "source": [
        "#On trace le nuage de point\n",
        "import matplotlib.pyplot as plt\n",
        "plt.scatter(x,y,color=\"red\",alpha=0.6)\n",
        "plt.plot(x_trend,y_trend,color=\"blue\")\n",
        "plt.show()"
      ],
      "execution_count": 0,
      "outputs": [
        {
          "output_type": "execute_result",
          "data": {
            "image/png": "[encoded data removed]",
            "text/plain": [
              "<Figure size 432x288 with 1 Axes>"
            ]
          },
          "metadata": {
            "tags": [],
            "image/png": {
              "height": 250,
              "width": 371
            },
            "needs_background": "light"
          },
          "execution_count": 3
        }
      ]
    },
    {
      "cell_type": "markdown",
      "metadata": {
        "id": "0yYFoexNhzgw",
        "colab_type": "text"
      },
      "source": [
        "<h3>Exercice 7</h3>\n",
        "Le poids des hommes suit une loi normal de paramètre de moyenne 77.4kg et d’écart type 12kg. Le poids\n",
        "des femmes suit une loi normal de paramètre de moyenne 62.4 et d’écart type 10.9. En France, il y a 32\n",
        "455 859 hommes pour 34 534 967 femmes au 1er janvier 2017. Une compagnie maritime organise en Corse\n",
        "des expéditions pouvant accueillir 100 personnes par bateau. Selon les normes de sécurité en vigueur, un\n",
        "bateau ne peut accueillir une charge dépassant les 7.2 tonnes. A l’aide d’une simulation, calculer le risque\n",
        "que cette normes ne soient pas respectées ? (On ferra l’hypothèse que les touristes sont adultes et voyagent\n",
        "sans bagage)"
      ]
    },
    {
      "cell_type": "code",
      "metadata": {
        "id": "vwWYzQo1hzgy",
        "colab_type": "code",
        "colab": {},
        "outputId": "c5f48929-499e-4766-e4af-f97711a07e53"
      },
      "source": [
        "nb_h = 32455859\n",
        "nb_f = 34534967\n",
        "p_h = (nb_h)/(nb_h+nb_f)\n",
        "\n",
        "L = []\n",
        "n_occur = 10000\n",
        "for i in range(0,n_occur):\n",
        "    choice = np.random.choice(np.array(['h','f']),size = 100,replace = True, p = (p_h,1-p_h))\n",
        "    counter = Counter(choice)\n",
        "    poids_h = np.random.normal(77.4,12,counter['h'])\n",
        "    poids_f = np.random.normal(62.4,10.9,counter['f'])\n",
        "    poids_tot = np.sum(np.concatenate([poids_h,poids_f]))\n",
        "    if(poids_tot>7200): L.append(1)\n",
        "    else: L.append(0)\n",
        "\n",
        "erreur = np.sum(L)/n_occur\n",
        "print('Proba d\\'erreur:',erreur)"
      ],
      "execution_count": 0,
      "outputs": [
        {
          "output_type": "stream",
          "text": [
            "Proba d'erreur: 0.0462\n"
          ],
          "name": "stdout"
        }
      ]
    },
    {
      "cell_type": "markdown",
      "metadata": {
        "id": "GULqiVrHhzg3",
        "colab_type": "text"
      },
      "source": [
        "<h3>Exercice 8</h3>\n",
        "Faire un mélange de loi normal multivarié de dimension 2 à 2 lois.\n",
        "— La première loi est centré en (0,0) et à pour variance une matrice diagonale\n",
        "diag(1).\n",
        "— La deuxième loi est centré en (1,1) et à pour variance une matrice diagonale\n",
        "diag(0.25)\n",
        "La probailité d’apparition de la première loi est 1/3. Représenté les données par un\n",
        "nuage de point."
      ]
    },
    {
      "cell_type": "code",
      "metadata": {
        "id": "E-7KWZVRhzg4",
        "colab_type": "code",
        "colab": {},
        "outputId": "e270ce15-dcfd-483c-a45b-1b4590789179"
      },
      "source": [
        "p = 1/3\n",
        "n = 100\n",
        "\n",
        "etat = ['loi_1','loi_2']\n",
        "sample = np.random.choice(etat,size=n,replace=True,p=(p,1-p))\n",
        "counter = Counter(sample)\n",
        "n_1 = counter['loi_1']\n",
        "n_2 = counter['loi_2']\n",
        "print('nombre tirage loi 1 :',n_1)\n",
        "print('nombre tirage loi 2 :',n_2)\n",
        "# Version 1 -----------------------------------\n",
        "norm_1_1 = np.random.normal(0,1,n_1)\n",
        "norm_1_1 = norm_1_1.reshape(1,n_1)\n",
        "norm_1_2 = np.random.normal(0,1,n_1)\n",
        "norm_1_2 = norm_1_2.reshape(1,n_1)\n",
        "norm_1 = np.append(norm_1_1,norm_1_2,axis=0)\n",
        "\n",
        "\n",
        "norm_2_1 = np.random.normal(0,0.25,n_2)\n",
        "norm_2_1 = norm_2_1.reshape(1,n_2)\n",
        "norm_2_2 = np.random.normal(0,0.25,n_2)\n",
        "norm_2_2 = norm_2_2.reshape(1,n_2)\n",
        "norm_2 = np.append(norm_2_1,norm_2_2,axis=0)\n",
        "# ----------------------------------------------\n",
        "\n",
        "# Version 2 ---------------------------------------\n",
        "mean_1 = np.array([0,0])\n",
        "mean_2 = np.array([1,1])\n",
        "cov_1 = np.identity(2)\n",
        "cov_2 = 0.25 * np.identity(2)\n",
        "\n",
        "normal_1 = np.random.multivariate_normal(mean_1,cov_1,size=n_1)\n",
        "normal_2 = np.random.multivariate_normal(mean_2,cov_2,size=n_2)\n",
        "#---------------------------------------------------\n",
        "\n",
        "result = np.zeros(shape=(100,2))\n",
        "result[np.where(sample=='loi_1')] = normal_1\n",
        "result[np.where(sample=='loi_2')] = normal_2\n",
        "\n",
        "\n",
        "l1 = plt.scatter(result[np.where(sample=='loi_1'),0],result[np.where(sample=='loi_1'),1],color = 'blue')\n",
        "l2 = plt.scatter(result[np.where(sample=='loi_2'),0],result[np.where(sample=='loi_2'),1],color = 'red')\n",
        "plt.legend((l1,l2),('Tirage loi 1','Tirage loi 2'))\n",
        "plt.title('Mélange de lois')\n",
        "plt.show()\n"
      ],
      "execution_count": 0,
      "outputs": [
        {
          "output_type": "stream",
          "text": [
            "nombre tirage loi 1 : 35\n",
            "nombre tirage loi 2 : 65\n"
          ],
          "name": "stdout"
        },
        {
          "output_type": "display_data",
          "data": {
            "image/png": "[encoded data removed]",
            "text/plain": [
              "<Figure size 432x288 with 1 Axes>"
            ]
          },
          "metadata": {
            "tags": [],
            "needs_background": "light"
          }
        }
      ]
    }
  ]
}