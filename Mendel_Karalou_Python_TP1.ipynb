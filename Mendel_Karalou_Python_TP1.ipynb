{
  "nbformat": 4,
  "nbformat_minor": 0,
  "metadata": {
    "kernelspec": {
      "display_name": "Python 3",
      "language": "python",
      "name": "python3"
    },
    "language_info": {
      "codemirror_mode": {
        "name": "ipython",
        "version": 3
      },
      "file_extension": ".py",
      "mimetype": "text/x-python",
      "name": "python",
      "nbconvert_exporter": "python",
      "pygments_lexer": "ipython3",
      "version": "3.7.1"
    },
    "colab": {
      "name": "Mendel Karalou_Python_TP1.ipynb",
      "provenance": [],
      "include_colab_link": true
    }
  },
  "cells": [
    {
      "cell_type": "markdown",
      "metadata": {
        "id": "view-in-github",
        "colab_type": "text"
      },
      "source": [
        "<a href=\"https://colab.research.google.com/github/fabnancyuhp/RENDUPYTHONISFSTAT/blob/master/Mendel_Karalou_Python_TP1.ipynb\" target=\"_parent\"><img src=\"https://colab.research.google.com/assets/colab-badge.svg\" alt=\"Open In Colab\"/></a>"
      ]
    },
    {
      "cell_type": "markdown",
      "metadata": {
        "id": "zgtgjdCun0fW",
        "colab_type": "text"
      },
      "source": [
        "Dans ce chapitre on considére que les listes, les tuples, les fonctions sont maitrisés. Le but de ce chapitre est \n",
        "<ul>\n",
        "    <li>D'introduire les packages numpy, scipy, matplotlib. </li>\n",
        "    <li>De construire des matrices et des vecteurs</li>\n",
        "    <li>De faire des simulations</li>\n",
        "    <li>De tracer des graphiques</li>\n",
        "</ul>"
      ]
    },
    {
      "cell_type": "markdown",
      "metadata": {
        "id": "MWZflDjMn0fc",
        "colab_type": "text"
      },
      "source": [
        "# Introduction à la librairie numpy : Matrices et vecteurs en python"
      ]
    },
    {
      "cell_type": "markdown",
      "metadata": {
        "id": "kIq_SBFsn0fh",
        "colab_type": "text"
      },
      "source": [
        "On va créer la matrice suivante:\n",
        "    $$A=\\left(\\begin{array}{ccc}\n",
        "    1.1 & 2.6 & 5\\\\\n",
        "    3 & 3.6 & 9\\\\\n",
        "    5.5 & 4 & 4.9\n",
        "    \\end{array}\\right)$$\n"
      ]
    },
    {
      "cell_type": "code",
      "metadata": {
        "id": "vRqS-B6rn0fj",
        "colab_type": "code",
        "colab": {},
        "outputId": "96617310-5a5b-4c2d-e314-01958f1e2984"
      },
      "source": [
        "import numpy as np\n",
        "A = np.array([[1.1,2.6,5],[3,3.6,9],[5.5,4,4.9]])\n",
        "A"
      ],
      "execution_count": 0,
      "outputs": [
        {
          "output_type": "execute_result",
          "data": {
            "text/plain": [
              "array([[1.1, 2.6, 5. ],\n",
              "       [3. , 3.6, 9. ],\n",
              "       [5.5, 4. , 4.9]])"
            ]
          },
          "metadata": {
            "tags": []
          },
          "execution_count": 31
        }
      ]
    },
    {
      "cell_type": "markdown",
      "metadata": {
        "id": "IUv-EaZWn0fu",
        "colab_type": "text"
      },
      "source": [
        "On détermine les dimensions de A:"
      ]
    },
    {
      "cell_type": "code",
      "metadata": {
        "id": "q2s5PDjwn0fv",
        "colab_type": "code",
        "colab": {},
        "outputId": "7eaa9bc4-347f-4124-e0cf-4713985bc7b3"
      },
      "source": [
        "A.shape"
      ],
      "execution_count": 0,
      "outputs": [
        {
          "output_type": "execute_result",
          "data": {
            "text/plain": [
              "(3, 3)"
            ]
          },
          "metadata": {
            "tags": []
          },
          "execution_count": 32
        }
      ]
    },
    {
      "cell_type": "markdown",
      "metadata": {
        "id": "fDUiV4E_n0f2",
        "colab_type": "text"
      },
      "source": [
        "On va céer le vecteur suivant : B = [1.2,3.8,5.9]:"
      ]
    },
    {
      "cell_type": "code",
      "metadata": {
        "id": "nqs7qqndn0f6",
        "colab_type": "code",
        "colab": {},
        "outputId": "dbc9aea6-00c5-418c-eabf-7eb36daabef0"
      },
      "source": [
        "import numpy as np\n",
        "B = np.array([1.2,3.8,5.9])\n",
        "B"
      ],
      "execution_count": 0,
      "outputs": [
        {
          "output_type": "execute_result",
          "data": {
            "text/plain": [
              "array([1.2, 3.8, 5.9])"
            ]
          },
          "metadata": {
            "tags": []
          },
          "execution_count": 25
        }
      ]
    },
    {
      "cell_type": "markdown",
      "metadata": {
        "id": "4saLhAyCn0f_",
        "colab_type": "text"
      },
      "source": [
        "On détermine les dimension de B:"
      ]
    },
    {
      "cell_type": "code",
      "metadata": {
        "id": "KAzhGxN7n0gC",
        "colab_type": "code",
        "colab": {}
      },
      "source": [
        "B.shape"
      ],
      "execution_count": 0,
      "outputs": []
    },
    {
      "cell_type": "markdown",
      "metadata": {
        "id": "sI9zmjJpn0gJ",
        "colab_type": "text"
      },
      "source": [
        "Voici quelques fonctions utiles en statistique:\n",
        "<ul>\n",
        "    <li>np.sum : somme d'array </li>\n",
        "    <li>np.cumsum : somme cumulée d'un array</li>\n",
        "    <li>np.var : variance</li>\n",
        "    <li>np.mean : moyenne</li>\n",
        "    <li>np.size : taille</li>\n",
        "</ul>"
      ]
    },
    {
      "cell_type": "markdown",
      "metadata": {
        "id": "ZxmXAAssn0gL",
        "colab_type": "text"
      },
      "source": [
        "On va montrer comment s'utilise la fonction np.var sur la matrice A. Les autres fonctions s'utilisent de la même façon."
      ]
    },
    {
      "cell_type": "markdown",
      "metadata": {
        "id": "Dov-D4s7n0gN",
        "colab_type": "text"
      },
      "source": [
        "Variance de chaque colonne:"
      ]
    },
    {
      "cell_type": "code",
      "metadata": {
        "id": "Bb__x1hfn0gP",
        "colab_type": "code",
        "colab": {},
        "outputId": "e4f9f43c-8ad7-4d62-b7c0-d9d4fb5b31c8"
      },
      "source": [
        "np.var(A,axis=0)"
      ],
      "execution_count": 0,
      "outputs": [
        {
          "output_type": "execute_result",
          "data": {
            "text/plain": [
              "array([0.38888889, 0.34666667, 2.88888889, 1.55555556])"
            ]
          },
          "metadata": {
            "tags": []
          },
          "execution_count": 24
        }
      ]
    },
    {
      "cell_type": "code",
      "metadata": {
        "id": "2TG67I4Dn0gV",
        "colab_type": "code",
        "colab": {}
      },
      "source": [
        "Variance de chaque ligne:"
      ],
      "execution_count": 0,
      "outputs": []
    },
    {
      "cell_type": "code",
      "metadata": {
        "id": "3Nv4kMRPn0gb",
        "colab_type": "code",
        "colab": {}
      },
      "source": [
        "np.var(A,axis=1)"
      ],
      "execution_count": 0,
      "outputs": []
    },
    {
      "cell_type": "markdown",
      "metadata": {
        "id": "QN-U3FWxn0gh",
        "colab_type": "text"
      },
      "source": [
        "Variance globale:"
      ]
    },
    {
      "cell_type": "code",
      "metadata": {
        "id": "PLeNVGASn0gi",
        "colab_type": "code",
        "colab": {}
      },
      "source": [
        "np.var(A)"
      ],
      "execution_count": 0,
      "outputs": []
    },
    {
      "cell_type": "markdown",
      "metadata": {
        "id": "YXgAvg7Dn0go",
        "colab_type": "text"
      },
      "source": [
        "<h3> Exercice 1 </h3>\n",
        "Calculer la moyenne sur chaque ligne, sur chaques colonnes de la matrice :\n",
        "$A=\\left(\\begin{array}{cccc}\n",
        "    5 & 2.6 & 5 & 9\\\\\n",
        "    4 & 3.6 & 9 & 10\\\\\n",
        "    5.5 & 4 & 6 & 7\n",
        "    \\end{array}\\right) $"
      ]
    },
    {
      "cell_type": "code",
      "metadata": {
        "id": "ioG5VLb2n0gq",
        "colab_type": "code",
        "colab": {},
        "outputId": "79828ca1-c3e2-48db-d5e2-76becc3f1d3a"
      },
      "source": [
        "import numpy as np\n",
        "A = np.array([[5,2.6,5,9],[4,3.6,9,10],[5.5,4,6,7]])\n",
        "np.var(A)"
      ],
      "execution_count": 0,
      "outputs": [
        {
          "output_type": "execute_result",
          "data": {
            "text/plain": [
              "5.202430555555556"
            ]
          },
          "metadata": {
            "tags": []
          },
          "execution_count": 33
        }
      ]
    },
    {
      "cell_type": "markdown",
      "metadata": {
        "id": "CMQrY__fn0gv",
        "colab_type": "text"
      },
      "source": [
        "# Simulation avec Python\n",
        "Le package numpy de Python permet de réaliser des objets array simulés.\n",
        "<ul>\n",
        "    <li>numpy.random.uniform(low=a, high=b, size=None) : simulation uniforme sur [a,b] </li>\n",
        "    <li>numpy.random.normal(loc=a, scale=b, size=None) : simulation d'une va normal de moyenne a et d'écart type b</li>\n",
        "    <li>numpy.random.poisson</li>\n",
        "</ul>"
      ]
    },
    {
      "cell_type": "markdown",
      "metadata": {
        "id": "YbDunXXon0gw",
        "colab_type": "text"
      },
      "source": [
        "On va simuler une matrice avec numpy.random.uniform:"
      ]
    },
    {
      "cell_type": "code",
      "metadata": {
        "id": "dlxRSBNQn0gx",
        "colab_type": "code",
        "colab": {}
      },
      "source": [
        "import numpy as np\n",
        "Uni = np.random.uniform(2,6,size=(3,2))\n",
        "Uni"
      ],
      "execution_count": 0,
      "outputs": []
    },
    {
      "cell_type": "markdown",
      "metadata": {
        "id": "o2jTNYu9n0g_",
        "colab_type": "text"
      },
      "source": [
        "On va simuler une matrice et un vecteur avec numpy.random.normal:"
      ]
    },
    {
      "cell_type": "code",
      "metadata": {
        "id": "t8pnlXcMn0hA",
        "colab_type": "code",
        "colab": {},
        "outputId": "d6115938-274d-4617-ea54-a1bdc8827fa0"
      },
      "source": [
        "import numpy as np\n",
        "Norm = np.random.normal(2,3,size=(2,3))\n",
        "Norm"
      ],
      "execution_count": 0,
      "outputs": [
        {
          "output_type": "execute_result",
          "data": {
            "text/plain": [
              "array([[-0.59821729,  5.11354537,  4.77376587],\n",
              "       [ 1.65733598,  1.19706229,  2.61539522]])"
            ]
          },
          "metadata": {
            "tags": []
          },
          "execution_count": 35
        }
      ]
    },
    {
      "cell_type": "code",
      "metadata": {
        "id": "GGieXZnyn0hG",
        "colab_type": "code",
        "colab": {},
        "outputId": "3c80d301-6b39-4ff3-873b-4c91b19e7864"
      },
      "source": [
        "Nve = np.random.normal(6,2,size=1000)\n",
        "np.mean(Nve)"
      ],
      "execution_count": 0,
      "outputs": [
        {
          "output_type": "execute_result",
          "data": {
            "text/plain": [
              "5.993342720887002"
            ]
          },
          "metadata": {
            "tags": []
          },
          "execution_count": 22
        }
      ]
    },
    {
      "cell_type": "markdown",
      "metadata": {
        "id": "yyibyOBEn0hL",
        "colab_type": "text"
      },
      "source": [
        "<h2>Simulation d'un vecteur de probabilité:</h2>\n",
        "On va simuler le vecteur de probabilité v=[1/4,1/5,1/5,1-1/4-2*1/5] sur les états [a,b,c,d]:"
      ]
    },
    {
      "cell_type": "code",
      "metadata": {
        "id": "XHOJh-E_n0hM",
        "colab_type": "code",
        "colab": {}
      },
      "source": [
        "import numpy as np\n",
        "proba = np.array([1/4,1/5,1/5,1-1/4-2*1/5])\n",
        "etat = np.array(['a','b','c','d'])\n",
        "Simu = np.random.choice(etat, size=20, replace=True, p=proba)\n",
        "Simu"
      ],
      "execution_count": 0,
      "outputs": []
    },
    {
      "cell_type": "code",
      "metadata": {
        "id": "cTGQ7PhYn0hR",
        "colab_type": "code",
        "colab": {}
      },
      "source": [
        ""
      ],
      "execution_count": 0,
      "outputs": []
    },
    {
      "cell_type": "markdown",
      "metadata": {
        "id": "NJjPoY85n0hW",
        "colab_type": "text"
      },
      "source": [
        "<h3>Exercice 2</h3>\n",
        "Simuler un vecteur de probabilité sur l'ensemble des état ['voit','velo','trot'] dont les probabilité de chaque état sont [1/6 , 2/6 , 3/6]. Simuler ensuite un objet numpy.array de taille 10 issu d'une loi normal de moyenne 4 et variance 10."
      ]
    },
    {
      "cell_type": "code",
      "metadata": {
        "id": "VG9350MTn0hX",
        "colab_type": "code",
        "colab": {},
        "outputId": "43496124-0204-4ef8-a531-aab2c100abd1"
      },
      "source": [
        "import numpy as np\n",
        "proba = np.array([1/6,2/6,3/6])\n",
        "etat = np.array(['voit','velo','trot'])\n",
        "Simu = np.random.choice(etat, size=10, replace=True, p=proba)\n",
        "Simu"
      ],
      "execution_count": 0,
      "outputs": [
        {
          "output_type": "execute_result",
          "data": {
            "text/plain": [
              "array(['voit', 'voit', 'trot', 'voit', 'velo', 'trot', 'velo', 'velo',\n",
              "       'velo', 'trot'], dtype='<U4')"
            ]
          },
          "metadata": {
            "tags": []
          },
          "execution_count": 1
        }
      ]
    },
    {
      "cell_type": "code",
      "metadata": {
        "id": "Y0q5Uybhn0hc",
        "colab_type": "code",
        "colab": {},
        "outputId": "c4e45844-98ce-477a-f118-5b08f1575d2e"
      },
      "source": [
        "import numpy as np \n",
        "Norm = np.random.normal(4,10,size=10)\n",
        "Norm"
      ],
      "execution_count": 0,
      "outputs": [
        {
          "output_type": "execute_result",
          "data": {
            "text/plain": [
              "array([15.2346089 , 12.0677638 , -7.5850854 , 23.35634926, 25.11934758,\n",
              "        6.05172809,  1.90831278, 10.27384422, 28.08706373, -3.75131434])"
            ]
          },
          "metadata": {
            "tags": []
          },
          "execution_count": 2
        }
      ]
    },
    {
      "cell_type": "markdown",
      "metadata": {
        "id": "FV4bznHSn0hh",
        "colab_type": "text"
      },
      "source": [
        "# Fonction particuliere sur les objet array\n",
        "On présente des fonction permettant la modification, la construction d'objet array.\n",
        "<ul>\n",
        "    <li> numpy.arange([start, ]stop, [step, ]dtype=None) :</li>\n",
        "    <li> numpy.linspace(start, stop, num=50, endpoint=True, retstep=False, dtype=None, axis=0)</li>\n",
        "    <li> numpy.insert(arr, obj, values, axis=None)</li>\n",
        "    <li> numpy.append(arr, values, axis=None)</li>\n",
        "    <li> numpy.concatenate((a1, a2, ...), axis=0, out=None)</li>\n",
        "    <li> numpy.stack(arrays, axis=0, out=None)</li>\n",
        "    <li> numpy.ones</li>\n",
        "</ul>"
      ]
    },
    {
      "cell_type": "markdown",
      "metadata": {
        "id": "V8DcIvy8n0hj",
        "colab_type": "text"
      },
      "source": [
        "On construit V1 un vecteur comprenant des nombres compris entre 2 et 8 par pas de 2."
      ]
    },
    {
      "cell_type": "code",
      "metadata": {
        "id": "Q-7dSpGfn0hk",
        "colab_type": "code",
        "colab": {},
        "outputId": "5043527a-6101-4163-cd79-a22e0e0f66d9"
      },
      "source": [
        "import numpy as np\n",
        "V1 = np.arange(2,10,2)\n",
        "V1"
      ],
      "execution_count": 0,
      "outputs": [
        {
          "output_type": "execute_result",
          "data": {
            "text/plain": [
              "array([2, 4, 6, 8])"
            ]
          },
          "metadata": {
            "tags": []
          },
          "execution_count": 34
        }
      ]
    },
    {
      "cell_type": "markdown",
      "metadata": {
        "id": "vpHkrENAn0hq",
        "colab_type": "text"
      },
      "source": [
        "On construit un vecteur V2 comprenant  5 valeurs comprises entre 6 et 8 :"
      ]
    },
    {
      "cell_type": "code",
      "metadata": {
        "id": "jdveG88Gn0hs",
        "colab_type": "code",
        "colab": {},
        "outputId": "0b1ca2a7-55f7-46b9-b075-b9c48f010969"
      },
      "source": [
        "import numpy as np\n",
        "V2 = np.linspace(6,8,5)\n",
        "V2"
      ],
      "execution_count": 0,
      "outputs": [
        {
          "output_type": "execute_result",
          "data": {
            "text/plain": [
              "array([6. , 6.5, 7. , 7.5, 8. ])"
            ]
          },
          "metadata": {
            "tags": []
          },
          "execution_count": 47
        }
      ]
    },
    {
      "cell_type": "code",
      "metadata": {
        "id": "NGl2-9onn0hw",
        "colab_type": "code",
        "colab": {}
      },
      "source": [
        "Ici, on concatène V1 et V2:"
      ],
      "execution_count": 0,
      "outputs": []
    },
    {
      "cell_type": "code",
      "metadata": {
        "id": "Uh8B7TUYn0h3",
        "colab_type": "code",
        "colab": {},
        "outputId": "7712e021-7897-491b-8e59-ffcaad122321"
      },
      "source": [
        "np.concatenate([V1,V2])"
      ],
      "execution_count": 0,
      "outputs": [
        {
          "output_type": "execute_result",
          "data": {
            "text/plain": [
              "array([2. , 4. , 6. , 8. , 6. , 6.5, 7. , 7.5, 8. ])"
            ]
          },
          "metadata": {
            "tags": []
          },
          "execution_count": 39
        }
      ]
    },
    {
      "cell_type": "markdown",
      "metadata": {
        "id": "z7ask3Ncn0h9",
        "colab_type": "text"
      },
      "source": [
        "On va concatener une matrice (3,3) avec une matrice (3,2) selon l'axe horizontal:"
      ]
    },
    {
      "cell_type": "code",
      "metadata": {
        "id": "W37f7gBbn0h-",
        "colab_type": "code",
        "colab": {},
        "outputId": "fb7cd8eb-8600-4bbb-a7c4-ff46ec7f2729"
      },
      "source": [
        "import numpy as np\n",
        "M1 = np.array([[1,2,6],[4,5,6],[8,8,8]])\n",
        "M2 = np.array([[6,5],[4,4],[2,1]])\n",
        "np.concatenate([M1,M2],axis=1)"
      ],
      "execution_count": 0,
      "outputs": [
        {
          "output_type": "execute_result",
          "data": {
            "text/plain": [
              "array([[1, 2, 6, 6, 5],\n",
              "       [4, 5, 6, 4, 4],\n",
              "       [8, 8, 8, 2, 1]])"
            ]
          },
          "metadata": {
            "tags": []
          },
          "execution_count": 40
        }
      ]
    },
    {
      "cell_type": "markdown",
      "metadata": {
        "id": "DeXwHXbHn0iC",
        "colab_type": "text"
      },
      "source": [
        "On va créer un vecteur ayant que des 1 excepté son 9 ieme élément qui vaut 15"
      ]
    },
    {
      "cell_type": "code",
      "metadata": {
        "id": "fdPA7BKXn0iE",
        "colab_type": "code",
        "colab": {},
        "outputId": "baac6abc-0eb6-425f-a179-733734191edb"
      },
      "source": [
        "V3 = np.ones(15)\n",
        "np.insert(V3,9,15)"
      ],
      "execution_count": 0,
      "outputs": [
        {
          "output_type": "execute_result",
          "data": {
            "text/plain": [
              "array([ 1.,  1.,  1.,  1.,  1.,  1.,  1.,  1.,  1., 15.,  1.,  1.,  1.,\n",
              "        1.,  1.,  1.])"
            ]
          },
          "metadata": {
            "tags": []
          },
          "execution_count": 41
        }
      ]
    },
    {
      "cell_type": "code",
      "metadata": {
        "id": "YEGYDSN-n0iO",
        "colab_type": "code",
        "colab": {}
      },
      "source": [
        "On va utiliser append pour "
      ],
      "execution_count": 0,
      "outputs": []
    },
    {
      "cell_type": "code",
      "metadata": {
        "id": "HyWaEOxan0iY",
        "colab_type": "code",
        "colab": {},
        "outputId": "5a7c1ade-8d3e-4295-f2b8-2f852acaab25"
      },
      "source": [
        "import numpy as np\n",
        "V1 = np.array([5,8,9])\n",
        "V2 = np.array([9,9,5,6.8])\n",
        "np.append(V1,V2)"
      ],
      "execution_count": 0,
      "outputs": [
        {
          "output_type": "execute_result",
          "data": {
            "text/plain": [
              "array([5. , 8. , 9. , 9. , 9. , 5. , 6.8])"
            ]
          },
          "metadata": {
            "tags": []
          },
          "execution_count": 42
        }
      ]
    },
    {
      "cell_type": "markdown",
      "metadata": {
        "id": "lX6ZtobVn0if",
        "colab_type": "text"
      },
      "source": [
        "On va créer une matrice ayant 5 fois la même ligne et 1 ligne différents: "
      ]
    },
    {
      "cell_type": "code",
      "metadata": {
        "id": "vf4aFF8Nn0ii",
        "colab_type": "code",
        "colab": {},
        "outputId": "798422d9-86f8-4680-8b36-540c36ead7a5"
      },
      "source": [
        "import numpy as np\n",
        "V1 = np.array([[1,4,2.3,9]])\n",
        "V2 = np.array([[1,9.9,5.2,1]])\n",
        "np.concatenate([V1,V1,V2,V1,V1,V1],axis=0)"
      ],
      "execution_count": 0,
      "outputs": [
        {
          "output_type": "execute_result",
          "data": {
            "text/plain": [
              "array([[1. , 4. , 2.3, 9. ],\n",
              "       [1. , 4. , 2.3, 9. ],\n",
              "       [1. , 9.9, 5.2, 1. ],\n",
              "       [1. , 4. , 2.3, 9. ],\n",
              "       [1. , 4. , 2.3, 9. ],\n",
              "       [1. , 4. , 2.3, 9. ]])"
            ]
          },
          "metadata": {
            "tags": []
          },
          "execution_count": 43
        }
      ]
    },
    {
      "cell_type": "markdown",
      "metadata": {
        "id": "RnamZVFOn0io",
        "colab_type": "text"
      },
      "source": [
        "<h3> Exercice 3</h3>\n",
        "Créer la matrice suivante en utilisant np.concatenate, np.one, np.insert:\n",
        "$$\\left(\\begin{array}{ccccc}\n",
        "2 &2 &5 &2 & 2\\\\\n",
        "2 &2 &5 &2 & 2\\\\\n",
        "2 &2 &5 &2 & 2\\\\\n",
        "2 &2 &5 &2 & 2\\\\\n",
        "2 &2 &5 &2 &2\\\\\n",
        "2 &2 &5 &2 &2\n",
        "\\end{array}\\right)\n",
        "$$"
      ]
    },
    {
      "cell_type": "code",
      "metadata": {
        "id": "QfLVWX92n0ip",
        "colab_type": "code",
        "colab": {},
        "outputId": "ae6e85b6-6bf8-4f19-ccd4-7fa3ca9620a5"
      },
      "source": [
        "import numpy as np\n",
        "V1 = 2*np.ones(4,dtype=int)\n",
        "V2 = np.insert(V1,2,5)\n",
        "V2 = V2.reshape(1,5)\n",
        "M = np.concatenate([V2]*6,axis=0)\n",
        "M"
      ],
      "execution_count": 0,
      "outputs": [
        {
          "output_type": "execute_result",
          "data": {
            "text/plain": [
              "array([[2, 2, 5, 2, 2],\n",
              "       [2, 2, 5, 2, 2],\n",
              "       [2, 2, 5, 2, 2],\n",
              "       [2, 2, 5, 2, 2],\n",
              "       [2, 2, 5, 2, 2],\n",
              "       [2, 2, 5, 2, 2]])"
            ]
          },
          "metadata": {
            "tags": []
          },
          "execution_count": 44
        }
      ]
    },
    {
      "cell_type": "markdown",
      "metadata": {
        "id": "snkTfm1Pn0iv",
        "colab_type": "text"
      },
      "source": [
        "# Courbe de fonction\n",
        "<ul>\n",
        "    <li> numpy.cos</li>\n",
        "    <li> numpy.sin</li>\n",
        "    <li> numpy.log</li>\n",
        "    <li> numpy.exp</li>\n",
        "</ul>\n",
        "On va tracer la courbe de$f(x)=\\ln(1+(sin(x))^{2})$ sur [0,5]. On utilise le package matplotlib.pyplot pour tracer cette courbe."
      ]
    },
    {
      "cell_type": "code",
      "metadata": {
        "id": "RM0Y40XSn0ix",
        "colab_type": "code",
        "colab": {},
        "outputId": "ca21fe4b-3930-4e24-c4d5-08ebecb3a509"
      },
      "source": [
        "import numpy as np\n",
        "x = np.linspace(0,5,40)\n",
        "y = np.log(1+np.sin(x)**2)\n",
        "\n",
        "import matplotlib.pyplot as plt\n",
        "plt.plot(x,y)\n",
        "plt.show()"
      ],
      "execution_count": 0,
      "outputs": [
        {
          "output_type": "display_data",
          "data": {
            "image/png": "[encoded data removed]",
            "text/plain": [
              "<Figure size 432x288 with 1 Axes>"
            ]
          },
          "metadata": {
            "tags": [],
            "needs_background": "light"
          }
        }
      ]
    },
    {
      "cell_type": "code",
      "metadata": {
        "id": "A2nANb9Vn0i3",
        "colab_type": "code",
        "colab": {},
        "outputId": "dbd390ce-297b-484f-f204-8ee8d958a3b0"
      },
      "source": [
        "x[35]"
      ],
      "execution_count": 0,
      "outputs": [
        {
          "output_type": "execute_result",
          "data": {
            "text/plain": [
              "4.487179487179487"
            ]
          },
          "metadata": {
            "tags": []
          },
          "execution_count": 54
        }
      ]
    },
    {
      "cell_type": "markdown",
      "metadata": {
        "id": "8WkiMfOfn0i8",
        "colab_type": "text"
      },
      "source": [
        "# Exemple\n",
        "* Tracer la courbe de la fonction $f(x)=\\frac{1}{4\\Gamma(2)}xe^{-x/2}$ ou $\\Gamma(t)=\\int_{0}^{+\\infty}x^{t-1}e^{-x}dx$ sur [0,10]. On utilise la fonction gamma fournit par package scipy. \n",
        "* Mettre en évidence l'aire sous la courbe entre 2 et 6.\n",
        "* Calculer $\\int_{2}^{4}\\frac{1}{4\\Gamma(2)}xe^{-x/2}dx$"
      ]
    },
    {
      "cell_type": "code",
      "metadata": {
        "scrolled": true,
        "id": "DTvT3XiCn0i9",
        "colab_type": "code",
        "colab": {},
        "outputId": "1f317634-8681-4d19-997f-ffb76819e9e8"
      },
      "source": [
        "from scipy.special import gamma\n",
        "import numpy as np\n",
        "import matplotlib.pyplot as plt \n",
        "\n",
        "x = np.linspace(0,10,100)\n",
        "y = (1/(4*gamma(2)))*x*np.exp(-x/2)\n",
        "plt.plot(x,y)\n",
        "x1 = np.linspace(2,6,20)\n",
        "y1 = (1/(4*gamma(2)))*x1*np.exp(-x1/2)\n",
        "plt.fill_between(x1,y1, color='green',alpha=0.3)\n",
        "plt.show()"
      ],
      "execution_count": 0,
      "outputs": [
        {
          "output_type": "display_data",
          "data": {
            "image/png": "[encoded data removed]",
            "text/plain": [
              "<Figure size 432x288 with 1 Axes>"
            ]
          },
          "metadata": {
            "tags": [],
            "needs_background": "light"
          }
        }
      ]
    },
    {
      "cell_type": "markdown",
      "metadata": {
        "id": "iUFtxvb3n0jC",
        "colab_type": "text"
      },
      "source": [
        "On calcul l'integrale à laide d'une somme de Riemman:\n",
        "    $\\frac{b-a}{n}\\sum_{i=0}^{n}f(a+i(b-a)/n)$"
      ]
    },
    {
      "cell_type": "code",
      "metadata": {
        "id": "xyAJtZCIn0jE",
        "colab_type": "code",
        "colab": {},
        "outputId": "c45cd0f8-b7e8-4369-dd56-24956cbdff80"
      },
      "source": [
        "x = np.linspace(2,4,100)\n",
        "y = (1/(4*gamma(2)))*x*np.exp(-x/2)\n",
        "((4-2)/100)*np.sum(y)"
      ],
      "execution_count": 0,
      "outputs": [
        {
          "output_type": "execute_result",
          "data": {
            "text/plain": [
              "0.329647113167648"
            ]
          },
          "metadata": {
            "tags": []
          },
          "execution_count": 5
        }
      ]
    },
    {
      "cell_type": "markdown",
      "metadata": {
        "id": "tbsC3H9An0jJ",
        "colab_type": "text"
      },
      "source": [
        "On verifie les résultats. On remarque l'utilisation du package scipy."
      ]
    },
    {
      "cell_type": "code",
      "metadata": {
        "id": "EsdcOIDnn0jK",
        "colab_type": "code",
        "colab": {},
        "outputId": "b0383c3c-979e-4e1b-b675-7df8b4509e44"
      },
      "source": [
        "def f(x):\n",
        "    y= (1/(4*gamma(2)))*x*np.exp(-x/2)\n",
        "    return(y)\n",
        "\n",
        "from scipy.integrate import quad\n",
        "quad(f,2,4)"
      ],
      "execution_count": 0,
      "outputs": [
        {
          "output_type": "execute_result",
          "data": {
            "text/plain": [
              "(0.32975303263304656, 3.660994092691789e-15)"
            ]
          },
          "metadata": {
            "tags": []
          },
          "execution_count": 6
        }
      ]
    },
    {
      "cell_type": "markdown",
      "metadata": {
        "id": "S7HkBhV5n0jP",
        "colab_type": "text"
      },
      "source": [
        "<h3>Exercice 4</h3>\n",
        "Soit $f(x)=\\frac{1}{\\Gamma(3)}x^{2}e^{-x}$\n",
        "<ul>\n",
        "<li>Tracer la courbe de f entre 0 et 20.</li>\n",
        "<li>Déssiner l'aire sous la coubre entre 3 et 10</li>\n",
        "<li>Calculer $\\int_{3}^{10}f(x)dx.$</li>\n",
        "</ul>\n"
      ]
    },
    {
      "cell_type": "code",
      "metadata": {
        "id": "JYWuRAaEn0jQ",
        "colab_type": "code",
        "colab": {},
        "outputId": "06577952-0ce7-4160-d265-f78ccfe6b24c"
      },
      "source": [
        "from scipy.special import gamma\n",
        "import numpy as np\n",
        "import matplotlib.pyplot as plt\n",
        "\n",
        "def f(x):\n",
        "    y = (1/gamma(3))*x*x*np.exp(-x)\n",
        "    return(y)\n",
        "\n",
        "x = np.linspace(0,20,1000)\n",
        "y = f(x)\n",
        "plt.plot(x,y)"
      ],
      "execution_count": 0,
      "outputs": [
        {
          "output_type": "execute_result",
          "data": {
            "text/plain": [
              "[<matplotlib.lines.Line2D at 0x29dbdacddd8>]"
            ]
          },
          "metadata": {
            "tags": []
          },
          "execution_count": 66
        },
        {
          "output_type": "display_data",
          "data": {
            "image/png": "[encoded data removed]",
            "text/plain": [
              "<Figure size 432x288 with 1 Axes>"
            ]
          },
          "metadata": {
            "tags": [],
            "needs_background": "light"
          }
        }
      ]
    },
    {
      "cell_type": "code",
      "metadata": {
        "id": "vZNG1GRkn0jX",
        "colab_type": "code",
        "colab": {},
        "outputId": "ae187f54-6177-4eea-9dc5-158fc1821398"
      },
      "source": [
        "from scipy.special import gamma\n",
        "import numpy as np\n",
        "import matplotlib.pyplot as plt\n",
        "\n",
        "def f(x):\n",
        "    y = (1/gamma(3))*x*x*np.exp(-x)\n",
        "    return(y)\n",
        "\n",
        "x = np.linspace(0,20,1000)\n",
        "y = f(x)\n",
        "plt.plot(x,y)\n",
        "\n",
        "x1 = np.linspace(3,10,100)\n",
        "y1 = f(x1)\n",
        "\n",
        "plt.fill_between(x1,y1, color='green',alpha=0.3)\n",
        "plt.show()\n"
      ],
      "execution_count": 0,
      "outputs": [
        {
          "output_type": "display_data",
          "data": {
            "image/png": "[encoded data removed]",
            "text/plain": [
              "<Figure size 432x288 with 1 Axes>"
            ]
          },
          "metadata": {
            "tags": [],
            "needs_background": "light"
          }
        }
      ]
    },
    {
      "cell_type": "code",
      "metadata": {
        "id": "-4igR8ZUn0jm",
        "colab_type": "code",
        "colab": {},
        "outputId": "2d72c60b-f060-46a4-a3f6-e680d778ef81"
      },
      "source": [
        "from scipy.special import gamma\n",
        "import numpy as np\n",
        "import matplotlib.pyplot as plt\n",
        "\n",
        "def f(x):\n",
        "    y = (1/gamma(3))*x*x*np.exp(-x)\n",
        "    return(y)\n",
        "\n",
        "x = np.linspace(3,10,1000)\n",
        "y = f(x)\n",
        "((10-3)/1000)*np.sum(y)"
      ],
      "execution_count": 0,
      "outputs": [
        {
          "output_type": "execute_result",
          "data": {
            "text/plain": [
              "0.42079265386897635"
            ]
          },
          "metadata": {
            "tags": []
          },
          "execution_count": 72
        }
      ]
    },
    {
      "cell_type": "code",
      "metadata": {
        "id": "w6RIPONTn0js",
        "colab_type": "code",
        "colab": {},
        "outputId": "4e490770-7cb1-4b11-c623-f45d880340e9"
      },
      "source": [
        "def f(x):\n",
        "    y = (1/gamma(3))*x*x*np.exp(-x)\n",
        "    return(y)\n",
        "from scipy.integrate import quad\n",
        "quad(f,3,10)"
      ],
      "execution_count": 0,
      "outputs": [
        {
          "output_type": "execute_result",
          "data": {
            "text/plain": [
              "(0.420420685411332, 4.667607249723504e-15)"
            ]
          },
          "metadata": {
            "tags": []
          },
          "execution_count": 69
        }
      ]
    },
    {
      "cell_type": "markdown",
      "metadata": {
        "id": "Rgj0VtrNn0jy",
        "colab_type": "text"
      },
      "source": [
        "# Barplot et histogramme"
      ]
    },
    {
      "cell_type": "markdown",
      "metadata": {
        "id": "OQozqXeBn0j0",
        "colab_type": "text"
      },
      "source": [
        "<b>Exemple de Barplot </b>. Parmi un ensemble de 17 étudiants, 8 sont équipés d'ordinateur windows, 6 d'apple et 3 d'ubuntu. On va représenter ces données avec un barplot."
      ]
    },
    {
      "cell_type": "code",
      "metadata": {
        "id": "jSDnSmtWn0j2",
        "colab_type": "code",
        "colab": {},
        "outputId": "8821be13-76c8-488d-dc64-64a89101a1b7"
      },
      "source": [
        "import numpy as np\n",
        "import matplotlib.pyplot as plt\n",
        "\n",
        "\n",
        "#les noms de bars\n",
        "bars = np.array(['windows','apple','ubuntu'])\n",
        "y_pos = np.arange(len(bars))\n",
        "\n",
        "#la hauteur des bars\n",
        "height = np.array([8,6,3])\n",
        "\n",
        "\n",
        "barlist=plt.bar(y_pos, height,edgecolor='blue',alpha=0.7,color=['blue','blue','blue']) #\n",
        "plt.xticks(y_pos,bars,color='black',fontweight='bold')\n",
        "#plt.tick_params(top='off', bottom='off', left='off', right='off', labelleft='off', labelbottom='on')\n",
        "#for spine in plt.gca().spines.values():\n",
        "    #spine.set_visible(False)\n",
        "plt.box(False)\n",
        "plt.yticks([])\n",
        "for i in range(0,len(height)):\n",
        "    plt.text(y_pos[i],height[i]+0.5,str(height[i]),color='black',fontweight='bold')\n",
        "\n",
        "#    \n",
        "#for i in range(0,len(height)):\n",
        "    #barlist[i].set_color('blue',alpha=height[i]/np.sum(height))\n",
        "plt.show()"
      ],
      "execution_count": 0,
      "outputs": [
        {
          "output_type": "display_data",
          "data": {
            "image/png": "[encoded data removed]",
            "text/plain": [
              "<Figure size 432x288 with 1 Axes>"
            ]
          },
          "metadata": {
            "tags": [],
            "needs_background": "light"
          }
        }
      ]
    },
    {
      "cell_type": "markdown",
      "metadata": {
        "id": "Bi8wUiF1n0j7",
        "colab_type": "text"
      },
      "source": [
        "<h3>Exercice 5</h3>\n",
        "Dans la liste python ci dessous on 5 modalitées : A,B,C,D. Représenter ces données à l'aide d'un diagramme en bar. Chaque bar représente un pourcentage."
      ]
    },
    {
      "cell_type": "code",
      "metadata": {
        "id": "-ql2Z6mRn0j-",
        "colab_type": "code",
        "colab": {},
        "outputId": "1edfc1ac-6760-4e9c-eb70-613156682060"
      },
      "source": [
        "#executer la cellule\n",
        "import numpy as np\n",
        "np.random.seed(1998)\n",
        "\n",
        "proba = [0.1,0.2,0.3,0.4]\n",
        "etat = np.array(['A','B','C','D'])\n",
        "Simu = np.random.choice(etat, size=1000, replace=True, p=proba)\n",
        "Simu[0:6]"
      ],
      "execution_count": 0,
      "outputs": [
        {
          "output_type": "execute_result",
          "data": {
            "text/plain": [
              "array(['C', 'D', 'B', 'D', 'C', 'D'], dtype='<U1')"
            ]
          },
          "metadata": {
            "tags": []
          },
          "execution_count": 93
        }
      ]
    },
    {
      "cell_type": "code",
      "metadata": {
        "id": "xZA6jPjKn0kE",
        "colab_type": "code",
        "colab": {},
        "outputId": "5889bad9-f84e-4931-e593-79ceb42ae9ca"
      },
      "source": [
        "np.unique(Simu)"
      ],
      "execution_count": 0,
      "outputs": [
        {
          "output_type": "execute_result",
          "data": {
            "text/plain": [
              "array(['A', 'B', 'C', 'D'], dtype='<U1')"
            ]
          },
          "metadata": {
            "tags": []
          },
          "execution_count": 94
        }
      ]
    },
    {
      "cell_type": "code",
      "metadata": {
        "id": "p3phdK6Wn0kL",
        "colab_type": "code",
        "colab": {},
        "outputId": "b2790247-f92f-4b22-b259-300b4be22c98"
      },
      "source": [
        "#[(len(Simu[Simu==o]),o) for o in np.unique(Simu)]\n",
        "pca =  (len(Simu[Simu=='A'])/len(Simu))*100\n",
        "pca = np.round(pca,1)\n",
        "\n",
        "pcb =  (len(Simu[Simu=='B'])/len(Simu))*100\n",
        "pcb = np.round(pcb,1)\n",
        "                 \n",
        "pcc=  (len(Simu[Simu=='C'])/len(Simu))*100\n",
        "pcc= np.round(pcc,1)\n",
        "                \n",
        "pcd=  (len(Simu[Simu=='D'])/len(Simu))*100\n",
        "pcd= np.round(pcd,1)\n",
        "                \n",
        "pca,pcb,pcc,pcd\n",
        "                "
      ],
      "execution_count": 0,
      "outputs": [
        {
          "output_type": "execute_result",
          "data": {
            "text/plain": [
              "(10.1, 19.6, 31.3, 39.0)"
            ]
          },
          "metadata": {
            "tags": []
          },
          "execution_count": 100
        }
      ]
    },
    {
      "cell_type": "code",
      "metadata": {
        "id": "_3YNSFDIn0kS",
        "colab_type": "code",
        "colab": {},
        "outputId": "bd6c5cdd-a92f-4f3e-a34b-3d8f8ba75f87"
      },
      "source": [
        "import numpy as np\n",
        "import matplotlib.pyplot as plt \n",
        "\n",
        "bars = np.array(['A','B','C','D'])\n",
        "y_pos = np.arange(len(bars))\n",
        "\n",
        "height = np.array([pca,pcb,pcc,pcd])\n",
        "\n",
        "barlist=plt.bar(y_pos, height,edgecolor='blue',alpha=0.7,color=['red','orange','green','blue']) \n",
        "plt.xticks(y_pos,bars,color='black',fontweight='bold')\n",
        "\n",
        "plt.box(False)\n",
        "plt.yticks([])\n",
        "for i in range(0,len(height)):\n",
        "    plt.text(y_pos[i],height[i]+0.5,str(height[i]),color='black',fontweight='bold')\n",
        "\n",
        "plt.show()"
      ],
      "execution_count": 0,
      "outputs": [
        {
          "output_type": "display_data",
          "data": {
            "image/png": "[encoded data removed]",
            "text/plain": [
              "<Figure size 432x288 with 1 Axes>"
            ]
          },
          "metadata": {
            "tags": [],
            "needs_background": "light"
          }
        }
      ]
    },
    {
      "cell_type": "markdown",
      "metadata": {
        "id": "Y3ShzWTcn0kX",
        "colab_type": "text"
      },
      "source": [
        "<b>Exemple d'histogramme </b>\n",
        "* Simuler un échantillon de Poisson de parametre 4 et de taille 10 000.\n",
        "* Tracer son histogramme.\n",
        "* Tracer dans la meme figure que l'histoire la courbe $f(x)=\\frac{1}{2\\sqrt{2\\pi}}e^{-\\frac{1}{2}\\left(\\frac{x-4}{2}\\right)^{2}}$ entre 0 et 15."
      ]
    },
    {
      "cell_type": "markdown",
      "metadata": {
        "id": "roX0tvIHn0kZ",
        "colab_type": "text"
      },
      "source": [
        "On simule l'échantillon de loi de poisson"
      ]
    },
    {
      "cell_type": "code",
      "metadata": {
        "id": "7WatiFf5n0kb",
        "colab_type": "code",
        "colab": {},
        "outputId": "1c1783c8-5258-4cef-be16-2c18261117a2"
      },
      "source": [
        "import numpy as np\n",
        "np.random.seed(1998)\n",
        "pois = np.random.poisson(4, 10000)\n",
        "pois"
      ],
      "execution_count": 0,
      "outputs": [
        {
          "output_type": "execute_result",
          "data": {
            "text/plain": [
              "array([6, 4, 2, ..., 1, 4, 7])"
            ]
          },
          "metadata": {
            "tags": []
          },
          "execution_count": 107
        }
      ]
    },
    {
      "cell_type": "code",
      "metadata": {
        "id": "aS9Yw_xNn0kh",
        "colab_type": "code",
        "colab": {}
      },
      "source": [
        ""
      ],
      "execution_count": 0,
      "outputs": []
    },
    {
      "cell_type": "markdown",
      "metadata": {
        "id": "_4cz7lVyn0kn",
        "colab_type": "text"
      },
      "source": [
        "On trace l'histogrammme en utilisant plt.hist"
      ]
    },
    {
      "cell_type": "code",
      "metadata": {
        "id": "awHX2Wwtn0ko",
        "colab_type": "code",
        "colab": {},
        "outputId": "eb120cee-2af7-42ff-a143-7cdada03058b"
      },
      "source": [
        "import numpy as np\n",
        "import matplotlib.pyplot as plt\n",
        "plt.hist(pois,bins='sturges',density=True)  #sturges\n",
        "x = np.linspace(0,14,100)\n",
        "y = (1/(2*np.sqrt(2*np.pi)))*np.exp(-(1/2)*((x-4)/2)**2)\n",
        "plt.plot(x,y,color='black')\n",
        "plt.show"
      ],
      "execution_count": 0,
      "outputs": [
        {
          "output_type": "execute_result",
          "data": {
            "text/plain": [
              "<function matplotlib.pyplot.show(*args, **kw)>"
            ]
          },
          "metadata": {
            "tags": []
          },
          "execution_count": 108
        },
        {
          "output_type": "display_data",
          "data": {
            "image/png": "[encoded data removed]",
            "text/plain": [
              "<Figure size 432x288 with 1 Axes>"
            ]
          },
          "metadata": {
            "tags": [],
            "needs_background": "light"
          }
        }
      ]
    },
    {
      "cell_type": "markdown",
      "metadata": {
        "id": "i_YBDWB6n0ku",
        "colab_type": "text"
      },
      "source": [
        "<h3>Exercice 6: histogramme</h3>\n",
        "<ul>\n",
        "<li>Simuler un échantillon de taille 10000 de loi normal de moyenne 6 et d'écart type 3</li>\n",
        "<li>Faire l'histogramme de cet échantillon en utilisant plt.hist avec l'option density=True et bins='sturges'.</li>\n",
        "<li>Tracer la courbe $f(x)=\\frac{1}{\\sqrt{2\\pi\\times9}}e^{-\\frac{1}{2}\\left(\\frac{x-6}{3}\\right)^{2}}$ sur le même graphique dans l'interval [-6,16].</li>    \n",
        "</ul>"
      ]
    },
    {
      "cell_type": "code",
      "metadata": {
        "id": "Q_clIoznn0kv",
        "colab_type": "code",
        "colab": {},
        "outputId": "9af06b9d-4b00-4f61-97c6-7ea89baa1129"
      },
      "source": [
        "import numpy as np\n",
        "Norm = np.random.normal(6,3,size=10000)\n",
        "\n",
        "plt.hist(Norm,bins='sturges',density=True)\n",
        "\n",
        "x = np.linspace(-6,16,1000)\n",
        "y = (1/np.sqrt(2*np.pi*9))*np.exp(-(1/18)*(x-6)**2)\n",
        "plt.plot(x,y,color='black')\n",
        "plt.show"
      ],
      "execution_count": 0,
      "outputs": [
        {
          "output_type": "execute_result",
          "data": {
            "text/plain": [
              "<function matplotlib.pyplot.show(*args, **kw)>"
            ]
          },
          "metadata": {
            "tags": []
          },
          "execution_count": 114
        },
        {
          "output_type": "display_data",
          "data": {
            "image/png": "[encoded data removed]",
            "text/plain": [
              "<Figure size 432x288 with 1 Axes>"
            ]
          },
          "metadata": {
            "tags": [],
            "needs_background": "light"
          }
        }
      ]
    },
    {
      "cell_type": "markdown",
      "metadata": {
        "id": "eojMxvPxn0kz",
        "colab_type": "text"
      },
      "source": [
        "# Nuage de points"
      ]
    },
    {
      "cell_type": "markdown",
      "metadata": {
        "id": "RnJqMP0Sn0k0",
        "colab_type": "text"
      },
      "source": [
        "On va simuler un nuage de point provenant d’un modèle linéaire Y = 0.5 + 2X. On trace le nuage de\n",
        "point à l’aide de la fonction plt.scatter. Ensuite on trace la droite d’équation Y = 0.5 + 2X sur le même\n",
        "grpahique."
      ]
    },
    {
      "cell_type": "code",
      "metadata": {
        "id": "RwAfXuPbn0k1",
        "colab_type": "code",
        "colab": {}
      },
      "source": [
        "import numpy as np\n",
        "np.random.seed(seed=1998)\n",
        "x = np.random.normal(loc=4,scale=1,size=100)\n",
        "e = np.random.normal(loc=0,scale=4,size=100)\n",
        "y = 0.5+2*x+e\n",
        "\n",
        "M = max(x)\n",
        "m = min(x)\n",
        "x_trend = np.arange(m,M+0.1,0.1)\n",
        "y_trend = 0.5+2*x_trend"
      ],
      "execution_count": 0,
      "outputs": []
    },
    {
      "cell_type": "code",
      "metadata": {
        "id": "i85Ji5twn0k5",
        "colab_type": "code",
        "colab": {},
        "outputId": "b16aae5c-1d6d-403b-935b-04083ad9b4b6"
      },
      "source": [
        "#On trace le nuage de point\n",
        "import matplotlib.pyplot as plt\n",
        "plt.scatter(x,y,color=\"red\",alpha=0.6)\n",
        "plt.plot(x_trend,y_trend,color=\"blue\")\n",
        "plt.show()"
      ],
      "execution_count": 0,
      "outputs": [
        {
          "output_type": "display_data",
          "data": {
            "image/png": "[encoded data removed]",
            "text/plain": [
              "<Figure size 432x288 with 1 Axes>"
            ]
          },
          "metadata": {
            "tags": [],
            "needs_background": "light"
          }
        }
      ]
    },
    {
      "cell_type": "markdown",
      "metadata": {
        "id": "9obF5uWgn0k-",
        "colab_type": "text"
      },
      "source": [
        "<h3>Exercice 7</h3>\n",
        "Le poids des hommes suit une loi normal de paramètre de moyenne 77.4kg et d’écart type 12kg. Le poids\n",
        "des femmes suit une loi normal de paramètre de moyenne 62.4 et d’écart type 10.9. En France, il y a 32\n",
        "455 859 hommes pour 34 534 967 femmes au 1er janvier 2017. Une compagnie maritime organise en Corse\n",
        "des expéditions pouvant accueillir 100 personnes par bateau. Selon les normes de sécurité en vigueur, un\n",
        "bateau ne peut accueillir une charge dépassant les 7.2 tonnes. A l’aide d’une simulation, calculer le risque\n",
        "que cette normes ne soient pas respectées ? (On ferra l’hypothèse que les touristes sont adultes et voyagent\n",
        "sans bagage)"
      ]
    },
    {
      "cell_type": "code",
      "metadata": {
        "id": "6XIPLYUpn0lA",
        "colab_type": "code",
        "colab": {}
      },
      "source": [
        "import numpy as np\n",
        "\n",
        "ph = 32455859/(32455859+34534967)\n",
        "pf= 1-ph\n",
        "etat=np.array(['h','f'])\n",
        "probas=np.array([ph,pf])\n",
        "\n",
        "listeSimu = []\n",
        "\n",
        "#np.random.seed(seed=1998)\n",
        "for i in range(0,10000):\n",
        "    hommes = np.random.normal(loc=77.4,scale=12,size=100)\n",
        "    femmes = np.random.normal(loc=62.4,scale=10.9,size=100)\n",
        "    genre = np.random.choice(etat, size=100, replace=True, p=probas)\n",
        "    hommesbis = hommes[genre=='h']\n",
        "    femmesbis = femmes[genre=='f']\n",
        "    poids=np.sum(hommesbis)+np.sum(femmesbis)\n",
        "    listeSimu.append(poids)\n",
        "\n"
      ],
      "execution_count": 0,
      "outputs": []
    },
    {
      "cell_type": "code",
      "metadata": {
        "id": "NoW4JBEpn0lE",
        "colab_type": "code",
        "colab": {}
      },
      "source": [
        "listeSimu_numpy = np.array(listeSimu)"
      ],
      "execution_count": 0,
      "outputs": []
    },
    {
      "cell_type": "code",
      "metadata": {
        "id": "u9zy0UEfn0lI",
        "colab_type": "code",
        "colab": {},
        "outputId": "2172678d-88cd-4ece-b3df-be159da18864"
      },
      "source": [
        "poids"
      ],
      "execution_count": 0,
      "outputs": [
        {
          "output_type": "execute_result",
          "data": {
            "text/plain": [
              "6920.8548152485055"
            ]
          },
          "metadata": {
            "tags": []
          },
          "execution_count": 16
        }
      ]
    },
    {
      "cell_type": "code",
      "metadata": {
        "id": "qmPBtwzln0lZ",
        "colab_type": "code",
        "colab": {},
        "outputId": "b609200b-87e8-44cb-db36-5b50a54fee63"
      },
      "source": [
        "listeSimu_numpy[listeSimu_numpy>7200].shape[0]/10000"
      ],
      "execution_count": 0,
      "outputs": [
        {
          "output_type": "execute_result",
          "data": {
            "text/plain": [
              "0.0441"
            ]
          },
          "metadata": {
            "tags": []
          },
          "execution_count": 29
        }
      ]
    },
    {
      "cell_type": "code",
      "metadata": {
        "id": "o7DFPPdan0lg",
        "colab_type": "code",
        "colab": {}
      },
      "source": [
        "# EXERCICE 8\n",
        "\n",
        "import numpy as np\n",
        "import matplotlib.pyplot as plt\n",
        "\n",
        "#initial = np.random.multivariate_normal(np.array([3,3]), np.eye(1),1000)\n",
        "\n",
        "x = np.random.multivariate_normal(np.array([0,0]), np.eye(2),1000)\n",
        "Y = np.random.multivariate_normal(np.array([1,1]), 0.25*np.eye(2),1000)\n",
        "mixture_component = np.random.choice([1,2],size=1000, replace=True,p=[1/3,2/3])\n",
        "\n",
        "\n",
        "X_bis = x[mixture_component ==1]\n",
        "Y_bis = Y[mixture_component ==2]\n",
        "\n"
      ],
      "execution_count": 0,
      "outputs": []
    },
    {
      "cell_type": "code",
      "metadata": {
        "id": "QTvRLT4nn0lr",
        "colab_type": "code",
        "colab": {}
      },
      "source": [
        "MELANGE1 = np.vstack([X_bis,Y_bis])"
      ],
      "execution_count": 0,
      "outputs": []
    },
    {
      "cell_type": "code",
      "metadata": {
        "id": "vp2DLGN7n0ly",
        "colab_type": "code",
        "colab": {}
      },
      "source": [
        "cat1 = np.repeat(1,X_bis.shape[0])\n",
        "cat2 = np.repeat(2,Y_bis.shape[0])\n",
        "cat_tot = np.concatenate([cat1,cat2])"
      ],
      "execution_count": 0,
      "outputs": []
    },
    {
      "cell_type": "code",
      "metadata": {
        "id": "teBQCG61n0l1",
        "colab_type": "code",
        "colab": {},
        "outputId": "2a8648c7-05b9-4e59-ab59-d5c82e7ad93c"
      },
      "source": [
        "cat = cat_tot.reshape(1000,1)\n",
        "MELANGE1_cat = np.hstack([MELANGE1,cat])\n",
        "MELANGE1_cat"
      ],
      "execution_count": 0,
      "outputs": [
        {
          "output_type": "execute_result",
          "data": {
            "text/plain": [
              "array([[-1.10771958, -0.30608731,  1.        ],\n",
              "       [ 0.29118883, -0.52625126,  1.        ],\n",
              "       [-0.19196211, -0.91752997,  1.        ],\n",
              "       ...,\n",
              "       [ 0.95582199,  1.44862813,  2.        ],\n",
              "       [ 0.58936879,  0.20719233,  2.        ],\n",
              "       [ 0.91198813,  0.05939503,  2.        ]])"
            ]
          },
          "metadata": {
            "tags": []
          },
          "execution_count": 61
        }
      ]
    },
    {
      "cell_type": "code",
      "metadata": {
        "id": "uDlSDEAfn0l7",
        "colab_type": "code",
        "colab": {}
      },
      "source": [
        "MELANGE1_cat2 = np.random.shuffle(MELANGE1_cat)"
      ],
      "execution_count": 0,
      "outputs": []
    },
    {
      "cell_type": "code",
      "metadata": {
        "id": "x5fsTogxn0mB",
        "colab_type": "code",
        "colab": {},
        "outputId": "54406625-3b62-4969-caae-599554fffdec"
      },
      "source": [
        ""
      ],
      "execution_count": 0,
      "outputs": [
        {
          "output_type": "execute_result",
          "data": {
            "text/plain": [
              "array([2., 2., 2., 2., 1., 2., 2., 2., 1., 2., 2., 2., 2., 1., 1., 2., 1.,\n",
              "       2., 2., 1., 2., 2., 2., 1., 2., 1., 2., 2., 2., 2., 2., 2., 2., 2.,\n",
              "       1., 2., 2., 2., 2., 2., 2., 2., 2., 1., 2., 1., 2., 1., 1., 2., 2.,\n",
              "       2., 1., 1., 2., 1., 2., 2., 2., 1., 1., 2., 2., 2., 1., 1., 2., 1.,\n",
              "       2., 2., 2., 2., 2., 2., 2., 1., 1., 2., 2., 2., 1., 2., 2., 2., 1.,\n",
              "       2., 2., 1., 1., 1., 2., 1., 2., 2., 2., 2., 2., 1., 2., 2., 2., 1.,\n",
              "       1., 2., 1., 1., 2., 1., 2., 2., 2., 1., 1., 2., 2., 2., 2., 2., 2.,\n",
              "       2., 2., 2., 2., 1., 2., 2., 1., 1., 1., 2., 2., 1., 2., 2., 2., 1.,\n",
              "       2., 2., 1., 2., 1., 1., 2., 2., 2., 2., 1., 1., 2., 2., 2., 1., 2.,\n",
              "       1., 2., 2., 2., 1., 2., 2., 2., 1., 2., 2., 2., 2., 2., 2., 2., 2.,\n",
              "       2., 1., 2., 2., 1., 2., 2., 2., 1., 1., 2., 2., 2., 2., 2., 2., 1.,\n",
              "       2., 2., 1., 2., 1., 1., 1., 2., 1., 2., 2., 2., 2., 2., 2., 2., 2.,\n",
              "       2., 2., 1., 2., 2., 2., 2., 1., 2., 1., 2., 2., 2., 2., 2., 2., 2.,\n",
              "       2., 2., 1., 2., 2., 1., 2., 1., 2., 2., 1., 2., 1., 2., 2., 2., 2.,\n",
              "       2., 2., 2., 2., 2., 2., 1., 2., 1., 2., 2., 1., 2., 2., 2., 2., 1.,\n",
              "       2., 1., 2., 1., 2., 1., 2., 2., 2., 2., 2., 2., 2., 1., 2., 2., 1.,\n",
              "       2., 2., 1., 1., 2., 2., 1., 1., 2., 1., 2., 2., 2., 2., 2., 1., 1.,\n",
              "       2., 1., 2., 2., 2., 2., 2., 1., 2., 2., 1., 2., 2., 2., 2., 2., 2.,\n",
              "       1., 1., 2., 2., 2., 2., 2., 1., 1., 2., 2., 2., 1., 1., 2., 2., 2.,\n",
              "       2., 1., 2., 2., 2., 1., 1., 2., 2., 1., 1., 2., 2., 2., 1., 2., 2.,\n",
              "       1., 1., 1., 2., 2., 1., 2., 2., 2., 1., 2., 2., 2., 2., 2., 1., 1.,\n",
              "       2., 2., 1., 2., 2., 2., 2., 1., 1., 1., 2., 2., 1., 2., 2., 2., 2.,\n",
              "       1., 2., 2., 2., 2., 2., 1., 2., 2., 2., 1., 1., 2., 2., 2., 2., 2.,\n",
              "       2., 2., 2., 2., 1., 1., 2., 1., 2., 1., 2., 2., 2., 1., 2., 2., 2.,\n",
              "       1., 1., 1., 2., 2., 2., 2., 2., 2., 1., 1., 2., 1., 2., 2., 1., 1.,\n",
              "       2., 2., 1., 2., 2., 2., 2., 2., 2., 1., 2., 1., 2., 1., 2., 1., 2.,\n",
              "       2., 1., 1., 2., 2., 1., 1., 2., 1., 1., 1., 2., 2., 1., 1., 2., 2.,\n",
              "       2., 2., 1., 1., 2., 2., 2., 2., 2., 2., 2., 1., 2., 2., 2., 2., 2.,\n",
              "       1., 2., 2., 1., 2., 1., 1., 1., 2., 2., 2., 1., 2., 1., 1., 2., 2.,\n",
              "       1., 1., 2., 2., 1., 2., 1., 2., 2., 1., 2., 1., 1., 2., 2., 1., 2.,\n",
              "       2., 2., 2., 2., 1., 2., 2., 1., 2., 2., 1., 2., 1., 1., 2., 1., 1.,\n",
              "       2., 1., 2., 2., 2., 1., 2., 1., 2., 2., 2., 1., 2., 2., 1., 2., 1.,\n",
              "       1., 1., 1., 2., 2., 2., 1., 1., 1., 2., 1., 2., 2., 1., 2., 2., 2.,\n",
              "       1., 2., 2., 2., 2., 1., 2., 2., 1., 1., 2., 2., 1., 1., 2., 2., 2.,\n",
              "       2., 1., 1., 2., 2., 2., 2., 2., 2., 1., 1., 2., 1., 1., 2., 2., 2.,\n",
              "       2., 2., 1., 1., 2., 1., 2., 2., 1., 1., 2., 2., 1., 2., 1., 2., 1.,\n",
              "       2., 2., 2., 2., 1., 2., 2., 2., 2., 2., 2., 2., 2., 2., 2., 2., 2.,\n",
              "       2., 2., 2., 1., 2., 2., 1., 1., 2., 2., 1., 1., 1., 2., 2., 1., 1.,\n",
              "       2., 2., 2., 2., 2., 2., 1., 2., 2., 2., 2., 2., 2., 2., 2., 1., 2.,\n",
              "       1., 1., 1., 1., 1., 1., 1., 1., 2., 1., 2., 2., 1., 2., 1., 2., 2.,\n",
              "       1., 2., 2., 2., 1., 2., 1., 2., 2., 2., 2., 2., 2., 2., 1., 2., 2.,\n",
              "       2., 1., 2., 2., 1., 1., 1., 1., 1., 1., 2., 2., 1., 2., 2., 2., 2.,\n",
              "       2., 1., 2., 2., 1., 2., 2., 2., 2., 2., 2., 1., 2., 1., 1., 2., 2.,\n",
              "       2., 2., 2., 2., 2., 2., 1., 1., 2., 1., 2., 1., 2., 2., 2., 2., 1.,\n",
              "       1., 2., 2., 2., 1., 1., 2., 2., 2., 1., 2., 2., 2., 2., 2., 2., 2.,\n",
              "       1., 2., 2., 2., 2., 1., 2., 2., 1., 1., 2., 1., 2., 2., 1., 2., 1.,\n",
              "       1., 2., 2., 2., 1., 1., 2., 1., 1., 1., 2., 2., 2., 1., 1., 2., 2.,\n",
              "       2., 1., 1., 2., 2., 2., 1., 2., 2., 2., 2., 1., 1., 1., 1., 1., 1.,\n",
              "       1., 1., 2., 2., 2., 2., 1., 2., 2., 2., 2., 2., 2., 2., 1., 2., 2.,\n",
              "       2., 2., 1., 2., 1., 2., 1., 2., 2., 1., 1., 1., 2., 1., 2., 1., 1.,\n",
              "       2., 2., 2., 2., 2., 1., 2., 2., 2., 1., 2., 2., 2., 2., 2., 2., 2.,\n",
              "       2., 2., 2., 1., 2., 1., 1., 2., 1., 2., 2., 2., 2., 2., 2., 1., 2.,\n",
              "       2., 1., 1., 2., 2., 2., 2., 2., 2., 2., 2., 2., 1., 2., 1., 2., 2.,\n",
              "       2., 2., 2., 1., 1., 1., 1., 1., 1., 2., 2., 2., 2., 2., 2., 1., 2.,\n",
              "       2., 2., 1., 1., 2., 2., 2., 2., 2., 1., 1., 2., 1., 1., 2., 2., 1.,\n",
              "       1., 2., 2., 2., 2., 1., 2., 2., 2., 1., 2., 1., 2., 1., 1., 1., 2.,\n",
              "       2., 1., 2., 1., 2., 2., 2., 2., 1., 2., 2., 1., 2., 2., 2., 1., 1.,\n",
              "       1., 2., 2., 2., 2., 1., 1., 1., 2., 2., 2., 1., 1., 2., 2., 2., 2.,\n",
              "       2., 1., 1., 2., 2., 1., 2., 2., 2., 2., 2., 2., 2., 2.])"
            ]
          },
          "metadata": {
            "tags": []
          },
          "execution_count": 64
        }
      ]
    },
    {
      "cell_type": "code",
      "metadata": {
        "id": "o9SPOlwFn0mF",
        "colab_type": "code",
        "colab": {}
      },
      "source": [
        ""
      ],
      "execution_count": 0,
      "outputs": []
    }
  ]
}