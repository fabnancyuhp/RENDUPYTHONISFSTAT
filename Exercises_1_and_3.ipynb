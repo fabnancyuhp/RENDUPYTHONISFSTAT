{
  "nbformat": 4,
  "nbformat_minor": 0,
  "metadata": {
    "kernelspec": {
      "display_name": "Python 3",
      "language": "python",
      "name": "python3"
    },
    "language_info": {
      "codemirror_mode": {
        "name": "ipython",
        "version": 3
      },
      "file_extension": ".py",
      "mimetype": "text/x-python",
      "name": "python",
      "nbconvert_exporter": "python",
      "pygments_lexer": "ipython3",
      "version": "3.7.4"
    },
    "colab": {
      "name": "Exercises 1 and 3.ipynb",
      "provenance": [],
      "include_colab_link": true
    }
  },
  "cells": [
    {
      "cell_type": "markdown",
      "metadata": {
        "id": "view-in-github",
        "colab_type": "text"
      },
      "source": [
        "<a href=\"https://colab.research.google.com/github/fabnancyuhp/RENDUPYTHONISFSTAT/blob/master/Exercises_1_and_3.ipynb\" target=\"_parent\"><img src=\"https://colab.research.google.com/assets/colab-badge.svg\" alt=\"Open In Colab\"/></a>"
      ]
    },
    {
      "cell_type": "code",
      "metadata": {
        "scrolled": true,
        "id": "y2YIhw0FUd3H",
        "colab_type": "code",
        "colab": {}
      },
      "source": [
        "import pandas as pd\n",
        "var_names = ['WIFE_AGE','WIFE_EDU','HUSB_EDU','NUM_OF_CHILD','WIFE_RELI','WIFE_WORK','HUSB_OCUP','STA_OF_LIV','MEDIA_EXP','CONTRACEPTIVE']\n",
        "data = pd.read_csv(\"C:/Users/pasto/Downloads/contrap.csv\", sep = \",\", header = None, names = var_names)\n",
        "\n",
        "#we separate independent variables from the one we want to predict\n",
        "features = (o for o in var_names if o != 'CONTRACEPTIVE')\n",
        "X = data[features]\n",
        "Y = data['CONTRACEPTIVE']"
      ],
      "execution_count": 0,
      "outputs": []
    },
    {
      "cell_type": "code",
      "metadata": {
        "id": "KatbsNtEUd3s",
        "colab_type": "code",
        "colab": {}
      },
      "source": [
        "#in order to use logistic regression we have to binarize the dependent variable\n",
        "import numpy as np\n",
        "Y_red = np.where(Y==1,0,1)"
      ],
      "execution_count": 0,
      "outputs": []
    },
    {
      "cell_type": "code",
      "metadata": {
        "id": "G7PsRiYYUd4F",
        "colab_type": "code",
        "colab": {}
      },
      "source": [
        "#we process a little bit our covariates\n",
        "import pandas as pd\n",
        "a_dummies = ['WIFE_EDU','HUSB_EDU','HUSB_OCUP','STA_OF_LIV']\n",
        "for var in a_dummies:\n",
        "    X.loc[:,var] = X.loc[:,var].copy().astype(str)\n",
        "X_dum = pd.get_dummies(X[a_dummies])\n",
        "\n",
        "A_garder = [var for var in list(X) if var not in a_dummies]\n",
        "X = X[A_garder]\n",
        "X = pd.concat([X,X_dum],axis=1)"
      ],
      "execution_count": 0,
      "outputs": []
    },
    {
      "cell_type": "code",
      "metadata": {
        "id": "-bTCyKdZUd4Z",
        "colab_type": "code",
        "colab": {}
      },
      "source": [
        "#we separate the dataset in train and test\n",
        "from sklearn.model_selection import train_test_split\n",
        "X_train,X_test,Y_train,Y_test = train_test_split(X,Y_red,random_state=1998,test_size=0.3)\n"
      ],
      "execution_count": 0,
      "outputs": []
    },
    {
      "cell_type": "code",
      "metadata": {
        "id": "y4v9M5iJUd4r",
        "colab_type": "code",
        "colab": {}
      },
      "source": [
        "#we call the logistic model with specified parameters\n",
        "from sklearn.linear_model import LogisticRegression\n",
        "logit1 = LogisticRegression(penalty = 'l2', random_state = 1998, solver='lbfgs', C=1/2, max_iter=1000)"
      ],
      "execution_count": 0,
      "outputs": []
    },
    {
      "cell_type": "code",
      "metadata": {
        "id": "TzAdrslSUd4_",
        "colab_type": "code",
        "colab": {}
      },
      "source": [
        "#we train the model with 70% of dataset\n",
        "logit1.fit(X_train, Y_train)\n",
        "Y_pred = logit1.predict(X_test)"
      ],
      "execution_count": 0,
      "outputs": []
    },
    {
      "cell_type": "code",
      "metadata": {
        "id": "9irixpXnUd5O",
        "colab_type": "code",
        "colab": {},
        "outputId": "5af30553-ff3d-41a9-b6dc-ca017be83a8e"
      },
      "source": [
        "#we calculate the performance of our omodel through accuracy\n",
        "from sklearn.metrics import accuracy_score\n",
        "accuracy_score(Y_test, Y_pred)"
      ],
      "execution_count": 0,
      "outputs": [
        {
          "output_type": "execute_result",
          "data": {
            "text/plain": [
              "0.667420814479638"
            ]
          },
          "metadata": {
            "tags": []
          },
          "execution_count": 178
        }
      ]
    },
    {
      "cell_type": "code",
      "metadata": {
        "id": "sCiyU1LKUd5j",
        "colab_type": "code",
        "colab": {},
        "outputId": "7ba33f26-2f73-4684-ee7b-833abbb7b18e"
      },
      "source": [
        "#we compute the confusion matrix\n",
        "from sklearn.metrics import confusion_matrix\n",
        "confusion_matrix(Y_test, Y_pred)"
      ],
      "execution_count": 0,
      "outputs": [
        {
          "output_type": "execute_result",
          "data": {
            "text/plain": [
              "array([[ 91, 100],\n",
              "       [ 47, 204]], dtype=int64)"
            ]
          },
          "metadata": {
            "tags": []
          },
          "execution_count": 179
        }
      ]
    },
    {
      "cell_type": "code",
      "metadata": {
        "id": "qae6oqA8Ud50",
        "colab_type": "code",
        "colab": {}
      },
      "source": [
        "#we predict the probabilities\n",
        "Y_pred_prob = logit1.predict_proba(X_test)"
      ],
      "execution_count": 0,
      "outputs": []
    },
    {
      "cell_type": "code",
      "metadata": {
        "id": "jsmBnZCSUd6D",
        "colab_type": "code",
        "colab": {},
        "outputId": "20367e92-5c3b-4f3b-e052-422d7d30d23c"
      },
      "source": [
        "#we calculate the area under the curve\n",
        "from sklearn.metrics import roc_auc_score, auc\n",
        "roc_auc_score(Y_test,Y_pred_prob[:,1])"
      ],
      "execution_count": 0,
      "outputs": [
        {
          "output_type": "execute_result",
          "data": {
            "text/plain": [
              "0.7145241025427088"
            ]
          },
          "metadata": {
            "tags": []
          },
          "execution_count": 181
        }
      ]
    },
    {
      "cell_type": "code",
      "metadata": {
        "id": "dvFj4-ceUd6W",
        "colab_type": "code",
        "colab": {}
      },
      "source": [
        "#we calculate the values of FPR and TPR\n",
        "from sklearn.metrics import roc_curve\n",
        "fpr, tpr, threshold = roc_curve(Y_test, Y_pred_prob[:,1])"
      ],
      "execution_count": 0,
      "outputs": []
    },
    {
      "cell_type": "code",
      "metadata": {
        "id": "z0leT3_EUd6w",
        "colab_type": "code",
        "colab": {},
        "outputId": "6532b6c2-a14c-4d27-b7b9-a0c114d3fd10"
      },
      "source": [
        "#we in the end plot the ROC curve\n",
        "import matplotlib.pyplot as plt\n",
        "plt.plot(fpr, tpr, color = \"green\", label = \"SCORE AUC:\"+str(np.round(auc(fpr, tpr),4)))\n",
        "plt.plot([0,1], [0,1], color = \"red\")\n",
        "plt.legend(loc=4)\n",
        "plt.ylabel(\"tpr\",fontsize='large')\n",
        "plt.xlabel(\"fpr\",fontsize='large')\n",
        "plt.fill_between(fpr, fpr, tpr, color = \"orange\")\n",
        "plt.show()"
      ],
      "execution_count": 0,
      "outputs": [
        {
          "output_type": "display_data",
          "data": {
            "image/png": "[encoded data removed]",
            "text/plain": [
              "<Figure size 432x288 with 1 Axes>"
            ]
          },
          "metadata": {
            "tags": [],
            "needs_background": "light"
          }
        }
      ]
    },
    {
      "cell_type": "code",
      "metadata": {
        "id": "kGEb6k2PUd7B",
        "colab_type": "code",
        "colab": {}
      },
      "source": [
        "#EXERCISE 3\n",
        "#we now train a random forest model on the same data\n",
        "\n",
        "from sklearn.ensemble import RandomForestClassifier\n",
        "randfo = RandomForestClassifier(random_state=1998, criterion = 'gini', min_samples_split=3, max_depth = 9, \n",
        "                                min_samples_leaf=2, max_features=0.7)\n",
        "\n",
        "\n",
        "#3.2\n",
        "# The 'max_features' parameter express the maximum percentage of features the algorithm is allowed \n",
        "#to use for each individual tree."
      ],
      "execution_count": 0,
      "outputs": []
    },
    {
      "cell_type": "code",
      "metadata": {
        "id": "RfUEsiJUUd7S",
        "colab_type": "code",
        "colab": {}
      },
      "source": [
        "#we train de model and predicted values\n",
        "randfo.fit(X_train, Y_train)\n",
        "Y_pred_rf = randfo.predict(X_test)"
      ],
      "execution_count": 0,
      "outputs": []
    },
    {
      "cell_type": "code",
      "metadata": {
        "id": "195TbtBzUd7g",
        "colab_type": "code",
        "colab": {},
        "outputId": "f52870f2-389b-48cb-ac4c-b3da0cbb9efb"
      },
      "source": [
        "#we calculate the accuracy\n",
        "from sklearn.metrics import accuracy_score\n",
        "acc = accuracy_score(Y_test, Y_pred_rf)\n",
        "print(\"Accuracy is \"+str(round(acc,4)))"
      ],
      "execution_count": 0,
      "outputs": [
        {
          "output_type": "stream",
          "text": [
            "L'accuracy est 0.7217\n"
          ],
          "name": "stdout"
        }
      ]
    },
    {
      "cell_type": "code",
      "metadata": {
        "id": "tTeJg1GvUd7r",
        "colab_type": "code",
        "colab": {},
        "outputId": "1fdc4e7c-f7b8-4d0b-c964-440d06d7bc1a"
      },
      "source": [
        "#we predict the probabilities\n",
        "Y_pred_prob_rf = randfo.predict_proba(X_test)\n",
        "\n",
        "#we calculate also the ROC curve and the corresponding AUC\n",
        "from sklearn.metrics import roc_curve, auc\n",
        "fpr, tpr, threshold = roc_curve(Y_test, Y_pred_prob_rf[:,1])\n",
        "auc = auc(fpr,tpr)\n",
        "print(\"The AUC score is \"+str(round(auc,4)))"
      ],
      "execution_count": 0,
      "outputs": [
        {
          "output_type": "stream",
          "text": [
            "Le score AUC est 0.7886\n"
          ],
          "name": "stdout"
        }
      ]
    }
  ]
}