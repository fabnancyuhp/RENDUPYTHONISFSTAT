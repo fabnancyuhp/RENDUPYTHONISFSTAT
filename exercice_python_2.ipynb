{
  "nbformat": 4,
  "nbformat_minor": 0,
  "metadata": {
    "kernelspec": {
      "display_name": "Python 3",
      "language": "python",
      "name": "python3"
    },
    "language_info": {
      "codemirror_mode": {
        "name": "ipython",
        "version": 3
      },
      "file_extension": ".py",
      "mimetype": "text/x-python",
      "name": "python",
      "nbconvert_exporter": "python",
      "pygments_lexer": "ipython3",
      "version": "3.7.4"
    },
    "colab": {
      "name": "exercice python 2.ipynb",
      "provenance": [],
      "include_colab_link": true
    }
  },
  "cells": [
    {
      "cell_type": "markdown",
      "metadata": {
        "id": "view-in-github",
        "colab_type": "text"
      },
      "source": [
        "<a href=\"https://colab.research.google.com/github/fabnancyuhp/RENDUPYTHONISFSTAT/blob/master/exercice_python_2.ipynb\" target=\"_parent\"><img src=\"https://colab.research.google.com/assets/colab-badge.svg\" alt=\"Open In Colab\"/></a>"
      ]
    },
    {
      "cell_type": "code",
      "metadata": {
        "id": "jkzW6gRZ4coQ",
        "colab_type": "code",
        "colab": {}
      },
      "source": [
        "import pandas as pd\n",
        "import numpy as np\n",
        "import matplotlib.pyplot as plt\n",
        "from sklearn.model_selection import train_test_split\n",
        "from sklearn.linear_model import LogisticRegression\n",
        "from sklearn.metrics import accuracy_score, confusion_matrix, roc_auc_score, roc_curve, auc\n",
        "\n",
        "from sklearn.tree import DecisionTreeClassifier"
      ],
      "execution_count": 0,
      "outputs": []
    },
    {
      "cell_type": "markdown",
      "metadata": {
        "id": "ManK9-ZG4coa",
        "colab_type": "text"
      },
      "source": [
        "**Exercice 1**"
      ]
    },
    {
      "cell_type": "code",
      "metadata": {
        "id": "ZxcjDUix4coc",
        "colab_type": "code",
        "colab": {},
        "outputId": "ae8e0b07-fff9-4bdd-f4ad-eccb56d914e9"
      },
      "source": [
        "NOM_VAR = ['WIFE_AGE','WIFE_EDU','HUSB_EDU','NUM_OF_CHILD','WIFE_RELI','WIFE_WORK','HUSB_OCUP','STA_OF_LIV','MEDIA_EXP','CONTRACEPTIVE']\n",
        "\n",
        "donnee = pd.read_csv(\"/Users/nicolasvieille/cmc.data.txt\",sep=',',header=None,names=NOM_VAR)\n",
        "\n",
        "donnee['CONTRACEPTIVE'].value_counts()\n",
        "\n"
      ],
      "execution_count": 0,
      "outputs": [
        {
          "output_type": "execute_result",
          "data": {
            "text/plain": [
              "1    629\n",
              "3    511\n",
              "2    333\n",
              "Name: CONTRACEPTIVE, dtype: int64"
            ]
          },
          "metadata": {
            "tags": []
          },
          "execution_count": 2
        }
      ]
    },
    {
      "cell_type": "code",
      "metadata": {
        "id": "228p0cDM4cok",
        "colab_type": "code",
        "colab": {},
        "outputId": "0161ab5b-11e5-47dc-a0ab-8096ac994426"
      },
      "source": [
        "print(donnee)"
      ],
      "execution_count": 0,
      "outputs": [
        {
          "output_type": "stream",
          "text": [
            "      WIFE_AGE  WIFE_EDU  HUSB_EDU  NUM_OF_CHILD  WIFE_RELI  WIFE_WORK  \\\n",
            "0           24         2         3             3          1          1   \n",
            "1           45         1         3            10          1          1   \n",
            "2           43         2         3             7          1          1   \n",
            "3           42         3         2             9          1          1   \n",
            "4           36         3         3             8          1          1   \n",
            "...        ...       ...       ...           ...        ...        ...   \n",
            "1468        33         4         4             2          1          0   \n",
            "1469        33         4         4             3          1          1   \n",
            "1470        39         3         3             8          1          0   \n",
            "1471        33         3         3             4          1          0   \n",
            "1472        17         3         3             1          1          1   \n",
            "\n",
            "      HUSB_OCUP  STA_OF_LIV  MEDIA_EXP  CONTRACEPTIVE  \n",
            "0             2           3          0              1  \n",
            "1             3           4          0              1  \n",
            "2             3           4          0              1  \n",
            "3             3           3          0              1  \n",
            "4             3           2          0              1  \n",
            "...         ...         ...        ...            ...  \n",
            "1468          2           4          0              3  \n",
            "1469          1           4          0              3  \n",
            "1470          1           4          0              3  \n",
            "1471          2           2          0              3  \n",
            "1472          2           4          0              3  \n",
            "\n",
            "[1473 rows x 10 columns]\n"
          ],
          "name": "stdout"
        }
      ]
    },
    {
      "cell_type": "code",
      "metadata": {
        "id": "B2K9b9J54coq",
        "colab_type": "code",
        "colab": {},
        "outputId": "a1d1bf3c-b436-4ed8-b51f-3fbce30fe497"
      },
      "source": [
        "donnee.columns"
      ],
      "execution_count": 0,
      "outputs": [
        {
          "output_type": "execute_result",
          "data": {
            "text/plain": [
              "Index(['WIFE_AGE', 'WIFE_EDU', 'HUSB_EDU', 'NUM_OF_CHILD', 'WIFE_RELI',\n",
              "       'WIFE_WORK', 'HUSB_OCUP', 'STA_OF_LIV', 'MEDIA_EXP', 'CONTRACEPTIVE'],\n",
              "      dtype='object')"
            ]
          },
          "metadata": {
            "tags": []
          },
          "execution_count": 4
        }
      ]
    },
    {
      "cell_type": "code",
      "metadata": {
        "id": "uj5fXIjD4cov",
        "colab_type": "code",
        "colab": {}
      },
      "source": [
        "features = [o for o in donnee.columns if o != 'CONTRACEPTIVE']\n",
        "X=donnee[features]\n",
        "Y=donnee['CONTRACEPTIVE']\n",
        "\n",
        "Y_red = np.where(Y==1,0,1)\n",
        "\n"
      ],
      "execution_count": 0,
      "outputs": []
    },
    {
      "cell_type": "code",
      "metadata": {
        "id": "7Ywc7i914co0",
        "colab_type": "code",
        "colab": {}
      },
      "source": [
        "a_dummies = ['WIFE_EDU','HUSB_EDU','HUSB_OCUP','STA_OF_LIV']\n",
        "\n",
        "#for var in a_dummies:\n",
        "   # X.loc[:,var] = X.loc[:,var].copy().astype(str)\n",
        "    \n",
        "X_dum = pd.get_dummies(X[a_dummies])\n",
        "    "
      ],
      "execution_count": 0,
      "outputs": []
    },
    {
      "cell_type": "code",
      "metadata": {
        "id": "AZdg8tuh4co7",
        "colab_type": "code",
        "colab": {}
      },
      "source": [
        "A_garder = [var for var in list(X) if var not in a_dummies]\n",
        "X = X[A_garder]\n",
        "X = pd.concat([X,X_dum], axis=1)"
      ],
      "execution_count": 0,
      "outputs": []
    },
    {
      "cell_type": "code",
      "metadata": {
        "id": "Zo0wMI5h4cpB",
        "colab_type": "code",
        "colab": {}
      },
      "source": [
        "#Question 1\n",
        "\n",
        "X_train,X_test, Y_train, Y_test = train_test_split(X,Y_red, random_state = 1998, test_size = 0.3)"
      ],
      "execution_count": 0,
      "outputs": []
    },
    {
      "cell_type": "code",
      "metadata": {
        "id": "I2V_CNzj4cpJ",
        "colab_type": "code",
        "colab": {}
      },
      "source": [
        "#Question 2 logit1\n",
        "\n",
        "clf = LogisticRegression(penalty='l2', random_state=1998,solver='lbfgs', C=1/2, max_iter = 1000)\n",
        "clf?"
      ],
      "execution_count": 0,
      "outputs": []
    },
    {
      "cell_type": "code",
      "metadata": {
        "id": "GLQte5Iz4cpS",
        "colab_type": "code",
        "colab": {},
        "outputId": "cddcc0ce-36bd-4412-83a8-285f80290b5b"
      },
      "source": [
        "#Question 3 entraîner le modèle\n",
        "\n",
        "clf.fit(X_train, Y_train)"
      ],
      "execution_count": 0,
      "outputs": [
        {
          "output_type": "execute_result",
          "data": {
            "text/plain": [
              "LogisticRegression(C=0.5, class_weight=None, dual=False, fit_intercept=True,\n",
              "                   intercept_scaling=1, l1_ratio=None, max_iter=1000,\n",
              "                   multi_class='warn', n_jobs=None, penalty='l2',\n",
              "                   random_state=1998, solver='lbfgs', tol=0.0001, verbose=0,\n",
              "                   warm_start=False)"
            ]
          },
          "metadata": {
            "tags": []
          },
          "execution_count": 10
        }
      ]
    },
    {
      "cell_type": "code",
      "metadata": {
        "id": "FsxffwZ04cpY",
        "colab_type": "code",
        "colab": {}
      },
      "source": [
        "#Question 4\n",
        "Y_pred= clf.predict(X_test)"
      ],
      "execution_count": 0,
      "outputs": []
    },
    {
      "cell_type": "code",
      "metadata": {
        "id": "4N3cJIx94cpe",
        "colab_type": "code",
        "colab": {},
        "outputId": "c8e1480a-f45d-46ee-8e41-089421baa711"
      },
      "source": [
        "#Question 5\n",
        "\n",
        "accuracy_score(Y_test,Y_pred)"
      ],
      "execution_count": 0,
      "outputs": [
        {
          "output_type": "execute_result",
          "data": {
            "text/plain": [
              "0.6628959276018099"
            ]
          },
          "metadata": {
            "tags": []
          },
          "execution_count": 12
        }
      ]
    },
    {
      "cell_type": "code",
      "metadata": {
        "id": "hGfmWipe4cpj",
        "colab_type": "code",
        "colab": {},
        "outputId": "4aef0a85-c1c1-4d0c-ce91-6a2272669e6c"
      },
      "source": [
        "#Question 6\n",
        "\n",
        "confusion_matrix(Y_test,Y_pred)"
      ],
      "execution_count": 0,
      "outputs": [
        {
          "output_type": "execute_result",
          "data": {
            "text/plain": [
              "array([[ 85, 106],\n",
              "       [ 43, 208]])"
            ]
          },
          "metadata": {
            "tags": []
          },
          "execution_count": 13
        }
      ]
    },
    {
      "cell_type": "code",
      "metadata": {
        "id": "Owbg8Q3C4cpn",
        "colab_type": "code",
        "colab": {}
      },
      "source": [
        "#Qyestion 7\n",
        "\n",
        "Y_pred_prob = clf.predict_proba(X_test)\n"
      ],
      "execution_count": 0,
      "outputs": []
    },
    {
      "cell_type": "code",
      "metadata": {
        "id": "aMCSse144cpt",
        "colab_type": "code",
        "colab": {},
        "outputId": "695d1d59-02ca-4c11-bd10-cd31232a37bb"
      },
      "source": [
        "#Question 8\n",
        "\n",
        "Y_pred_prob = clf.predict_proba(X_test)[:,1]\n",
        "\n",
        "print(Y_test.shape)\n",
        "print(Y_pred_prob .shape)\n",
        "\n",
        "roc_auc_score(Y_test, Y_pred_prob)"
      ],
      "execution_count": 0,
      "outputs": [
        {
          "output_type": "stream",
          "text": [
            "(442,)\n",
            "(442,)\n"
          ],
          "name": "stdout"
        },
        {
          "output_type": "execute_result",
          "data": {
            "text/plain": [
              "0.7180075509480404"
            ]
          },
          "metadata": {
            "tags": []
          },
          "execution_count": 15
        }
      ]
    },
    {
      "cell_type": "code",
      "metadata": {
        "id": "YqWfK9Al4cp0",
        "colab_type": "code",
        "colab": {},
        "outputId": "56be097a-311b-4940-ef2b-6c5b4788ba63"
      },
      "source": [
        "#Question 9\n",
        "\n",
        "fpr, tpr, threshold = roc_curve(Y_test, clf.predict_proba(X_test)[:,1])\n",
        "auc(fpr, tpr)"
      ],
      "execution_count": 0,
      "outputs": [
        {
          "output_type": "execute_result",
          "data": {
            "text/plain": [
              "0.7180075509480404"
            ]
          },
          "metadata": {
            "tags": []
          },
          "execution_count": 16
        }
      ]
    },
    {
      "cell_type": "code",
      "metadata": {
        "id": "t1Sdz3IM4cp4",
        "colab_type": "code",
        "colab": {},
        "outputId": "c80e8985-c1d5-4b8b-c4b5-f483f56400ad"
      },
      "source": [
        "plt.plot(fpr,tpr,label = \"COURBE ROC\")\n",
        "plt.plot([0,1],[0,1])\n",
        "plt.fill_between(fpr,fpr,tpr,color = 'grey')\n",
        "plt.legend()\n",
        "plt.show()"
      ],
      "execution_count": 0,
      "outputs": [
        {
          "output_type": "display_data",
          "data": {
            "image/png": "[encoded data removed]",
            "text/plain": [
              "<Figure size 432x288 with 1 Axes>"
            ]
          },
          "metadata": {
            "tags": [],
            "needs_background": "light"
          }
        }
      ]
    },
    {
      "cell_type": "markdown",
      "metadata": {
        "id": "5nImsUrb4cp9",
        "colab_type": "text"
      },
      "source": [
        "**Exercice 2**"
      ]
    },
    {
      "cell_type": "code",
      "metadata": {
        "id": "DoezzNHm4cp-",
        "colab_type": "code",
        "colab": {}
      },
      "source": [
        "features = [o for o in donnee.columns if o != 'CONTRACEPTIVE']\n",
        "X=donnee[features]\n",
        "Y=donnee['CONTRACEPTIVE']\n",
        "\n",
        "a_dummies = ['WIFE_EDU','HUSB_EDU','HUSB_OCUP','STA_OF_LIV']\n",
        "\n",
        "#for var in a_dummies:\n",
        " #   X.loc[:,var] = X.loc[:,var].copy().astype(str)\n",
        "    \n",
        "X_dum = pd.get_dummies(X[a_dummies])\n",
        "    \n",
        "A_garder = [var for var in list(X) if var not in a_dummies]\n",
        "X = X[A_garder]\n",
        "X = pd.concat([X,X_dum], axis=1)    "
      ],
      "execution_count": 0,
      "outputs": []
    },
    {
      "cell_type": "code",
      "metadata": {
        "id": "T5icB5534cqD",
        "colab_type": "code",
        "colab": {}
      },
      "source": [
        "#Question 1\n",
        "\n",
        "#Y_red = np.where(Y==1,0,1) #essentiel\n",
        "\n",
        "X_train,X_test, Y_train, Y_test = train_test_split(X,Y_red, random_state = 1998, test_size = 0.3)"
      ],
      "execution_count": 0,
      "outputs": []
    },
    {
      "cell_type": "code",
      "metadata": {
        "id": "a2sC_bRA4cqH",
        "colab_type": "code",
        "colab": {}
      },
      "source": [
        "#Question 2\n",
        "\n",
        "arbre = DecisionTreeClassifier(criterion='gini',max_depth=3,min_samples_split=2)"
      ],
      "execution_count": 0,
      "outputs": []
    },
    {
      "cell_type": "code",
      "metadata": {
        "id": "LXmU_GRe4cqN",
        "colab_type": "code",
        "colab": {},
        "outputId": "19cbfa81-7ca1-428f-a6ae-3bf14b9657fd"
      },
      "source": [
        "#Question 3\n",
        "\n",
        "arbre.fit(X_train,Y_train)"
      ],
      "execution_count": 0,
      "outputs": [
        {
          "output_type": "execute_result",
          "data": {
            "text/plain": [
              "DecisionTreeClassifier(class_weight=None, criterion='gini', max_depth=3,\n",
              "                       max_features=None, max_leaf_nodes=None,\n",
              "                       min_impurity_decrease=0.0, min_impurity_split=None,\n",
              "                       min_samples_leaf=1, min_samples_split=2,\n",
              "                       min_weight_fraction_leaf=0.0, presort=False,\n",
              "                       random_state=None, splitter='best')"
            ]
          },
          "metadata": {
            "tags": []
          },
          "execution_count": 21
        }
      ]
    },
    {
      "cell_type": "code",
      "metadata": {
        "id": "yykA7x5O4cqT",
        "colab_type": "code",
        "colab": {}
      },
      "source": [
        "#Question 4\n",
        "\n",
        "Y_pred = arbre.predict(X_test)"
      ],
      "execution_count": 0,
      "outputs": []
    },
    {
      "cell_type": "code",
      "metadata": {
        "id": "HXieQlia4cqY",
        "colab_type": "code",
        "colab": {},
        "outputId": "7375d6a5-1dfc-42bb-dda2-a98bda833722"
      },
      "source": [
        "#Question 5\n",
        "\n",
        "accuracy_score(Y_test,Y_pred)\n"
      ],
      "execution_count": 0,
      "outputs": [
        {
          "output_type": "execute_result",
          "data": {
            "text/plain": [
              "0.7081447963800905"
            ]
          },
          "metadata": {
            "tags": []
          },
          "execution_count": 23
        }
      ]
    },
    {
      "cell_type": "code",
      "metadata": {
        "id": "Z3VH4exq4cqc",
        "colab_type": "code",
        "colab": {}
      },
      "source": [
        "#Question 6\n",
        "\n",
        "arbrebis = DecisionTreeClassifier(random_state = 1998, criterion='gini',max_depth=9,min_samples_split=4,min_samples_leaf= 3)"
      ],
      "execution_count": 0,
      "outputs": []
    },
    {
      "cell_type": "code",
      "metadata": {
        "id": "gygy_Es24cqh",
        "colab_type": "code",
        "colab": {},
        "outputId": "553790db-ec6d-40be-efb7-9fa62d0501af"
      },
      "source": [
        "#Question 7\n",
        "\n",
        "arbrebis.fit(X_train,Y_train)\n",
        "Y_pred = arbrebis.predict(X_test)\n",
        "\n",
        "#np.unique(Y_pred)"
      ],
      "execution_count": 0,
      "outputs": [
        {
          "output_type": "execute_result",
          "data": {
            "text/plain": [
              "array([0, 1])"
            ]
          },
          "metadata": {
            "tags": []
          },
          "execution_count": 25
        }
      ]
    },
    {
      "cell_type": "code",
      "metadata": {
        "id": "sQBzZody4cqp",
        "colab_type": "code",
        "colab": {},
        "outputId": "0777e7f4-b489-4b35-9ae2-03bf63031a3a"
      },
      "source": [
        "#Question 8\n",
        "\n",
        "accuracy_score(Y_test,Y_pred)\n"
      ],
      "execution_count": 0,
      "outputs": [
        {
          "output_type": "execute_result",
          "data": {
            "text/plain": [
              "0.7058823529411765"
            ]
          },
          "metadata": {
            "tags": []
          },
          "execution_count": 26
        }
      ]
    },
    {
      "cell_type": "code",
      "metadata": {
        "id": "LPgzGpMW4cqu",
        "colab_type": "code",
        "colab": {},
        "outputId": "870d8b62-d94b-4eec-d650-c30ac3c56736"
      },
      "source": [
        "#Question 9 il faut dummifier\n",
        "\n",
        "roc_auc_score(Y_test,arbrebis.predict_proba(X_test)[:,1])\n"
      ],
      "execution_count": 0,
      "outputs": [
        {
          "output_type": "execute_result",
          "data": {
            "text/plain": [
              "0.7182057111866669"
            ]
          },
          "metadata": {
            "tags": []
          },
          "execution_count": 27
        }
      ]
    },
    {
      "cell_type": "code",
      "metadata": {
        "id": "CESAghdu4cqy",
        "colab_type": "code",
        "colab": {}
      },
      "source": [
        "#essentiel\n",
        "#import pandas as pd\n",
        "#a_dummies = ['WIFE_EDU','HUSB_EDU','HUSB_OCUP','STA_OF_LIV']\n",
        "#\n",
        "#for var in a_dummies:\n",
        "#    X.loc[:,var] = X.loc[:,var].copy().astype(str)\n",
        "    \n",
        "#X_dum = pd.get_dummies(X[a_dummies])\n",
        "\n",
        "\n",
        "\n",
        "#A_garder = [var for var in list(X) if var not in a_dummies]\n",
        "#X = X[A_garder]\n",
        "#X = pd.concat([X,X_dum], axis=1)\n",
        "    "
      ],
      "execution_count": 0,
      "outputs": []
    },
    {
      "cell_type": "code",
      "metadata": {
        "id": "r7KfY-P94cq2",
        "colab_type": "code",
        "colab": {},
        "outputId": "241039f5-4d6b-4ca0-d316-f7d8087cabd7"
      },
      "source": [
        "#Question 10\n",
        "\n",
        "fpr, tpr, thresholds = roc_curve(Y_test,arbrebis.predict_proba(X_test)[:,1])\n",
        "\n",
        "print(\"le score auc est \"+ str(auc(fpr,tpr)))\n",
        "\n",
        "plt.plot(fpr,tpr,label = \"Courbe ROC ARBRE:\")\n",
        "plt.plot([0,1],[0,1],color='blue')\n",
        "plt.ylabel(\"tpr\",fontsize='large')\n",
        "plt.xlabel(\"fpr\",fontsize='large')\n",
        "plt.fill_between(fpr, fpr, tpr,color='grey')\n",
        "plt.legend(loc=2)\n",
        "plt.show"
      ],
      "execution_count": 0,
      "outputs": [
        {
          "output_type": "stream",
          "text": [
            "le score auc est 0.7182057111866669\n"
          ],
          "name": "stdout"
        },
        {
          "output_type": "execute_result",
          "data": {
            "text/plain": [
              "<function matplotlib.pyplot.show(*args, **kw)>"
            ]
          },
          "metadata": {
            "tags": []
          },
          "execution_count": 42
        },
        {
          "output_type": "display_data",
          "data": {
            "image/png": "[encoded data removed]",
            "text/plain": [
              "<Figure size 432x288 with 1 Axes>"
            ]
          },
          "metadata": {
            "tags": [],
            "needs_background": "light"
          }
        }
      ]
    },
    {
      "cell_type": "code",
      "metadata": {
        "id": "hdWk1eaL4cq7",
        "colab_type": "code",
        "colab": {}
      },
      "source": [
        "NON_FEATURES = X_train.columns\n",
        "IMPORTANCE_FEATURES = 100*np.round(arbrebis.feature_importances_,2)\n",
        "\n",
        "loca = np.arange(len(IMPORTANCE_FEATURES))\n",
        "\n",
        "index = np.argsort(IMPORTANCE_FEATURES)[::-1]"
      ],
      "execution_count": 0,
      "outputs": []
    },
    {
      "cell_type": "code",
      "metadata": {
        "id": "SJviHrs44crA",
        "colab_type": "code",
        "colab": {},
        "outputId": "3873dda0-4d95-4079-b73a-49f9519c4b2c"
      },
      "source": [
        "#Question 11\n",
        "\n",
        "NON_FEATURES = X_train.columns\n",
        "\n",
        "\n",
        "IMPORTANCE_FEATURES = 100*np.round(arbrebis.feature_importances_,2)\n",
        "loca = np.arange(len(IMPORTANCE_FEATURES))\n",
        "\n",
        "index = np.argsort(IMPORTANCE_FEATURES)[::-1]\n",
        "\n",
        "IMPORTANCE_FEATURES = IMPORTANCE_FEATURES[index][0:15]\n",
        "NON_FEATURES = NON_FEATURES[index][0:15]\n",
        "loca  = loca[0:15]\n",
        "import matplotlib.pyplot as plt\n",
        "plt.bar(loca,IMPORTANCE_FEATURES,edgecolor='red',color='red')\n",
        "plt.yticks([])\n",
        "plt.xticks(loca,NON_FEATURES,color='black',rotation=80)\n",
        "plt.box(False)\n",
        "for i in range(0,len(NON_FEATURES)):\n",
        "    plt.text(loca[i]-0.3,IMPORTANCE_FEATURES[i],str(np.round(IMPORTANCE_FEATURES[i],1)))\n",
        "plt.show"
      ],
      "execution_count": 0,
      "outputs": [
        {
          "output_type": "execute_result",
          "data": {
            "text/plain": [
              "<function matplotlib.pyplot.show(*args, **kw)>"
            ]
          },
          "metadata": {
            "tags": []
          },
          "execution_count": 31
        },
        {
          "output_type": "display_data",
          "data": {
            "image/png": "[encoded data removed]",
            "text/plain": [
              "<Figure size 432x288 with 1 Axes>"
            ]
          },
          "metadata": {
            "tags": [],
            "needs_background": "light"
          }
        }
      ]
    },
    {
      "cell_type": "markdown",
      "metadata": {
        "id": "BUyuFQLx4crF",
        "colab_type": "text"
      },
      "source": [
        "Exercice 3"
      ]
    },
    {
      "cell_type": "code",
      "metadata": {
        "id": "rM_RDmvG4crG",
        "colab_type": "code",
        "colab": {},
        "outputId": "f323ff7b-5bc8-492a-af04-81c04899ee58"
      },
      "source": [
        "#Question 1\n",
        "\n",
        "from sklearn.ensemble import RandomForestClassifier\n",
        "\n",
        "randfo = RandomForestClassifier(criterion='gini', random_state = 1998, max_depth = 9, min_samples_split=3, min_samples_leaf=2, max_features=0.7)\n",
        "\n",
        "randfo.fit(X_train, Y_train)"
      ],
      "execution_count": 0,
      "outputs": [
        {
          "output_type": "stream",
          "text": [
            "/opt/anaconda3/lib/python3.7/site-packages/sklearn/ensemble/forest.py:245: FutureWarning: The default value of n_estimators will change from 10 in version 0.20 to 100 in 0.22.\n",
            "  \"10 in version 0.20 to 100 in 0.22.\", FutureWarning)\n"
          ],
          "name": "stderr"
        },
        {
          "output_type": "execute_result",
          "data": {
            "text/plain": [
              "RandomForestClassifier(bootstrap=True, class_weight=None, criterion='gini',\n",
              "                       max_depth=9, max_features=0.7, max_leaf_nodes=None,\n",
              "                       min_impurity_decrease=0.0, min_impurity_split=None,\n",
              "                       min_samples_leaf=2, min_samples_split=3,\n",
              "                       min_weight_fraction_leaf=0.0, n_estimators=10,\n",
              "                       n_jobs=None, oob_score=False, random_state=1998,\n",
              "                       verbose=0, warm_start=False)"
            ]
          },
          "metadata": {
            "tags": []
          },
          "execution_count": 32
        }
      ]
    },
    {
      "cell_type": "code",
      "metadata": {
        "id": "77cmo3K54crL",
        "colab_type": "code",
        "colab": {}
      },
      "source": [
        "#Question 2"
      ],
      "execution_count": 0,
      "outputs": []
    },
    {
      "cell_type": "markdown",
      "metadata": {
        "id": "CZg5pZ5E4crP",
        "colab_type": "text"
      },
      "source": [
        "Max_features est la fraction du nombre de variable qui sont prises en compte pour déterminer chaque split.\n",
        "Ne pas prendre en compte toutes les variables permet de garantir que les  arbres de la forêt soient moins corrélés entre eux. "
      ]
    },
    {
      "cell_type": "code",
      "metadata": {
        "id": "QCkH5UGM4crR",
        "colab_type": "code",
        "colab": {},
        "outputId": "b2083d49-4351-4e25-9340-a77a274ff4c9"
      },
      "source": [
        "#Question 3\n",
        "\n",
        "accuracy_score(Y_test, randfo.predict(X_test))"
      ],
      "execution_count": 0,
      "outputs": [
        {
          "output_type": "execute_result",
          "data": {
            "text/plain": [
              "0.7307692307692307"
            ]
          },
          "metadata": {
            "tags": []
          },
          "execution_count": 34
        }
      ]
    },
    {
      "cell_type": "code",
      "metadata": {
        "id": "owg59Sl64crY",
        "colab_type": "code",
        "colab": {},
        "outputId": "aeab3a08-1b00-4e69-ddb2-288e82c8764a"
      },
      "source": [
        "#Question 4\n",
        "\n",
        "roc_auc_score(Y_test, randfo.predict_proba(X_test)[:,1])"
      ],
      "execution_count": 0,
      "outputs": [
        {
          "output_type": "execute_result",
          "data": {
            "text/plain": [
              "0.7709267641475981"
            ]
          },
          "metadata": {
            "tags": []
          },
          "execution_count": 35
        }
      ]
    },
    {
      "cell_type": "code",
      "metadata": {
        "id": "5lZBd8M24crd",
        "colab_type": "code",
        "colab": {}
      },
      "source": [
        ""
      ],
      "execution_count": 0,
      "outputs": []
    }
  ]
}