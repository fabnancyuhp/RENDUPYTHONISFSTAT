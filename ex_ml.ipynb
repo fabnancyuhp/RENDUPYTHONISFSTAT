{
  "nbformat": 4,
  "nbformat_minor": 0,
  "metadata": {
    "kernelspec": {
      "display_name": "Python 3",
      "language": "python",
      "name": "python3"
    },
    "language_info": {
      "codemirror_mode": {
        "name": "ipython",
        "version": 3
      },
      "file_extension": ".py",
      "mimetype": "text/x-python",
      "name": "python",
      "nbconvert_exporter": "python",
      "pygments_lexer": "ipython3",
      "version": "3.7.4"
    },
    "colab": {
      "name": "ex ml.ipynb",
      "provenance": [],
      "include_colab_link": true
    }
  },
  "cells": [
    {
      "cell_type": "markdown",
      "metadata": {
        "id": "view-in-github",
        "colab_type": "text"
      },
      "source": [
        "<a href=\"https://colab.research.google.com/github/fabnancyuhp/RENDUPYTHONISFSTAT/blob/master/ex_ml.ipynb\" target=\"_parent\"><img src=\"https://colab.research.google.com/assets/colab-badge.svg\" alt=\"Open In Colab\"/></a>"
      ]
    },
    {
      "cell_type": "code",
      "metadata": {
        "id": "VDNVTM0jpc_s",
        "colab_type": "code",
        "colab": {}
      },
      "source": [
        "import pandas as pd\n",
        "#remplacer le chemin\n",
        "NON_VAR = ['WIFE_AGE','WIFE_EDU','HUSB_EDU','NUM_OF_CHILD','WIFE_RELI','WIFE_WORK','HUSB_OCUP','STA_OF_LIV','MEDIA_EXP','CONTRACEPTIVE']\n",
        "\n",
        "donnee= pd.read_csv(\"Downloads\\cmc.data.txt\",sep=',',header=None,names=NON_VAR)\n"
      ],
      "execution_count": 0,
      "outputs": []
    },
    {
      "cell_type": "code",
      "metadata": {
        "id": "XuW6AydxpdAD",
        "colab_type": "code",
        "colab": {},
        "outputId": "b59b6467-15f3-4150-c97c-2c6e28e7f335"
      },
      "source": [
        "donnee\n"
      ],
      "execution_count": 0,
      "outputs": [
        {
          "output_type": "execute_result",
          "data": {
            "text/html": [
              "<div>\n",
              "<style scoped>\n",
              "    .dataframe tbody tr th:only-of-type {\n",
              "        vertical-align: middle;\n",
              "    }\n",
              "\n",
              "    .dataframe tbody tr th {\n",
              "        vertical-align: top;\n",
              "    }\n",
              "\n",
              "    .dataframe thead th {\n",
              "        text-align: right;\n",
              "    }\n",
              "</style>\n",
              "<table border=\"1\" class=\"dataframe\">\n",
              "  <thead>\n",
              "    <tr style=\"text-align: right;\">\n",
              "      <th></th>\n",
              "      <th>WIFE_AGE</th>\n",
              "      <th>WIFE_EDU</th>\n",
              "      <th>HUSB_EDU</th>\n",
              "      <th>NUM_OF_CHILD</th>\n",
              "      <th>WIFE_RELI</th>\n",
              "      <th>WIFE_WORK</th>\n",
              "      <th>HUSB_OCUP</th>\n",
              "      <th>STA_OF_LIV</th>\n",
              "      <th>MEDIA_EXP</th>\n",
              "      <th>CONTRACEPTIVE</th>\n",
              "    </tr>\n",
              "  </thead>\n",
              "  <tbody>\n",
              "    <tr>\n",
              "      <td>0</td>\n",
              "      <td>24</td>\n",
              "      <td>2</td>\n",
              "      <td>3</td>\n",
              "      <td>3</td>\n",
              "      <td>1</td>\n",
              "      <td>1</td>\n",
              "      <td>2</td>\n",
              "      <td>3</td>\n",
              "      <td>0</td>\n",
              "      <td>1</td>\n",
              "    </tr>\n",
              "    <tr>\n",
              "      <td>1</td>\n",
              "      <td>45</td>\n",
              "      <td>1</td>\n",
              "      <td>3</td>\n",
              "      <td>10</td>\n",
              "      <td>1</td>\n",
              "      <td>1</td>\n",
              "      <td>3</td>\n",
              "      <td>4</td>\n",
              "      <td>0</td>\n",
              "      <td>1</td>\n",
              "    </tr>\n",
              "    <tr>\n",
              "      <td>2</td>\n",
              "      <td>43</td>\n",
              "      <td>2</td>\n",
              "      <td>3</td>\n",
              "      <td>7</td>\n",
              "      <td>1</td>\n",
              "      <td>1</td>\n",
              "      <td>3</td>\n",
              "      <td>4</td>\n",
              "      <td>0</td>\n",
              "      <td>1</td>\n",
              "    </tr>\n",
              "    <tr>\n",
              "      <td>3</td>\n",
              "      <td>42</td>\n",
              "      <td>3</td>\n",
              "      <td>2</td>\n",
              "      <td>9</td>\n",
              "      <td>1</td>\n",
              "      <td>1</td>\n",
              "      <td>3</td>\n",
              "      <td>3</td>\n",
              "      <td>0</td>\n",
              "      <td>1</td>\n",
              "    </tr>\n",
              "    <tr>\n",
              "      <td>4</td>\n",
              "      <td>36</td>\n",
              "      <td>3</td>\n",
              "      <td>3</td>\n",
              "      <td>8</td>\n",
              "      <td>1</td>\n",
              "      <td>1</td>\n",
              "      <td>3</td>\n",
              "      <td>2</td>\n",
              "      <td>0</td>\n",
              "      <td>1</td>\n",
              "    </tr>\n",
              "    <tr>\n",
              "      <td>...</td>\n",
              "      <td>...</td>\n",
              "      <td>...</td>\n",
              "      <td>...</td>\n",
              "      <td>...</td>\n",
              "      <td>...</td>\n",
              "      <td>...</td>\n",
              "      <td>...</td>\n",
              "      <td>...</td>\n",
              "      <td>...</td>\n",
              "      <td>...</td>\n",
              "    </tr>\n",
              "    <tr>\n",
              "      <td>1468</td>\n",
              "      <td>33</td>\n",
              "      <td>4</td>\n",
              "      <td>4</td>\n",
              "      <td>2</td>\n",
              "      <td>1</td>\n",
              "      <td>0</td>\n",
              "      <td>2</td>\n",
              "      <td>4</td>\n",
              "      <td>0</td>\n",
              "      <td>3</td>\n",
              "    </tr>\n",
              "    <tr>\n",
              "      <td>1469</td>\n",
              "      <td>33</td>\n",
              "      <td>4</td>\n",
              "      <td>4</td>\n",
              "      <td>3</td>\n",
              "      <td>1</td>\n",
              "      <td>1</td>\n",
              "      <td>1</td>\n",
              "      <td>4</td>\n",
              "      <td>0</td>\n",
              "      <td>3</td>\n",
              "    </tr>\n",
              "    <tr>\n",
              "      <td>1470</td>\n",
              "      <td>39</td>\n",
              "      <td>3</td>\n",
              "      <td>3</td>\n",
              "      <td>8</td>\n",
              "      <td>1</td>\n",
              "      <td>0</td>\n",
              "      <td>1</td>\n",
              "      <td>4</td>\n",
              "      <td>0</td>\n",
              "      <td>3</td>\n",
              "    </tr>\n",
              "    <tr>\n",
              "      <td>1471</td>\n",
              "      <td>33</td>\n",
              "      <td>3</td>\n",
              "      <td>3</td>\n",
              "      <td>4</td>\n",
              "      <td>1</td>\n",
              "      <td>0</td>\n",
              "      <td>2</td>\n",
              "      <td>2</td>\n",
              "      <td>0</td>\n",
              "      <td>3</td>\n",
              "    </tr>\n",
              "    <tr>\n",
              "      <td>1472</td>\n",
              "      <td>17</td>\n",
              "      <td>3</td>\n",
              "      <td>3</td>\n",
              "      <td>1</td>\n",
              "      <td>1</td>\n",
              "      <td>1</td>\n",
              "      <td>2</td>\n",
              "      <td>4</td>\n",
              "      <td>0</td>\n",
              "      <td>3</td>\n",
              "    </tr>\n",
              "  </tbody>\n",
              "</table>\n",
              "<p>1473 rows × 10 columns</p>\n",
              "</div>"
            ],
            "text/plain": [
              "      WIFE_AGE  WIFE_EDU  HUSB_EDU  NUM_OF_CHILD  WIFE_RELI  WIFE_WORK  \\\n",
              "0           24         2         3             3          1          1   \n",
              "1           45         1         3            10          1          1   \n",
              "2           43         2         3             7          1          1   \n",
              "3           42         3         2             9          1          1   \n",
              "4           36         3         3             8          1          1   \n",
              "...        ...       ...       ...           ...        ...        ...   \n",
              "1468        33         4         4             2          1          0   \n",
              "1469        33         4         4             3          1          1   \n",
              "1470        39         3         3             8          1          0   \n",
              "1471        33         3         3             4          1          0   \n",
              "1472        17         3         3             1          1          1   \n",
              "\n",
              "      HUSB_OCUP  STA_OF_LIV  MEDIA_EXP  CONTRACEPTIVE  \n",
              "0             2           3          0              1  \n",
              "1             3           4          0              1  \n",
              "2             3           4          0              1  \n",
              "3             3           3          0              1  \n",
              "4             3           2          0              1  \n",
              "...         ...         ...        ...            ...  \n",
              "1468          2           4          0              3  \n",
              "1469          1           4          0              3  \n",
              "1470          1           4          0              3  \n",
              "1471          2           2          0              3  \n",
              "1472          2           4          0              3  \n",
              "\n",
              "[1473 rows x 10 columns]"
            ]
          },
          "metadata": {
            "tags": []
          },
          "execution_count": 4
        }
      ]
    },
    {
      "cell_type": "code",
      "metadata": {
        "id": "NVcV7VgZpdAT",
        "colab_type": "code",
        "colab": {},
        "outputId": "4061cb2a-b8a9-40c3-c498-ca7d91a0d84e"
      },
      "source": [
        "donnee['CONTRACEPTIVE'].value_counts()"
      ],
      "execution_count": 0,
      "outputs": [
        {
          "output_type": "execute_result",
          "data": {
            "text/plain": [
              "1    629\n",
              "3    511\n",
              "2    333\n",
              "Name: CONTRACEPTIVE, dtype: int64"
            ]
          },
          "metadata": {
            "tags": []
          },
          "execution_count": 5
        }
      ]
    },
    {
      "cell_type": "code",
      "metadata": {
        "id": "_0_sP2swpdAe",
        "colab_type": "code",
        "colab": {},
        "outputId": "64082707-4548-4d7a-e7ec-3b635c47f307"
      },
      "source": [
        "donnee.columns"
      ],
      "execution_count": 0,
      "outputs": [
        {
          "output_type": "execute_result",
          "data": {
            "text/plain": [
              "Index(['WIFE_AGE', 'WIFE_EDU', 'HUSB_EDU', 'NUM_OF_CHILD', 'WIFE_RELI',\n",
              "       'WIFE_WORK', 'HUSB_OCUP', 'STA_OF_LIV', 'MEDIA_EXP', 'CONTRACEPTIVE'],\n",
              "      dtype='object')"
            ]
          },
          "metadata": {
            "tags": []
          },
          "execution_count": 6
        }
      ]
    },
    {
      "cell_type": "code",
      "metadata": {
        "id": "_UA_dVD1pdAs",
        "colab_type": "code",
        "colab": {}
      },
      "source": [
        "features = [o for o in donnee.columns if o !='CONTRACEPTIVE']\n",
        "X = donnee[features]\n",
        "Y = donnee['CONTRACEPTIVE']\n",
        "\n"
      ],
      "execution_count": 0,
      "outputs": []
    },
    {
      "cell_type": "code",
      "metadata": {
        "id": "jpXZ_kaLpdA1",
        "colab_type": "code",
        "colab": {}
      },
      "source": [
        "import numpy as np\n",
        "Y_red = np.where(Y==1,0,1)"
      ],
      "execution_count": 0,
      "outputs": []
    },
    {
      "cell_type": "code",
      "metadata": {
        "id": "2j6WznGtpdBA",
        "colab_type": "code",
        "colab": {},
        "outputId": "0d76930a-d896-4340-d8d1-2143f749a17f"
      },
      "source": [
        "import pandas as pd\n",
        "a_dummies = ['WIFE_EDU','HUSB_EDU','HUSB_OCUP','STA_OF_LIV']\n",
        "for var in a_dummies:\n",
        "    X.loc[var] = X.loc[:,var].copy().astype(str)\n",
        "X_dum = pd.get_dummies(X[a_dummies])\n",
        "X_dum=X_dum.head(1473)\n",
        "X_dum"
      ],
      "execution_count": 0,
      "outputs": [
        {
          "output_type": "stream",
          "text": [
            "C:\\Users\\user\\Anaconda3\\lib\\site-packages\\pandas\\core\\indexing.py:205: SettingWithCopyWarning: \n",
            "A value is trying to be set on a copy of a slice from a DataFrame\n",
            "\n",
            "See the caveats in the documentation: http://pandas.pydata.org/pandas-docs/stable/user_guide/indexing.html#returning-a-view-versus-a-copy\n",
            "  self._setitem_with_indexer(indexer, value)\n"
          ],
          "name": "stderr"
        },
        {
          "output_type": "execute_result",
          "data": {
            "text/html": [
              "<div>\n",
              "<style scoped>\n",
              "    .dataframe tbody tr th:only-of-type {\n",
              "        vertical-align: middle;\n",
              "    }\n",
              "\n",
              "    .dataframe tbody tr th {\n",
              "        vertical-align: top;\n",
              "    }\n",
              "\n",
              "    .dataframe thead th {\n",
              "        text-align: right;\n",
              "    }\n",
              "</style>\n",
              "<table border=\"1\" class=\"dataframe\">\n",
              "  <thead>\n",
              "    <tr style=\"text-align: right;\">\n",
              "      <th></th>\n",
              "      <th>STA_OF_LIV</th>\n",
              "      <th>WIFE_EDU_1.0</th>\n",
              "      <th>WIFE_EDU_2.0</th>\n",
              "      <th>WIFE_EDU_3.0</th>\n",
              "      <th>WIFE_EDU_4.0</th>\n",
              "      <th>WIFE_EDU_nan</th>\n",
              "      <th>HUSB_EDU_1.0</th>\n",
              "      <th>HUSB_EDU_2.0</th>\n",
              "      <th>HUSB_EDU_3.0</th>\n",
              "      <th>HUSB_EDU_4.0</th>\n",
              "      <th>HUSB_EDU_nan</th>\n",
              "      <th>HUSB_OCUP_1.0</th>\n",
              "      <th>HUSB_OCUP_2.0</th>\n",
              "      <th>HUSB_OCUP_3.0</th>\n",
              "      <th>HUSB_OCUP_4.0</th>\n",
              "      <th>HUSB_OCUP_nan</th>\n",
              "    </tr>\n",
              "  </thead>\n",
              "  <tbody>\n",
              "    <tr>\n",
              "      <td>0</td>\n",
              "      <td>3.0</td>\n",
              "      <td>0</td>\n",
              "      <td>1</td>\n",
              "      <td>0</td>\n",
              "      <td>0</td>\n",
              "      <td>0</td>\n",
              "      <td>0</td>\n",
              "      <td>0</td>\n",
              "      <td>1</td>\n",
              "      <td>0</td>\n",
              "      <td>0</td>\n",
              "      <td>0</td>\n",
              "      <td>1</td>\n",
              "      <td>0</td>\n",
              "      <td>0</td>\n",
              "      <td>0</td>\n",
              "    </tr>\n",
              "    <tr>\n",
              "      <td>1</td>\n",
              "      <td>4.0</td>\n",
              "      <td>1</td>\n",
              "      <td>0</td>\n",
              "      <td>0</td>\n",
              "      <td>0</td>\n",
              "      <td>0</td>\n",
              "      <td>0</td>\n",
              "      <td>0</td>\n",
              "      <td>1</td>\n",
              "      <td>0</td>\n",
              "      <td>0</td>\n",
              "      <td>0</td>\n",
              "      <td>0</td>\n",
              "      <td>1</td>\n",
              "      <td>0</td>\n",
              "      <td>0</td>\n",
              "    </tr>\n",
              "    <tr>\n",
              "      <td>2</td>\n",
              "      <td>4.0</td>\n",
              "      <td>0</td>\n",
              "      <td>1</td>\n",
              "      <td>0</td>\n",
              "      <td>0</td>\n",
              "      <td>0</td>\n",
              "      <td>0</td>\n",
              "      <td>0</td>\n",
              "      <td>1</td>\n",
              "      <td>0</td>\n",
              "      <td>0</td>\n",
              "      <td>0</td>\n",
              "      <td>0</td>\n",
              "      <td>1</td>\n",
              "      <td>0</td>\n",
              "      <td>0</td>\n",
              "    </tr>\n",
              "    <tr>\n",
              "      <td>3</td>\n",
              "      <td>3.0</td>\n",
              "      <td>0</td>\n",
              "      <td>0</td>\n",
              "      <td>1</td>\n",
              "      <td>0</td>\n",
              "      <td>0</td>\n",
              "      <td>0</td>\n",
              "      <td>1</td>\n",
              "      <td>0</td>\n",
              "      <td>0</td>\n",
              "      <td>0</td>\n",
              "      <td>0</td>\n",
              "      <td>0</td>\n",
              "      <td>1</td>\n",
              "      <td>0</td>\n",
              "      <td>0</td>\n",
              "    </tr>\n",
              "    <tr>\n",
              "      <td>4</td>\n",
              "      <td>2.0</td>\n",
              "      <td>0</td>\n",
              "      <td>0</td>\n",
              "      <td>1</td>\n",
              "      <td>0</td>\n",
              "      <td>0</td>\n",
              "      <td>0</td>\n",
              "      <td>0</td>\n",
              "      <td>1</td>\n",
              "      <td>0</td>\n",
              "      <td>0</td>\n",
              "      <td>0</td>\n",
              "      <td>0</td>\n",
              "      <td>1</td>\n",
              "      <td>0</td>\n",
              "      <td>0</td>\n",
              "    </tr>\n",
              "    <tr>\n",
              "      <td>...</td>\n",
              "      <td>...</td>\n",
              "      <td>...</td>\n",
              "      <td>...</td>\n",
              "      <td>...</td>\n",
              "      <td>...</td>\n",
              "      <td>...</td>\n",
              "      <td>...</td>\n",
              "      <td>...</td>\n",
              "      <td>...</td>\n",
              "      <td>...</td>\n",
              "      <td>...</td>\n",
              "      <td>...</td>\n",
              "      <td>...</td>\n",
              "      <td>...</td>\n",
              "      <td>...</td>\n",
              "      <td>...</td>\n",
              "    </tr>\n",
              "    <tr>\n",
              "      <td>1468</td>\n",
              "      <td>4.0</td>\n",
              "      <td>0</td>\n",
              "      <td>0</td>\n",
              "      <td>0</td>\n",
              "      <td>1</td>\n",
              "      <td>0</td>\n",
              "      <td>0</td>\n",
              "      <td>0</td>\n",
              "      <td>0</td>\n",
              "      <td>1</td>\n",
              "      <td>0</td>\n",
              "      <td>0</td>\n",
              "      <td>1</td>\n",
              "      <td>0</td>\n",
              "      <td>0</td>\n",
              "      <td>0</td>\n",
              "    </tr>\n",
              "    <tr>\n",
              "      <td>1469</td>\n",
              "      <td>4.0</td>\n",
              "      <td>0</td>\n",
              "      <td>0</td>\n",
              "      <td>0</td>\n",
              "      <td>1</td>\n",
              "      <td>0</td>\n",
              "      <td>0</td>\n",
              "      <td>0</td>\n",
              "      <td>0</td>\n",
              "      <td>1</td>\n",
              "      <td>0</td>\n",
              "      <td>1</td>\n",
              "      <td>0</td>\n",
              "      <td>0</td>\n",
              "      <td>0</td>\n",
              "      <td>0</td>\n",
              "    </tr>\n",
              "    <tr>\n",
              "      <td>1470</td>\n",
              "      <td>4.0</td>\n",
              "      <td>0</td>\n",
              "      <td>0</td>\n",
              "      <td>1</td>\n",
              "      <td>0</td>\n",
              "      <td>0</td>\n",
              "      <td>0</td>\n",
              "      <td>0</td>\n",
              "      <td>1</td>\n",
              "      <td>0</td>\n",
              "      <td>0</td>\n",
              "      <td>1</td>\n",
              "      <td>0</td>\n",
              "      <td>0</td>\n",
              "      <td>0</td>\n",
              "      <td>0</td>\n",
              "    </tr>\n",
              "    <tr>\n",
              "      <td>1471</td>\n",
              "      <td>2.0</td>\n",
              "      <td>0</td>\n",
              "      <td>0</td>\n",
              "      <td>1</td>\n",
              "      <td>0</td>\n",
              "      <td>0</td>\n",
              "      <td>0</td>\n",
              "      <td>0</td>\n",
              "      <td>1</td>\n",
              "      <td>0</td>\n",
              "      <td>0</td>\n",
              "      <td>0</td>\n",
              "      <td>1</td>\n",
              "      <td>0</td>\n",
              "      <td>0</td>\n",
              "      <td>0</td>\n",
              "    </tr>\n",
              "    <tr>\n",
              "      <td>1472</td>\n",
              "      <td>4.0</td>\n",
              "      <td>0</td>\n",
              "      <td>0</td>\n",
              "      <td>1</td>\n",
              "      <td>0</td>\n",
              "      <td>0</td>\n",
              "      <td>0</td>\n",
              "      <td>0</td>\n",
              "      <td>1</td>\n",
              "      <td>0</td>\n",
              "      <td>0</td>\n",
              "      <td>0</td>\n",
              "      <td>1</td>\n",
              "      <td>0</td>\n",
              "      <td>0</td>\n",
              "      <td>0</td>\n",
              "    </tr>\n",
              "  </tbody>\n",
              "</table>\n",
              "<p>1473 rows × 16 columns</p>\n",
              "</div>"
            ],
            "text/plain": [
              "      STA_OF_LIV  WIFE_EDU_1.0  WIFE_EDU_2.0  WIFE_EDU_3.0  WIFE_EDU_4.0  \\\n",
              "0            3.0             0             1             0             0   \n",
              "1            4.0             1             0             0             0   \n",
              "2            4.0             0             1             0             0   \n",
              "3            3.0             0             0             1             0   \n",
              "4            2.0             0             0             1             0   \n",
              "...          ...           ...           ...           ...           ...   \n",
              "1468         4.0             0             0             0             1   \n",
              "1469         4.0             0             0             0             1   \n",
              "1470         4.0             0             0             1             0   \n",
              "1471         2.0             0             0             1             0   \n",
              "1472         4.0             0             0             1             0   \n",
              "\n",
              "      WIFE_EDU_nan  HUSB_EDU_1.0  HUSB_EDU_2.0  HUSB_EDU_3.0  HUSB_EDU_4.0  \\\n",
              "0                0             0             0             1             0   \n",
              "1                0             0             0             1             0   \n",
              "2                0             0             0             1             0   \n",
              "3                0             0             1             0             0   \n",
              "4                0             0             0             1             0   \n",
              "...            ...           ...           ...           ...           ...   \n",
              "1468             0             0             0             0             1   \n",
              "1469             0             0             0             0             1   \n",
              "1470             0             0             0             1             0   \n",
              "1471             0             0             0             1             0   \n",
              "1472             0             0             0             1             0   \n",
              "\n",
              "      HUSB_EDU_nan  HUSB_OCUP_1.0  HUSB_OCUP_2.0  HUSB_OCUP_3.0  \\\n",
              "0                0              0              1              0   \n",
              "1                0              0              0              1   \n",
              "2                0              0              0              1   \n",
              "3                0              0              0              1   \n",
              "4                0              0              0              1   \n",
              "...            ...            ...            ...            ...   \n",
              "1468             0              0              1              0   \n",
              "1469             0              1              0              0   \n",
              "1470             0              1              0              0   \n",
              "1471             0              0              1              0   \n",
              "1472             0              0              1              0   \n",
              "\n",
              "      HUSB_OCUP_4.0  HUSB_OCUP_nan  \n",
              "0                 0              0  \n",
              "1                 0              0  \n",
              "2                 0              0  \n",
              "3                 0              0  \n",
              "4                 0              0  \n",
              "...             ...            ...  \n",
              "1468              0              0  \n",
              "1469              0              0  \n",
              "1470              0              0  \n",
              "1471              0              0  \n",
              "1472              0              0  \n",
              "\n",
              "[1473 rows x 16 columns]"
            ]
          },
          "metadata": {
            "tags": []
          },
          "execution_count": 9
        }
      ]
    },
    {
      "cell_type": "code",
      "metadata": {
        "id": "JG7oknVmpdBM",
        "colab_type": "code",
        "colab": {},
        "outputId": "1450f3a3-ca20-471d-f22a-981297c0a8b2"
      },
      "source": [
        "A_garder = [var for var in list(X) if var not in a_dummies]\n",
        "X = X[A_garder]\n",
        "X = pd.concat([X,X_dum],axis=1)\n",
        "X = X.head(1473)"
      ],
      "execution_count": 0,
      "outputs": [
        {
          "output_type": "stream",
          "text": [
            "C:\\Users\\user\\Anaconda3\\lib\\site-packages\\ipykernel_launcher.py:3: FutureWarning: Sorting because non-concatenation axis is not aligned. A future version\n",
            "of pandas will change to not sort by default.\n",
            "\n",
            "To accept the future behavior, pass 'sort=False'.\n",
            "\n",
            "To retain the current behavior and silence the warning, pass 'sort=True'.\n",
            "\n",
            "  This is separate from the ipykernel package so we can avoid doing imports until\n"
          ],
          "name": "stderr"
        }
      ]
    },
    {
      "cell_type": "code",
      "metadata": {
        "id": "xl2EDW4apdBV",
        "colab_type": "code",
        "colab": {},
        "outputId": "fc1e749a-2ad2-40a0-9a8f-e090725d4348"
      },
      "source": [
        "#exo1\n",
        "#1\n",
        "from sklearn.model_selection import train_test_split\n",
        "X_train,X_test,Y_train,Y_test = train_test_split(X,Y_red,random_state=1998,test_size=0.3)# 0.7 train 0.3 test\n",
        "X_train"
      ],
      "execution_count": 0,
      "outputs": [
        {
          "output_type": "execute_result",
          "data": {
            "text/html": [
              "<div>\n",
              "<style scoped>\n",
              "    .dataframe tbody tr th:only-of-type {\n",
              "        vertical-align: middle;\n",
              "    }\n",
              "\n",
              "    .dataframe tbody tr th {\n",
              "        vertical-align: top;\n",
              "    }\n",
              "\n",
              "    .dataframe thead th {\n",
              "        text-align: right;\n",
              "    }\n",
              "</style>\n",
              "<table border=\"1\" class=\"dataframe\">\n",
              "  <thead>\n",
              "    <tr style=\"text-align: right;\">\n",
              "      <th></th>\n",
              "      <th>WIFE_AGE</th>\n",
              "      <th>NUM_OF_CHILD</th>\n",
              "      <th>WIFE_RELI</th>\n",
              "      <th>WIFE_WORK</th>\n",
              "      <th>MEDIA_EXP</th>\n",
              "      <th>STA_OF_LIV</th>\n",
              "      <th>WIFE_EDU_1.0</th>\n",
              "      <th>WIFE_EDU_2.0</th>\n",
              "      <th>WIFE_EDU_3.0</th>\n",
              "      <th>WIFE_EDU_4.0</th>\n",
              "      <th>...</th>\n",
              "      <th>HUSB_EDU_1.0</th>\n",
              "      <th>HUSB_EDU_2.0</th>\n",
              "      <th>HUSB_EDU_3.0</th>\n",
              "      <th>HUSB_EDU_4.0</th>\n",
              "      <th>HUSB_EDU_nan</th>\n",
              "      <th>HUSB_OCUP_1.0</th>\n",
              "      <th>HUSB_OCUP_2.0</th>\n",
              "      <th>HUSB_OCUP_3.0</th>\n",
              "      <th>HUSB_OCUP_4.0</th>\n",
              "      <th>HUSB_OCUP_nan</th>\n",
              "    </tr>\n",
              "  </thead>\n",
              "  <tbody>\n",
              "    <tr>\n",
              "      <td>1184</td>\n",
              "      <td>29.0</td>\n",
              "      <td>2.0</td>\n",
              "      <td>1.0</td>\n",
              "      <td>1.0</td>\n",
              "      <td>0.0</td>\n",
              "      <td>4.0</td>\n",
              "      <td>0.0</td>\n",
              "      <td>0.0</td>\n",
              "      <td>1.0</td>\n",
              "      <td>0.0</td>\n",
              "      <td>...</td>\n",
              "      <td>0.0</td>\n",
              "      <td>0.0</td>\n",
              "      <td>0.0</td>\n",
              "      <td>1.0</td>\n",
              "      <td>0.0</td>\n",
              "      <td>0.0</td>\n",
              "      <td>0.0</td>\n",
              "      <td>1.0</td>\n",
              "      <td>0.0</td>\n",
              "      <td>0.0</td>\n",
              "    </tr>\n",
              "    <tr>\n",
              "      <td>583</td>\n",
              "      <td>24.0</td>\n",
              "      <td>1.0</td>\n",
              "      <td>1.0</td>\n",
              "      <td>1.0</td>\n",
              "      <td>0.0</td>\n",
              "      <td>4.0</td>\n",
              "      <td>0.0</td>\n",
              "      <td>0.0</td>\n",
              "      <td>0.0</td>\n",
              "      <td>1.0</td>\n",
              "      <td>...</td>\n",
              "      <td>0.0</td>\n",
              "      <td>0.0</td>\n",
              "      <td>0.0</td>\n",
              "      <td>1.0</td>\n",
              "      <td>0.0</td>\n",
              "      <td>1.0</td>\n",
              "      <td>0.0</td>\n",
              "      <td>0.0</td>\n",
              "      <td>0.0</td>\n",
              "      <td>0.0</td>\n",
              "    </tr>\n",
              "    <tr>\n",
              "      <td>831</td>\n",
              "      <td>29.0</td>\n",
              "      <td>5.0</td>\n",
              "      <td>1.0</td>\n",
              "      <td>1.0</td>\n",
              "      <td>0.0</td>\n",
              "      <td>4.0</td>\n",
              "      <td>0.0</td>\n",
              "      <td>1.0</td>\n",
              "      <td>0.0</td>\n",
              "      <td>0.0</td>\n",
              "      <td>...</td>\n",
              "      <td>0.0</td>\n",
              "      <td>0.0</td>\n",
              "      <td>1.0</td>\n",
              "      <td>0.0</td>\n",
              "      <td>0.0</td>\n",
              "      <td>0.0</td>\n",
              "      <td>1.0</td>\n",
              "      <td>0.0</td>\n",
              "      <td>0.0</td>\n",
              "      <td>0.0</td>\n",
              "    </tr>\n",
              "    <tr>\n",
              "      <td>668</td>\n",
              "      <td>33.0</td>\n",
              "      <td>3.0</td>\n",
              "      <td>1.0</td>\n",
              "      <td>1.0</td>\n",
              "      <td>0.0</td>\n",
              "      <td>4.0</td>\n",
              "      <td>0.0</td>\n",
              "      <td>1.0</td>\n",
              "      <td>0.0</td>\n",
              "      <td>0.0</td>\n",
              "      <td>...</td>\n",
              "      <td>0.0</td>\n",
              "      <td>0.0</td>\n",
              "      <td>0.0</td>\n",
              "      <td>1.0</td>\n",
              "      <td>0.0</td>\n",
              "      <td>0.0</td>\n",
              "      <td>1.0</td>\n",
              "      <td>0.0</td>\n",
              "      <td>0.0</td>\n",
              "      <td>0.0</td>\n",
              "    </tr>\n",
              "    <tr>\n",
              "      <td>1270</td>\n",
              "      <td>41.0</td>\n",
              "      <td>4.0</td>\n",
              "      <td>0.0</td>\n",
              "      <td>0.0</td>\n",
              "      <td>0.0</td>\n",
              "      <td>4.0</td>\n",
              "      <td>0.0</td>\n",
              "      <td>0.0</td>\n",
              "      <td>0.0</td>\n",
              "      <td>1.0</td>\n",
              "      <td>...</td>\n",
              "      <td>0.0</td>\n",
              "      <td>0.0</td>\n",
              "      <td>0.0</td>\n",
              "      <td>1.0</td>\n",
              "      <td>0.0</td>\n",
              "      <td>0.0</td>\n",
              "      <td>1.0</td>\n",
              "      <td>0.0</td>\n",
              "      <td>0.0</td>\n",
              "      <td>0.0</td>\n",
              "    </tr>\n",
              "    <tr>\n",
              "      <td>...</td>\n",
              "      <td>...</td>\n",
              "      <td>...</td>\n",
              "      <td>...</td>\n",
              "      <td>...</td>\n",
              "      <td>...</td>\n",
              "      <td>...</td>\n",
              "      <td>...</td>\n",
              "      <td>...</td>\n",
              "      <td>...</td>\n",
              "      <td>...</td>\n",
              "      <td>...</td>\n",
              "      <td>...</td>\n",
              "      <td>...</td>\n",
              "      <td>...</td>\n",
              "      <td>...</td>\n",
              "      <td>...</td>\n",
              "      <td>...</td>\n",
              "      <td>...</td>\n",
              "      <td>...</td>\n",
              "      <td>...</td>\n",
              "      <td>...</td>\n",
              "    </tr>\n",
              "    <tr>\n",
              "      <td>224</td>\n",
              "      <td>47.0</td>\n",
              "      <td>4.0</td>\n",
              "      <td>1.0</td>\n",
              "      <td>1.0</td>\n",
              "      <td>0.0</td>\n",
              "      <td>4.0</td>\n",
              "      <td>0.0</td>\n",
              "      <td>0.0</td>\n",
              "      <td>0.0</td>\n",
              "      <td>1.0</td>\n",
              "      <td>...</td>\n",
              "      <td>0.0</td>\n",
              "      <td>0.0</td>\n",
              "      <td>0.0</td>\n",
              "      <td>1.0</td>\n",
              "      <td>0.0</td>\n",
              "      <td>1.0</td>\n",
              "      <td>0.0</td>\n",
              "      <td>0.0</td>\n",
              "      <td>0.0</td>\n",
              "      <td>0.0</td>\n",
              "    </tr>\n",
              "    <tr>\n",
              "      <td>1188</td>\n",
              "      <td>26.0</td>\n",
              "      <td>2.0</td>\n",
              "      <td>1.0</td>\n",
              "      <td>1.0</td>\n",
              "      <td>0.0</td>\n",
              "      <td>3.0</td>\n",
              "      <td>0.0</td>\n",
              "      <td>0.0</td>\n",
              "      <td>0.0</td>\n",
              "      <td>1.0</td>\n",
              "      <td>...</td>\n",
              "      <td>0.0</td>\n",
              "      <td>0.0</td>\n",
              "      <td>0.0</td>\n",
              "      <td>1.0</td>\n",
              "      <td>0.0</td>\n",
              "      <td>1.0</td>\n",
              "      <td>0.0</td>\n",
              "      <td>0.0</td>\n",
              "      <td>0.0</td>\n",
              "      <td>0.0</td>\n",
              "    </tr>\n",
              "    <tr>\n",
              "      <td>897</td>\n",
              "      <td>47.0</td>\n",
              "      <td>4.0</td>\n",
              "      <td>1.0</td>\n",
              "      <td>1.0</td>\n",
              "      <td>0.0</td>\n",
              "      <td>3.0</td>\n",
              "      <td>0.0</td>\n",
              "      <td>0.0</td>\n",
              "      <td>0.0</td>\n",
              "      <td>1.0</td>\n",
              "      <td>...</td>\n",
              "      <td>0.0</td>\n",
              "      <td>0.0</td>\n",
              "      <td>1.0</td>\n",
              "      <td>0.0</td>\n",
              "      <td>0.0</td>\n",
              "      <td>1.0</td>\n",
              "      <td>0.0</td>\n",
              "      <td>0.0</td>\n",
              "      <td>0.0</td>\n",
              "      <td>0.0</td>\n",
              "    </tr>\n",
              "    <tr>\n",
              "      <td>673</td>\n",
              "      <td>45.0</td>\n",
              "      <td>3.0</td>\n",
              "      <td>1.0</td>\n",
              "      <td>1.0</td>\n",
              "      <td>0.0</td>\n",
              "      <td>2.0</td>\n",
              "      <td>1.0</td>\n",
              "      <td>0.0</td>\n",
              "      <td>0.0</td>\n",
              "      <td>0.0</td>\n",
              "      <td>...</td>\n",
              "      <td>0.0</td>\n",
              "      <td>0.0</td>\n",
              "      <td>1.0</td>\n",
              "      <td>0.0</td>\n",
              "      <td>0.0</td>\n",
              "      <td>0.0</td>\n",
              "      <td>0.0</td>\n",
              "      <td>1.0</td>\n",
              "      <td>0.0</td>\n",
              "      <td>0.0</td>\n",
              "    </tr>\n",
              "    <tr>\n",
              "      <td>840</td>\n",
              "      <td>32.0</td>\n",
              "      <td>3.0</td>\n",
              "      <td>1.0</td>\n",
              "      <td>1.0</td>\n",
              "      <td>0.0</td>\n",
              "      <td>4.0</td>\n",
              "      <td>0.0</td>\n",
              "      <td>0.0</td>\n",
              "      <td>0.0</td>\n",
              "      <td>1.0</td>\n",
              "      <td>...</td>\n",
              "      <td>0.0</td>\n",
              "      <td>0.0</td>\n",
              "      <td>1.0</td>\n",
              "      <td>0.0</td>\n",
              "      <td>0.0</td>\n",
              "      <td>0.0</td>\n",
              "      <td>1.0</td>\n",
              "      <td>0.0</td>\n",
              "      <td>0.0</td>\n",
              "      <td>0.0</td>\n",
              "    </tr>\n",
              "  </tbody>\n",
              "</table>\n",
              "<p>1031 rows × 21 columns</p>\n",
              "</div>"
            ],
            "text/plain": [
              "      WIFE_AGE  NUM_OF_CHILD  WIFE_RELI  WIFE_WORK  MEDIA_EXP  STA_OF_LIV  \\\n",
              "1184      29.0           2.0        1.0        1.0        0.0         4.0   \n",
              "583       24.0           1.0        1.0        1.0        0.0         4.0   \n",
              "831       29.0           5.0        1.0        1.0        0.0         4.0   \n",
              "668       33.0           3.0        1.0        1.0        0.0         4.0   \n",
              "1270      41.0           4.0        0.0        0.0        0.0         4.0   \n",
              "...        ...           ...        ...        ...        ...         ...   \n",
              "224       47.0           4.0        1.0        1.0        0.0         4.0   \n",
              "1188      26.0           2.0        1.0        1.0        0.0         3.0   \n",
              "897       47.0           4.0        1.0        1.0        0.0         3.0   \n",
              "673       45.0           3.0        1.0        1.0        0.0         2.0   \n",
              "840       32.0           3.0        1.0        1.0        0.0         4.0   \n",
              "\n",
              "      WIFE_EDU_1.0  WIFE_EDU_2.0  WIFE_EDU_3.0  WIFE_EDU_4.0  ...  \\\n",
              "1184           0.0           0.0           1.0           0.0  ...   \n",
              "583            0.0           0.0           0.0           1.0  ...   \n",
              "831            0.0           1.0           0.0           0.0  ...   \n",
              "668            0.0           1.0           0.0           0.0  ...   \n",
              "1270           0.0           0.0           0.0           1.0  ...   \n",
              "...            ...           ...           ...           ...  ...   \n",
              "224            0.0           0.0           0.0           1.0  ...   \n",
              "1188           0.0           0.0           0.0           1.0  ...   \n",
              "897            0.0           0.0           0.0           1.0  ...   \n",
              "673            1.0           0.0           0.0           0.0  ...   \n",
              "840            0.0           0.0           0.0           1.0  ...   \n",
              "\n",
              "      HUSB_EDU_1.0  HUSB_EDU_2.0  HUSB_EDU_3.0  HUSB_EDU_4.0  HUSB_EDU_nan  \\\n",
              "1184           0.0           0.0           0.0           1.0           0.0   \n",
              "583            0.0           0.0           0.0           1.0           0.0   \n",
              "831            0.0           0.0           1.0           0.0           0.0   \n",
              "668            0.0           0.0           0.0           1.0           0.0   \n",
              "1270           0.0           0.0           0.0           1.0           0.0   \n",
              "...            ...           ...           ...           ...           ...   \n",
              "224            0.0           0.0           0.0           1.0           0.0   \n",
              "1188           0.0           0.0           0.0           1.0           0.0   \n",
              "897            0.0           0.0           1.0           0.0           0.0   \n",
              "673            0.0           0.0           1.0           0.0           0.0   \n",
              "840            0.0           0.0           1.0           0.0           0.0   \n",
              "\n",
              "      HUSB_OCUP_1.0  HUSB_OCUP_2.0  HUSB_OCUP_3.0  HUSB_OCUP_4.0  \\\n",
              "1184            0.0            0.0            1.0            0.0   \n",
              "583             1.0            0.0            0.0            0.0   \n",
              "831             0.0            1.0            0.0            0.0   \n",
              "668             0.0            1.0            0.0            0.0   \n",
              "1270            0.0            1.0            0.0            0.0   \n",
              "...             ...            ...            ...            ...   \n",
              "224             1.0            0.0            0.0            0.0   \n",
              "1188            1.0            0.0            0.0            0.0   \n",
              "897             1.0            0.0            0.0            0.0   \n",
              "673             0.0            0.0            1.0            0.0   \n",
              "840             0.0            1.0            0.0            0.0   \n",
              "\n",
              "      HUSB_OCUP_nan  \n",
              "1184            0.0  \n",
              "583             0.0  \n",
              "831             0.0  \n",
              "668             0.0  \n",
              "1270            0.0  \n",
              "...             ...  \n",
              "224             0.0  \n",
              "1188            0.0  \n",
              "897             0.0  \n",
              "673             0.0  \n",
              "840             0.0  \n",
              "\n",
              "[1031 rows x 21 columns]"
            ]
          },
          "metadata": {
            "tags": []
          },
          "execution_count": 11
        }
      ]
    },
    {
      "cell_type": "code",
      "metadata": {
        "id": "zDmdMlfkpdBe",
        "colab_type": "code",
        "colab": {}
      },
      "source": [
        "#2\n",
        "from sklearn.linear_model import LogisticRegression\n",
        "clf = LogisticRegression(penalty='l2',random_state=1998,solver='lbfgs',max_iter=1000, multi_class='auto')\n"
      ],
      "execution_count": 0,
      "outputs": []
    },
    {
      "cell_type": "code",
      "metadata": {
        "id": "tQt7H1axpdBr",
        "colab_type": "code",
        "colab": {},
        "outputId": "1a4c756a-6357-41f5-e851-4891c0ee7e1d"
      },
      "source": [
        "#3\n",
        "clf.fit(X_train,Y_train)"
      ],
      "execution_count": 0,
      "outputs": [
        {
          "output_type": "execute_result",
          "data": {
            "text/plain": [
              "LogisticRegression(C=1.0, class_weight=None, dual=False, fit_intercept=True,\n",
              "                   intercept_scaling=1, l1_ratio=None, max_iter=1000,\n",
              "                   multi_class='auto', n_jobs=None, penalty='l2',\n",
              "                   random_state=1998, solver='lbfgs', tol=0.0001, verbose=0,\n",
              "                   warm_start=False)"
            ]
          },
          "metadata": {
            "tags": []
          },
          "execution_count": 13
        }
      ]
    },
    {
      "cell_type": "code",
      "metadata": {
        "id": "6XtIoDX-pdBy",
        "colab_type": "code",
        "colab": {}
      },
      "source": [
        "#4\n",
        "Y_pred = clf.predict(X_test)"
      ],
      "execution_count": 0,
      "outputs": []
    },
    {
      "cell_type": "code",
      "metadata": {
        "id": "LiiS-i5SpdB6",
        "colab_type": "code",
        "colab": {},
        "outputId": "f35a6c85-855b-4c60-a5b6-cf30c8630cfb"
      },
      "source": [
        "#5\n",
        "from sklearn.metrics import accuracy_score\n",
        "accuracy_score(Y_test,Y_pred)"
      ],
      "execution_count": 0,
      "outputs": [
        {
          "output_type": "execute_result",
          "data": {
            "text/plain": [
              "0.6628959276018099"
            ]
          },
          "metadata": {
            "tags": []
          },
          "execution_count": 15
        }
      ]
    },
    {
      "cell_type": "code",
      "metadata": {
        "id": "c2t_pAAApdCB",
        "colab_type": "code",
        "colab": {},
        "outputId": "240c8ea5-0492-4821-c35b-7fcc479cd2df"
      },
      "source": [
        "#6\n",
        "from sklearn.metrics import confusion_matrix\n",
        "confusion_matrix(Y_test,Y_pred)"
      ],
      "execution_count": 0,
      "outputs": [
        {
          "output_type": "execute_result",
          "data": {
            "text/plain": [
              "array([[ 89, 102],\n",
              "       [ 47, 204]], dtype=int64)"
            ]
          },
          "metadata": {
            "tags": []
          },
          "execution_count": 16
        }
      ]
    },
    {
      "cell_type": "code",
      "metadata": {
        "id": "mWVSYrbJpdCK",
        "colab_type": "code",
        "colab": {}
      },
      "source": [
        "#7\n",
        "Y_pred_prob = clf.predict_proba(X_test)"
      ],
      "execution_count": 0,
      "outputs": []
    },
    {
      "cell_type": "code",
      "metadata": {
        "id": "B914wjIFpdCW",
        "colab_type": "code",
        "colab": {},
        "outputId": "45632bef-4b42-468b-f918-cd31c9efb855"
      },
      "source": [
        "#8\n",
        "from sklearn.metrics import roc_auc_score, auc\n",
        "roc_auc_score(Y_test,clf.predict_proba(X_test)[:,1])\n",
        "\n",
        "\n",
        "\n"
      ],
      "execution_count": 0,
      "outputs": [
        {
          "output_type": "execute_result",
          "data": {
            "text/plain": [
              "0.7196554097745145"
            ]
          },
          "metadata": {
            "tags": []
          },
          "execution_count": 18
        }
      ]
    },
    {
      "cell_type": "code",
      "metadata": {
        "id": "jm4U0PG6pdCe",
        "colab_type": "code",
        "colab": {},
        "outputId": "7ab5aca4-bed5-479b-f50c-8f47cbd97e76"
      },
      "source": [
        "from sklearn.metrics import roc_curve, auc\n",
        "fpr, tpr, threshold = roc_curve(Y_test,clf.predict_proba(X_test)[:,1])\n",
        "auc(fpr,tpr)\n"
      ],
      "execution_count": 0,
      "outputs": [
        {
          "output_type": "execute_result",
          "data": {
            "text/plain": [
              "0.7196554097745145"
            ]
          },
          "metadata": {
            "tags": []
          },
          "execution_count": 19
        }
      ]
    },
    {
      "cell_type": "code",
      "metadata": {
        "id": "tYVo61TbpdCo",
        "colab_type": "code",
        "colab": {},
        "outputId": "70ecc417-e14b-4404-d567-b64b18441c8d"
      },
      "source": [
        "#9\n",
        "import numpy as np\n",
        "import matplotlib.pyplot as plt\n",
        "plt.plot(fpr,tpr,label = \"SCORE AUC:\"+str(np.round(auc(fpr,tpr),4)))\n",
        "plt.plot([0,1],[0,1],color='blue')\n",
        "plt.ylabel(\"tpr\",fontsize='large')\n",
        "plt.xlabel(\"fpr\",fontsize='large')\n",
        "plt.fill_between(fpr, fpr, tpr,color='grey')\n",
        "plt.legend(loc=4)\n",
        "plt.show()"
      ],
      "execution_count": 0,
      "outputs": [
        {
          "output_type": "display_data",
          "data": {
            "text/plain": [
              "<Figure size 640x480 with 1 Axes>"
            ]
          },
          "metadata": {
            "tags": []
          }
        }
      ]
    },
    {
      "cell_type": "code",
      "metadata": {
        "id": "1SYyZFqxpdCv",
        "colab_type": "code",
        "colab": {}
      },
      "source": [
        ""
      ],
      "execution_count": 0,
      "outputs": []
    },
    {
      "cell_type": "code",
      "metadata": {
        "id": "sTecROKxpdC1",
        "colab_type": "code",
        "colab": {}
      },
      "source": [
        "#exo2\n",
        "#1\n",
        "from sklearn.model_selection import train_test_split\n",
        "X_train,X_test,Y_train,Y_test = train_test_split(X,Y_red,random_state=1998,test_size=0.3)\n"
      ],
      "execution_count": 0,
      "outputs": []
    },
    {
      "cell_type": "code",
      "metadata": {
        "id": "IUXGslP_pdC7",
        "colab_type": "code",
        "colab": {}
      },
      "source": [
        "#2\n",
        "from sklearn.tree import DecisionTreeClassifier\n",
        "arbre= DecisionTreeClassifier(criterion='gini',max_depth=3,min_samples_split=2)"
      ],
      "execution_count": 0,
      "outputs": []
    },
    {
      "cell_type": "code",
      "metadata": {
        "id": "ZVTIw07fpdDE",
        "colab_type": "code",
        "colab": {},
        "outputId": "56f74e89-0a2c-4eef-bf92-cf82ba280afb"
      },
      "source": [
        "#3\n",
        "arbre.fit(X_train,Y_train)"
      ],
      "execution_count": 0,
      "outputs": [
        {
          "output_type": "execute_result",
          "data": {
            "text/plain": [
              "DecisionTreeClassifier(class_weight=None, criterion='gini', max_depth=3,\n",
              "                       max_features=None, max_leaf_nodes=None,\n",
              "                       min_impurity_decrease=0.0, min_impurity_split=None,\n",
              "                       min_samples_leaf=1, min_samples_split=2,\n",
              "                       min_weight_fraction_leaf=0.0, presort=False,\n",
              "                       random_state=None, splitter='best')"
            ]
          },
          "metadata": {
            "tags": []
          },
          "execution_count": 23
        }
      ]
    },
    {
      "cell_type": "code",
      "metadata": {
        "id": "ad8z1mXYpdDK",
        "colab_type": "code",
        "colab": {}
      },
      "source": [
        "#4\n",
        "Y_pred = arbre.predict(X_test)"
      ],
      "execution_count": 0,
      "outputs": []
    },
    {
      "cell_type": "code",
      "metadata": {
        "id": "QUYEtSntpdDO",
        "colab_type": "code",
        "colab": {},
        "outputId": "9e32ce38-2677-4e66-9559-267f8530b07e"
      },
      "source": [
        "#5\n",
        "from sklearn.metrics import accuracy_score\n",
        "accuracy_score(Y_test,Y_pred)\n",
        "\n"
      ],
      "execution_count": 0,
      "outputs": [
        {
          "output_type": "execute_result",
          "data": {
            "text/plain": [
              "0.6968325791855203"
            ]
          },
          "metadata": {
            "tags": []
          },
          "execution_count": 25
        }
      ]
    },
    {
      "cell_type": "code",
      "metadata": {
        "id": "gscvjBOJpdDT",
        "colab_type": "code",
        "colab": {},
        "outputId": "44422f91-5aa5-498e-ddbf-7262b7786b2b"
      },
      "source": [
        "#6\n",
        "from sklearn.tree import DecisionTreeClassifier\n",
        "arbrebis= DecisionTreeClassifier(criterion='gini',max_depth=9,min_samples_split=4,min_samples_leaf=3)\n",
        "arbrebis.fit(X_train,Y_train)\n"
      ],
      "execution_count": 0,
      "outputs": [
        {
          "output_type": "execute_result",
          "data": {
            "text/plain": [
              "DecisionTreeClassifier(class_weight=None, criterion='gini', max_depth=9,\n",
              "                       max_features=None, max_leaf_nodes=None,\n",
              "                       min_impurity_decrease=0.0, min_impurity_split=None,\n",
              "                       min_samples_leaf=3, min_samples_split=4,\n",
              "                       min_weight_fraction_leaf=0.0, presort=False,\n",
              "                       random_state=None, splitter='best')"
            ]
          },
          "metadata": {
            "tags": []
          },
          "execution_count": 26
        }
      ]
    },
    {
      "cell_type": "code",
      "metadata": {
        "id": "_XniuS4LpdDY",
        "colab_type": "code",
        "colab": {},
        "outputId": "37564544-290d-47cc-cb01-a972c5c595a7"
      },
      "source": [
        "#7\n",
        "Y_predbis = arbrebis.predict(X_test)\n",
        "from sklearn.metrics import accuracy_score\n",
        "accuracy_score(Y_test,Y_predbis)"
      ],
      "execution_count": 0,
      "outputs": [
        {
          "output_type": "execute_result",
          "data": {
            "text/plain": [
              "0.6945701357466063"
            ]
          },
          "metadata": {
            "tags": []
          },
          "execution_count": 27
        }
      ]
    },
    {
      "cell_type": "code",
      "metadata": {
        "id": "fdlBd5vipdDf",
        "colab_type": "code",
        "colab": {}
      },
      "source": [
        "#8\n",
        "Y_pred_probbis = arbrebis.predict_proba(X_test)"
      ],
      "execution_count": 0,
      "outputs": []
    },
    {
      "cell_type": "code",
      "metadata": {
        "id": "vTMm_5BCpdDj",
        "colab_type": "code",
        "colab": {},
        "outputId": "a4ba8fd9-86d9-4259-c8cc-4612acccb917"
      },
      "source": [
        "#9\n",
        "from sklearn.metrics import roc_auc_score, auc\n",
        "roc_auc_score(Y_test,arbrebis.predict_proba(X_test)[:,1])\n"
      ],
      "execution_count": 0,
      "outputs": [
        {
          "output_type": "execute_result",
          "data": {
            "text/plain": [
              "0.7428401576938319"
            ]
          },
          "metadata": {
            "tags": []
          },
          "execution_count": 32
        }
      ]
    },
    {
      "cell_type": "code",
      "metadata": {
        "id": "armg1aHmpdDs",
        "colab_type": "code",
        "colab": {},
        "outputId": "974ec265-1406-41d2-f932-c55d09402aa3"
      },
      "source": [
        "from sklearn.metrics import roc_curve, auc\n",
        "fpr, tpr, thresholds = roc_curve(Y_test,arbrebis.predict_proba(X_test)[:,1])\n",
        "auc(fpr,tpr)"
      ],
      "execution_count": 0,
      "outputs": [
        {
          "output_type": "execute_result",
          "data": {
            "text/plain": [
              "0.7428401576938319"
            ]
          },
          "metadata": {
            "tags": []
          },
          "execution_count": 31
        }
      ]
    },
    {
      "cell_type": "code",
      "metadata": {
        "id": "H79QxEbEpdDz",
        "colab_type": "code",
        "colab": {},
        "outputId": "601a86ab-f60c-411b-e264-2ed21c114cf4"
      },
      "source": [
        "#10\n",
        "import numpy as np\n",
        "import matplotlib.pyplot as plt\n",
        "plt.plot(fpr,tpr,label = \"SCORE AUC:\"+str(np.round(auc(fpr,tpr),4)))\n",
        "plt.plot([0,1],[0,1],color='blue')\n",
        "plt.ylabel(\"tpr\",fontsize='large')\n",
        "plt.xlabel(\"fpr\",fontsize='large')\n",
        "plt.fill_between(fpr, fpr, tpr,color='grey')\n",
        "plt.legend(loc=4)\n",
        "plt.show()"
      ],
      "execution_count": 0,
      "outputs": [
        {
          "output_type": "display_data",
          "data": {
            "image/png": "[encoded data removed]",
            "text/plain": [
              "<Figure size 432x288 with 1 Axes>"
            ]
          },
          "metadata": {
            "tags": [],
            "needs_background": "light"
          }
        }
      ]
    },
    {
      "cell_type": "code",
      "metadata": {
        "id": "TmXVL430pdD4",
        "colab_type": "code",
        "colab": {}
      },
      "source": [
        "#11\n",
        "import numpy as np\n",
        "importance = arbrebis.feature_importances_\n",
        "nom_feature = X_train.columns\n",
        "index = np.argsort(importance)[::-1]\n",
        "nom_feature_ord = nom_feature[index]\n",
        "importance_ord = np.round(100*importance[index],2)"
      ],
      "execution_count": 0,
      "outputs": []
    },
    {
      "cell_type": "code",
      "metadata": {
        "id": "vLlj8UmSpdEA",
        "colab_type": "code",
        "colab": {},
        "outputId": "84574678-72a5-4b25-8c50-8fbc8217e997"
      },
      "source": [
        "import numpy as np\n",
        "import matplotlib.pyplot as plt\n",
        "y_pos = np.arange(len(nom_feature_ord))\n",
        "\n",
        "plt.bar(y_pos,importance_ord,edgecolor='navy',color='blue')\n",
        "plt.xticks(y_pos,nom_feature_ord,color='black',rotation=80)"
      ],
      "execution_count": 0,
      "outputs": [
        {
          "output_type": "execute_result",
          "data": {
            "text/plain": [
              "([<matplotlib.axis.XTick at 0x58dc97e408>,\n",
              "  <matplotlib.axis.XTick at 0x58dcb16408>,\n",
              "  <matplotlib.axis.XTick at 0x58dcb16cc8>,\n",
              "  <matplotlib.axis.XTick at 0x58dc493a48>,\n",
              "  <matplotlib.axis.XTick at 0x58dab36408>,\n",
              "  <matplotlib.axis.XTick at 0x58dab36908>,\n",
              "  <matplotlib.axis.XTick at 0x58dab33108>,\n",
              "  <matplotlib.axis.XTick at 0x58dab3e708>,\n",
              "  <matplotlib.axis.XTick at 0x58db89a408>,\n",
              "  <matplotlib.axis.XTick at 0x58db89dd08>,\n",
              "  <matplotlib.axis.XTick at 0x58db8a5488>,\n",
              "  <matplotlib.axis.XTick at 0x58dbb20d88>,\n",
              "  <matplotlib.axis.XTick at 0x58dc44fd08>,\n",
              "  <matplotlib.axis.XTick at 0x58d7687b08>,\n",
              "  <matplotlib.axis.XTick at 0x58dbbe6d48>,\n",
              "  <matplotlib.axis.XTick at 0x58dcb1a648>,\n",
              "  <matplotlib.axis.XTick at 0x58dbba5ec8>,\n",
              "  <matplotlib.axis.XTick at 0x58d9c1a288>,\n",
              "  <matplotlib.axis.XTick at 0x58dccea888>,\n",
              "  <matplotlib.axis.XTick at 0x58dab388c8>,\n",
              "  <matplotlib.axis.XTick at 0x58dc33ff08>,\n",
              "  <matplotlib.axis.XTick at 0x58dab22f08>,\n",
              "  <matplotlib.axis.XTick at 0x58d9cd6c48>,\n",
              "  <matplotlib.axis.XTick at 0x58dbf3fb88>,\n",
              "  <matplotlib.axis.XTick at 0x58db413d08>,\n",
              "  <matplotlib.axis.XTick at 0x58dc98ad48>,\n",
              "  <matplotlib.axis.XTick at 0x58dc4e4948>,\n",
              "  <matplotlib.axis.XTick at 0x58dc6df708>,\n",
              "  <matplotlib.axis.XTick at 0x58dbdaaa48>,\n",
              "  <matplotlib.axis.XTick at 0x58db894888>,\n",
              "  <matplotlib.axis.XTick at 0x58db891648>,\n",
              "  <matplotlib.axis.XTick at 0x58db891ec8>,\n",
              "  <matplotlib.axis.XTick at 0x58db9e27c8>,\n",
              "  <matplotlib.axis.XTick at 0x58dc33a288>,\n",
              "  <matplotlib.axis.XTick at 0x58dc302ec8>,\n",
              "  <matplotlib.axis.XTick at 0x58dc7e9e48>,\n",
              "  <matplotlib.axis.XTick at 0x58dc7dd548>,\n",
              "  <matplotlib.axis.XTick at 0x58dbaaa4c8>,\n",
              "  <matplotlib.axis.XTick at 0x58dc3fc608>,\n",
              "  <matplotlib.axis.XTick at 0x58dc3fca88>,\n",
              "  <matplotlib.axis.XTick at 0x58dc335348>,\n",
              "  <matplotlib.axis.XTick at 0x58dc7dd808>,\n",
              "  <matplotlib.axis.XTick at 0x58dc885108>,\n",
              "  <matplotlib.axis.XTick at 0x58dc966608>,\n",
              "  <matplotlib.axis.XTick at 0x58dcaa4448>,\n",
              "  <matplotlib.axis.XTick at 0x58dc5fac48>,\n",
              "  <matplotlib.axis.XTick at 0x58dc4d9808>,\n",
              "  <matplotlib.axis.XTick at 0x58dc7f9648>,\n",
              "  <matplotlib.axis.XTick at 0x58dc7f9508>,\n",
              "  <matplotlib.axis.XTick at 0x58dc6d84c8>,\n",
              "  <matplotlib.axis.XTick at 0x58dc7f9248>,\n",
              "  <matplotlib.axis.XTick at 0x58dc335ac8>,\n",
              "  <matplotlib.axis.XTick at 0x58dc7def48>,\n",
              "  <matplotlib.axis.XTick at 0x58dc9d7e08>,\n",
              "  <matplotlib.axis.XTick at 0x58dc364788>,\n",
              "  <matplotlib.axis.XTick at 0x58dc5f6788>,\n",
              "  <matplotlib.axis.XTick at 0x58dc5f6888>,\n",
              "  <matplotlib.axis.XTick at 0x58dbff5fc8>,\n",
              "  <matplotlib.axis.XTick at 0x58dc0fe188>,\n",
              "  <matplotlib.axis.XTick at 0x58dcb08ec8>,\n",
              "  <matplotlib.axis.XTick at 0x58dc364a48>,\n",
              "  <matplotlib.axis.XTick at 0x58dc4d39c8>,\n",
              "  <matplotlib.axis.XTick at 0x58dc95f408>,\n",
              "  <matplotlib.axis.XTick at 0x58dc7f3488>,\n",
              "  <matplotlib.axis.XTick at 0x58dc9d2c48>,\n",
              "  <matplotlib.axis.XTick at 0x58dc35eac8>,\n",
              "  <matplotlib.axis.XTick at 0x58dbc33cc8>,\n",
              "  <matplotlib.axis.XTick at 0x58dc35dbc8>,\n",
              "  <matplotlib.axis.XTick at 0x58dc852f48>,\n",
              "  <matplotlib.axis.XTick at 0x58db9efcc8>,\n",
              "  <matplotlib.axis.XTick at 0x58dc95f4c8>,\n",
              "  <matplotlib.axis.XTick at 0x58dc6d0988>,\n",
              "  <matplotlib.axis.XTick at 0x58dc4d0708>,\n",
              "  <matplotlib.axis.XTick at 0x58dc7fd548>,\n",
              "  <matplotlib.axis.XTick at 0x58dc7fd4c8>,\n",
              "  <matplotlib.axis.XTick at 0x58dcdcef48>,\n",
              "  <matplotlib.axis.XTick at 0x58dc4cdd08>,\n",
              "  <matplotlib.axis.XTick at 0x58dbfff808>,\n",
              "  <matplotlib.axis.XTick at 0x58dc9cf2c8>,\n",
              "  <matplotlib.axis.XTick at 0x58dc6d0f08>,\n",
              "  <matplotlib.axis.XTick at 0x58dbbeaac8>,\n",
              "  <matplotlib.axis.XTick at 0x58dc309b48>,\n",
              "  <matplotlib.axis.XTick at 0x58dc6d5b08>,\n",
              "  <matplotlib.axis.XTick at 0x58db4399c8>,\n",
              "  <matplotlib.axis.XTick at 0x58dc6de908>,\n",
              "  <matplotlib.axis.XTick at 0x58dc962f08>,\n",
              "  <matplotlib.axis.XTick at 0x58dcdccc08>,\n",
              "  <matplotlib.axis.XTick at 0x58dc5ebd88>,\n",
              "  <matplotlib.axis.XTick at 0x58dc5eba08>,\n",
              "  <matplotlib.axis.XTick at 0x58dbbea748>,\n",
              "  <matplotlib.axis.XTick at 0x58dc9dc908>,\n",
              "  <matplotlib.axis.XTick at 0x58dc322fc8>,\n",
              "  <matplotlib.axis.XTick at 0x58dc32b2c8>,\n",
              "  <matplotlib.axis.XTick at 0x58dc32a248>,\n",
              "  <matplotlib.axis.XTick at 0x58dbf29208>,\n",
              "  <matplotlib.axis.XTick at 0x58d9bf0b48>,\n",
              "  <matplotlib.axis.XTick at 0x58dc95c7c8>,\n",
              "  <matplotlib.axis.XTick at 0x58dab4bf08>,\n",
              "  <matplotlib.axis.XTick at 0x58dc322388>,\n",
              "  <matplotlib.axis.XTick at 0x58dc922d88>,\n",
              "  <matplotlib.axis.XTick at 0x58db40e2c8>,\n",
              "  <matplotlib.axis.XTick at 0x58dbf57648>,\n",
              "  <matplotlib.axis.XTick at 0x58dc954588>,\n",
              "  <matplotlib.axis.XTick at 0x58dc9511c8>,\n",
              "  <matplotlib.axis.XTick at 0x58db40cdc8>],\n",
              " <a list of 105 Text xticklabel objects>)"
            ]
          },
          "metadata": {
            "tags": []
          },
          "execution_count": 149
        },
        {
          "output_type": "display_data",
          "data": {
            "image/png": "[encoded data removed]",
            "text/plain": [
              "<Figure size 432x288 with 1 Axes>"
            ]
          },
          "metadata": {
            "tags": [],
            "needs_background": "light"
          }
        }
      ]
    },
    {
      "cell_type": "code",
      "metadata": {
        "id": "iaqMwSKxpdEH",
        "colab_type": "code",
        "colab": {},
        "outputId": "93d07379-2a2f-4cef-811b-c81796c0bcaa"
      },
      "source": [
        "NON_FEATURES = X_train.columns\n",
        "import numpy as np\n",
        "IMPORTANCE_FEATURES = 100*np.round(arbrebis.feature_importances_,2)\n",
        "loca = np.arange(len(IMPORTANCE_FEATURES))\n",
        "index = np.argsort(IMPORTANCE_FEATURES)[::-1]\n",
        "#on ordonne\n",
        "IMPORTANCE_FEATURES = IMPORTANCE_FEATURES[index][0:15]\n",
        "NON_FEATURES = NON_FEATURES[index][0:15]\n",
        "loca = loca[0:15]\n",
        "import matplotlib.pyplot as plt\n",
        "plt.bar(loca,IMPORTANCE_FEATURES,edgecolor='red',color='red')\n",
        "plt.yticks([])\n",
        "plt.xticks(loca,NON_FEATURES,color='black',rotation=80)\n",
        "plt.box(False)\n",
        "for i in range(0,len(NON_FEATURES)):\n",
        "    plt.text(loca[i]-0.3,IMPORTANCE_FEATURES[i],str(np.round(IMPORTANCE_FEATURES[i],1)))\n",
        "plt.show"
      ],
      "execution_count": 0,
      "outputs": [
        {
          "output_type": "execute_result",
          "data": {
            "text/plain": [
              "<function matplotlib.pyplot.show(*args, **kw)>"
            ]
          },
          "metadata": {
            "tags": []
          },
          "execution_count": 36
        },
        {
          "output_type": "display_data",
          "data": {
            "image/png": "[encoded data removed]",
            "text/plain": [
              "<Figure size 432x288 with 1 Axes>"
            ]
          },
          "metadata": {
            "tags": [],
            "needs_background": "light"
          }
        }
      ]
    },
    {
      "cell_type": "code",
      "metadata": {
        "id": "S7GzTd_cpdEW",
        "colab_type": "code",
        "colab": {},
        "outputId": "df0a72e8-a7cc-4c5f-99ed-65f49f4ee4bc"
      },
      "source": [
        "#exo3\n",
        "#1\n",
        "from sklearn.ensemble import RandomForestClassifier\n",
        "randfo = RandomForestClassifier(n_estimators=300, criterion='gini',random_state=1998,max_depth=9,min_samples_split=3,min_samples_leaf=2,max_features=0.7)\n",
        "randfo.fit(X_train,Y_train)"
      ],
      "execution_count": 0,
      "outputs": [
        {
          "output_type": "execute_result",
          "data": {
            "text/plain": [
              "RandomForestClassifier(bootstrap=True, class_weight=None, criterion='gini',\n",
              "                       max_depth=9, max_features=0.7, max_leaf_nodes=None,\n",
              "                       min_impurity_decrease=0.0, min_impurity_split=None,\n",
              "                       min_samples_leaf=2, min_samples_split=3,\n",
              "                       min_weight_fraction_leaf=0.0, n_estimators=300,\n",
              "                       n_jobs=None, oob_score=False, random_state=1998,\n",
              "                       verbose=0, warm_start=False)"
            ]
          },
          "metadata": {
            "tags": []
          },
          "execution_count": 39
        }
      ]
    },
    {
      "cell_type": "code",
      "metadata": {
        "id": "isCDZ6G4pdEb",
        "colab_type": "code",
        "colab": {}
      },
      "source": [
        "#2\n",
        "#c'est le nombre de features qu'on veut pour optimiser la division des données de type test et train"
      ],
      "execution_count": 0,
      "outputs": []
    },
    {
      "cell_type": "code",
      "metadata": {
        "id": "_D87ArbYpdEf",
        "colab_type": "code",
        "colab": {},
        "outputId": "981972a6-e44e-4f14-8f02-1dda579f529f"
      },
      "source": [
        "#3\n",
        "Y_pred3= randfo.predict(X_test)\n",
        "from sklearn.metrics import accuracy_score\n",
        "accuracy_score(Y_test,Y_pred3)"
      ],
      "execution_count": 0,
      "outputs": [
        {
          "output_type": "execute_result",
          "data": {
            "text/plain": [
              "0.7262443438914027"
            ]
          },
          "metadata": {
            "tags": []
          },
          "execution_count": 41
        }
      ]
    },
    {
      "cell_type": "code",
      "metadata": {
        "id": "QnkA8hO2pdEk",
        "colab_type": "code",
        "colab": {},
        "outputId": "5190b462-f760-4abe-a62f-1387bcb3c15a"
      },
      "source": [
        "#4\n",
        "from sklearn.metrics import roc_auc_score, auc\n",
        "roc_auc_score(Y_test,randfo.predict_proba(X_test)[:,1])\n"
      ],
      "execution_count": 0,
      "outputs": [
        {
          "output_type": "execute_result",
          "data": {
            "text/plain": [
              "0.7777893660958262"
            ]
          },
          "metadata": {
            "tags": []
          },
          "execution_count": 42
        }
      ]
    }
  ]
}