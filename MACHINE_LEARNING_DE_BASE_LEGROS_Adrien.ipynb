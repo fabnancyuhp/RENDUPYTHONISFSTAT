{
  "nbformat": 4,
  "nbformat_minor": 0,
  "metadata": {
    "kernelspec": {
      "display_name": "Python 3",
      "language": "python",
      "name": "python3"
    },
    "language_info": {
      "codemirror_mode": {
        "name": "ipython",
        "version": 3
      },
      "file_extension": ".py",
      "mimetype": "text/x-python",
      "name": "python",
      "nbconvert_exporter": "python",
      "pygments_lexer": "ipython3",
      "version": "3.7.1"
    },
    "colab": {
      "name": "MACHINE LEARNING DE BASE_LEGROS_Adrien.ipynb",
      "provenance": [],
      "include_colab_link": true
    }
  },
  "cells": [
    {
      "cell_type": "markdown",
      "metadata": {
        "id": "view-in-github",
        "colab_type": "text"
      },
      "source": [
        "<a href=\"https://colab.research.google.com/github/fabnancyuhp/RENDUPYTHONISFSTAT/blob/master/MACHINE_LEARNING_DE_BASE_LEGROS_Adrien.ipynb\" target=\"_parent\"><img src=\"https://colab.research.google.com/assets/colab-badge.svg\" alt=\"Open In Colab\"/></a>"
      ]
    },
    {
      "cell_type": "markdown",
      "metadata": {
        "id": "3uGaZ2oiinPO",
        "colab_type": "text"
      },
      "source": [
        "Dans ce chapitre on montre des utilisations de la régression logistic et des arbres de décision. On aborde aussi les matrices de confusion, les scores auc ainsi que les courbe ROC."
      ]
    },
    {
      "cell_type": "markdown",
      "metadata": {
        "id": "rNt9fPcSinPT",
        "colab_type": "text"
      },
      "source": [
        "# Machine learning sur les données diabete\n",
        "Dans cette section, le but est de montrer l'utilisation du machine learning sur les  données diabéte. Le but est de prédire si la personne est testé positive pour le diabéte (valeur 1) ou non (valeur 0).<br>\n",
        "Les données sont téléchargeable\n",
        "* https://raw.githubusercontent.com/jbrownlee/Datasets/master/pima-indians-diabetes.data.csv\n",
        "* https://1drv.ms/u/s!Am09h0q2OIX0cL4kHlfXInGaJn4?e=QcafFJ"
      ]
    },
    {
      "cell_type": "markdown",
      "metadata": {
        "id": "u4ck9mibinPV",
        "colab_type": "text"
      },
      "source": [
        "On décrit les variables du dataset diabete si-dessous. Toutes les variables sont numériques.\n",
        "   1. Number of times pregnant\n",
        "   2. Plasma glucose concentration a 2 hours in an oral glucose tolerance test\n",
        "   3. Diastolic blood pressure (mm Hg)\n",
        "   4. Triceps skin fold thickness (mm)\n",
        "   5. 2-Hour serum insulin (mu U/ml)\n",
        "   6. Body mass index (weight in kg/(height in m)^2)\n",
        "   7. Diabetes pedigree function\n",
        "   8. Age (years)\n",
        "   9. Class variable (0 or 1)"
      ]
    },
    {
      "cell_type": "markdown",
      "metadata": {
        "id": "Zf593HjtinPX",
        "colab_type": "text"
      },
      "source": [
        "## Préparation des données"
      ]
    },
    {
      "cell_type": "markdown",
      "metadata": {
        "id": "0sRyRNukinPY",
        "colab_type": "text"
      },
      "source": [
        "On commence par importer les données à l'aide du package pandas. Pandas est un package conçu pour manipuler des dataframe."
      ]
    },
    {
      "cell_type": "code",
      "metadata": {
        "id": "u64fpTIAinPa",
        "colab_type": "code",
        "colab": {}
      },
      "source": [
        "import pandas as pd\n",
        "list_col = ['Plas_glucose_conc','Dias_blood_pressure','Triceps_skin_fold_thi','Hour_serum_insulin',\\\n",
        "            'Body_mass_index','Diabet_pedi_func','Age','Class_variable']\n",
        "diabete  = pd.read_csv(\"C:/Users/legrad15/Desktop/pima-indians-diabetes.data.csv\",sep=',',header=None,names=list_col)"
      ],
      "execution_count": 0,
      "outputs": []
    },
    {
      "cell_type": "code",
      "metadata": {
        "id": "1to-pBvwinPh",
        "colab_type": "code",
        "colab": {},
        "outputId": "dc0289d4-05cc-4b37-a374-1a58744f4855"
      },
      "source": [
        "diabete.head(2)"
      ],
      "execution_count": 0,
      "outputs": [
        {
          "output_type": "execute_result",
          "data": {
            "text/html": [
              "<div>\n",
              "<style scoped>\n",
              "    .dataframe tbody tr th:only-of-type {\n",
              "        vertical-align: middle;\n",
              "    }\n",
              "\n",
              "    .dataframe tbody tr th {\n",
              "        vertical-align: top;\n",
              "    }\n",
              "\n",
              "    .dataframe thead th {\n",
              "        text-align: right;\n",
              "    }\n",
              "</style>\n",
              "<table border=\"1\" class=\"dataframe\">\n",
              "  <thead>\n",
              "    <tr style=\"text-align: right;\">\n",
              "      <th></th>\n",
              "      <th>Plas_glucose_conc</th>\n",
              "      <th>Dias_blood_pressure</th>\n",
              "      <th>Triceps_skin_fold_thi</th>\n",
              "      <th>Hour_serum_insulin</th>\n",
              "      <th>Body_mass_index</th>\n",
              "      <th>Diabet_pedi_func</th>\n",
              "      <th>Age</th>\n",
              "      <th>Class_variable</th>\n",
              "    </tr>\n",
              "  </thead>\n",
              "  <tbody>\n",
              "    <tr>\n",
              "      <th>6</th>\n",
              "      <td>148</td>\n",
              "      <td>72</td>\n",
              "      <td>35</td>\n",
              "      <td>0</td>\n",
              "      <td>33.6</td>\n",
              "      <td>0.627</td>\n",
              "      <td>50</td>\n",
              "      <td>1</td>\n",
              "    </tr>\n",
              "    <tr>\n",
              "      <th>1</th>\n",
              "      <td>85</td>\n",
              "      <td>66</td>\n",
              "      <td>29</td>\n",
              "      <td>0</td>\n",
              "      <td>26.6</td>\n",
              "      <td>0.351</td>\n",
              "      <td>31</td>\n",
              "      <td>0</td>\n",
              "    </tr>\n",
              "  </tbody>\n",
              "</table>\n",
              "</div>"
            ],
            "text/plain": [
              "   Plas_glucose_conc  Dias_blood_pressure  Triceps_skin_fold_thi  \\\n",
              "6                148                   72                     35   \n",
              "1                 85                   66                     29   \n",
              "\n",
              "   Hour_serum_insulin  Body_mass_index  Diabet_pedi_func  Age  Class_variable  \n",
              "6                   0             33.6             0.627   50               1  \n",
              "1                   0             26.6             0.351   31               0  "
            ]
          },
          "metadata": {
            "tags": []
          },
          "execution_count": 9
        }
      ]
    },
    {
      "cell_type": "markdown",
      "metadata": {
        "id": "23AzB2T0inPo",
        "colab_type": "text"
      },
      "source": [
        "La variable que l'on veut prédire est Class_variable (target_vlaues). Les autres variables sont les features, c'est à dire les variables explicatives. On va donc séparer ce dataframe en 2. X est l'ensemble des features, Y la variable à predire."
      ]
    },
    {
      "cell_type": "code",
      "metadata": {
        "id": "SNbxbvgtinPq",
        "colab_type": "code",
        "colab": {}
      },
      "source": [
        "features = [colonne for colonne in diabete.columns if colonne!='Class_variable']\n",
        "X = diabete[features]\n",
        "Y = diabete['Class_variable']"
      ],
      "execution_count": 0,
      "outputs": []
    },
    {
      "cell_type": "markdown",
      "metadata": {
        "id": "M-30QBZEinPv",
        "colab_type": "text"
      },
      "source": [
        "On creer un ensemble d'apprentissage et de test. On utilise sklearn.model_selection.train_test_split. "
      ]
    },
    {
      "cell_type": "code",
      "metadata": {
        "id": "EwFfz4flinPw",
        "colab_type": "code",
        "colab": {},
        "outputId": "7736b1bd-faaf-48b0-9aed-6f45befa1952"
      },
      "source": [
        "from sklearn.model_selection import train_test_split\n",
        "X_train,X_test,Y_train,Y_test = train_test_split(X,Y,random_state=1998,test_size=0.3)\n",
        "len(X_train)/len(X)"
      ],
      "execution_count": 0,
      "outputs": [
        {
          "output_type": "execute_result",
          "data": {
            "text/plain": [
              "0.69921875"
            ]
          },
          "metadata": {
            "tags": []
          },
          "execution_count": 14
        }
      ]
    },
    {
      "cell_type": "markdown",
      "metadata": {
        "id": "0vUPNhSZinP5",
        "colab_type": "text"
      },
      "source": [
        "On affiche le début de X_train et le début de Y_train:"
      ]
    },
    {
      "cell_type": "code",
      "metadata": {
        "id": "Kqf1OlT6inP7",
        "colab_type": "code",
        "colab": {},
        "outputId": "699e9b88-2c13-45a5-de68-8facc99da823"
      },
      "source": [
        "X_train.head(2)"
      ],
      "execution_count": 0,
      "outputs": [
        {
          "output_type": "execute_result",
          "data": {
            "text/html": [
              "<div>\n",
              "<style scoped>\n",
              "    .dataframe tbody tr th:only-of-type {\n",
              "        vertical-align: middle;\n",
              "    }\n",
              "\n",
              "    .dataframe tbody tr th {\n",
              "        vertical-align: top;\n",
              "    }\n",
              "\n",
              "    .dataframe thead th {\n",
              "        text-align: right;\n",
              "    }\n",
              "</style>\n",
              "<table border=\"1\" class=\"dataframe\">\n",
              "  <thead>\n",
              "    <tr style=\"text-align: right;\">\n",
              "      <th></th>\n",
              "      <th>Plas_glucose_conc</th>\n",
              "      <th>Dias_blood_pressure</th>\n",
              "      <th>Triceps_skin_fold_thi</th>\n",
              "      <th>Hour_serum_insulin</th>\n",
              "      <th>Body_mass_index</th>\n",
              "      <th>Diabet_pedi_func</th>\n",
              "      <th>Age</th>\n",
              "    </tr>\n",
              "  </thead>\n",
              "  <tbody>\n",
              "    <tr>\n",
              "      <th>4</th>\n",
              "      <td>128</td>\n",
              "      <td>70</td>\n",
              "      <td>0</td>\n",
              "      <td>0</td>\n",
              "      <td>34.3</td>\n",
              "      <td>0.303</td>\n",
              "      <td>24</td>\n",
              "    </tr>\n",
              "    <tr>\n",
              "      <th>6</th>\n",
              "      <td>147</td>\n",
              "      <td>80</td>\n",
              "      <td>0</td>\n",
              "      <td>0</td>\n",
              "      <td>29.5</td>\n",
              "      <td>0.178</td>\n",
              "      <td>50</td>\n",
              "    </tr>\n",
              "  </tbody>\n",
              "</table>\n",
              "</div>"
            ],
            "text/plain": [
              "   Plas_glucose_conc  Dias_blood_pressure  Triceps_skin_fold_thi  \\\n",
              "4                128                   70                      0   \n",
              "6                147                   80                      0   \n",
              "\n",
              "   Hour_serum_insulin  Body_mass_index  Diabet_pedi_func  Age  \n",
              "4                   0             34.3             0.303   24  \n",
              "6                   0             29.5             0.178   50  "
            ]
          },
          "metadata": {
            "tags": []
          },
          "execution_count": 15
        }
      ]
    },
    {
      "cell_type": "code",
      "metadata": {
        "id": "9j7WY0A8inQB",
        "colab_type": "code",
        "colab": {},
        "outputId": "07d85d8a-ba87-4b59-e4e5-220d72b78df8"
      },
      "source": [
        "Y_train.head(2)"
      ],
      "execution_count": 0,
      "outputs": [
        {
          "output_type": "execute_result",
          "data": {
            "text/plain": [
              "4    0\n",
              "6    1\n",
              "Name: Class_variable, dtype: int64"
            ]
          },
          "metadata": {
            "tags": []
          },
          "execution_count": 16
        }
      ]
    },
    {
      "cell_type": "markdown",
      "metadata": {
        "id": "yLGuSoFOinQG",
        "colab_type": "text"
      },
      "source": [
        "## Régression logistique sur les données diabète\n",
        "Voici le lien sur la documentation sklearn en lien avec la régression logistique: \n",
        "https://scikit-learn.org/stable/modules/generated/sklearn.linear_model.LogisticRegression.html <br>\n",
        "On va faire une régression logistique sur les données diabète en plusieurs étapes:\n",
        "* on appelle le modèle de régression logistque\n",
        "* on entraine le modèle avec X_train et Y_train"
      ]
    },
    {
      "cell_type": "markdown",
      "metadata": {
        "id": "YZJnVtbxinQH",
        "colab_type": "text"
      },
      "source": [
        "1/ On appelle le modèle de régression logistique. On a les paramètres suivants:\n",
        "* penality : Used to specify the norm used in the penalization\n",
        "* solver : Algorithm to use in the optimization problem.\n",
        "* max_iter : Maximum number of iterations taken for the solvers to converge."
      ]
    },
    {
      "cell_type": "code",
      "metadata": {
        "id": "n4-o0XfZinQJ",
        "colab_type": "code",
        "colab": {}
      },
      "source": [
        "from sklearn.linear_model import LogisticRegression\n",
        "clf  = LogisticRegression(penalty='l2',random_state=1998, solver='liblinear',max_iter=1000, multi_class='auto')"
      ],
      "execution_count": 0,
      "outputs": []
    },
    {
      "cell_type": "markdown",
      "metadata": {
        "id": "O2TwbiGOinQO",
        "colab_type": "text"
      },
      "source": [
        "2/ On entraine le modèle avec X_train et Y_train:"
      ]
    },
    {
      "cell_type": "code",
      "metadata": {
        "id": "oyLJvJfginQQ",
        "colab_type": "code",
        "colab": {},
        "outputId": "c5184d54-bf59-4a0a-c671-fcb008ea04c3"
      },
      "source": [
        "clf.fit(X_train,Y_train)\n",
        "clf.coef_"
      ],
      "execution_count": 0,
      "outputs": [
        {
          "output_type": "execute_result",
          "data": {
            "text/plain": [
              "array([[ 2.42369714e-02, -1.51924350e-02, -5.41497179e-03,\n",
              "        -3.71341301e-04,  5.18187229e-02,  5.94011955e-01,\n",
              "         3.09534694e-02]])"
            ]
          },
          "metadata": {
            "tags": []
          },
          "execution_count": 27
        }
      ]
    },
    {
      "cell_type": "markdown",
      "metadata": {
        "id": "8QYE-MmIinQV",
        "colab_type": "text"
      },
      "source": [
        "3/ On calcule les prévisions puis la précision du modèle:"
      ]
    },
    {
      "cell_type": "code",
      "metadata": {
        "id": "yEaSpL1hinQX",
        "colab_type": "code",
        "colab": {}
      },
      "source": [
        "Y_pred = clf.predict(X_test)"
      ],
      "execution_count": 0,
      "outputs": []
    },
    {
      "cell_type": "code",
      "metadata": {
        "id": "AOkHVZ_NinQc",
        "colab_type": "code",
        "colab": {},
        "outputId": "7454e2bf-1eb0-4630-bb05-9fffb0fd53ff"
      },
      "source": [
        "from sklearn.metrics import accuracy_score\n",
        "accuracy_score(Y_test,Y_pred)"
      ],
      "execution_count": 0,
      "outputs": [
        {
          "output_type": "execute_result",
          "data": {
            "text/plain": [
              "0.7922077922077922"
            ]
          },
          "metadata": {
            "tags": []
          },
          "execution_count": 20
        }
      ]
    },
    {
      "cell_type": "markdown",
      "metadata": {
        "id": "QfLcnSjrinQh",
        "colab_type": "text"
      },
      "source": [
        "On affiche la matrice de confusion:"
      ]
    },
    {
      "cell_type": "code",
      "metadata": {
        "id": "w4mDDPayinQi",
        "colab_type": "code",
        "colab": {},
        "outputId": "2bac61c5-0f8b-4b0e-d089-5cf3c2a475cd"
      },
      "source": [
        "from sklearn.metrics import confusion_matrix\n",
        "confusion_matrix(Y_test,Y_pred)"
      ],
      "execution_count": 0,
      "outputs": [
        {
          "output_type": "execute_result",
          "data": {
            "text/plain": [
              "array([[129,  21],\n",
              "       [ 27,  54]], dtype=int64)"
            ]
          },
          "metadata": {
            "tags": []
          },
          "execution_count": 21
        }
      ]
    },
    {
      "cell_type": "markdown",
      "metadata": {
        "id": "TNDkK2LDinQp",
        "colab_type": "text"
      },
      "source": [
        "4/On calcule les prévison en probabilité du modèle"
      ]
    },
    {
      "cell_type": "code",
      "metadata": {
        "id": "oQhPNvKDinQs",
        "colab_type": "code",
        "colab": {},
        "outputId": "0e21f270-3f73-455b-c134-5e3471bd2c2d"
      },
      "source": [
        "Y_pred_prob = clf.predict_proba(X_test)\n",
        "Y_pred_prob"
      ],
      "execution_count": 0,
      "outputs": [
        {
          "output_type": "execute_result",
          "data": {
            "text/plain": [
              "array([[0.56407368, 0.43592632],\n",
              "       [0.83361883, 0.16638117],\n",
              "       [0.73370557, 0.26629443],\n",
              "       [0.79185723, 0.20814277],\n",
              "       [0.24089511, 0.75910489],\n",
              "       [0.48523739, 0.51476261],\n",
              "       [0.94374125, 0.05625875],\n",
              "       [0.43440258, 0.56559742],\n",
              "       [0.75076846, 0.24923154],\n",
              "       [0.73938296, 0.26061704],\n",
              "       [0.54660493, 0.45339507],\n",
              "       [0.83370798, 0.16629202],\n",
              "       [0.65188956, 0.34811044],\n",
              "       [0.71033653, 0.28966347],\n",
              "       [0.62659559, 0.37340441],\n",
              "       [0.73091186, 0.26908814],\n",
              "       [0.64922906, 0.35077094],\n",
              "       [0.551378  , 0.448622  ],\n",
              "       [0.80098145, 0.19901855],\n",
              "       [0.52421598, 0.47578402],\n",
              "       [0.14030625, 0.85969375],\n",
              "       [0.59888837, 0.40111163],\n",
              "       [0.68445151, 0.31554849],\n",
              "       [0.60485304, 0.39514696],\n",
              "       [0.78941421, 0.21058579],\n",
              "       [0.91134133, 0.08865867],\n",
              "       [0.39392941, 0.60607059],\n",
              "       [0.21772766, 0.78227234],\n",
              "       [0.8014433 , 0.1985567 ],\n",
              "       [0.20154906, 0.79845094],\n",
              "       [0.34066456, 0.65933544],\n",
              "       [0.65002826, 0.34997174],\n",
              "       [0.23259756, 0.76740244],\n",
              "       [0.82585487, 0.17414513],\n",
              "       [0.2868783 , 0.7131217 ],\n",
              "       [0.30686783, 0.69313217],\n",
              "       [0.77785968, 0.22214032],\n",
              "       [0.86664347, 0.13335653],\n",
              "       [0.73015044, 0.26984956],\n",
              "       [0.65106379, 0.34893621],\n",
              "       [0.28505089, 0.71494911],\n",
              "       [0.73038091, 0.26961909],\n",
              "       [0.82541246, 0.17458754],\n",
              "       [0.41120603, 0.58879397],\n",
              "       [0.43183636, 0.56816364],\n",
              "       [0.60866951, 0.39133049],\n",
              "       [0.79735131, 0.20264869],\n",
              "       [0.65293429, 0.34706571],\n",
              "       [0.23169238, 0.76830762],\n",
              "       [0.50526346, 0.49473654],\n",
              "       [0.69313925, 0.30686075],\n",
              "       [0.18675946, 0.81324054],\n",
              "       [0.78632395, 0.21367605],\n",
              "       [0.54236976, 0.45763024],\n",
              "       [0.76903521, 0.23096479],\n",
              "       [0.60312365, 0.39687635],\n",
              "       [0.39642067, 0.60357933],\n",
              "       [0.89136761, 0.10863239],\n",
              "       [0.23277437, 0.76722563],\n",
              "       [0.30761455, 0.69238545],\n",
              "       [0.88830441, 0.11169559],\n",
              "       [0.46665882, 0.53334118],\n",
              "       [0.76014075, 0.23985925],\n",
              "       [0.40884908, 0.59115092],\n",
              "       [0.88988259, 0.11011741],\n",
              "       [0.11438152, 0.88561848],\n",
              "       [0.49694929, 0.50305071],\n",
              "       [0.67130347, 0.32869653],\n",
              "       [0.45343839, 0.54656161],\n",
              "       [0.81448226, 0.18551774],\n",
              "       [0.69937532, 0.30062468],\n",
              "       [0.5262818 , 0.4737182 ],\n",
              "       [0.82027996, 0.17972004],\n",
              "       [0.82542516, 0.17457484],\n",
              "       [0.34429182, 0.65570818],\n",
              "       [0.74419726, 0.25580274],\n",
              "       [0.80693225, 0.19306775],\n",
              "       [0.56829365, 0.43170635],\n",
              "       [0.1077899 , 0.8922101 ],\n",
              "       [0.87397751, 0.12602249],\n",
              "       [0.78921032, 0.21078968],\n",
              "       [0.52800175, 0.47199825],\n",
              "       [0.65605793, 0.34394207],\n",
              "       [0.73226298, 0.26773702],\n",
              "       [0.83111141, 0.16888859],\n",
              "       [0.84334583, 0.15665417],\n",
              "       [0.33024012, 0.66975988],\n",
              "       [0.49427086, 0.50572914],\n",
              "       [0.72106932, 0.27893068],\n",
              "       [0.63091258, 0.36908742],\n",
              "       [0.52466006, 0.47533994],\n",
              "       [0.76188954, 0.23811046],\n",
              "       [0.84645262, 0.15354738],\n",
              "       [0.42307958, 0.57692042],\n",
              "       [0.21022019, 0.78977981],\n",
              "       [0.3520755 , 0.6479245 ],\n",
              "       [0.61465157, 0.38534843],\n",
              "       [0.37514453, 0.62485547],\n",
              "       [0.80666889, 0.19333111],\n",
              "       [0.34672699, 0.65327301],\n",
              "       [0.92312319, 0.07687681],\n",
              "       [0.67823378, 0.32176622],\n",
              "       [0.59678224, 0.40321776],\n",
              "       [0.87044999, 0.12955001],\n",
              "       [0.47890477, 0.52109523],\n",
              "       [0.65458681, 0.34541319],\n",
              "       [0.35026359, 0.64973641],\n",
              "       [0.39163478, 0.60836522],\n",
              "       [0.25251883, 0.74748117],\n",
              "       [0.82978455, 0.17021545],\n",
              "       [0.68091039, 0.31908961],\n",
              "       [0.30862319, 0.69137681],\n",
              "       [0.78977371, 0.21022629],\n",
              "       [0.51591585, 0.48408415],\n",
              "       [0.51994331, 0.48005669],\n",
              "       [0.77921842, 0.22078158],\n",
              "       [0.35913784, 0.64086216],\n",
              "       [0.74738184, 0.25261816],\n",
              "       [0.81519092, 0.18480908],\n",
              "       [0.22859352, 0.77140648],\n",
              "       [0.92507108, 0.07492892],\n",
              "       [0.33248189, 0.66751811],\n",
              "       [0.33830524, 0.66169476],\n",
              "       [0.67969363, 0.32030637],\n",
              "       [0.98214325, 0.01785675],\n",
              "       [0.42583213, 0.57416787],\n",
              "       [0.36770641, 0.63229359],\n",
              "       [0.68330145, 0.31669855],\n",
              "       [0.67072204, 0.32927796],\n",
              "       [0.67643201, 0.32356799],\n",
              "       [0.47771218, 0.52228782],\n",
              "       [0.76336579, 0.23663421],\n",
              "       [0.47195016, 0.52804984],\n",
              "       [0.24990727, 0.75009273],\n",
              "       [0.63459969, 0.36540031],\n",
              "       [0.81401331, 0.18598669],\n",
              "       [0.74716073, 0.25283927],\n",
              "       [0.82369259, 0.17630741],\n",
              "       [0.87176933, 0.12823067],\n",
              "       [0.84170552, 0.15829448],\n",
              "       [0.39861061, 0.60138939],\n",
              "       [0.47879166, 0.52120834],\n",
              "       [0.70404548, 0.29595452],\n",
              "       [0.78725023, 0.21274977],\n",
              "       [0.75996828, 0.24003172],\n",
              "       [0.39816749, 0.60183251],\n",
              "       [0.84223052, 0.15776948],\n",
              "       [0.21468064, 0.78531936],\n",
              "       [0.69518298, 0.30481702],\n",
              "       [0.82573563, 0.17426437],\n",
              "       [0.33400439, 0.66599561],\n",
              "       [0.48109137, 0.51890863],\n",
              "       [0.66524113, 0.33475887],\n",
              "       [0.77351847, 0.22648153],\n",
              "       [0.87627877, 0.12372123],\n",
              "       [0.79320181, 0.20679819],\n",
              "       [0.8787001 , 0.1212999 ],\n",
              "       [0.74506117, 0.25493883],\n",
              "       [0.56111916, 0.43888084],\n",
              "       [0.55468996, 0.44531004],\n",
              "       [0.38981701, 0.61018299],\n",
              "       [0.34542178, 0.65457822],\n",
              "       [0.6401667 , 0.3598333 ],\n",
              "       [0.45376868, 0.54623132],\n",
              "       [0.84111811, 0.15888189],\n",
              "       [0.78139607, 0.21860393],\n",
              "       [0.45470275, 0.54529725],\n",
              "       [0.90958753, 0.09041247],\n",
              "       [0.72542061, 0.27457939],\n",
              "       [0.35926959, 0.64073041],\n",
              "       [0.60833453, 0.39166547],\n",
              "       [0.77930226, 0.22069774],\n",
              "       [0.59600422, 0.40399578],\n",
              "       [0.83936542, 0.16063458],\n",
              "       [0.45988563, 0.54011437],\n",
              "       [0.67226842, 0.32773158],\n",
              "       [0.69002519, 0.30997481],\n",
              "       [0.87733849, 0.12266151],\n",
              "       [0.48662699, 0.51337301],\n",
              "       [0.60899938, 0.39100062],\n",
              "       [0.65464632, 0.34535368],\n",
              "       [0.91204972, 0.08795028],\n",
              "       [0.48651778, 0.51348222],\n",
              "       [0.75817113, 0.24182887],\n",
              "       [0.14386638, 0.85613362],\n",
              "       [0.77881474, 0.22118526],\n",
              "       [0.20460892, 0.79539108],\n",
              "       [0.51059519, 0.48940481],\n",
              "       [0.67622588, 0.32377412],\n",
              "       [0.2171092 , 0.7828908 ],\n",
              "       [0.80013462, 0.19986538],\n",
              "       [0.78468557, 0.21531443],\n",
              "       [0.19455723, 0.80544277],\n",
              "       [0.55406612, 0.44593388],\n",
              "       [0.76075899, 0.23924101],\n",
              "       [0.6865953 , 0.3134047 ],\n",
              "       [0.91155317, 0.08844683],\n",
              "       [0.98704279, 0.01295721],\n",
              "       [0.54901279, 0.45098721],\n",
              "       [0.55864833, 0.44135167],\n",
              "       [0.64715168, 0.35284832],\n",
              "       [0.94201031, 0.05798969],\n",
              "       [0.69435935, 0.30564065],\n",
              "       [0.67076812, 0.32923188],\n",
              "       [0.44768421, 0.55231579],\n",
              "       [0.74434006, 0.25565994],\n",
              "       [0.87299006, 0.12700994],\n",
              "       [0.89221402, 0.10778598],\n",
              "       [0.47389403, 0.52610597],\n",
              "       [0.8312046 , 0.1687954 ],\n",
              "       [0.79674148, 0.20325852],\n",
              "       [0.88013919, 0.11986081],\n",
              "       [0.73801499, 0.26198501],\n",
              "       [0.34809842, 0.65190158],\n",
              "       [0.89172345, 0.10827655],\n",
              "       [0.26105377, 0.73894623],\n",
              "       [0.18902278, 0.81097722],\n",
              "       [0.73365887, 0.26634113],\n",
              "       [0.74755704, 0.25244296],\n",
              "       [0.78308727, 0.21691273],\n",
              "       [0.54983351, 0.45016649],\n",
              "       [0.46886266, 0.53113734],\n",
              "       [0.91196602, 0.08803398],\n",
              "       [0.31407237, 0.68592763],\n",
              "       [0.8945095 , 0.1054905 ],\n",
              "       [0.58168023, 0.41831977],\n",
              "       [0.84382673, 0.15617327],\n",
              "       [0.18272916, 0.81727084],\n",
              "       [0.70515796, 0.29484204],\n",
              "       [0.43683769, 0.56316231],\n",
              "       [0.28807136, 0.71192864]])"
            ]
          },
          "metadata": {
            "tags": []
          },
          "execution_count": 23
        }
      ]
    },
    {
      "cell_type": "markdown",
      "metadata": {
        "id": "NzOPiuVbinQx",
        "colab_type": "text"
      },
      "source": [
        "5/On calule le score AUC puis on trace la courbe ROC"
      ]
    },
    {
      "cell_type": "code",
      "metadata": {
        "id": "7THpY65sinQz",
        "colab_type": "code",
        "colab": {},
        "outputId": "4ecefba3-5411-4abc-e83e-9379257477d9"
      },
      "source": [
        "from sklearn.metrics import roc_auc_score, auc\n",
        "roc_auc_score(Y_test,clf.predict_proba(X_test)[:,1])"
      ],
      "execution_count": 0,
      "outputs": [
        {
          "output_type": "execute_result",
          "data": {
            "text/plain": [
              "0.8300411522633744"
            ]
          },
          "metadata": {
            "tags": []
          },
          "execution_count": 28
        }
      ]
    },
    {
      "cell_type": "markdown",
      "metadata": {
        "id": "8BMFqk1UinQ4",
        "colab_type": "text"
      },
      "source": [
        "6/ On trace la courbe ROC: on utilise la fonction sklearn.metrics.roc_curve qui calcul les taux de faux positive (fpr) et les taux de vrais positif (tpr) ainsi que le seuils threshold"
      ]
    },
    {
      "cell_type": "code",
      "metadata": {
        "id": "WfDqhTBkinQ5",
        "colab_type": "code",
        "colab": {},
        "outputId": "8d3098c7-2036-4c70-8204-60ffd85752a8"
      },
      "source": [
        "from sklearn.metrics import roc_curve, auc\n",
        "fpr, tpr, threshold = roc_curve(Y_test,clf.predict_proba(X_test)[:,1])\n",
        "auc(fpr,tpr)"
      ],
      "execution_count": 0,
      "outputs": [
        {
          "output_type": "execute_result",
          "data": {
            "text/plain": [
              "0.8300411522633744"
            ]
          },
          "metadata": {
            "tags": []
          },
          "execution_count": 29
        }
      ]
    },
    {
      "cell_type": "code",
      "metadata": {
        "id": "rR-Gycb3inQ-",
        "colab_type": "code",
        "colab": {},
        "outputId": "cffa387f-7e73-4229-ee7b-1af341bdc8b4"
      },
      "source": [
        "import numpy as np\n",
        "\n",
        "import matplotlib.pyplot as plt\n",
        "plt.plot(fpr,tpr,label = \"SCORE AUC:\"+str(np.round(auc(fpr,tpr),4)))\n",
        "plt.plot([0,1],[0,1],color='blue')\n",
        "plt.ylabel(\"tpr\",fontsize='large')\n",
        "plt.xlabel(\"fpr\",fontsize='large')\n",
        "plt.fill_between(fpr, fpr, tpr,color='grey')\n",
        "plt.legend(loc=4)\n",
        "plt.show()"
      ],
      "execution_count": 0,
      "outputs": [
        {
          "output_type": "display_data",
          "data": {
            "image/png": "[encoded data removed]",
            "text/plain": [
              "<Figure size 432x288 with 1 Axes>"
            ]
          },
          "metadata": {
            "tags": [],
            "needs_background": "light"
          }
        }
      ]
    },
    {
      "cell_type": "markdown",
      "metadata": {
        "id": "148wsiiqinRD",
        "colab_type": "text"
      },
      "source": [
        "7/ On affiche les valeurs des coéficients et les variables associées:"
      ]
    },
    {
      "cell_type": "code",
      "metadata": {
        "id": "wDDrNpIdinRF",
        "colab_type": "code",
        "colab": {},
        "outputId": "dd412f2d-acb1-4f1a-d9f3-5ff3dc9a3f43"
      },
      "source": [
        "clf.coef_[0]"
      ],
      "execution_count": 0,
      "outputs": [
        {
          "output_type": "execute_result",
          "data": {
            "text/plain": [
              "array([ 2.42425533e-02, -1.51853686e-02, -5.41700512e-03, -3.72285248e-04,\n",
              "        5.18429771e-02,  5.95563971e-01,  3.09601207e-02])"
            ]
          },
          "metadata": {
            "tags": []
          },
          "execution_count": 224
        }
      ]
    },
    {
      "cell_type": "code",
      "metadata": {
        "id": "RwfhiEw2inRK",
        "colab_type": "code",
        "colab": {},
        "outputId": "ae10e985-4401-438a-e7e2-ca0653acb788"
      },
      "source": [
        "X_train.columns"
      ],
      "execution_count": 0,
      "outputs": [
        {
          "output_type": "execute_result",
          "data": {
            "text/plain": [
              "Index(['Plas_glucose_conc', 'Dias_blood_pressure', 'Triceps_skin_fold_thi',\n",
              "       'Hour_serum_insulin', 'Body_mass_index', 'Diabet_pedi_func', 'Age'],\n",
              "      dtype='object')"
            ]
          },
          "metadata": {
            "tags": []
          },
          "execution_count": 225
        }
      ]
    },
    {
      "cell_type": "markdown",
      "metadata": {
        "id": "HO4laVj1inRQ",
        "colab_type": "text"
      },
      "source": [
        "## Arbre de décision sur les données diabète"
      ]
    },
    {
      "cell_type": "markdown",
      "metadata": {
        "id": "w7kWqb3ninRS",
        "colab_type": "text"
      },
      "source": [
        "1/ On appelle l'objet arbre de décision. On a les paramètres suivants (non exhaustif):\n",
        "* criterion : The function to measure the quality of a split. Supported criteria are “gini” for the Gini impurity and “entropy” for the information gain.\n",
        "* max_depth : The maximum depth of the tree\n",
        "* min_samples_split : The minimum number of samples required to split an internal node\n",
        "* max_features : The number of features to consider when looking for the best split"
      ]
    },
    {
      "cell_type": "code",
      "metadata": {
        "id": "zxrUGirLinRU",
        "colab_type": "code",
        "colab": {}
      },
      "source": [
        "from sklearn.tree import DecisionTreeClassifier\n",
        "dtc = DecisionTreeClassifier(criterion='gini',max_depth=3,min_samples_split=2)"
      ],
      "execution_count": 0,
      "outputs": []
    },
    {
      "cell_type": "markdown",
      "metadata": {
        "id": "IQNXlia0inRZ",
        "colab_type": "text"
      },
      "source": [
        "2/ On entraine le modèle avec X_train et Y_train:"
      ]
    },
    {
      "cell_type": "code",
      "metadata": {
        "id": "CNRav1rninRa",
        "colab_type": "code",
        "colab": {},
        "outputId": "e77c1e04-ada7-4444-c1e1-d4d9ba819245"
      },
      "source": [
        "dtc.fit(X_train,Y_train)"
      ],
      "execution_count": 0,
      "outputs": [
        {
          "output_type": "execute_result",
          "data": {
            "text/plain": [
              "DecisionTreeClassifier(class_weight=None, criterion='gini', max_depth=3,\n",
              "            max_features=None, max_leaf_nodes=None,\n",
              "            min_impurity_decrease=0.0, min_impurity_split=None,\n",
              "            min_samples_leaf=1, min_samples_split=2,\n",
              "            min_weight_fraction_leaf=0.0, presort=False, random_state=None,\n",
              "            splitter='best')"
            ]
          },
          "metadata": {
            "tags": []
          },
          "execution_count": 36
        }
      ]
    },
    {
      "cell_type": "markdown",
      "metadata": {
        "id": "VUuJOjk_inRh",
        "colab_type": "text"
      },
      "source": [
        "3/ On calcule les prévisions puis la précision du modèle:"
      ]
    },
    {
      "cell_type": "code",
      "metadata": {
        "id": "JS83AfYuinRk",
        "colab_type": "code",
        "colab": {},
        "outputId": "9fd78fb1-df6a-4282-8753-2fa8ec846e9f"
      },
      "source": [
        "Y_pred = dtc.predict(X_test)\n",
        "Y_pred"
      ],
      "execution_count": 0,
      "outputs": [
        {
          "output_type": "execute_result",
          "data": {
            "text/plain": [
              "array([1, 0, 0, 0, 0, 1, 0, 0, 0, 0, 0, 0, 0, 0, 1, 0, 0, 0, 0, 0, 1, 0,\n",
              "       0, 0, 0, 0, 1, 0, 0, 0, 1, 0, 1, 0, 1, 1, 0, 0, 0, 0, 1, 0, 0, 1,\n",
              "       0, 0, 0, 0, 0, 0, 0, 1, 0, 1, 0, 0, 0, 0, 1, 1, 0, 0, 0, 1, 0, 1,\n",
              "       0, 0, 1, 0, 0, 1, 0, 0, 1, 0, 0, 0, 1, 0, 0, 0, 0, 0, 0, 0, 1, 1,\n",
              "       0, 0, 0, 0, 0, 1, 1, 1, 0, 1, 0, 0, 0, 0, 0, 0, 1, 0, 1, 0, 1, 0,\n",
              "       0, 1, 0, 0, 0, 0, 0, 0, 0, 0, 0, 1, 1, 0, 0, 0, 1, 0, 0, 0, 0, 0,\n",
              "       0, 1, 0, 0, 0, 0, 0, 0, 1, 0, 0, 0, 0, 1, 0, 1, 0, 0, 0, 0, 0, 0,\n",
              "       0, 0, 0, 0, 0, 0, 1, 1, 0, 1, 0, 0, 1, 0, 0, 1, 1, 0, 0, 0, 1, 0,\n",
              "       0, 0, 1, 0, 0, 0, 0, 0, 1, 0, 1, 0, 0, 1, 0, 0, 1, 0, 0, 0, 0, 0,\n",
              "       0, 0, 0, 0, 0, 0, 0, 0, 0, 0, 1, 0, 0, 0, 0, 1, 0, 1, 1, 0, 0, 0,\n",
              "       0, 1, 0, 1, 0, 0, 0, 1, 0, 1, 0], dtype=int64)"
            ]
          },
          "metadata": {
            "tags": []
          },
          "execution_count": 38
        }
      ]
    },
    {
      "cell_type": "code",
      "metadata": {
        "id": "QzQlOqNCinRz",
        "colab_type": "code",
        "colab": {},
        "outputId": "36a954c5-b44b-400a-c9fd-11bed163ade9"
      },
      "source": [
        "from sklearn.metrics import accuracy_score\n",
        "accuracy_score(Y_test,Y_pred)"
      ],
      "execution_count": 0,
      "outputs": [
        {
          "output_type": "execute_result",
          "data": {
            "text/plain": [
              "0.7445887445887446"
            ]
          },
          "metadata": {
            "tags": []
          },
          "execution_count": 39
        }
      ]
    },
    {
      "cell_type": "markdown",
      "metadata": {
        "id": "Ft6OHjNcinR4",
        "colab_type": "text"
      },
      "source": [
        "4/ On affiche la matrice de confusion:"
      ]
    },
    {
      "cell_type": "code",
      "metadata": {
        "id": "SUvw0vJkinR6",
        "colab_type": "code",
        "colab": {},
        "outputId": "6c762648-64ec-4d3f-dfb5-8b585b8c547c"
      },
      "source": [
        "from sklearn.metrics import confusion_matrix\n",
        "confusion_matrix(Y_test,Y_pred)"
      ],
      "execution_count": 0,
      "outputs": [
        {
          "output_type": "execute_result",
          "data": {
            "text/plain": [
              "array([[132,  18],\n",
              "       [ 41,  40]], dtype=int64)"
            ]
          },
          "metadata": {
            "tags": []
          },
          "execution_count": 40
        }
      ]
    },
    {
      "cell_type": "markdown",
      "metadata": {
        "id": "2iQvEKURinSB",
        "colab_type": "text"
      },
      "source": [
        "5/On dessine l'arbre de décision:"
      ]
    },
    {
      "cell_type": "code",
      "metadata": {
        "id": "WOADGeevinSF",
        "colab_type": "code",
        "colab": {},
        "outputId": "3b2ded54-ee69-4aec-9927-2ff4cc169a1c"
      },
      "source": [
        "#from sklearn.tree import plot_tree\n",
        "#plot_tree(dtc.fit(X_train,Y_train)) "
      ],
      "execution_count": 0,
      "outputs": [
        {
          "output_type": "error",
          "ename": "ImportError",
          "evalue": "cannot import name 'plot_tree' from 'sklearn.tree' (C:\\ProgramData\\Anaconda3\\lib\\site-packages\\sklearn\\tree\\__init__.py)",
          "traceback": [
            "\u001b[1;31m---------------------------------------------------------------------------\u001b[0m",
            "\u001b[1;31mImportError\u001b[0m                               Traceback (most recent call last)",
            "\u001b[1;32m<ipython-input-41-080ec4fe0e54>\u001b[0m in \u001b[0;36m<module>\u001b[1;34m\u001b[0m\n\u001b[1;32m----> 1\u001b[1;33m \u001b[1;32mfrom\u001b[0m \u001b[0msklearn\u001b[0m\u001b[1;33m.\u001b[0m\u001b[0mtree\u001b[0m \u001b[1;32mimport\u001b[0m \u001b[0mplot_tree\u001b[0m\u001b[1;33m\u001b[0m\u001b[1;33m\u001b[0m\u001b[0m\n\u001b[0m\u001b[0;32m      2\u001b[0m \u001b[0mplot_tree\u001b[0m\u001b[1;33m(\u001b[0m\u001b[0mdtc\u001b[0m\u001b[1;33m.\u001b[0m\u001b[0mfit\u001b[0m\u001b[1;33m(\u001b[0m\u001b[0mX_train\u001b[0m\u001b[1;33m,\u001b[0m\u001b[0mY_train\u001b[0m\u001b[1;33m)\u001b[0m\u001b[1;33m)\u001b[0m\u001b[1;33m\u001b[0m\u001b[1;33m\u001b[0m\u001b[0m\n",
            "\u001b[1;31mImportError\u001b[0m: cannot import name 'plot_tree' from 'sklearn.tree' (C:\\ProgramData\\Anaconda3\\lib\\site-packages\\sklearn\\tree\\__init__.py)"
          ]
        }
      ]
    },
    {
      "cell_type": "code",
      "metadata": {
        "id": "m79cmS6cinSK",
        "colab_type": "code",
        "colab": {},
        "outputId": "d8b4a37d-57ce-46f9-ba3f-dea66852bf86"
      },
      "source": [
        "#import graphviz \n",
        "from sklearn.tree import export_graphviz\n",
        "import graphviz\n",
        "dot_data = export_graphviz(dtc, out_file=None) \n",
        "graph = graphviz.Source(dot_data) \n",
        "graph.render(\"diabete\") "
      ],
      "execution_count": 0,
      "outputs": [
        {
          "output_type": "error",
          "ename": "NameError",
          "evalue": "name 'graphviz' is not defined",
          "traceback": [
            "\u001b[1;31m---------------------------------------------------------------------------\u001b[0m",
            "\u001b[1;31mNameError\u001b[0m                                 Traceback (most recent call last)",
            "\u001b[1;32m<ipython-input-45-6d658a837f2f>\u001b[0m in \u001b[0;36m<module>\u001b[1;34m\u001b[0m\n\u001b[0;32m      3\u001b[0m \u001b[1;31m#import graphviz\u001b[0m\u001b[1;33m\u001b[0m\u001b[1;33m\u001b[0m\u001b[1;33m\u001b[0m\u001b[0m\n\u001b[0;32m      4\u001b[0m \u001b[0mdot_data\u001b[0m \u001b[1;33m=\u001b[0m \u001b[0mexport_graphviz\u001b[0m\u001b[1;33m(\u001b[0m\u001b[0mdtc\u001b[0m\u001b[1;33m,\u001b[0m \u001b[0mout_file\u001b[0m\u001b[1;33m=\u001b[0m\u001b[1;32mNone\u001b[0m\u001b[1;33m)\u001b[0m\u001b[1;33m\u001b[0m\u001b[1;33m\u001b[0m\u001b[0m\n\u001b[1;32m----> 5\u001b[1;33m \u001b[0mgraph\u001b[0m \u001b[1;33m=\u001b[0m \u001b[0mgraphviz\u001b[0m\u001b[1;33m.\u001b[0m\u001b[0mSource\u001b[0m\u001b[1;33m(\u001b[0m\u001b[0mdot_data\u001b[0m\u001b[1;33m)\u001b[0m\u001b[1;33m\u001b[0m\u001b[1;33m\u001b[0m\u001b[0m\n\u001b[0m\u001b[0;32m      6\u001b[0m \u001b[0mgraph\u001b[0m\u001b[1;33m.\u001b[0m\u001b[0mrender\u001b[0m\u001b[1;33m(\u001b[0m\u001b[1;34m\"diabete\"\u001b[0m\u001b[1;33m)\u001b[0m\u001b[1;33m\u001b[0m\u001b[1;33m\u001b[0m\u001b[0m\n",
            "\u001b[1;31mNameError\u001b[0m: name 'graphviz' is not defined"
          ]
        }
      ]
    },
    {
      "cell_type": "code",
      "metadata": {
        "id": "rKE2WZo4inSS",
        "colab_type": "code",
        "colab": {}
      },
      "source": [
        "6/On calcule les prévisons en probabilité du modèle"
      ],
      "execution_count": 0,
      "outputs": []
    },
    {
      "cell_type": "code",
      "metadata": {
        "id": "obWu12HKinSY",
        "colab_type": "code",
        "colab": {},
        "outputId": "8ccac0ff-4b1b-4174-a656-40a1c8e1ec87"
      },
      "source": [
        "Y_pred_prob = dtc.predict_proba(X_test)\n",
        "Y_pred_prob"
      ],
      "execution_count": 0,
      "outputs": [
        {
          "output_type": "execute_result",
          "data": {
            "text/plain": [
              "array([[0.31481481, 0.68518519],\n",
              "       [0.95522388, 0.04477612],\n",
              "       [0.77192982, 0.22807018],\n",
              "       [0.5037594 , 0.4962406 ],\n",
              "       [0.5037594 , 0.4962406 ],\n",
              "       [0.31481481, 0.68518519],\n",
              "       [0.95522388, 0.04477612],\n",
              "       [0.94444444, 0.05555556],\n",
              "       [0.5037594 , 0.4962406 ],\n",
              "       [0.94444444, 0.05555556],\n",
              "       [0.5037594 , 0.4962406 ],\n",
              "       [0.5037594 , 0.4962406 ],\n",
              "       [0.5037594 , 0.4962406 ],\n",
              "       [0.95522388, 0.04477612],\n",
              "       [0.31481481, 0.68518519],\n",
              "       [0.5037594 , 0.4962406 ],\n",
              "       [0.77192982, 0.22807018],\n",
              "       [0.94444444, 0.05555556],\n",
              "       [0.77192982, 0.22807018],\n",
              "       [0.5037594 , 0.4962406 ],\n",
              "       [0.125     , 0.875     ],\n",
              "       [0.5037594 , 0.4962406 ],\n",
              "       [0.77192982, 0.22807018],\n",
              "       [0.77192982, 0.22807018],\n",
              "       [0.95522388, 0.04477612],\n",
              "       [0.95522388, 0.04477612],\n",
              "       [0.31481481, 0.68518519],\n",
              "       [0.77192982, 0.22807018],\n",
              "       [0.95522388, 0.04477612],\n",
              "       [0.5037594 , 0.4962406 ],\n",
              "       [0.125     , 0.875     ],\n",
              "       [0.5037594 , 0.4962406 ],\n",
              "       [0.125     , 0.875     ],\n",
              "       [0.95522388, 0.04477612],\n",
              "       [0.31481481, 0.68518519],\n",
              "       [0.125     , 0.875     ],\n",
              "       [0.77192982, 0.22807018],\n",
              "       [0.95522388, 0.04477612],\n",
              "       [0.88888889, 0.11111111],\n",
              "       [0.5037594 , 0.4962406 ],\n",
              "       [0.31481481, 0.68518519],\n",
              "       [0.77192982, 0.22807018],\n",
              "       [0.95522388, 0.04477612],\n",
              "       [0.31481481, 0.68518519],\n",
              "       [0.77192982, 0.22807018],\n",
              "       [0.5037594 , 0.4962406 ],\n",
              "       [0.95522388, 0.04477612],\n",
              "       [0.5037594 , 0.4962406 ],\n",
              "       [0.77192982, 0.22807018],\n",
              "       [0.5037594 , 0.4962406 ],\n",
              "       [0.77192982, 0.22807018],\n",
              "       [0.125     , 0.875     ],\n",
              "       [0.95522388, 0.04477612],\n",
              "       [0.31481481, 0.68518519],\n",
              "       [0.77192982, 0.22807018],\n",
              "       [0.77192982, 0.22807018],\n",
              "       [0.5037594 , 0.4962406 ],\n",
              "       [0.95522388, 0.04477612],\n",
              "       [0.125     , 0.875     ],\n",
              "       [0.125     , 0.875     ],\n",
              "       [0.95522388, 0.04477612],\n",
              "       [0.5037594 , 0.4962406 ],\n",
              "       [0.94444444, 0.05555556],\n",
              "       [0.31481481, 0.68518519],\n",
              "       [0.95522388, 0.04477612],\n",
              "       [0.125     , 0.875     ],\n",
              "       [0.5037594 , 0.4962406 ],\n",
              "       [0.5037594 , 0.4962406 ],\n",
              "       [0.31481481, 0.68518519],\n",
              "       [0.94444444, 0.05555556],\n",
              "       [0.5037594 , 0.4962406 ],\n",
              "       [0.31481481, 0.68518519],\n",
              "       [0.5037594 , 0.4962406 ],\n",
              "       [0.95522388, 0.04477612],\n",
              "       [0.31481481, 0.68518519],\n",
              "       [0.77192982, 0.22807018],\n",
              "       [0.95522388, 0.04477612],\n",
              "       [0.95522388, 0.04477612],\n",
              "       [0.125     , 0.875     ],\n",
              "       [0.95522388, 0.04477612],\n",
              "       [0.77192982, 0.22807018],\n",
              "       [0.94444444, 0.05555556],\n",
              "       [0.77192982, 0.22807018],\n",
              "       [0.94444444, 0.05555556],\n",
              "       [0.94444444, 0.05555556],\n",
              "       [0.5037594 , 0.4962406 ],\n",
              "       [0.31481481, 0.68518519],\n",
              "       [0.31481481, 0.68518519],\n",
              "       [0.77192982, 0.22807018],\n",
              "       [0.94444444, 0.05555556],\n",
              "       [0.5037594 , 0.4962406 ],\n",
              "       [0.95522388, 0.04477612],\n",
              "       [0.95522388, 0.04477612],\n",
              "       [0.31481481, 0.68518519],\n",
              "       [0.125     , 0.875     ],\n",
              "       [0.31481481, 0.68518519],\n",
              "       [0.5037594 , 0.4962406 ],\n",
              "       [0.31481481, 0.68518519],\n",
              "       [0.95522388, 0.04477612],\n",
              "       [0.88888889, 0.11111111],\n",
              "       [0.77192982, 0.22807018],\n",
              "       [0.5037594 , 0.4962406 ],\n",
              "       [0.5037594 , 0.4962406 ],\n",
              "       [0.95522388, 0.04477612],\n",
              "       [0.31481481, 0.68518519],\n",
              "       [0.95522388, 0.04477612],\n",
              "       [0.31481481, 0.68518519],\n",
              "       [0.77192982, 0.22807018],\n",
              "       [0.31481481, 0.68518519],\n",
              "       [0.95522388, 0.04477612],\n",
              "       [0.77192982, 0.22807018],\n",
              "       [0.31481481, 0.68518519],\n",
              "       [0.77192982, 0.22807018],\n",
              "       [0.94444444, 0.05555556],\n",
              "       [0.5037594 , 0.4962406 ],\n",
              "       [0.95522388, 0.04477612],\n",
              "       [0.5037594 , 0.4962406 ],\n",
              "       [0.77192982, 0.22807018],\n",
              "       [0.95522388, 0.04477612],\n",
              "       [0.5037594 , 0.4962406 ],\n",
              "       [0.95522388, 0.04477612],\n",
              "       [0.125     , 0.875     ],\n",
              "       [0.31481481, 0.68518519],\n",
              "       [0.95522388, 0.04477612],\n",
              "       [0.77192982, 0.22807018],\n",
              "       [0.5037594 , 0.4962406 ],\n",
              "       [0.31481481, 0.68518519],\n",
              "       [0.94444444, 0.05555556],\n",
              "       [0.77192982, 0.22807018],\n",
              "       [0.77192982, 0.22807018],\n",
              "       [0.77192982, 0.22807018],\n",
              "       [0.77192982, 0.22807018],\n",
              "       [0.88888889, 0.11111111],\n",
              "       [0.125     , 0.875     ],\n",
              "       [0.5037594 , 0.4962406 ],\n",
              "       [0.5037594 , 0.4962406 ],\n",
              "       [0.5037594 , 0.4962406 ],\n",
              "       [0.95522388, 0.04477612],\n",
              "       [0.95522388, 0.04477612],\n",
              "       [0.95522388, 0.04477612],\n",
              "       [0.125     , 0.875     ],\n",
              "       [0.94444444, 0.05555556],\n",
              "       [0.5037594 , 0.4962406 ],\n",
              "       [0.77192982, 0.22807018],\n",
              "       [0.95522388, 0.04477612],\n",
              "       [0.31481481, 0.68518519],\n",
              "       [0.95522388, 0.04477612],\n",
              "       [0.31481481, 0.68518519],\n",
              "       [0.77192982, 0.22807018],\n",
              "       [0.95522388, 0.04477612],\n",
              "       [0.94444444, 0.05555556],\n",
              "       [0.5037594 , 0.4962406 ],\n",
              "       [0.5037594 , 0.4962406 ],\n",
              "       [0.77192982, 0.22807018],\n",
              "       [0.95522388, 0.04477612],\n",
              "       [0.77192982, 0.22807018],\n",
              "       [0.95522388, 0.04477612],\n",
              "       [0.77192982, 0.22807018],\n",
              "       [0.5037594 , 0.4962406 ],\n",
              "       [0.94444444, 0.05555556],\n",
              "       [0.31481481, 0.68518519],\n",
              "       [0.125     , 0.875     ],\n",
              "       [0.95522388, 0.04477612],\n",
              "       [0.31481481, 0.68518519],\n",
              "       [0.77192982, 0.22807018],\n",
              "       [0.77192982, 0.22807018],\n",
              "       [0.31481481, 0.68518519],\n",
              "       [0.95522388, 0.04477612],\n",
              "       [0.77192982, 0.22807018],\n",
              "       [0.31481481, 0.68518519],\n",
              "       [0.31481481, 0.68518519],\n",
              "       [0.95522388, 0.04477612],\n",
              "       [0.88888889, 0.11111111],\n",
              "       [0.77192982, 0.22807018],\n",
              "       [0.31481481, 0.68518519],\n",
              "       [0.5037594 , 0.4962406 ],\n",
              "       [0.5037594 , 0.4962406 ],\n",
              "       [0.95522388, 0.04477612],\n",
              "       [0.125     , 0.875     ],\n",
              "       [0.77192982, 0.22807018],\n",
              "       [0.77192982, 0.22807018],\n",
              "       [0.95522388, 0.04477612],\n",
              "       [0.94444444, 0.05555556],\n",
              "       [0.95522388, 0.04477612],\n",
              "       [0.31481481, 0.68518519],\n",
              "       [0.95522388, 0.04477612],\n",
              "       [0.125     , 0.875     ],\n",
              "       [0.77192982, 0.22807018],\n",
              "       [0.77192982, 0.22807018],\n",
              "       [0.125     , 0.875     ],\n",
              "       [0.5037594 , 0.4962406 ],\n",
              "       [0.95522388, 0.04477612],\n",
              "       [0.125     , 0.875     ],\n",
              "       [0.94444444, 0.05555556],\n",
              "       [0.5037594 , 0.4962406 ],\n",
              "       [0.77192982, 0.22807018],\n",
              "       [0.95522388, 0.04477612],\n",
              "       [0.95522388, 0.04477612],\n",
              "       [0.5037594 , 0.4962406 ],\n",
              "       [0.5037594 , 0.4962406 ],\n",
              "       [0.5037594 , 0.4962406 ],\n",
              "       [0.95522388, 0.04477612],\n",
              "       [0.95522388, 0.04477612],\n",
              "       [0.77192982, 0.22807018],\n",
              "       [0.5037594 , 0.4962406 ],\n",
              "       [0.77192982, 0.22807018],\n",
              "       [0.95522388, 0.04477612],\n",
              "       [0.95522388, 0.04477612],\n",
              "       [0.31481481, 0.68518519],\n",
              "       [0.95522388, 0.04477612],\n",
              "       [0.77192982, 0.22807018],\n",
              "       [0.5037594 , 0.4962406 ],\n",
              "       [0.95522388, 0.04477612],\n",
              "       [0.125     , 0.875     ],\n",
              "       [0.95522388, 0.04477612],\n",
              "       [0.31481481, 0.68518519],\n",
              "       [0.31481481, 0.68518519],\n",
              "       [0.77192982, 0.22807018],\n",
              "       [0.77192982, 0.22807018],\n",
              "       [0.77192982, 0.22807018],\n",
              "       [0.5037594 , 0.4962406 ],\n",
              "       [0.125     , 0.875     ],\n",
              "       [0.95522388, 0.04477612],\n",
              "       [0.125     , 0.875     ],\n",
              "       [0.95522388, 0.04477612],\n",
              "       [0.77192982, 0.22807018],\n",
              "       [0.77192982, 0.22807018],\n",
              "       [0.125     , 0.875     ],\n",
              "       [0.77192982, 0.22807018],\n",
              "       [0.31481481, 0.68518519],\n",
              "       [0.95522388, 0.04477612]])"
            ]
          },
          "metadata": {
            "tags": []
          },
          "execution_count": 47
        }
      ]
    },
    {
      "cell_type": "markdown",
      "metadata": {
        "id": "zTmWKnM-inSd",
        "colab_type": "text"
      },
      "source": [
        "7/ On calcule le score auc"
      ]
    },
    {
      "cell_type": "code",
      "metadata": {
        "id": "s11PJ1ZKinSe",
        "colab_type": "code",
        "colab": {},
        "outputId": "3d6f43a0-9917-462c-a96d-c9625a3f75e7"
      },
      "source": [
        "from sklearn.metrics import roc_auc_score\n",
        "roc_auc_score(Y_test,dtc.predict_proba(X_test)[:,1])"
      ],
      "execution_count": 0,
      "outputs": [
        {
          "output_type": "execute_result",
          "data": {
            "text/plain": [
              "0.7664609053497942"
            ]
          },
          "metadata": {
            "tags": []
          },
          "execution_count": 48
        }
      ]
    },
    {
      "cell_type": "markdown",
      "metadata": {
        "id": "v6WUDrPWinSi",
        "colab_type": "text"
      },
      "source": [
        "8/ On trace la courbe ROC: on utilise la fonction sklearn.metrics.roc_curve qui calcul les taux de faux positive (fpr) et les taux de vrais positif (tpr) ainsi que le seuils threshold"
      ]
    },
    {
      "cell_type": "code",
      "metadata": {
        "id": "R4B0C2BZinSj",
        "colab_type": "code",
        "colab": {},
        "outputId": "15ee6338-25e2-462e-bf1e-f1f1d0325ff7"
      },
      "source": [
        "from sklearn.metrics import roc_curve, auc\n",
        "fpr, tpr, thresholds = roc_curve(Y_test,dtc.predict_proba(X_test)[:,1])\n",
        "auc(fpr,tpr)"
      ],
      "execution_count": 0,
      "outputs": [
        {
          "output_type": "execute_result",
          "data": {
            "text/plain": [
              "0.7664609053497942"
            ]
          },
          "metadata": {
            "tags": []
          },
          "execution_count": 49
        }
      ]
    },
    {
      "cell_type": "code",
      "metadata": {
        "id": "8ukTLooainSq",
        "colab_type": "code",
        "colab": {},
        "outputId": "4c562a2c-1632-4e17-b37b-eccb179de7ba"
      },
      "source": [
        "import numpy as np\n",
        "\n",
        "import matplotlib.pyplot as plt\n",
        "plt.plot(fpr,tpr,label = \"SCORE AUC ARBRE:\"+str(np.round(auc(fpr,tpr),4)))\n",
        "plt.plot([0,1],[0,1],color='blue')\n",
        "plt.ylabel(\"tpr\",fontsize='large')\n",
        "plt.xlabel(\"fpr\",fontsize='large')\n",
        "plt.fill_between(fpr, fpr, tpr,color='grey')\n",
        "plt.legend(loc=4)\n",
        "plt.show"
      ],
      "execution_count": 0,
      "outputs": [
        {
          "output_type": "execute_result",
          "data": {
            "text/plain": [
              "<function matplotlib.pyplot.show(*args, **kw)>"
            ]
          },
          "metadata": {
            "tags": []
          },
          "execution_count": 50
        },
        {
          "output_type": "display_data",
          "data": {
            "image/png": "[encoded data removed]",
            "text/plain": [
              "<Figure size 432x288 with 1 Axes>"
            ]
          },
          "metadata": {
            "tags": [],
            "needs_background": "light"
          }
        }
      ]
    },
    {
      "cell_type": "markdown",
      "metadata": {
        "id": "2mxa8578inSy",
        "colab_type": "text"
      },
      "source": [
        "9/On étudie l'importance des features:"
      ]
    },
    {
      "cell_type": "code",
      "metadata": {
        "id": "R94GyqRjinS0",
        "colab_type": "code",
        "colab": {},
        "outputId": "0abaa036-7521-4c76-d8e8-f0cc87063fef"
      },
      "source": [
        "import numpy as np\n",
        "importance = dtc.feature_importances_\n",
        "print(importance)\n",
        "nom_feature = X_train.columns \n",
        "\n",
        "index = np.argsort(importance)[::-1]\n",
        "print(index)\n",
        "\n",
        "nom_feature_ord = nom_feature[index]\n",
        "importance_ord = np.round(100*importance[index],2)\n"
      ],
      "execution_count": 0,
      "outputs": [
        {
          "output_type": "stream",
          "text": [
            "[0.56539576 0.         0.         0.         0.19686935 0.\n",
            " 0.23773489]\n",
            "[0 6 4 5 3 2 1]\n",
            "Index(['Plas_glucose_conc', 'Age', 'Body_mass_index', 'Diabet_pedi_func',\n",
            "       'Hour_serum_insulin', 'Triceps_skin_fold_thi', 'Dias_blood_pressure'],\n",
            "      dtype='object')\n"
          ],
          "name": "stdout"
        }
      ]
    },
    {
      "cell_type": "code",
      "metadata": {
        "id": "myDLOnl0inS4",
        "colab_type": "code",
        "colab": {},
        "outputId": "daa4169a-418c-48cd-e187-985471dfe676"
      },
      "source": [
        "import numpy as np\n",
        "import matplotlib.pyplot as plt\n",
        "\n",
        "y_pos = np.arange(len(nom_feature_ord))\n",
        "\n",
        "\n",
        "plt.bar(y_pos,importance_ord,edgecolor='navy',color='blue')\n",
        "plt.xticks(y_pos,nom_feature_ord,color='black',rotation=80)\n",
        "plt.box(False)\n",
        "plt.yticks([])\n",
        "for i in range(0,len(nom_feature_ord)):\n",
        "    plt.text(y_pos[i]-0.25,importance_ord[i]+0.5,str(importance_ord[i]))\n",
        "plt.show()"
      ],
      "execution_count": 0,
      "outputs": [
        {
          "output_type": "display_data",
          "data": {
            "image/png": "[encoded data removed]",
            "text/plain": [
              "<Figure size 432x288 with 1 Axes>"
            ]
          },
          "metadata": {
            "tags": [],
            "needs_background": "light"
          }
        }
      ]
    },
    {
      "cell_type": "markdown",
      "metadata": {
        "id": "saXG_MZNinS8",
        "colab_type": "text"
      },
      "source": [
        "### Random forest sur les données diabète"
      ]
    },
    {
      "cell_type": "markdown",
      "metadata": {
        "id": "2XGMmNILinS-",
        "colab_type": "text"
      },
      "source": [
        "Le principe d'une forest aléatoire est de construire un plusieurs arbres de décision indépendant (bagging) et d'assembler leurs prédiction. Chaque arbre peut être vue comme un individue qui vote. C'est le vote majoritaire qui est la prédiction."
      ]
    },
    {
      "cell_type": "markdown",
      "metadata": {
        "id": "YjJflGx_inS_",
        "colab_type": "text"
      },
      "source": [
        "1/ On va construire un arbre de décision rdf avec les paramètres suivants:\n",
        "* n_estimators=300 (nombre d'arbre est 300)\n",
        "* criterion='gini': The function to measure the quality of a split.\n",
        "* max_depth=7 : The maximum depth of the tree.\n",
        "* min_samples_split=3 : The minimum number of samples required to split an internal node"
      ]
    },
    {
      "cell_type": "code",
      "metadata": {
        "id": "D83x8YY7inTB",
        "colab_type": "code",
        "colab": {},
        "outputId": "22edb916-8191-45e8-80c1-b77a490b93bb"
      },
      "source": [
        "from sklearn.ensemble import RandomForestClassifier\n",
        "rdf = RandomForestClassifier(n_estimators=300, criterion='gini',\\\n",
        "                             random_state=1998,max_depth=7, min_samples_split=3,min_samples_leaf=2)\n",
        "rdf.fit(X_train,Y_train)"
      ],
      "execution_count": 0,
      "outputs": [
        {
          "output_type": "execute_result",
          "data": {
            "text/plain": [
              "RandomForestClassifier(bootstrap=True, class_weight=None, criterion='gini',\n",
              "            max_depth=7, max_features='auto', max_leaf_nodes=None,\n",
              "            min_impurity_decrease=0.0, min_impurity_split=None,\n",
              "            min_samples_leaf=2, min_samples_split=3,\n",
              "            min_weight_fraction_leaf=0.0, n_estimators=300, n_jobs=None,\n",
              "            oob_score=False, random_state=1998, verbose=0,\n",
              "            warm_start=False)"
            ]
          },
          "metadata": {
            "tags": []
          },
          "execution_count": 65
        }
      ]
    },
    {
      "cell_type": "markdown",
      "metadata": {
        "id": "7cSHKItFinTJ",
        "colab_type": "text"
      },
      "source": [
        "2/ On calcule la précision du modèle"
      ]
    },
    {
      "cell_type": "code",
      "metadata": {
        "id": "G07WTYvninTM",
        "colab_type": "code",
        "colab": {},
        "outputId": "8c35cbdb-0a1a-47d5-cac7-58731bbedfe4"
      },
      "source": [
        "from sklearn.metrics import accuracy_score\n",
        "accuracy_score(Y_test,rdf.predict(X_test))"
      ],
      "execution_count": 0,
      "outputs": [
        {
          "output_type": "execute_result",
          "data": {
            "text/plain": [
              "0.7705627705627706"
            ]
          },
          "metadata": {
            "tags": []
          },
          "execution_count": 66
        }
      ]
    },
    {
      "cell_type": "markdown",
      "metadata": {
        "id": "AsDOQZipinTW",
        "colab_type": "text"
      },
      "source": [
        "3/ On calcule le score AUC"
      ]
    },
    {
      "cell_type": "code",
      "metadata": {
        "id": "AyydzpBainTY",
        "colab_type": "code",
        "colab": {},
        "outputId": "2f901bee-4982-4215-c291-b49193efd6e0"
      },
      "source": [
        "from sklearn.metrics import roc_auc_score\n",
        "roc_auc_score(Y_test,rdf.predict_proba(X_test)[:,1])"
      ],
      "execution_count": 0,
      "outputs": [
        {
          "output_type": "execute_result",
          "data": {
            "text/plain": [
              "0.8411522633744857"
            ]
          },
          "metadata": {
            "tags": []
          },
          "execution_count": 67
        }
      ]
    },
    {
      "cell_type": "markdown",
      "metadata": {
        "id": "Y4__ygj8inTc",
        "colab_type": "text"
      },
      "source": [
        "4/ On construit la courbe ROC avec X_test et Y_test:"
      ]
    },
    {
      "cell_type": "code",
      "metadata": {
        "id": "h6rJOs6HinTd",
        "colab_type": "code",
        "colab": {},
        "outputId": "680d0157-28d9-486a-8623-07abc1fc8f5b"
      },
      "source": [
        "from sklearn.metrics import roc_curve, auc\n",
        "fpr, tpr, thresholds = roc_curve(Y_test,rdf.predict_proba(X_test)[:,1])\n",
        "auc(fpr,tpr)"
      ],
      "execution_count": 0,
      "outputs": [
        {
          "output_type": "execute_result",
          "data": {
            "text/plain": [
              "0.8411522633744857"
            ]
          },
          "metadata": {
            "tags": []
          },
          "execution_count": 68
        }
      ]
    },
    {
      "cell_type": "code",
      "metadata": {
        "id": "rPoOSU3FinTl",
        "colab_type": "code",
        "colab": {},
        "outputId": "6ad095d3-3f72-4d5d-e87f-878c6dea71ac"
      },
      "source": [
        "import numpy as np\n",
        "\n",
        "import matplotlib.pyplot as plt\n",
        "plt.plot(fpr,tpr,label = \"SCORE AUC RDF:\"+str(np.round(auc(fpr,tpr),4)))\n",
        "plt.plot([0,1],[0,1],color='blue')\n",
        "plt.ylabel(\"tpr\",fontsize='large')\n",
        "plt.xlabel(\"fpr\",fontsize='large')\n",
        "plt.fill_between(fpr, fpr, tpr,color='grey')\n",
        "plt.legend(loc=4)\n",
        "plt.show"
      ],
      "execution_count": 0,
      "outputs": [
        {
          "output_type": "execute_result",
          "data": {
            "text/plain": [
              "<function matplotlib.pyplot.show(*args, **kw)>"
            ]
          },
          "metadata": {
            "tags": []
          },
          "execution_count": 69
        },
        {
          "output_type": "display_data",
          "data": {
            "image/png": "[encoded data removed]",
            "text/plain": [
              "<Figure size 432x288 with 1 Axes>"
            ]
          },
          "metadata": {
            "tags": [],
            "needs_background": "light"
          }
        }
      ]
    },
    {
      "cell_type": "markdown",
      "metadata": {
        "id": "6wj5t-4BinTq",
        "colab_type": "text"
      },
      "source": [
        "# Exercice : Machine learning sur le le dataset contraceptive-method-choice"
      ]
    },
    {
      "cell_type": "markdown",
      "metadata": {
        "id": "TruR5qUeinTs",
        "colab_type": "text"
      },
      "source": [
        "Dans cette section on applique la régression logistique et l'arbre aléatoire au dataset travel insurance. Dans une premiere partie on manipule les données. Vous devez executer les cellule tout en lisant attentivement cette partie. Il faudrat comprendre cette dernière pour pouvoir fair le projet.<br>\n",
        "Le dataset vient du site kaggle : https://www.kaggle.com/faizunnabi/contraceptive-method-choice.<br> \n",
        "Vous pouvez charger les données en suivant ce lien: https://1drv.ms/t/s!Am09h0q2OIX0ccOvloeR-pTUI1Y?e=y2pPgL"
      ]
    },
    {
      "cell_type": "markdown",
      "metadata": {
        "id": "UuTp2cY5inTt",
        "colab_type": "text"
      },
      "source": [
        "### Manipulation des données \n",
        "Dans ce dataset nous avons les variables suivantes:\n",
        " 1. Wife's age (numerical)\n",
        " 2. Wife's education (categorical) 1=low, 2, 3, 4=high\n",
        " 3. Husband's education (categorical) 1=low, 2, 3, 4=high\n",
        " 4. Number of children ever born (numerical)\n",
        " 5. Wife's religion (binary) 0=Non-Islam, 1=Islam\n",
        " 6. Wife's now working? (binary) 0=Yes, 1=No\n",
        " 7. Husband's occupation (categorical) 1, 2, 3, 4\n",
        " 8. Standard-of-living index (categorical) 1=low, 2, 3, 4=high\n",
        " 9. Media exposure (binary) 0=Good, 1=Not good\n",
        " 10. Contraceptive method used (class attribute) 1=No-use ,2=Long-term,3=Short-term\n",
        " \n",
        "La variable Contraceptive method used est la variable que l'on veut prédire  "
      ]
    },
    {
      "cell_type": "markdown",
      "metadata": {
        "id": "Zag4sclfinTu",
        "colab_type": "text"
      },
      "source": [
        "On importe les données:"
      ]
    },
    {
      "cell_type": "code",
      "metadata": {
        "id": "ZgouJj71inTw",
        "colab_type": "code",
        "colab": {}
      },
      "source": [
        "import pandas as pd\n",
        "#remplacer le chemin\n",
        "NON_VAR = ['WIFE_AGE','WIFE_EDU','HUSB_EDU','NUM_OF_CHILD',\\\n",
        "           'WIFE_RELI','WIFE_WORK','HUSB_OCUP','STA_OF_LIV','MEDIA_EXP','CONTRACEPTIVE']\n",
        "donnee = pd.read_csv(\"C:/Users/legrad15/Desktop/cmc.data.txt\",sep=',',header=None,names=NON_VAR)"
      ],
      "execution_count": 0,
      "outputs": []
    },
    {
      "cell_type": "markdown",
      "metadata": {
        "id": "NIxX5FTUinT5",
        "colab_type": "text"
      },
      "source": [
        "On regarde la répartition de la variable cible"
      ]
    },
    {
      "cell_type": "code",
      "metadata": {
        "id": "5Ulm3KSginT7",
        "colab_type": "code",
        "colab": {},
        "outputId": "775b0835-c624-40b3-f834-c1356433c9e6"
      },
      "source": [
        "donnee['CONTRACEPTIVE'].value_counts()"
      ],
      "execution_count": 0,
      "outputs": [
        {
          "output_type": "execute_result",
          "data": {
            "text/plain": [
              "1    629\n",
              "3    511\n",
              "2    333\n",
              "Name: CONTRACEPTIVE, dtype: int64"
            ]
          },
          "metadata": {
            "tags": []
          },
          "execution_count": 72
        }
      ]
    },
    {
      "cell_type": "markdown",
      "metadata": {
        "id": "1R8zI6HEinUD",
        "colab_type": "text"
      },
      "source": [
        "On affiche les colonnes du dataset:"
      ]
    },
    {
      "cell_type": "code",
      "metadata": {
        "id": "51cuNjnUinUF",
        "colab_type": "code",
        "colab": {},
        "outputId": "5a2b65d9-1353-4b2c-a1df-3349473458c3"
      },
      "source": [
        "donnee.columns"
      ],
      "execution_count": 0,
      "outputs": [
        {
          "output_type": "execute_result",
          "data": {
            "text/plain": [
              "Index(['WIFE_AGE', 'WIFE_EDU', 'HUSB_EDU', 'NUM_OF_CHILD', 'WIFE_RELI',\n",
              "       'WIFE_WORK', 'HUSB_OCUP', 'STA_OF_LIV', 'MEDIA_EXP', 'CONTRACEPTIVE'],\n",
              "      dtype='object')"
            ]
          },
          "metadata": {
            "tags": []
          },
          "execution_count": 73
        }
      ]
    },
    {
      "cell_type": "markdown",
      "metadata": {
        "id": "G57a1mSwinUM",
        "colab_type": "text"
      },
      "source": [
        "On sépare la colonne Claim que l'on veut prédire des autres:"
      ]
    },
    {
      "cell_type": "code",
      "metadata": {
        "id": "fi16D8MWinUN",
        "colab_type": "code",
        "colab": {},
        "outputId": "dba23116-6634-491f-bf02-db78f3798199"
      },
      "source": [
        "features = [o for o in donnee.columns if o !='CONTRACEPTIVE']\n",
        "X = donnee[features]\n",
        "Y = donnee['CONTRACEPTIVE']\n",
        "#print(type(X.loc[0,'WIFE_EDU'].astype(str)))"
      ],
      "execution_count": 0,
      "outputs": [
        {
          "output_type": "stream",
          "text": [
            "<class 'numpy.str_'>\n"
          ],
          "name": "stdout"
        }
      ]
    },
    {
      "cell_type": "markdown",
      "metadata": {
        "id": "GjpdyBKGinUU",
        "colab_type": "text"
      },
      "source": [
        "On réduit le problème à 2 classes : 0 n'utilise pas la contraception, 1 utilise la contraception:"
      ]
    },
    {
      "cell_type": "code",
      "metadata": {
        "id": "bqrJBrW9inUV",
        "colab_type": "code",
        "colab": {}
      },
      "source": [
        "import numpy as np\n",
        "Y_red = np.where(Y==1,0,1)"
      ],
      "execution_count": 0,
      "outputs": []
    },
    {
      "cell_type": "markdown",
      "metadata": {
        "id": "g3L6wf6pinUZ",
        "colab_type": "text"
      },
      "source": [
        "* On dummifie certaine variables catégorielles : 'WIFE_EDU','HUSB_EDU','HUSB_OCUP','STA_OF_LIV'.\n",
        "* Les varaibles catégorielles 'WIFE_RELI', 'WIFE_WORK', MEDIA_EXP sont déja dummifiés\n"
      ]
    },
    {
      "cell_type": "markdown",
      "metadata": {
        "id": "TMtqWXmZinUa",
        "colab_type": "text"
      },
      "source": [
        "On convertie les variables a dummifier en caractère/string"
      ]
    },
    {
      "cell_type": "code",
      "metadata": {
        "id": "enZ4zIujinUb",
        "colab_type": "code",
        "colab": {},
        "outputId": "23c5c096-8d49-423c-f043-e6befbcf085a"
      },
      "source": [
        "import pandas as pd\n",
        "a_dummies = ['WIFE_EDU','HUSB_EDU','HUSB_OCUP','STA_OF_LIV']\n",
        "\n",
        "# Transformation de var entier en var string\n",
        "for var in a_dummies:\n",
        "    X.loc[:,var] = X.loc[:,var].copy().astype(str)\n",
        "\n",
        "X_dum = pd.get_dummies(X[a_dummies])\n",
        "X_dum.shape\n",
        "X_dum.columns"
      ],
      "execution_count": 0,
      "outputs": [
        {
          "output_type": "execute_result",
          "data": {
            "text/plain": [
              "Index(['WIFE_EDU_1', 'WIFE_EDU_2', 'WIFE_EDU_3', 'WIFE_EDU_4', 'HUSB_EDU_1',\n",
              "       'HUSB_EDU_2', 'HUSB_EDU_3', 'HUSB_EDU_4', 'HUSB_OCUP_1', 'HUSB_OCUP_2',\n",
              "       'HUSB_OCUP_3', 'HUSB_OCUP_4', 'STA_OF_LIV_1', 'STA_OF_LIV_2',\n",
              "       'STA_OF_LIV_3', 'STA_OF_LIV_4'],\n",
              "      dtype='object')"
            ]
          },
          "metadata": {
            "tags": []
          },
          "execution_count": 90
        }
      ]
    },
    {
      "cell_type": "markdown",
      "metadata": {
        "id": "8TGLgl89inUe",
        "colab_type": "text"
      },
      "source": [
        "Ensuite on enlève les varaibles ['WIFE_EDU','HUSB_EDU','HUSB_OCUP','STA_OF_LIV'] et on concatène avec X_dum:"
      ]
    },
    {
      "cell_type": "code",
      "metadata": {
        "id": "zoWtL6-XinUf",
        "colab_type": "code",
        "colab": {}
      },
      "source": [
        "A_garder = [var for var in list(X) if var not in a_dummies]\n",
        "X = X[A_garder]\n",
        "\n",
        "X = pd.concat([X,X_dum],axis=1)"
      ],
      "execution_count": 0,
      "outputs": []
    },
    {
      "cell_type": "markdown",
      "metadata": {
        "id": "8Rym_oYFinUk",
        "colab_type": "text"
      },
      "source": [
        "### Exercice 1 : régression logistique sur les données contraceptive-method-choice\n",
        "On utilise X et Y_red: X est l'ensembles des features (variables explicatives). Y_red est la target value, c'est à dire la variable que l'on veut prédire"
      ]
    },
    {
      "cell_type": "markdown",
      "metadata": {
        "id": "L_8dEmcHinUl",
        "colab_type": "text"
      },
      "source": [
        "1/ Diviser en échantillon d'apprentissage et de test. On utilisera train_test_split comme dans l'exemple ci-dessus. On prendra l'option random_state=1998. L'échantillon dapprentissage s'appelle X_train, Y_train et celui de test s'appelle X_test, Y_test."
      ]
    },
    {
      "cell_type": "code",
      "metadata": {
        "id": "ysAPJFE7inUm",
        "colab_type": "code",
        "colab": {}
      },
      "source": [
        "from sklearn.model_selection import train_test_split\n",
        "X_train, X_test,Y_train, Y_test = train_test_split(X,Y_red,test_size=0.33,random_state=1998)"
      ],
      "execution_count": 0,
      "outputs": []
    },
    {
      "cell_type": "markdown",
      "metadata": {
        "id": "scP6hqfQinUp",
        "colab_type": "text"
      },
      "source": [
        "2/ Appeler un modèle de régression logistique, avec les parametre suivants:\n",
        "* penalty='l2'\n",
        "* solver='lbfgs'\n",
        "* C=1/2\n",
        "* max_iter=1000\n",
        "\n",
        "Ce medèle s'appelle logit1"
      ]
    },
    {
      "cell_type": "code",
      "metadata": {
        "id": "EonzgGwYinUq",
        "colab_type": "code",
        "colab": {}
      },
      "source": [
        "logit1 = LogisticRegression(penalty='l2',random_state=1998, solver='lbfgs',max_iter=1000, C = 1/2)"
      ],
      "execution_count": 0,
      "outputs": []
    },
    {
      "cell_type": "markdown",
      "metadata": {
        "id": "ftTVB3-ninUt",
        "colab_type": "text"
      },
      "source": [
        "3/Entrainer le moèle logit1 avec les données X_train et Y_train."
      ]
    },
    {
      "cell_type": "code",
      "metadata": {
        "id": "T_n0Isf8inUu",
        "colab_type": "code",
        "colab": {},
        "outputId": "e35ea822-973f-4d2f-c925-e0a6c33cbd77"
      },
      "source": [
        "logit1.fit(X_train,Y_train)"
      ],
      "execution_count": 0,
      "outputs": [
        {
          "output_type": "execute_result",
          "data": {
            "text/plain": [
              "LogisticRegression(C=0.5, class_weight=None, dual=False, fit_intercept=True,\n",
              "          intercept_scaling=1, max_iter=1000, multi_class='warn',\n",
              "          n_jobs=None, penalty='l2', random_state=1998, solver='lbfgs',\n",
              "          tol=0.0001, verbose=0, warm_start=False)"
            ]
          },
          "metadata": {
            "tags": []
          },
          "execution_count": 94
        }
      ]
    },
    {
      "cell_type": "markdown",
      "metadata": {
        "id": "0ZzH38a4inUy",
        "colab_type": "text"
      },
      "source": [
        "4/ Faite la prévision Y_pred que logit1 produit avec X_test. "
      ]
    },
    {
      "cell_type": "code",
      "metadata": {
        "id": "AvIGphkDinU3",
        "colab_type": "code",
        "colab": {}
      },
      "source": [
        "Y_pred = logit1.predict(X_test)"
      ],
      "execution_count": 0,
      "outputs": []
    },
    {
      "cell_type": "markdown",
      "metadata": {
        "id": "YXoDy8IEinU9",
        "colab_type": "text"
      },
      "source": [
        "5/ Calculer la précision du modèle logit1 sur les données de test."
      ]
    },
    {
      "cell_type": "code",
      "metadata": {
        "id": "YhSORFmIinU-",
        "colab_type": "code",
        "colab": {},
        "outputId": "be97343b-f946-449c-f682-143bf6588ddb"
      },
      "source": [
        "from sklearn.metrics import accuracy_score\n",
        "accuracy_score(Y_test,Y_pred)"
      ],
      "execution_count": 0,
      "outputs": [
        {
          "output_type": "execute_result",
          "data": {
            "text/plain": [
              "0.6632443531827515"
            ]
          },
          "metadata": {
            "tags": []
          },
          "execution_count": 99
        }
      ]
    },
    {
      "cell_type": "markdown",
      "metadata": {
        "id": "qdJypYMDinVB",
        "colab_type": "text"
      },
      "source": [
        "6/Calculer la matrice de confusion de logit1 sur les donnée X_test, Y_test."
      ]
    },
    {
      "cell_type": "code",
      "metadata": {
        "id": "KEvs3eq4inVC",
        "colab_type": "code",
        "colab": {},
        "outputId": "e5eba0a1-d57d-46c5-b97c-cbd3240fc249"
      },
      "source": [
        "confusion_matrix(Y_test,Y_pred)"
      ],
      "execution_count": 0,
      "outputs": [
        {
          "output_type": "execute_result",
          "data": {
            "text/plain": [
              "array([[ 97, 114],\n",
              "       [ 50, 226]], dtype=int64)"
            ]
          },
          "metadata": {
            "tags": []
          },
          "execution_count": 100
        }
      ]
    },
    {
      "cell_type": "markdown",
      "metadata": {
        "id": "jqNRmODfinVF",
        "colab_type": "text"
      },
      "source": [
        "7/Calculer les prévisions en probabilité du modèle sur les données X_test."
      ]
    },
    {
      "cell_type": "code",
      "metadata": {
        "id": "MLG4fWndinVG",
        "colab_type": "code",
        "colab": {}
      },
      "source": [
        "Y_pred_prob = logit1.predict_proba(X_test)"
      ],
      "execution_count": 0,
      "outputs": []
    },
    {
      "cell_type": "markdown",
      "metadata": {
        "id": "YHoCoDAuinVN",
        "colab_type": "text"
      },
      "source": [
        "8/Calculer le score AUC du modèle logit1 sur les données."
      ]
    },
    {
      "cell_type": "code",
      "metadata": {
        "id": "yjdOIaSRinVO",
        "colab_type": "code",
        "colab": {},
        "outputId": "944c67cb-088c-4fcf-9a8b-f9b3c4858f5e"
      },
      "source": [
        "print('AUC :',roc_auc_score(Y_test,Y_pred_prob[:,1]))"
      ],
      "execution_count": 0,
      "outputs": [
        {
          "output_type": "stream",
          "text": [
            "AUC : 0.7064015385672092\n"
          ],
          "name": "stdout"
        }
      ]
    },
    {
      "cell_type": "markdown",
      "metadata": {
        "id": "daotBkhJinVR",
        "colab_type": "text"
      },
      "source": [
        "9/ tracer la cource ROC de logit1 sur les données X_test, Y_test"
      ]
    },
    {
      "cell_type": "code",
      "metadata": {
        "id": "VPMiGa8yinVT",
        "colab_type": "code",
        "colab": {},
        "outputId": "b8807112-0ffc-4075-901b-aa267b57c617"
      },
      "source": [
        "fpr, tpr, thresholds = roc_curve(Y_test,Y_pred_prob[:,1])\n",
        "print('AUC :',auc(fpr,tpr))\n",
        "\n",
        "plt.plot(fpr,tpr,label = \"SCORE AUC RDF:\"+str(np.round(auc(fpr,tpr),4)))\n",
        "plt.plot([0,1],[0,1],color='blue')\n",
        "plt.ylabel(\"tpr\",fontsize='large')\n",
        "plt.xlabel(\"fpr\",fontsize='large')\n",
        "plt.fill_between(fpr, fpr, tpr,color='grey')\n",
        "plt.legend(loc=4)\n",
        "plt.show"
      ],
      "execution_count": 0,
      "outputs": [
        {
          "output_type": "stream",
          "text": [
            "AUC : 0.7064015385672092\n"
          ],
          "name": "stdout"
        },
        {
          "output_type": "execute_result",
          "data": {
            "text/plain": [
              "<function matplotlib.pyplot.show(*args, **kw)>"
            ]
          },
          "metadata": {
            "tags": []
          },
          "execution_count": 111
        },
        {
          "output_type": "display_data",
          "data": {
            "image/png": "[encoded data removed]",
            "text/plain": [
              "<Figure size 432x288 with 1 Axes>"
            ]
          },
          "metadata": {
            "tags": [],
            "needs_background": "light"
          }
        }
      ]
    },
    {
      "cell_type": "markdown",
      "metadata": {
        "id": "n0y5KXE5inVX",
        "colab_type": "text"
      },
      "source": [
        "### Exercice 2 : arbre de décision"
      ]
    },
    {
      "cell_type": "markdown",
      "metadata": {
        "id": "3bBtUF36inVY",
        "colab_type": "text"
      },
      "source": [
        "1/ Diviser en échantillon d'apprentissage et de test. On utilisera train_test_split comme dans l'exemple ci-dessus. On prendra l'option random_state=1998. L'échantillon dapprentissage s'appelle X_train, Y_train et celui de test s'appelle X_test, Y_test."
      ]
    },
    {
      "cell_type": "code",
      "metadata": {
        "id": "5MSXOCsYinVZ",
        "colab_type": "code",
        "colab": {}
      },
      "source": [
        "X_train, X_test,Y_train, Y_test = train_test_split(X,Y_red,test_size=0.33,random_state=1998)"
      ],
      "execution_count": 0,
      "outputs": []
    },
    {
      "cell_type": "markdown",
      "metadata": {
        "id": "sCYx4H1tinVj",
        "colab_type": "text"
      },
      "source": [
        "2/ Faire un modele d'arbre de décision sklearn.tree.DecisionTreeClassifier. Ce modele s'appelle arbre."
      ]
    },
    {
      "cell_type": "code",
      "metadata": {
        "id": "LTjzaVRZinVk",
        "colab_type": "code",
        "colab": {}
      },
      "source": [
        "arbre = DecisionTreeClassifier()"
      ],
      "execution_count": 0,
      "outputs": []
    },
    {
      "cell_type": "markdown",
      "metadata": {
        "id": "0w1sVGS5inVm",
        "colab_type": "text"
      },
      "source": [
        "3/ Entrainer le modèle arbre avec les données X_train et Y_train "
      ]
    },
    {
      "cell_type": "code",
      "metadata": {
        "id": "PzRQFuDninVn",
        "colab_type": "code",
        "colab": {},
        "outputId": "7de3dc50-919b-403f-e4be-aecb645f97db"
      },
      "source": [
        "arbre.fit(X_train,Y_train)"
      ],
      "execution_count": 0,
      "outputs": [
        {
          "output_type": "execute_result",
          "data": {
            "text/plain": [
              "DecisionTreeClassifier(class_weight=None, criterion='gini', max_depth=None,\n",
              "            max_features=None, max_leaf_nodes=None,\n",
              "            min_impurity_decrease=0.0, min_impurity_split=None,\n",
              "            min_samples_leaf=1, min_samples_split=2,\n",
              "            min_weight_fraction_leaf=0.0, presort=False, random_state=None,\n",
              "            splitter='best')"
            ]
          },
          "metadata": {
            "tags": []
          },
          "execution_count": 115
        }
      ]
    },
    {
      "cell_type": "markdown",
      "metadata": {
        "id": "Ex02YvdFinVr",
        "colab_type": "text"
      },
      "source": [
        "4/ Calculer les prédictions Y_pred du modèle arbre sur les données X_test. "
      ]
    },
    {
      "cell_type": "code",
      "metadata": {
        "id": "v8ipDddLinVs",
        "colab_type": "code",
        "colab": {}
      },
      "source": [
        "Y_pred = arbre.predict(X_test)"
      ],
      "execution_count": 0,
      "outputs": []
    },
    {
      "cell_type": "code",
      "metadata": {
        "id": "Ar8CdvjxinVv",
        "colab_type": "code",
        "colab": {}
      },
      "source": [
        ""
      ],
      "execution_count": 0,
      "outputs": []
    },
    {
      "cell_type": "markdown",
      "metadata": {
        "id": "wOnL0ATUinVz",
        "colab_type": "text"
      },
      "source": [
        "5/ Calculer la précision du modèle arbre sur les données X_test et Y_test"
      ]
    },
    {
      "cell_type": "code",
      "metadata": {
        "id": "FImp8vj1inV0",
        "colab_type": "code",
        "colab": {},
        "outputId": "6894bbb0-eb30-4e04-806f-fff7f4d95f1e"
      },
      "source": [
        "accuracy_score(Y_test,Y_pred)"
      ],
      "execution_count": 0,
      "outputs": [
        {
          "output_type": "execute_result",
          "data": {
            "text/plain": [
              "0.6591375770020534"
            ]
          },
          "metadata": {
            "tags": []
          },
          "execution_count": 117
        }
      ]
    },
    {
      "cell_type": "markdown",
      "metadata": {
        "id": "MsyWoQdEinV3",
        "colab_type": "text"
      },
      "source": [
        "6/ Faire un modèle d'arbre de décision arbrebis avec les paramètre suivants\n",
        "* random_state=1998\n",
        "* criterion='gini'\n",
        "* max_depth=9\n",
        "* min_samples_split=4\n",
        "* min_samples_leaf=3\n",
        "En trainer ce modèle"
      ]
    },
    {
      "cell_type": "code",
      "metadata": {
        "id": "n43AELHTinV4",
        "colab_type": "code",
        "colab": {}
      },
      "source": [
        "arbrebis = DecisionTreeClassifier(criterion='gini',max_depth=9,min_samples_split=4,min_samples_leaf=3,random_state=1998)\n",
        "arbrebis.fit(X_train,Y_train)\n",
        "Y_pred = arbrebis.predict(X_test)"
      ],
      "execution_count": 0,
      "outputs": []
    },
    {
      "cell_type": "markdown",
      "metadata": {
        "id": "K8jZbJXSinWB",
        "colab_type": "text"
      },
      "source": [
        "7/Calculer la précision du modèle sur les données X_test et Y_test."
      ]
    },
    {
      "cell_type": "code",
      "metadata": {
        "id": "eFwEdQiGinWC",
        "colab_type": "code",
        "colab": {},
        "outputId": "1e952c7e-e17e-4c02-be00-422de08418ec"
      },
      "source": [
        "accuracy_score(Y_pred,Y_test)"
      ],
      "execution_count": 0,
      "outputs": [
        {
          "output_type": "execute_result",
          "data": {
            "text/plain": [
              "0.702258726899384"
            ]
          },
          "metadata": {
            "tags": []
          },
          "execution_count": 126
        }
      ]
    },
    {
      "cell_type": "markdown",
      "metadata": {
        "id": "yYnwfv5HinWF",
        "colab_type": "text"
      },
      "source": [
        "8/ Calculer la prédiction en probabilité du modèle arbrebis sur X_test, Y_test."
      ]
    },
    {
      "cell_type": "code",
      "metadata": {
        "id": "L3-ACPpKinWG",
        "colab_type": "code",
        "colab": {}
      },
      "source": [
        "Y_pred_prob = arbrebis.predict_proba(X_test)"
      ],
      "execution_count": 0,
      "outputs": []
    },
    {
      "cell_type": "markdown",
      "metadata": {
        "id": "btaVLuhqinWJ",
        "colab_type": "text"
      },
      "source": [
        "9/ Caluler le score AUC du modèle arbrebis sur les données X_test et Y_test."
      ]
    },
    {
      "cell_type": "code",
      "metadata": {
        "id": "4CDcDTu4inWJ",
        "colab_type": "code",
        "colab": {},
        "outputId": "7cf18db6-5a9c-43f8-b755-d1edb3f72c2b"
      },
      "source": [
        "roc_auc_score(Y_test,Y_pred_prob[:,1])"
      ],
      "execution_count": 0,
      "outputs": [
        {
          "output_type": "execute_result",
          "data": {
            "text/plain": [
              "0.7134332715159009"
            ]
          },
          "metadata": {
            "tags": []
          },
          "execution_count": 129
        }
      ]
    },
    {
      "cell_type": "markdown",
      "metadata": {
        "id": "L8P6pISginWM",
        "colab_type": "text"
      },
      "source": [
        "10/ Faire la courbe roc du modèle arbrebis"
      ]
    },
    {
      "cell_type": "code",
      "metadata": {
        "id": "ja9A285IinWN",
        "colab_type": "code",
        "colab": {},
        "outputId": "40b632cc-630d-47f6-bfd6-870caca8d12d"
      },
      "source": [
        "fpr, tpr, thresholds = roc_curve(Y_test,Y_pred_prob[:,1])\n",
        "print('AUC :',auc(fpr,tpr))\n",
        "\n",
        "plt.plot(fpr,tpr,label = \"SCORE AUC RDF:\"+str(np.round(auc(fpr,tpr),4)))\n",
        "plt.plot([0,1],[0,1],color='blue')\n",
        "plt.ylabel(\"tpr\",fontsize='large')\n",
        "plt.xlabel(\"fpr\",fontsize='large')\n",
        "plt.fill_between(fpr, fpr, tpr,color='grey')\n",
        "plt.legend(loc=4)\n",
        "plt.show"
      ],
      "execution_count": 0,
      "outputs": [
        {
          "output_type": "stream",
          "text": [
            "AUC : 0.7134332715159009\n"
          ],
          "name": "stdout"
        },
        {
          "output_type": "execute_result",
          "data": {
            "text/plain": [
              "<function matplotlib.pyplot.show(*args, **kw)>"
            ]
          },
          "metadata": {
            "tags": []
          },
          "execution_count": 130
        },
        {
          "output_type": "display_data",
          "data": {
            "image/png": "[encoded data removed]",
            "text/plain": [
              "<Figure size 432x288 with 1 Axes>"
            ]
          },
          "metadata": {
            "tags": [],
            "needs_background": "light"
          }
        }
      ]
    },
    {
      "cell_type": "markdown",
      "metadata": {
        "id": "AGOWsqeCinWQ",
        "colab_type": "text"
      },
      "source": [
        "11/Ilustrer l'importance des features par un diagramme en baton. On gardera les 15 features les plus importants."
      ]
    },
    {
      "cell_type": "code",
      "metadata": {
        "id": "rHmkDt27inWR",
        "colab_type": "code",
        "colab": {},
        "outputId": "f2d7a3d2-a5e7-4daa-aac5-7b08da5ab848"
      },
      "source": [
        "NON_FEATURES = X_train.columns\n",
        "\n",
        "import numpy as np\n",
        "IMPORTANCE_FEATURES = 100*np.round(arbrebis.feature_importances_,2)\n",
        "loca = np.arange(len(IMPORTANCE_FEATURES))\n",
        "\n",
        "index = np.argsort(IMPORTANCE_FEATURES)[::-1]\n",
        "\n",
        "#on ordonne \n",
        "IMPORTANCE_FEATURES = IMPORTANCE_FEATURES[index][0:15]\n",
        "NON_FEATURES = NON_FEATURES[index][0:15]\n",
        "loca  = loca[0:15]\n",
        "\n",
        "import matplotlib.pyplot as plt\n",
        "plt.bar(loca,IMPORTANCE_FEATURES,edgecolor='red',color='red')\n",
        "plt.yticks([])\n",
        "plt.xticks(loca,NON_FEATURES,color='black',rotation=80)\n",
        "plt.box(False)\n",
        "for i in range(0,len(NON_FEATURES)):\n",
        "    plt.text(loca[i]-0.3,IMPORTANCE_FEATURES[i],str(np.round(IMPORTANCE_FEATURES[i],1)))\n",
        "plt.show"
      ],
      "execution_count": 0,
      "outputs": [
        {
          "output_type": "execute_result",
          "data": {
            "text/plain": [
              "<function matplotlib.pyplot.show(*args, **kw)>"
            ]
          },
          "metadata": {
            "tags": []
          },
          "execution_count": 133
        },
        {
          "output_type": "display_data",
          "data": {
            "image/png": "[encoded data removed]",
            "text/plain": [
              "<Figure size 432x288 with 1 Axes>"
            ]
          },
          "metadata": {
            "tags": [],
            "needs_background": "light"
          }
        }
      ]
    },
    {
      "cell_type": "markdown",
      "metadata": {
        "id": "pv7ERpG9inWT",
        "colab_type": "text"
      },
      "source": [
        "### Exercice 3 : random forest sur les données contraceptive-method-choice"
      ]
    },
    {
      "cell_type": "markdown",
      "metadata": {
        "id": "pRQhUxx_inWU",
        "colab_type": "text"
      },
      "source": [
        "1/ Faire un modèle de random forest randfo de la manière suivante:\n",
        "* criterion='gini'\n",
        "* random_state=1998\n",
        "* la profondeur de chaques arbre est 9\n",
        "* min_samples_split=3\n",
        "* min_samples_leaf=2\n",
        "* max_features=0.7\n",
        "Entrainer le modèle randfo avec les données X_train et Y_train"
      ]
    },
    {
      "cell_type": "code",
      "metadata": {
        "id": "mdZ9oyyTinWV",
        "colab_type": "code",
        "colab": {},
        "outputId": "3d5e2762-96e1-49fb-f4f4-8780d05e9594"
      },
      "source": [
        "randfo = RandomForestClassifier(n_estimators=300,criterion='gini',random_state=1998,max_depth = 9, min_samples_split=3,min_samples_leaf=2,max_features=0.7)\n",
        "randfo.fit(X_train,Y_train)"
      ],
      "execution_count": 0,
      "outputs": [
        {
          "output_type": "execute_result",
          "data": {
            "text/plain": [
              "RandomForestClassifier(bootstrap=True, class_weight=None, criterion='gini',\n",
              "            max_depth=9, max_features=0.7, max_leaf_nodes=None,\n",
              "            min_impurity_decrease=0.0, min_impurity_split=None,\n",
              "            min_samples_leaf=2, min_samples_split=3,\n",
              "            min_weight_fraction_leaf=0.0, n_estimators=300, n_jobs=None,\n",
              "            oob_score=False, random_state=1998, verbose=0,\n",
              "            warm_start=False)"
            ]
          },
          "metadata": {
            "tags": []
          },
          "execution_count": 136
        }
      ]
    },
    {
      "cell_type": "markdown",
      "metadata": {
        "id": "yIi49DvyinWX",
        "colab_type": "text"
      },
      "source": [
        "2/Donner une interpretation du paramètre max_features."
      ]
    },
    {
      "cell_type": "code",
      "metadata": {
        "id": "13aoWf2pinWY",
        "colab_type": "code",
        "colab": {}
      },
      "source": [
        "# Nombre de variable maximale considéré pour la création d'un noeud : maximum 70% des variables seront utilisés"
      ],
      "execution_count": 0,
      "outputs": []
    },
    {
      "cell_type": "markdown",
      "metadata": {
        "id": "Nbpt6ncrinWb",
        "colab_type": "text"
      },
      "source": [
        "3/ Calculer la précision randfo sur X_test et Y_test."
      ]
    },
    {
      "cell_type": "code",
      "metadata": {
        "id": "cpIMQkr8inWc",
        "colab_type": "code",
        "colab": {},
        "outputId": "1897ce6e-21bc-4f35-c5d1-d615407ad897"
      },
      "source": [
        "Y_pred = randfo.predict(X_test)\n",
        "print('Accuracy :',accuracy_score(Y_test,Y_pred))"
      ],
      "execution_count": 0,
      "outputs": [
        {
          "output_type": "stream",
          "text": [
            "Accuracy : 0.7268993839835729\n"
          ],
          "name": "stdout"
        }
      ]
    },
    {
      "cell_type": "markdown",
      "metadata": {
        "id": "3i52pDvdinWf",
        "colab_type": "text"
      },
      "source": [
        "4/ Calculer le score AUC de randfo sur X_test et Y_test."
      ]
    },
    {
      "cell_type": "code",
      "metadata": {
        "id": "wHS5HkZminWg",
        "colab_type": "code",
        "colab": {},
        "outputId": "108be656-1f48-4fd3-98bc-ad883042c5e5"
      },
      "source": [
        "Y_pred_prob = randfo.predict_proba(X_test)\n",
        "print('AUC :',roc_auc_score(Y_test,Y_pred_prob[:,1]))"
      ],
      "execution_count": 0,
      "outputs": [
        {
          "output_type": "stream",
          "text": [
            "AUC : 0.7696957208599492\n"
          ],
          "name": "stdout"
        }
      ]
    }
  ]
}