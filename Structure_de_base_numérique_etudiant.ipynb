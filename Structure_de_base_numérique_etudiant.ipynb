{
  "nbformat": 4,
  "nbformat_minor": 0,
  "metadata": {
    "kernelspec": {
      "display_name": "Python 3",
      "language": "python",
      "name": "python3"
    },
    "language_info": {
      "codemirror_mode": {
        "name": "ipython",
        "version": 3
      },
      "file_extension": ".py",
      "mimetype": "text/x-python",
      "name": "python",
      "nbconvert_exporter": "python",
      "pygments_lexer": "ipython3",
      "version": "3.7.1"
    },
    "colab": {
      "name": "Structure de base numérique-etudiant.ipynb",
      "provenance": [],
      "include_colab_link": true
    }
  },
  "cells": [
    {
      "cell_type": "markdown",
      "metadata": {
        "id": "view-in-github",
        "colab_type": "text"
      },
      "source": [
        "<a href=\"https://colab.research.google.com/github/fabnancyuhp/RENDUPYTHONISFSTAT/blob/master/Structure_de_base_num%C3%A9rique_etudiant.ipynb\" target=\"_parent\"><img src=\"https://colab.research.google.com/assets/colab-badge.svg\" alt=\"Open In Colab\"/></a>"
      ]
    },
    {
      "cell_type": "markdown",
      "metadata": {
        "id": "w5Qq0fHTmvUb",
        "colab_type": "text"
      },
      "source": [
        "Dans ce chapitre on considére que les listes, les tuples, les fonctions sont maitrisés. Le but de ce chapitre est \n",
        "<ul>\n",
        "    <li>D'introduire les packages numpy, scipy, matplotlib. </li>\n",
        "    <li>De construire des matrices et des vecteurs</li>\n",
        "    <li>De faire des simulations</li>\n",
        "    <li>De tracer des graphiques</li>\n",
        "</ul>"
      ]
    },
    {
      "cell_type": "markdown",
      "metadata": {
        "id": "cOw8lIltmvUg",
        "colab_type": "text"
      },
      "source": [
        "# Introduction à la librairie numpy : Matrices et vecteurs en python"
      ]
    },
    {
      "cell_type": "markdown",
      "metadata": {
        "id": "0CDGDL6dmvUk",
        "colab_type": "text"
      },
      "source": [
        "On va créer la matrice suivante:\n",
        "    $$A=\\left(\\begin{array}{ccc}\n",
        "    1.1 & 2.6 & 5\\\\\n",
        "    3 & 3.6 & 9\\\\\n",
        "    5.5 & 4 & 4.9\n",
        "    \\end{array}\\right)$$\n"
      ]
    },
    {
      "cell_type": "code",
      "metadata": {
        "id": "lIuzRFqPmvUo",
        "colab_type": "code",
        "colab": {},
        "outputId": "ed39601d-64e3-42e0-ad64-c592d43628db"
      },
      "source": [
        "import numpy as np\n",
        "A = np.array([[1.1,2.6,5],[3,3.6,9],[5.5,4,4.9]])\n",
        "A"
      ],
      "execution_count": 0,
      "outputs": [
        {
          "output_type": "execute_result",
          "data": {
            "text/plain": [
              "array([[1.1, 2.6, 5. ],\n",
              "       [3. , 3.6, 9. ],\n",
              "       [5.5, 4. , 4.9]])"
            ]
          },
          "metadata": {
            "tags": []
          },
          "execution_count": 1
        }
      ]
    },
    {
      "cell_type": "markdown",
      "metadata": {
        "id": "VZyBUY-PmvU2",
        "colab_type": "text"
      },
      "source": [
        "On détermine les dimensions de A:"
      ]
    },
    {
      "cell_type": "code",
      "metadata": {
        "id": "9Q8EsO15mvU4",
        "colab_type": "code",
        "colab": {},
        "outputId": "b9e22df3-615f-4dea-e2b7-aee2f4423704"
      },
      "source": [
        "A.shape"
      ],
      "execution_count": 0,
      "outputs": [
        {
          "output_type": "execute_result",
          "data": {
            "text/plain": [
              "(3, 3)"
            ]
          },
          "metadata": {
            "tags": []
          },
          "execution_count": 2
        }
      ]
    },
    {
      "cell_type": "markdown",
      "metadata": {
        "id": "l4zq6NjbmvU_",
        "colab_type": "text"
      },
      "source": [
        "On va céer le vecteur suivant : B = [1.2,3.8,5.9]:"
      ]
    },
    {
      "cell_type": "code",
      "metadata": {
        "id": "aH9ZFwNsmvVB",
        "colab_type": "code",
        "colab": {},
        "outputId": "64142984-526f-4e14-cb87-6426854417c4"
      },
      "source": [
        "import numpy as np\n",
        "B = np.array([1.2,3.8,5.9])\n",
        "B"
      ],
      "execution_count": 0,
      "outputs": [
        {
          "output_type": "execute_result",
          "data": {
            "text/plain": [
              "array([1.2, 3.8, 5.9])"
            ]
          },
          "metadata": {
            "tags": []
          },
          "execution_count": 3
        }
      ]
    },
    {
      "cell_type": "markdown",
      "metadata": {
        "id": "mfrm9hjXmvVH",
        "colab_type": "text"
      },
      "source": [
        "On détermine les dimension de B:"
      ]
    },
    {
      "cell_type": "code",
      "metadata": {
        "id": "h9ZAiY2NmvVJ",
        "colab_type": "code",
        "colab": {},
        "outputId": "3166edca-5cd5-421c-a964-50ba3477bcf7"
      },
      "source": [
        "B.shape"
      ],
      "execution_count": 0,
      "outputs": [
        {
          "output_type": "execute_result",
          "data": {
            "text/plain": [
              "(3,)"
            ]
          },
          "metadata": {
            "tags": []
          },
          "execution_count": 4
        }
      ]
    },
    {
      "cell_type": "markdown",
      "metadata": {
        "id": "-dUwDkZUmvVQ",
        "colab_type": "text"
      },
      "source": [
        "Voici quelques fonctions utiles en statistique:\n",
        "<ul>\n",
        "    <li>np.sum : somme d'array </li>\n",
        "    <li>np.cumsum : somme cumulée d'un array</li>\n",
        "    <li>np.var : variance</li>\n",
        "    <li>np.mean : moyenne</li>\n",
        "    <li>np.size : taille</li>\n",
        "</ul>"
      ]
    },
    {
      "cell_type": "markdown",
      "metadata": {
        "id": "NgSC5x7nmvVS",
        "colab_type": "text"
      },
      "source": [
        "On va montrer comment s'utilise la fonction np.var sur la matrice A. Les autres fonctions s'utilisent de la même façon."
      ]
    },
    {
      "cell_type": "markdown",
      "metadata": {
        "id": "wdh5WTATmvVU",
        "colab_type": "text"
      },
      "source": [
        "Variance de chaque colonne:"
      ]
    },
    {
      "cell_type": "code",
      "metadata": {
        "id": "jHirA4aPmvVW",
        "colab_type": "code",
        "colab": {},
        "outputId": "75577e17-b5d6-41c0-84b7-a05970deb270"
      },
      "source": [
        "np.var(A,axis=0)"
      ],
      "execution_count": 0,
      "outputs": [
        {
          "output_type": "execute_result",
          "data": {
            "text/plain": [
              "array([3.24666667, 0.34666667, 3.64666667])"
            ]
          },
          "metadata": {
            "tags": []
          },
          "execution_count": 7
        }
      ]
    },
    {
      "cell_type": "code",
      "metadata": {
        "id": "Y-nDRKmUmvVb",
        "colab_type": "code",
        "colab": {}
      },
      "source": [
        "Variance de chaque ligne:"
      ],
      "execution_count": 0,
      "outputs": []
    },
    {
      "cell_type": "code",
      "metadata": {
        "id": "vbFilHu2mvVh",
        "colab_type": "code",
        "colab": {},
        "outputId": "9a9166e3-3fbe-4e61-9912-f7b3623d92ff"
      },
      "source": [
        "np.var(A,axis=1)"
      ],
      "execution_count": 0,
      "outputs": [
        {
          "output_type": "execute_result",
          "data": {
            "text/plain": [
              "array([2.58, 7.28, 0.38])"
            ]
          },
          "metadata": {
            "tags": []
          },
          "execution_count": 8
        }
      ]
    },
    {
      "cell_type": "markdown",
      "metadata": {
        "id": "eRTcUQqYmvVn",
        "colab_type": "text"
      },
      "source": [
        "Variance globale:"
      ]
    },
    {
      "cell_type": "code",
      "metadata": {
        "id": "GnLmMZ0cmvVp",
        "colab_type": "code",
        "colab": {},
        "outputId": "fd3938a5-60bf-4fe1-a58a-a03f1e4953fc"
      },
      "source": [
        "np.var(A)"
      ],
      "execution_count": 0,
      "outputs": [
        {
          "output_type": "execute_result",
          "data": {
            "text/plain": [
              "4.42"
            ]
          },
          "metadata": {
            "tags": []
          },
          "execution_count": 9
        }
      ]
    },
    {
      "cell_type": "markdown",
      "metadata": {
        "id": "9oLPU5yymvVu",
        "colab_type": "text"
      },
      "source": [
        "<h3> Exercice 1 </h3>\n",
        "Calculer la moyenne sur chaque ligne, sur chaques colonnes de la matrice :\n",
        "$A=\\left(\\begin{array}{cccc}\n",
        "    5 & 2.6 & 5 & 9\\\\\n",
        "    4 & 3.6 & 9 & 10\\\\\n",
        "    5.5 & 4 & 6 & 7\n",
        "    \\end{array}\\right) $"
      ]
    },
    {
      "cell_type": "code",
      "metadata": {
        "id": "2q5gSsYRmvVw",
        "colab_type": "code",
        "colab": {},
        "outputId": "c28dc88c-576a-400c-dbf9-c94ad0f55386"
      },
      "source": [
        "import numpy as np\n",
        "A = np.array([[5,2.6,5,9],[4,3.6,9,10],[5.5,4,6,7]])\n",
        "print(np.mean(A,axis=0))  #moyenne sur chaque colonne\n",
        "print(np.mean(A,axis=1)) #moyenne sur chaque ligne"
      ],
      "execution_count": 0,
      "outputs": [
        {
          "output_type": "stream",
          "text": [
            "[4.83333333 3.4        6.66666667 8.66666667]\n",
            "[5.4   6.65  5.625]\n"
          ],
          "name": "stdout"
        }
      ]
    },
    {
      "cell_type": "markdown",
      "metadata": {
        "id": "ySmIbNgDmvV1",
        "colab_type": "text"
      },
      "source": [
        "# Simulation avec Python\n",
        "Le package numpy de Python permet de réaliser des objets array simulés.\n",
        "<ul>\n",
        "    <li>numpy.random.uniform(low=a, high=b, size=None) : simulation uniforme sur [a,b] </li>\n",
        "    <li>numpy.random.normal(loc=a, scale=b, size=None) : simulation d'une va normal de moyenne a et d'écart type b</li>\n",
        "    <li>numpy.random.poisson</li>\n",
        "</ul>"
      ]
    },
    {
      "cell_type": "markdown",
      "metadata": {
        "id": "F1NRhGNnmvV3",
        "colab_type": "text"
      },
      "source": [
        "On va simuler une matrice avec numpy.random.uniform:"
      ]
    },
    {
      "cell_type": "code",
      "metadata": {
        "id": "m6-3fk4cmvV4",
        "colab_type": "code",
        "colab": {},
        "outputId": "e9c7bf2f-4f71-4ac2-d057-285948f40eb5"
      },
      "source": [
        "import numpy as np\n",
        "Uni = np.random.uniform(2,6,size=(3,2))\n",
        "Uni"
      ],
      "execution_count": 0,
      "outputs": [
        {
          "output_type": "execute_result",
          "data": {
            "text/plain": [
              "array([[3.16748315, 4.26501746],\n",
              "       [2.61162722, 4.12418375],\n",
              "       [4.93069655, 3.93886971]])"
            ]
          },
          "metadata": {
            "tags": []
          },
          "execution_count": 5
        }
      ]
    },
    {
      "cell_type": "markdown",
      "metadata": {
        "id": "qg9oCz9dmvV9",
        "colab_type": "text"
      },
      "source": [
        "On va simuler une matrice et un vecteur avec numpy.random.normal:"
      ]
    },
    {
      "cell_type": "code",
      "metadata": {
        "id": "HHN77kr7mvV_",
        "colab_type": "code",
        "colab": {},
        "outputId": "38b0e6e0-0cce-4177-9ef6-ddfac9fb40fd"
      },
      "source": [
        "import numpy as np\n",
        "Norm = np.random.normal(2,3,size=(2,3))\n",
        "Norm"
      ],
      "execution_count": 0,
      "outputs": [
        {
          "output_type": "execute_result",
          "data": {
            "text/plain": [
              "array([[-1.80259786,  3.91781508,  1.25704838],\n",
              "       [ 4.64228033,  5.23646808, -0.12003757]])"
            ]
          },
          "metadata": {
            "tags": []
          },
          "execution_count": 19
        }
      ]
    },
    {
      "cell_type": "code",
      "metadata": {
        "id": "AepeuO-TmvWH",
        "colab_type": "code",
        "colab": {},
        "outputId": "8cb62860-558b-4701-b71f-f2d7403f40aa"
      },
      "source": [
        "Nve = np.random.normal(6,2,size=5)\n",
        "Nve"
      ],
      "execution_count": 0,
      "outputs": [
        {
          "output_type": "execute_result",
          "data": {
            "text/plain": [
              "array([7.05764819, 4.36788279, 5.63441866, 5.91012783, 8.30667172])"
            ]
          },
          "metadata": {
            "tags": []
          },
          "execution_count": 22
        }
      ]
    },
    {
      "cell_type": "markdown",
      "metadata": {
        "id": "nTNQ4A_qmvWO",
        "colab_type": "text"
      },
      "source": [
        "<h2>Simulation d'un vecteur de probabilité:</h2>\n",
        "On va simuler le vecteur de probabilité v=[1/4,1/5,1/5,1-1/4-2*1/5] sur les états [a,b,c,d]:"
      ]
    },
    {
      "cell_type": "code",
      "metadata": {
        "id": "0B8NTKnmmvWP",
        "colab_type": "code",
        "colab": {},
        "outputId": "342bda71-44d0-4431-d4ff-4109cd4e0be2"
      },
      "source": [
        "import numpy as np\n",
        "proba = np.array([1/4,1/5,1/5,1-1/4-2*1/5])\n",
        "etat = np.array(['a','b','c','d'])\n",
        "Simu = np.random.choice(etat, size=20, replace=True, p=proba) #True pour réutiliser les états\n",
        "Simu"
      ],
      "execution_count": 0,
      "outputs": [
        {
          "output_type": "execute_result",
          "data": {
            "text/plain": [
              "array(['d', 'a', 'c', 'c', 'd', 'a', 'c', 'c', 'b', 'b', 'b', 'b', 'd',\n",
              "       'a', 'b', 'b', 'b', 'b', 'a', 'b'], dtype='<U1')"
            ]
          },
          "metadata": {
            "tags": []
          },
          "execution_count": 6
        }
      ]
    },
    {
      "cell_type": "markdown",
      "metadata": {
        "id": "3WTsmxu7mvWU",
        "colab_type": "text"
      },
      "source": [
        "<h3>Exercice 2</h3>\n",
        "Simuler un vecteur de probabilité sur l'ensemble des état ['voit','velo','trot'] dont les probabilité de chaque état sont [1/6 , 2/6 , 3/6]. Simuler ensuite un objet numpy.array de taille 10 issu d'une loi normal de moyenne 4 et variance 10."
      ]
    },
    {
      "cell_type": "code",
      "metadata": {
        "id": "rLabV-LcmvWV",
        "colab_type": "code",
        "colab": {},
        "outputId": "aeeabfda-39af-47a9-b2a5-d9bb89814a2c"
      },
      "source": [
        "import numpy as np\n",
        "import math\n",
        "etat=np.array(['voit','velo','trot'])\n",
        "proba=np.array([1/6,2/6,3/6])\n",
        "Simu=np.random.choice(etat,10,replace=True, p=proba)\n",
        "print(Simu)\n",
        "Norm=np.random.normal(4,math.sqrt(10),size=10)\n",
        "print(Norm)"
      ],
      "execution_count": 0,
      "outputs": [
        {
          "output_type": "stream",
          "text": [
            "['trot' 'trot' 'velo' 'velo' 'trot' 'trot' 'trot' 'trot' 'trot' 'velo']\n",
            "[ 4.8470024   6.82558852  4.42516422  0.34170034  1.36103912  3.69002931\n",
            "  0.7908861  12.38290163  1.40875723  2.63107654]\n"
          ],
          "name": "stdout"
        }
      ]
    },
    {
      "cell_type": "markdown",
      "metadata": {
        "id": "cy9osA6gmvWa",
        "colab_type": "text"
      },
      "source": [
        "# Fonction particuliere sur les objet array\n",
        "On présente des fonction permettant la modification, la construction d'objet array.\n",
        "<ul>\n",
        "    <li> numpy.arange([start, ]stop, [step, ]dtype=None) :</li>\n",
        "    <li> numpy.linspace(start, stop, num=50, endpoint=True, retstep=False, dtype=None, axis=0)</li>\n",
        "    <li> numpy.insert(arr, obj, values, axis=None)</li>\n",
        "    <li> numpy.append(arr, values, axis=None)</li>\n",
        "    <li> numpy.concatenate((a1, a2, ...), axis=0, out=None)</li>\n",
        "    <li> numpy.stack(arrays, axis=0, out=None)</li>\n",
        "    <li> numpy.ones</li>\n",
        "</ul>"
      ]
    },
    {
      "cell_type": "markdown",
      "metadata": {
        "id": "rV_MKxnZmvWb",
        "colab_type": "text"
      },
      "source": [
        "On construit V1 un vecteur comprenant des nombres compris entre 2 et 8 par pas de 2."
      ]
    },
    {
      "cell_type": "code",
      "metadata": {
        "id": "4tytnVsYmvWe",
        "colab_type": "code",
        "colab": {},
        "outputId": "a7215086-88dd-41bd-c8d0-abb29972ef54"
      },
      "source": [
        "import numpy as np\n",
        "V1 = np.arange(2,10,2)\n",
        "V1"
      ],
      "execution_count": 0,
      "outputs": [
        {
          "output_type": "execute_result",
          "data": {
            "text/plain": [
              "array([2, 4, 6, 8])"
            ]
          },
          "metadata": {
            "tags": []
          },
          "execution_count": 6
        }
      ]
    },
    {
      "cell_type": "markdown",
      "metadata": {
        "id": "9Y155yPFmvWj",
        "colab_type": "text"
      },
      "source": [
        "On construit un vecteur V2 comprenant  5 valeurs comprises entre 6 et 8 :"
      ]
    },
    {
      "cell_type": "code",
      "metadata": {
        "id": "DiG0rBlBmvWl",
        "colab_type": "code",
        "colab": {},
        "outputId": "2d3684f7-b595-4e8a-c4fb-4bd01b1e51cb"
      },
      "source": [
        "import numpy as np\n",
        "V2 = np.linspace(6,8,5)\n",
        "V2"
      ],
      "execution_count": 0,
      "outputs": [
        {
          "output_type": "execute_result",
          "data": {
            "text/plain": [
              "array([6. , 6.5, 7. , 7.5, 8. ])"
            ]
          },
          "metadata": {
            "tags": []
          },
          "execution_count": 11
        }
      ]
    },
    {
      "cell_type": "code",
      "metadata": {
        "id": "lZ2rtDJSmvWq",
        "colab_type": "code",
        "colab": {}
      },
      "source": [
        "Ici, on concatène V1 et V2:"
      ],
      "execution_count": 0,
      "outputs": []
    },
    {
      "cell_type": "code",
      "metadata": {
        "id": "Rv8Qc2XLmvWu",
        "colab_type": "code",
        "colab": {},
        "outputId": "a33a529f-6cd3-4147-bfe0-7dc1020e7e26"
      },
      "source": [
        "np.concatenate([V1,V2])"
      ],
      "execution_count": 0,
      "outputs": [
        {
          "output_type": "execute_result",
          "data": {
            "text/plain": [
              "array([2. , 4. , 6. , 8. , 6. , 6.5, 7. , 7.5, 8. ])"
            ]
          },
          "metadata": {
            "tags": []
          },
          "execution_count": 12
        }
      ]
    },
    {
      "cell_type": "markdown",
      "metadata": {
        "id": "Q3VFR2N0mvWz",
        "colab_type": "text"
      },
      "source": [
        "On va concatener une matrice (3,3) avec une matrice (3,2) selon l'axe horizontal:"
      ]
    },
    {
      "cell_type": "code",
      "metadata": {
        "id": "wS3Li-CvmvW1",
        "colab_type": "code",
        "colab": {},
        "outputId": "00986182-57be-4bec-fe16-70e77eb4edcd"
      },
      "source": [
        "import numpy as np\n",
        "M1 = np.array([[1,2,6],[4,5,6],[8,8,8]])\n",
        "M2 = np.array([[6,5],[4,4],[2,1]])\n",
        "np.concatenate([M1,M2],axis=1) #axe horizontal"
      ],
      "execution_count": 0,
      "outputs": [
        {
          "output_type": "execute_result",
          "data": {
            "text/plain": [
              "array([[1, 2, 6, 6, 5],\n",
              "       [4, 5, 6, 4, 4],\n",
              "       [8, 8, 8, 2, 1]])"
            ]
          },
          "metadata": {
            "tags": []
          },
          "execution_count": 14
        }
      ]
    },
    {
      "cell_type": "markdown",
      "metadata": {
        "id": "umsZkwx3mvW7",
        "colab_type": "text"
      },
      "source": [
        "On va créer un vecteur ayant que des 1 excepté son 9 ieme élément qui vaut 15"
      ]
    },
    {
      "cell_type": "code",
      "metadata": {
        "id": "E06KjdW8mvW8",
        "colab_type": "code",
        "colab": {},
        "outputId": "768f8861-a82e-47ea-a0f0-eec67fc31a50"
      },
      "source": [
        "V3 = np.ones(15)\n",
        "np.insert(V3,9,15)   #pour remplacer le 9ème élément"
      ],
      "execution_count": 0,
      "outputs": [
        {
          "output_type": "execute_result",
          "data": {
            "text/plain": [
              "array([ 1.,  1.,  1.,  1.,  1.,  1.,  1.,  1.,  1., 15.,  1.,  1.,  1.,\n",
              "        1.,  1.,  1.])"
            ]
          },
          "metadata": {
            "tags": []
          },
          "execution_count": 19
        }
      ]
    },
    {
      "cell_type": "code",
      "metadata": {
        "id": "FvmBeEDxmvXE",
        "colab_type": "code",
        "colab": {}
      },
      "source": [
        "On va utiliser append pour "
      ],
      "execution_count": 0,
      "outputs": []
    },
    {
      "cell_type": "code",
      "metadata": {
        "id": "EqxcYoZbmvXJ",
        "colab_type": "code",
        "colab": {},
        "outputId": "7babbee3-0b73-4127-9445-8d59fc6f5b4c"
      },
      "source": [
        "import numpy as np\n",
        "V1 = np.array([5,8,9])\n",
        "V2 = np.array([9,9,5,6.8])\n",
        "np.append(V1,V2)"
      ],
      "execution_count": 0,
      "outputs": [
        {
          "output_type": "execute_result",
          "data": {
            "text/plain": [
              "array([5. , 8. , 9. , 9. , 9. , 5. , 6.8])"
            ]
          },
          "metadata": {
            "tags": []
          },
          "execution_count": 25
        }
      ]
    },
    {
      "cell_type": "markdown",
      "metadata": {
        "id": "5g86oe1WmvXP",
        "colab_type": "text"
      },
      "source": [
        "On va créer une matrice ayant 5 fois la même ligne et 1 ligne différents: "
      ]
    },
    {
      "cell_type": "code",
      "metadata": {
        "id": "WO4JLi-hmvXQ",
        "colab_type": "code",
        "colab": {},
        "outputId": "9075f858-e883-49bd-f534-f488a7b90810"
      },
      "source": [
        "import numpy as np\n",
        "V1 = np.array([[1,4,2.3,9]])\n",
        "V2 = np.array([[1,9.9,5.2,1]])\n",
        "np.concatenate([V1,V1,V2,V1,V1,V1],axis=0)"
      ],
      "execution_count": 0,
      "outputs": [
        {
          "output_type": "execute_result",
          "data": {
            "text/plain": [
              "array([[1. , 4. , 2.3, 9. ],\n",
              "       [1. , 4. , 2.3, 9. ],\n",
              "       [1. , 9.9, 5.2, 1. ],\n",
              "       [1. , 4. , 2.3, 9. ],\n",
              "       [1. , 4. , 2.3, 9. ],\n",
              "       [1. , 4. , 2.3, 9. ]])"
            ]
          },
          "metadata": {
            "tags": []
          },
          "execution_count": 27
        }
      ]
    },
    {
      "cell_type": "markdown",
      "metadata": {
        "id": "z11Pc2FKmvXX",
        "colab_type": "text"
      },
      "source": [
        "<h3> Exercice 3</h3>\n",
        "Créer la matrice suivante en utilisant np.concatenate, np.one, np.insert:\n",
        "$$\\left(\\begin{array}{ccccc}\n",
        "2 &2 &5 &2 & 2\\\\\n",
        "2 &2 &5 &2 & 2\\\\\n",
        "2 &2 &5 &2 & 2\\\\\n",
        "2 &2 &5 &2 & 2\\\\\n",
        "2 &2 &5 &2 &2\\\\\n",
        "2 &2 &5 &2 &2\n",
        "\\end{array}\\right)\n",
        "$$"
      ]
    },
    {
      "cell_type": "code",
      "metadata": {
        "id": "YLNnsTx_mvXc",
        "colab_type": "code",
        "colab": {},
        "outputId": "52715551-ef6d-4256-b4db-ecb1ebbb1a05"
      },
      "source": [
        "import numpy as np\n",
        "V1 = 2*np.ones(4,dtype=int)\n",
        "V2 = np.insert(V1,2,5)\n",
        "V2 = V2.reshape(1,5)\n",
        "M = np.concatenate([V2]*6,axis=0)\n",
        "M"
      ],
      "execution_count": 0,
      "outputs": [
        {
          "output_type": "execute_result",
          "data": {
            "text/plain": [
              "array([[2, 2, 5, 2, 2],\n",
              "       [2, 2, 5, 2, 2],\n",
              "       [2, 2, 5, 2, 2],\n",
              "       [2, 2, 5, 2, 2],\n",
              "       [2, 2, 5, 2, 2],\n",
              "       [2, 2, 5, 2, 2]])"
            ]
          },
          "metadata": {
            "tags": []
          },
          "execution_count": 109
        }
      ]
    },
    {
      "cell_type": "markdown",
      "metadata": {
        "id": "tlhLZBOemvXi",
        "colab_type": "text"
      },
      "source": [
        "# Courbe de fonction\n",
        "<ul>\n",
        "    <li> numpy.cos</li>\n",
        "    <li> numpy.sin</li>\n",
        "    <li> numpy.log</li>\n",
        "    <li> numpy.exp</li>\n",
        "</ul>\n",
        "On va tracer la courbe de$f(x)=\\ln(1+(sin(x))^{2})$ sur [0,5]. On utilise le package matplotlib.pyplot pour tracer cette courbe."
      ]
    },
    {
      "cell_type": "code",
      "metadata": {
        "id": "461jck3RmvXm",
        "colab_type": "code",
        "colab": {},
        "outputId": "addf0db2-ce97-4caf-b61b-0b770db8d0a7"
      },
      "source": [
        "import numpy as np\n",
        "x = np.linspace(0,5,40)\n",
        "y = np.log(1+np.sin(x)**2)\n",
        "\n",
        "import matplotlib.pyplot as plt\n",
        "plt.plot(x,y)\n",
        "plt.show()"
      ],
      "execution_count": 0,
      "outputs": [
        {
          "output_type": "execute_result",
          "data": {
            "image/png": "[encoded data removed]",
            "text/plain": [
              "<Figure size 432x288 with 1 Axes>"
            ]
          },
          "metadata": {
            "tags": [],
            "image/png": {
              "height": 248,
              "width": 372
            }
          },
          "execution_count": 1
        }
      ]
    },
    {
      "cell_type": "markdown",
      "metadata": {
        "id": "xVMs8aGymvXs",
        "colab_type": "text"
      },
      "source": [
        "# Exemple\n",
        "* Tracer la courbe de la fonction $f(x)=\\frac{1}{4\\Gamma(2)}xe^{-x/2}$ ou $\\Gamma(t)=\\int_{0}^{+\\infty}x^{t-1}e^{-x}dx$ sur [0,10]. On utilise la fonction gamma fournit par package scipy. \n",
        "* Mettre en évidence l'aire sous la courbe entre 2 et 6.\n",
        "* Calculer $\\int_{2}^{4}\\frac{1}{4\\Gamma(2)}xe^{-x/2}dx$"
      ]
    },
    {
      "cell_type": "code",
      "metadata": {
        "scrolled": true,
        "id": "YKiIB2EPmvXv",
        "colab_type": "code",
        "colab": {},
        "outputId": "a9375908-8e31-492b-cbf3-c7f6f7b5234f"
      },
      "source": [
        "from scipy.special import gamma\n",
        "import numpy as np\n",
        "import matplotlib.pyplot as plt \n",
        "\n",
        "x = np.linspace(0,10,100)\n",
        "y = (1/(4*gamma(2)))*x*np.exp(-x/2)\n",
        "plt.plot(x,y)\n",
        "x1 = np.linspace(2,6,20)\n",
        "y1 = (1/(4*gamma(2)))*x1*np.exp(-x1/2)\n",
        "plt.fill_between(x1,y1, color='blue',alpha=0.3)\n",
        "plt.show()"
      ],
      "execution_count": 0,
      "outputs": [
        {
          "output_type": "display_data",
          "data": {
            "text/plain": [
              "<Figure size 640x480 with 1 Axes>"
            ]
          },
          "metadata": {
            "tags": []
          }
        }
      ]
    },
    {
      "cell_type": "markdown",
      "metadata": {
        "id": "wbLGx-_lmvX2",
        "colab_type": "text"
      },
      "source": [
        "On calcul l'integrale à laide d'une somme de Riemman:\n",
        "    $\\frac{b-a}{n}\\sum_{i=0}^{n}f(a+i(b-a)/n)$"
      ]
    },
    {
      "cell_type": "code",
      "metadata": {
        "id": "SKQcX8N3mvX3",
        "colab_type": "code",
        "colab": {},
        "outputId": "b9e2d19b-194b-4d0e-9afc-103a00934568"
      },
      "source": [
        "x = np.linspace(2,4,100)\n",
        "y = (1/(4*gamma(2)))*x*np.exp(-x/2)\n",
        "((4-2)/100)*np.sum(y)"
      ],
      "execution_count": 0,
      "outputs": [
        {
          "output_type": "execute_result",
          "data": {
            "text/plain": [
              "0.329647113167648"
            ]
          },
          "metadata": {
            "tags": []
          },
          "execution_count": 8
        }
      ]
    },
    {
      "cell_type": "markdown",
      "metadata": {
        "id": "b_SjnrDOmvX8",
        "colab_type": "text"
      },
      "source": [
        "On verifie les résultats. On remarque l'utilisation du package scipy."
      ]
    },
    {
      "cell_type": "code",
      "metadata": {
        "id": "hzDcaLcwmvX_",
        "colab_type": "code",
        "colab": {},
        "outputId": "96b9de38-39c7-44af-97a3-897ddc141c47"
      },
      "source": [
        "def f(x):\n",
        "    y= (1/(4*gamma(2)))*x*np.exp(-x/2)\n",
        "    return(y)\n",
        "\n",
        "from scipy.integrate import quad\n",
        "quad(f,2,4)"
      ],
      "execution_count": 0,
      "outputs": [
        {
          "output_type": "execute_result",
          "data": {
            "text/plain": [
              "(0.32975303263304656, 3.660994092691789e-15)"
            ]
          },
          "metadata": {
            "tags": []
          },
          "execution_count": 9
        }
      ]
    },
    {
      "cell_type": "markdown",
      "metadata": {
        "id": "hJqBRJNLmvYG",
        "colab_type": "text"
      },
      "source": [
        "<h3>Exercice 4</h3>\n",
        "Soit $f(x)=\\frac{1}{\\Gamma(3)}x^{2}e^{-x}$\n",
        "<ul>\n",
        "<li>Tracer la courbe de f entre 0 et 20.</li>\n",
        "<li>Déssiner l'aire sous la coubre entre 3 et 10</li>\n",
        "<li>Calculer $\\int_{3}^{10}f(x)dx.$</li>\n",
        "</ul>\n"
      ]
    },
    {
      "cell_type": "code",
      "metadata": {
        "id": "qQkaIK5umvYI",
        "colab_type": "code",
        "colab": {},
        "outputId": "08ba16e0-8137-45f6-9387-04e4365175ef"
      },
      "source": [
        "from scipy.special import gamma\n",
        "import numpy as np\n",
        "import matplotlib.pyplot as plt \n",
        "\n",
        "x = np.linspace(0,20,100)\n",
        "y = (1/(gamma(3)))*x**2*np.exp(-x/2)\n",
        "plt.plot(x,y)\n",
        "x1 = np.linspace(3,10,20)\n",
        "y1 = (1/(gamma(3)))*x1**2*np.exp(-x1/2)\n",
        "plt.fill_between(x1,y1, color='blue',alpha=0.3)\n",
        "plt.show()"
      ],
      "execution_count": 0,
      "outputs": [
        {
          "output_type": "display_data",
          "data": {
            "image/png": "[encoded data removed]",
            "text/plain": [
              "<Figure size 432x288 with 1 Axes>"
            ]
          },
          "metadata": {
            "tags": [],
            "needs_background": "light"
          }
        }
      ]
    },
    {
      "cell_type": "code",
      "metadata": {
        "id": "056Zc0pzmvYN",
        "colab_type": "code",
        "colab": {},
        "outputId": "98e5a2cc-0281-41d5-d224-b3ba64f9666f"
      },
      "source": [
        "x = np.linspace(3,10,100)\n",
        "y = (1/(gamma(3)))*x**2*np.exp(-x/2)\n",
        "((10-3)/100)*np.sum(y)\n"
      ],
      "execution_count": 0,
      "outputs": [
        {
          "output_type": "execute_result",
          "data": {
            "text/plain": [
              "5.465646601880011"
            ]
          },
          "metadata": {
            "tags": []
          },
          "execution_count": 111
        }
      ]
    },
    {
      "cell_type": "code",
      "metadata": {
        "id": "yQeaMXk2mvYR",
        "colab_type": "code",
        "colab": {},
        "outputId": "40d564fd-e061-4a40-f4b7-bc6ff42ff1bb"
      },
      "source": [
        "#verif\n",
        "def f(x):\n",
        "    y= (1/(gamma(3)))*x**2*np.exp(-x/2)\n",
        "    return(y)\n",
        "\n",
        "from scipy.integrate import quad\n",
        "quad(f,3,10)"
      ],
      "execution_count": 0,
      "outputs": [
        {
          "output_type": "execute_result",
          "data": {
            "text/plain": [
              "(5.473558488439816, 6.076870660498353e-14)"
            ]
          },
          "metadata": {
            "tags": []
          },
          "execution_count": 112
        }
      ]
    },
    {
      "cell_type": "markdown",
      "metadata": {
        "id": "MBAJ2XcMmvYW",
        "colab_type": "text"
      },
      "source": [
        "# Barplot et histogramme"
      ]
    },
    {
      "cell_type": "markdown",
      "metadata": {
        "id": "XjGwW8-MmvYX",
        "colab_type": "text"
      },
      "source": [
        "<b>Exemple de Barplot </b>. Parmi un ensemble de 17 étudiants, 8 sont équipés d'ordinateur windows, 6 d'apple et 3 d'ubuntu. On va représenter ces données avec un barplot."
      ]
    },
    {
      "cell_type": "code",
      "metadata": {
        "id": "t1EvF1LhmvYZ",
        "colab_type": "code",
        "colab": {},
        "outputId": "fc49e30d-3c0c-42ce-c3d3-bb996b29e005"
      },
      "source": [
        "import numpy as np\n",
        "import matplotlib.pyplot as plt\n",
        "\n",
        "\n",
        "#les noms de bars\n",
        "bars = np.array(['windows','apple','ubuntu'])\n",
        "y_pos = np.arange(len(bars))\n",
        "\n",
        "#la hauteur des bars\n",
        "height = np.array([8,6,3])\n",
        "\n",
        "\n",
        "barlist=plt.bar(y_pos, height,edgecolor='blue',alpha=0.7,color=['blue','blue','blue']) #\n",
        "plt.xticks(y_pos,bars,color='black',fontweight='bold')\n",
        "#plt.tick_params(top='off', bottom='off', left='off', right='off', labelleft='off', labelbottom='on')\n",
        "#for spine in plt.gca().spines.values():\n",
        "    #spine.set_visible(False)\n",
        "plt.box(False)\n",
        "plt.yticks([])\n",
        "for i in range(0,len(height)):\n",
        "    plt.text(y_pos[i],height[i]+0.5,str(height[i]),color='black',fontweight='bold')\n",
        "\n",
        "#    \n",
        "#for i in range(0,len(height)):\n",
        "    #barlist[i].set_color('blue',alpha=height[i]/np.sum(height))\n",
        "plt.show()"
      ],
      "execution_count": 0,
      "outputs": [
        {
          "output_type": "display_data",
          "data": {
            "image/png": "[encoded data removed]",
            "text/plain": [
              "<Figure size 432x288 with 1 Axes>"
            ]
          },
          "metadata": {
            "tags": [],
            "needs_background": "light"
          }
        }
      ]
    },
    {
      "cell_type": "markdown",
      "metadata": {
        "id": "S7vmWjAmmvYj",
        "colab_type": "text"
      },
      "source": [
        "<h3>Exercice 5</h3>\n",
        "Dans la liste python ci dessous on 5 modalitées : A,B,C,D. Représenter ces données à l'aide d'un diagramme en bar. Chaque bar représente un pourcentage."
      ]
    },
    {
      "cell_type": "code",
      "metadata": {
        "id": "qG1OVwZgmvYo",
        "colab_type": "code",
        "colab": {},
        "outputId": "f13566b6-d4d5-4108-f685-7147fb3c2e20"
      },
      "source": [
        "#executer la cellule\n",
        "import numpy as np\n",
        "np.random.seed(1998)\n",
        "\n",
        "proba = [0.1,0.2,0.3,0.4]\n",
        "etat = np.array(['A','B','C','D'])\n",
        "Simu = np.random.choice(etat, size=1000, replace=True, p=proba)\n",
        "Simu[0:6]"
      ],
      "execution_count": 0,
      "outputs": [
        {
          "output_type": "execute_result",
          "data": {
            "text/plain": [
              "array(['C', 'D', 'B', 'D', 'C', 'D'], dtype='<U1')"
            ]
          },
          "metadata": {
            "tags": []
          },
          "execution_count": 113
        }
      ]
    },
    {
      "cell_type": "code",
      "metadata": {
        "id": "BOB2xuNOmvYv",
        "colab_type": "code",
        "colab": {},
        "outputId": "db8a11be-2b00-47b6-c49e-34db909ea23b"
      },
      "source": [
        "#les noms de bars\n",
        "y_pos = np.arange(len(etat))\n",
        "\n",
        "#la hauteur des bars\n",
        "height=1/10*np.array([sum(Simu=='A'),sum(Simu=='B'),sum(Simu=='C'),sum(Simu=='D')]) #on compte le nombre d'occurences pour chaque état\n",
        "height[0]=round(height[0],2)\n",
        "\n",
        "barlist=plt.bar(y_pos, height,edgecolor='blue',alpha=0.7,color=['blue','blue','blue']) \n",
        "plt.xticks(y_pos,etat,color='black',fontweight='bold')\n",
        "\n",
        "plt.box(False)\n",
        "plt.yticks([])\n",
        "for i in range(0,len(height)):\n",
        "    plt.text(y_pos[i],height[i]+1,str(height[i])+'%',color='black',fontweight='bold')\n",
        "\n",
        "plt.show()"
      ],
      "execution_count": 0,
      "outputs": [
        {
          "output_type": "display_data",
          "data": {
            "image/png": "[encoded data removed]",
            "text/plain": [
              "<Figure size 432x288 with 1 Axes>"
            ]
          },
          "metadata": {
            "tags": [],
            "needs_background": "light"
          }
        }
      ]
    },
    {
      "cell_type": "markdown",
      "metadata": {
        "id": "1gR6GmHimvY0",
        "colab_type": "text"
      },
      "source": [
        "<b>Exemple d'histogramme </b>\n",
        "* Simuler un échantillon de Poisson de parametre 4 et de taille 10 000.\n",
        "* Tracer son histogramme.\n",
        "* Tracer dans la meme figure que l'histoire la courbe $f(x)=\\frac{1}{2\\sqrt{2\\pi}}e^{-\\frac{1}{2}\\left(\\frac{x-4}{2}\\right)^{2}}$ entre 0 et 15."
      ]
    },
    {
      "cell_type": "markdown",
      "metadata": {
        "id": "pUyNr0qvmvY1",
        "colab_type": "text"
      },
      "source": [
        "On simule l'échantillon de loi de poisson"
      ]
    },
    {
      "cell_type": "code",
      "metadata": {
        "id": "vUa3TxsTmvY5",
        "colab_type": "code",
        "colab": {}
      },
      "source": [
        "import numpy as np\n",
        "np.random.seed(1998)\n",
        "pois = np.random.poisson(4, 10000)"
      ],
      "execution_count": 0,
      "outputs": []
    },
    {
      "cell_type": "markdown",
      "metadata": {
        "id": "2NM-RmZemvZK",
        "colab_type": "text"
      },
      "source": [
        "On trace l'histogrammme en utilisant plt.hist"
      ]
    },
    {
      "cell_type": "code",
      "metadata": {
        "id": "vIsVSZlimvZL",
        "colab_type": "code",
        "colab": {},
        "outputId": "a23118ac-f43e-44a6-f76e-4bbc5213642f"
      },
      "source": [
        "import numpy as np\n",
        "import matplotlib.pyplot as plt\n",
        "plt.hist(pois,bins='sturges',density=True)  #sturges\n",
        "x = np.linspace(0,14,100)\n",
        "y = (1/(2*np.sqrt(2*np.pi)))*np.exp(-(1/2)*((x-4)/2)**2)\n",
        "plt.plot(x,y,color='black')\n",
        "plt.show"
      ],
      "execution_count": 0,
      "outputs": [
        {
          "output_type": "execute_result",
          "data": {
            "text/plain": [
              "<function matplotlib.pyplot.show(*args, **kw)>"
            ]
          },
          "metadata": {
            "tags": []
          },
          "execution_count": 16
        },
        {
          "output_type": "execute_result",
          "data": {
            "image/png": "[encoded data removed]",
            "text/plain": [
              "<Figure size 432x288 with 1 Axes>"
            ]
          },
          "metadata": {
            "tags": [],
            "image/png": {
              "height": 252,
              "width": 385
            }
          },
          "execution_count": 16
        }
      ]
    },
    {
      "cell_type": "markdown",
      "metadata": {
        "id": "e1hQMEsGmvZP",
        "colab_type": "text"
      },
      "source": [
        "<h3>Exercice 6: histogramme</h3>\n",
        "<ul>\n",
        "<li>Simuler un échantillon de taille 10000 de loi normal de moyenne 6 et d'écart type 3</li>\n",
        "<li>Faire l'histogramme de cet échantillon en utilisant plt.hist avec l'option density=True et bins='sturges'.</li>\n",
        "<li>Tracer la courbe $f(x)=\\frac{1}{\\sqrt{2\\pi\\times9}}e^{-\\frac{1}{2}\\left(\\frac{x-6}{3}\\right)^{2}}$ sur le même graphique dans l'interval [-6,16].</li>    \n",
        "</ul>"
      ]
    },
    {
      "cell_type": "code",
      "metadata": {
        "id": "PLbgrHNLmvZQ",
        "colab_type": "code",
        "colab": {},
        "outputId": "e549156d-5e0c-4a2f-f245-e25328c744ff"
      },
      "source": [
        "import numpy as np\n",
        "norm=np.random.normal(6,math.sqrt(3),10000)\n",
        "import matplotlib.pyplot as plt\n",
        "plt.hist(norm,bins='sturges',density=True)  #sturges\n",
        "x = np.linspace(-6,16,100)\n",
        "y = (1/(np.sqrt(2*np.pi*9)))*np.exp(-(1/2)*((x-6)/3)**2)\n",
        "plt.plot(x,y,color='black')\n",
        "plt.show\n",
        "\n"
      ],
      "execution_count": 0,
      "outputs": [
        {
          "output_type": "execute_result",
          "data": {
            "text/plain": [
              "<function matplotlib.pyplot.show(*args, **kw)>"
            ]
          },
          "metadata": {
            "tags": []
          },
          "execution_count": 116
        },
        {
          "output_type": "display_data",
          "data": {
            "image/png": "[encoded data removed]",
            "text/plain": [
              "<Figure size 432x288 with 1 Axes>"
            ]
          },
          "metadata": {
            "tags": [],
            "needs_background": "light"
          }
        }
      ]
    },
    {
      "cell_type": "markdown",
      "metadata": {
        "id": "1DLSnqt1mvZW",
        "colab_type": "text"
      },
      "source": [
        "# Nuage de points"
      ]
    },
    {
      "cell_type": "markdown",
      "metadata": {
        "id": "9rjPA6MrmvZX",
        "colab_type": "text"
      },
      "source": [
        "On va simuler un nuage de point provenant d’un modèle linéaire Y = 0.5 + 2X. On trace le nuage de\n",
        "point à l’aide de la fonction plt.scatter. Ensuite on trace la droite d’équation Y = 0.5 + 2X sur le même\n",
        "grpahique."
      ]
    },
    {
      "cell_type": "code",
      "metadata": {
        "id": "dKtpw-w-mvZZ",
        "colab_type": "code",
        "colab": {}
      },
      "source": [
        "import numpy as np\n",
        "np.random.seed(seed=1998)\n",
        "x = np.random.normal(loc=4,scale=1,size=100)\n",
        "e = np.random.normal(loc=0,scale=4,size=100)\n",
        "y = 0.5+2*x+e\n",
        "\n",
        "M = max(x)\n",
        "m = min(x)\n",
        "x_trend = np.arange(m,M+0.1,0.1)\n",
        "y_trend = 0.5+2*x_trend"
      ],
      "execution_count": 0,
      "outputs": []
    },
    {
      "cell_type": "code",
      "metadata": {
        "id": "YhsrLsbWmvZe",
        "colab_type": "code",
        "colab": {},
        "outputId": "4a4f7ba1-b24b-454f-882a-294b649da2dd"
      },
      "source": [
        "#On trace le nuage de point\n",
        "import matplotlib.pyplot as plt\n",
        "plt.scatter(x,y,color=\"red\",alpha=0.6)\n",
        "plt.plot(x_trend,y_trend,color=\"blue\")\n",
        "plt.show()"
      ],
      "execution_count": 0,
      "outputs": [
        {
          "output_type": "execute_result",
          "data": {
            "image/png": "[encoded data removed]",
            "text/plain": [
              "<Figure size 432x288 with 1 Axes>"
            ]
          },
          "metadata": {
            "tags": [],
            "image/png": {
              "height": 250,
              "width": 371
            },
            "needs_background": "light"
          },
          "execution_count": 3
        }
      ]
    },
    {
      "cell_type": "markdown",
      "metadata": {
        "id": "fyKhb4ROmvZi",
        "colab_type": "text"
      },
      "source": [
        "<h3>Exercice 7</h3>\n",
        "Le poids des hommes suit une loi normal de paramètre de moyenne 77.4kg et d’écart type 12kg. Le poids\n",
        "des femmes suit une loi normal de paramètre de moyenne 62.4 et d’écart type 10.9. En France, il y a 32\n",
        "455 859 hommes pour 34 534 967 femmes au 1er janvier 2017. Une compagnie maritime organise en Corse\n",
        "des expéditions pouvant accueillir 100 personnes par bateau. Selon les normes de sécurité en vigueur, un\n",
        "bateau ne peut accueillir une charge dépassant les 7.2 tonnes. A l’aide d’une simulation, calculer le risque\n",
        "que cette normes ne soient pas respectées ? (On ferra l’hypothèse que les touristes sont adultes et voyagent\n",
        "sans bagage)"
      ]
    },
    {
      "cell_type": "code",
      "metadata": {
        "id": "Lnz-vdBWmvZj",
        "colab_type": "code",
        "colab": {}
      },
      "source": [
        "import math\n",
        "import numpy as np\n",
        "proba=[32455859/(32455859+34534967),34534967/(32455859+34534967)]\n",
        "label=[\"homme\",\"femme\"]\n",
        "\n",
        "\n",
        "Vect_poids=[]\n",
        "m=1000 #nombre de simulations \n",
        "for i in range(0,m):\n",
        "    Simu=np.random.choice(label, size=100, replace=True, p=proba)\n",
        "    nh=sum(Simu==\"homme\")     #nb d'hommes sélectionnés\n",
        "    nf=sum(Simu==\"femme\")     #nb de femmes sélectionnées\n",
        "    poids_homme=np.random.normal(77.4,12,nh) \n",
        "    poids_femme=np.random.normal(62.4,10.9,nf)\n",
        "    poids_total=sum(poids_homme)+sum(poids_femme)  #poids total des passagers d'une croisière\n",
        "    Vect_poids.append(poids_total)"
      ],
      "execution_count": 0,
      "outputs": []
    },
    {
      "cell_type": "code",
      "metadata": {
        "id": "7o16PPubmvZp",
        "colab_type": "code",
        "colab": {},
        "outputId": "ba0c9e17-e33f-4a79-b9eb-d948c715c62f"
      },
      "source": [
        "#Estimation de la proba que les normes ne soient pas respectées\n",
        "Vect_poids_numpy= np.array(Vect_poids)\n",
        "Vect_poids_numpy[Vect_poids_numpy>7200].shape[0]/m"
      ],
      "execution_count": 0,
      "outputs": [
        {
          "output_type": "execute_result",
          "data": {
            "text/plain": [
              "0.04"
            ]
          },
          "metadata": {
            "tags": []
          },
          "execution_count": 118
        }
      ]
    },
    {
      "cell_type": "code",
      "metadata": {
        "id": "n4O7E0hdmvZt",
        "colab_type": "code",
        "colab": {},
        "outputId": "5a5a1da7-1b79-4b8c-d8cb-c34f071b7757"
      },
      "source": [
        "import matplotlib.pyplot as plt\n",
        "x=np.linspace(1,m,m)\n",
        "plt.scatter(x,Vect_poids_numpy)\n",
        "plt.show()\n"
      ],
      "execution_count": 0,
      "outputs": [
        {
          "output_type": "display_data",
          "data": {
            "image/png": "[encoded data removed]",
            "text/plain": [
              "<Figure size 432x288 with 1 Axes>"
            ]
          },
          "metadata": {
            "tags": [],
            "needs_background": "light"
          }
        }
      ]
    },
    {
      "cell_type": "markdown",
      "metadata": {
        "id": "UwxFK_SCmvZx",
        "colab_type": "text"
      },
      "source": [
        "### Exercice 8"
      ]
    },
    {
      "cell_type": "code",
      "metadata": {
        "id": "DrGeNmvQmvZy",
        "colab_type": "code",
        "colab": {}
      },
      "source": [
        "import numpy as np\n",
        "\n",
        "#tirage aléatoire des lois \n",
        "proba=[1/3,2/3]\n",
        "label=[1,2]\n",
        "\n",
        "Simu = np.random.choice(label, size=1000, replace=True, p=proba) #choix de la famille de loi aléatoire\n",
        "n1=sum(Simu==1)\n",
        "n2=sum(Simu==2)\n",
        "z1=np.random.multivariate_normal([0,0],np.eye(2),size=n1) #loi famille 1\n",
        "z1_label=np.array([1]*n1) #label 1\n",
        "v1=np.c_[z1,z1_label]  \n",
        "z2=np.random.multivariate_normal([1,1],0.25*np.eye(2),size=n2) #loi famille 2\n",
        "z2_label=np.array([2]*n2) #label 2\n",
        "v2=np.c_[z2,z2_label]\n",
        "Simu_lois= np.vstack((v1,v2))\n",
        "np.random.shuffle(Simu_lois)"
      ],
      "execution_count": 0,
      "outputs": []
    },
    {
      "cell_type": "code",
      "metadata": {
        "id": "3ji47kNUmvZ1",
        "colab_type": "code",
        "colab": {},
        "outputId": "5916e996-e5f0-419e-ac52-fbd7b7144524"
      },
      "source": [
        "Simu_lois"
      ],
      "execution_count": 0,
      "outputs": [
        {
          "output_type": "execute_result",
          "data": {
            "text/plain": [
              "array([[0.2719692 , 0.89094428, 2.        ],\n",
              "       [0.86843081, 0.70237949, 2.        ],\n",
              "       [0.60806709, 1.40184018, 1.        ],\n",
              "       ...,\n",
              "       [1.21651824, 1.16600382, 2.        ],\n",
              "       [1.13082059, 0.31283807, 2.        ],\n",
              "       [0.48048875, 0.45978383, 2.        ]])"
            ]
          },
          "metadata": {
            "tags": []
          },
          "execution_count": 124
        }
      ]
    },
    {
      "cell_type": "code",
      "metadata": {
        "id": "YTcTipzxmvZ4",
        "colab_type": "code",
        "colab": {},
        "outputId": "b56440b6-b7b5-4fc8-d09a-60d2c6ac2080"
      },
      "source": [
        "for o in np.unique(Simu_lois[:,2]):\n",
        "    plt.scatter(Simu_lois[:,0][Simu_lois[:,2]==o], Simu_lois[:, 1][Simu_lois[:,2]==o], label=o)\n",
        "plt.legend(loc=3)\n",
        "plt.show"
      ],
      "execution_count": 0,
      "outputs": [
        {
          "output_type": "execute_result",
          "data": {
            "text/plain": [
              "<function matplotlib.pyplot.show(*args, **kw)>"
            ]
          },
          "metadata": {
            "tags": []
          },
          "execution_count": 125
        },
        {
          "output_type": "display_data",
          "data": {
            "image/png": "[encoded data removed]",
            "text/plain": [
              "<Figure size 432x288 with 1 Axes>"
            ]
          },
          "metadata": {
            "tags": [],
            "needs_background": "light"
          }
        }
      ]
    },
    {
      "cell_type": "code",
      "metadata": {
        "id": "h7OKZtaSmvZ7",
        "colab_type": "code",
        "colab": {},
        "outputId": "5f8fa806-bd6e-4bfa-bd3f-f164c4b3a9c5"
      },
      "source": [
        "#Vérification\n",
        "import matplotlib.pyplot as plt\n",
        "plt.scatter(z1[:,0],z1[:,1],label=1)\n",
        "plt.scatter(z2[:,0],z2[:,1],label=2)\n",
        "plt.legend(loc=3)\n",
        "plt.title(\"Nuage de points des 2 lois\")\n",
        "plt.show"
      ],
      "execution_count": 0,
      "outputs": [
        {
          "output_type": "execute_result",
          "data": {
            "text/plain": [
              "<function matplotlib.pyplot.show(*args, **kw)>"
            ]
          },
          "metadata": {
            "tags": []
          },
          "execution_count": 126
        },
        {
          "output_type": "display_data",
          "data": {
            "image/png": "[encoded data removed]",
            "text/plain": [
              "<Figure size 432x288 with 1 Axes>"
            ]
          },
          "metadata": {
            "tags": [],
            "needs_background": "light"
          }
        }
      ]
    },
    {
      "cell_type": "code",
      "metadata": {
        "id": "EsPUI_iHmvZ-",
        "colab_type": "code",
        "colab": {}
      },
      "source": [
        ""
      ],
      "execution_count": 0,
      "outputs": []
    }
  ]
}