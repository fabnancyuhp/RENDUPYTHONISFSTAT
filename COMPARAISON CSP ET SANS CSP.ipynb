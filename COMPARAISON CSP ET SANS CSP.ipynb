{
 "cells": [
  {
   "cell_type": "code",
   "execution_count": 1,
   "metadata": {},
   "outputs": [],
   "source": [
    "import pandas as pd\n",
    "donnee = pd.read_pickle(\"C:/Users/IFDU1270/Desktop/PASSE PRO/casplatfore.pkl\")"
   ]
  },
  {
   "cell_type": "code",
   "execution_count": 4,
   "metadata": {},
   "outputs": [
    {
     "data": {
      "text/html": [
       "<div>\n",
       "<style scoped>\n",
       "    .dataframe tbody tr th:only-of-type {\n",
       "        vertical-align: middle;\n",
       "    }\n",
       "\n",
       "    .dataframe tbody tr th {\n",
       "        vertical-align: top;\n",
       "    }\n",
       "\n",
       "    .dataframe thead th {\n",
       "        text-align: right;\n",
       "    }\n",
       "</style>\n",
       "<table border=\"1\" class=\"dataframe\">\n",
       "  <thead>\n",
       "    <tr style=\"text-align: right;\">\n",
       "      <th></th>\n",
       "      <th>f1</th>\n",
       "      <th>kn_individu_national</th>\n",
       "      <th>dc_individu_national</th>\n",
       "      <th>top_dsn</th>\n",
       "      <th>top_djtp</th>\n",
       "      <th>dc_assedic_de</th>\n",
       "      <th>duree_vie_mois_etab_cess</th>\n",
       "      <th>dn_mtcapitalodcourante</th>\n",
       "      <th>dn_nbetabrattachesentreprise</th>\n",
       "      <th>dn_nbjourscarenceiccp</th>\n",
       "      <th>...</th>\n",
       "      <th>RDFprobbissanscsp</th>\n",
       "      <th>cas</th>\n",
       "      <th>BNI</th>\n",
       "      <th>DAL</th>\n",
       "      <th>DE déjà signalé par une autre source de signalement</th>\n",
       "      <th>Statut OCAPI</th>\n",
       "      <th>Signalement crée dans Sillage</th>\n",
       "      <th>Qualité des données</th>\n",
       "      <th>Commentaires</th>\n",
       "      <th>Qualification SILLAGE ( à compléter à l'issu des investigations)</th>\n",
       "    </tr>\n",
       "  </thead>\n",
       "  <tbody>\n",
       "    <tr>\n",
       "      <th>0</th>\n",
       "      <td>0</td>\n",
       "      <td>1000000125</td>\n",
       "      <td>1000000125</td>\n",
       "      <td>Présence DSN</td>\n",
       "      <td>Absence DJTP</td>\n",
       "      <td>51</td>\n",
       "      <td>262</td>\n",
       "      <td>4829.37</td>\n",
       "      <td>1</td>\n",
       "      <td>0</td>\n",
       "      <td>...</td>\n",
       "      <td>0-10</td>\n",
       "      <td>NaN</td>\n",
       "      <td>NaN</td>\n",
       "      <td>NaN</td>\n",
       "      <td>NaN</td>\n",
       "      <td>NaN</td>\n",
       "      <td>NaN</td>\n",
       "      <td>NaN</td>\n",
       "      <td>NaN</td>\n",
       "      <td>NaN</td>\n",
       "    </tr>\n",
       "    <tr>\n",
       "      <th>1</th>\n",
       "      <td>1</td>\n",
       "      <td>1000000136</td>\n",
       "      <td>1000000136</td>\n",
       "      <td>Absence DSN</td>\n",
       "      <td>Absence DJTP</td>\n",
       "      <td>51</td>\n",
       "      <td>749</td>\n",
       "      <td>17776.11</td>\n",
       "      <td>0</td>\n",
       "      <td>10</td>\n",
       "      <td>...</td>\n",
       "      <td>0-10</td>\n",
       "      <td>NaN</td>\n",
       "      <td>NaN</td>\n",
       "      <td>NaN</td>\n",
       "      <td>NaN</td>\n",
       "      <td>NaN</td>\n",
       "      <td>NaN</td>\n",
       "      <td>NaN</td>\n",
       "      <td>NaN</td>\n",
       "      <td>NaN</td>\n",
       "    </tr>\n",
       "    <tr>\n",
       "      <th>2</th>\n",
       "      <td>2</td>\n",
       "      <td>1000000979</td>\n",
       "      <td>1000000979</td>\n",
       "      <td>Présence DSN</td>\n",
       "      <td>Présence DJTP</td>\n",
       "      <td>51</td>\n",
       "      <td>749</td>\n",
       "      <td>28185.30</td>\n",
       "      <td>1</td>\n",
       "      <td>0</td>\n",
       "      <td>...</td>\n",
       "      <td>0-10</td>\n",
       "      <td>NaN</td>\n",
       "      <td>NaN</td>\n",
       "      <td>NaN</td>\n",
       "      <td>NaN</td>\n",
       "      <td>NaN</td>\n",
       "      <td>NaN</td>\n",
       "      <td>NaN</td>\n",
       "      <td>NaN</td>\n",
       "      <td>NaN</td>\n",
       "    </tr>\n",
       "  </tbody>\n",
       "</table>\n",
       "<p>3 rows × 127 columns</p>\n",
       "</div>"
      ],
      "text/plain": [
       "   f1  kn_individu_national  dc_individu_national       top_dsn  \\\n",
       "0   0            1000000125            1000000125  Présence DSN   \n",
       "1   1            1000000136            1000000136   Absence DSN   \n",
       "2   2            1000000979            1000000979  Présence DSN   \n",
       "\n",
       "        top_djtp  dc_assedic_de  duree_vie_mois_etab_cess  \\\n",
       "0   Absence DJTP             51                       262   \n",
       "1   Absence DJTP             51                       749   \n",
       "2  Présence DJTP             51                       749   \n",
       "\n",
       "   dn_mtcapitalodcourante  dn_nbetabrattachesentreprise  \\\n",
       "0                 4829.37                             1   \n",
       "1                17776.11                             0   \n",
       "2                28185.30                             1   \n",
       "\n",
       "   dn_nbjourscarenceiccp  ...  RDFprobbissanscsp  cas  BNI  DAL  \\\n",
       "0                      0  ...               0-10  NaN  NaN  NaN   \n",
       "1                     10  ...               0-10  NaN  NaN  NaN   \n",
       "2                      0  ...               0-10  NaN  NaN  NaN   \n",
       "\n",
       "   DE déjà signalé par une autre source de signalement  Statut OCAPI  \\\n",
       "0                                                NaN             NaN   \n",
       "1                                                NaN             NaN   \n",
       "2                                                NaN             NaN   \n",
       "\n",
       "   Signalement crée dans Sillage Qualité des données Commentaires  \\\n",
       "0                            NaN                 NaN          NaN   \n",
       "1                            NaN                 NaN          NaN   \n",
       "2                            NaN                 NaN          NaN   \n",
       "\n",
       "  Qualification SILLAGE ( à compléter à l'issu des investigations)  \n",
       "0                                                NaN                \n",
       "1                                                NaN                \n",
       "2                                                NaN                \n",
       "\n",
       "[3 rows x 127 columns]"
      ]
     },
     "execution_count": 4,
     "metadata": {},
     "output_type": "execute_result"
    }
   ],
   "source": [
    "donnee.head(3)"
   ]
  },
  {
   "cell_type": "markdown",
   "metadata": {},
   "source": [
    "# Comparaison des cas positifs rdf sans pcs et rdf avec pcs\n",
    "On compare les cas positifs que les modèles de random forest avec CSP et sans CSP ramènent. La variable qui modélise le score du modèle RDF avec CSP est <b>rdfscore</b>. La variable qui modélise le score du modèle RDF sans CSP est RDFprobsanscsp."
   ]
  },
  {
   "cell_type": "code",
   "execution_count": 15,
   "metadata": {},
   "outputs": [
    {
     "name": "stdout",
     "output_type": "stream",
     "text": [
      "Le nombre de cas positif du modèle RDF avec CSP est:5427 \n"
     ]
    }
   ],
   "source": [
    "# Nombre de cas positif RDF avec CSP\n",
    "nb_cas_pos_rdf_csp = donnee.loc[donnee['rdfscore']>50].shape[0]\n",
    "print(f'Le nombre de cas positif du modèle RDF avec CSP est:{nb_cas_pos_rdf_csp} ')\n",
    "\n",
    "#Nombre de cas posti"
   ]
  },
  {
   "cell_type": "code",
   "execution_count": 16,
   "metadata": {},
   "outputs": [
    {
     "name": "stdout",
     "output_type": "stream",
     "text": [
      "Le nombre de cas positif du modèle RDF avec CSP est:5562 \n"
     ]
    }
   ],
   "source": [
    "# Nombre de cas positif RDF sans CSP\n",
    "nb_cas_pos_rdf_sanscsp = donnee.loc[donnee['RDFprobsanscsp']>0.5].shape[0]\n",
    "print(f'Le nombre de cas positif du modèle RDF avec CSP est:{nb_cas_pos_rdf_sanscsp} ')"
   ]
  },
  {
   "cell_type": "markdown",
   "metadata": {},
   "source": [
    "Cohérence entre les 2 modèles. On regarde si globalement les modèles sont en accord sur les cas négatif et les cas positif."
   ]
  },
  {
   "cell_type": "code",
   "execution_count": 19,
   "metadata": {},
   "outputs": [],
   "source": [
    "donnee['pos_csp'] = donnee['rdfscore'].apply(lambda x: 'pos_csp' if x>50 else 'neg_csp')\n",
    "donnee['pos_sanscsp'] = donnee['RDFprobsanscsp'].apply(lambda x: 'pos_cspsanscsp' if x>0.5 else 'neg_sanscsp')"
   ]
  },
  {
   "cell_type": "code",
   "execution_count": 27,
   "metadata": {},
   "outputs": [
    {
     "data": {
      "text/html": [
       "<div>\n",
       "<style scoped>\n",
       "    .dataframe tbody tr th:only-of-type {\n",
       "        vertical-align: middle;\n",
       "    }\n",
       "\n",
       "    .dataframe tbody tr th {\n",
       "        vertical-align: top;\n",
       "    }\n",
       "\n",
       "    .dataframe thead th {\n",
       "        text-align: right;\n",
       "    }\n",
       "</style>\n",
       "<table border=\"1\" class=\"dataframe\">\n",
       "  <thead>\n",
       "    <tr style=\"text-align: right;\">\n",
       "      <th></th>\n",
       "      <th>pos_csp</th>\n",
       "      <th>pos_sanscsp</th>\n",
       "      <th>kn_individu_national</th>\n",
       "    </tr>\n",
       "  </thead>\n",
       "  <tbody>\n",
       "    <tr>\n",
       "      <th>0</th>\n",
       "      <td>neg_csp</td>\n",
       "      <td>neg_sanscsp</td>\n",
       "      <td>2006083</td>\n",
       "    </tr>\n",
       "    <tr>\n",
       "      <th>1</th>\n",
       "      <td>neg_csp</td>\n",
       "      <td>pos_cspsanscsp</td>\n",
       "      <td>1358</td>\n",
       "    </tr>\n",
       "    <tr>\n",
       "      <th>2</th>\n",
       "      <td>pos_csp</td>\n",
       "      <td>neg_sanscsp</td>\n",
       "      <td>1223</td>\n",
       "    </tr>\n",
       "    <tr>\n",
       "      <th>3</th>\n",
       "      <td>pos_csp</td>\n",
       "      <td>pos_cspsanscsp</td>\n",
       "      <td>4204</td>\n",
       "    </tr>\n",
       "  </tbody>\n",
       "</table>\n",
       "</div>"
      ],
      "text/plain": [
       "   pos_csp     pos_sanscsp  kn_individu_national\n",
       "0  neg_csp     neg_sanscsp               2006083\n",
       "1  neg_csp  pos_cspsanscsp                  1358\n",
       "2  pos_csp     neg_sanscsp                  1223\n",
       "3  pos_csp  pos_cspsanscsp                  4204"
      ]
     },
     "execution_count": 27,
     "metadata": {},
     "output_type": "execute_result"
    }
   ],
   "source": [
    "compas = donnee.groupby(['pos_csp','pos_sanscsp']).agg({'kn_individu_national':'count'}).reset_index()\n",
    "donnee.groupby(['pos_csp','pos_sanscsp']).agg({'kn_individu_national':'count'}).reset_index()"
   ]
  },
  {
   "cell_type": "code",
   "execution_count": 44,
   "metadata": {},
   "outputs": [
    {
     "data": {
      "text/plain": [
       "<matplotlib.axes._subplots.AxesSubplot at 0x49e95b0>"
      ]
     },
     "execution_count": 44,
     "metadata": {},
     "output_type": "execute_result"
    },
    {
     "data": {
      "image/png": "[encoded data removed]",
      "text/plain": [
       "<Figure size 432x288 with 2 Axes>"
      ]
     },
     "metadata": {
      "needs_background": "light"
     },
     "output_type": "display_data"
    }
   ],
   "source": [
    "import seaborn as sns\n",
    "oo = compas.pivot_table(index=['pos_csp'],columns='pos_sanscsp')\n",
    "oo.columns = ['neg_sanscsp','pos_cspsanscsp']\n",
    "sns.heatmap(oo,annot=True,fmt=\"d\")"
   ]
  },
  {
   "cell_type": "markdown",
   "metadata": {},
   "source": [
    "* 2006083 dossiers sont vue comme négatif par les 2 modèles\n",
    "* 1358 cas sont négatifs pour le modèles csp et postif pour le modèle sans csp\n",
    "* 1223 cas sont positif pour le modèle csp et négatif pour le modèle sans csp\n",
    "* 4204 dossiers sont vue comme frauduleux par les 2 modèles"
   ]
  },
  {
   "cell_type": "code",
   "execution_count": null,
   "metadata": {},
   "outputs": [],
   "source": []
  },
  {
   "cell_type": "markdown",
   "metadata": {},
   "source": [
    "# Nombre de cas CSP détecté par les 2 modèles"
   ]
  },
  {
   "cell_type": "code",
   "execution_count": 64,
   "metadata": {},
   "outputs": [],
   "source": [
    "import numpy as np\n",
    "\n",
    "fct_csp1 = [\"Rupture d'un commun accord pour entrée en CSP\",\"Entrée en CSP suite adhésion volontaire\"]\n",
    "fct_csp2 = [\"Rupture d'un commun accord pour entrÃ©e en CSP\",'EntrÃ©e en CSP suite adhÃ©sion volontaire']\n",
    "\n",
    "fct_csp = fct_csp1+fct_csp2\n",
    "\n",
    "\n",
    "#le nombre de cas CSP dans la pop\n",
    "nb_cas_csp = donnee.loc[donnee['DC_LBLMOTIFFCT_RETENU'.lower()].isin(fct_csp)].shape[0]\n",
    "\n",
    "#Nombre de cas csp positif produit par le modèle RDF avec CSP\n",
    "nb_cas_csp_rdf_aveccsp = donnee.loc[(donnee['DC_LBLMOTIFFCT_RETENU'.lower()].isin(fct_csp))& (donnee['rdfscore']>50)].shape[0]\n",
    "\n",
    "#Nombre de cas csp positif produit par le modèle RDF sans CSP\n",
    "nb_cas_csp_rdf_sanscsp = donnee.loc[(donnee['DC_LBLMOTIFFCT_RETENU'.lower()].isin(fct_csp))& (donnee['RDFprobsanscsp']>0.5)].shape[0]\n",
    "\n",
    "#Ratio de cas csp avec la RDF CSP\n",
    "ratio_csp = np.round(nb_cas_csp_rdf_aveccsp/nb_cas_csp,2)\n",
    "\n",
    "#Ratio de cas csp avec la RDF sans CSP\n",
    "ratio_sanscsp = np.round(nb_cas_csp_rdf_sanscsp/nb_cas_csp,2)"
   ]
  },
  {
   "cell_type": "code",
   "execution_count": 70,
   "metadata": {},
   "outputs": [
    {
     "name": "stdout",
     "output_type": "stream",
     "text": [
      "Nombre de cas CSP:113171\n",
      "Nombre de cas CSP RDF avec CSP:3160\n",
      "Nombre de cas CSP RDF sans CSP:2953\n",
      "Ratio modèle avec CSP:0.03\n",
      "Ratio modèle sans CSP:0.03\n"
     ]
    }
   ],
   "source": [
    "print(f'Nombre de cas CSP:{nb_cas_csp}')\n",
    "print(f'Nombre de cas CSP RDF avec CSP:{nb_cas_csp_rdf_aveccsp}')\n",
    "print(f'Nombre de cas CSP RDF sans CSP:{nb_cas_csp_rdf_sanscsp}')\n",
    "print(f'Ratio modèle avec CSP:{ratio_csp}')\n",
    "print(f'Ratio modèle sans CSP:{ratio_sanscsp}')"
   ]
  },
  {
   "cell_type": "markdown",
   "metadata": {},
   "source": [
    "Le nombre de cas ramené par le modèle initiale prenant en compte les cas CSP s’élève à 3160 contre 2953 pour le modèle antrainé sans les cas CSP. L’écart en faveur du modèle entrainé sans les cas CSP n’est pas suffisamment grand pour être significatif."
   ]
  },
  {
   "cell_type": "markdown",
   "metadata": {},
   "source": [
    "# Perspectives :\n",
    "* Utiliser le modèle initiale testé lors des plateformes. Pour les cas CSP prendre les cas ayant un score supérieur à un seuil\n",
    "* Faire un modèle spécifique pour les CSP. Faire un modèle spécifique pour les CSP. Nous risquons sur un court terme ne pas avoir assez de cas CSP positif pour l’élaboration d’un tel modèle "
   ]
  }
 ],
 "metadata": {
  "kernelspec": {
   "display_name": "Python 3",
   "language": "python",
   "name": "python3"
  },
  "language_info": {
   "codemirror_mode": {
    "name": "ipython",
    "version": 3
   },
   "file_extension": ".py",
   "mimetype": "text/x-python",
   "name": "python",
   "nbconvert_exporter": "python",
   "pygments_lexer": "ipython3",
   "version": "3.8.3"
  }
 },
 "nbformat": 4,
 "nbformat_minor": 4
}
