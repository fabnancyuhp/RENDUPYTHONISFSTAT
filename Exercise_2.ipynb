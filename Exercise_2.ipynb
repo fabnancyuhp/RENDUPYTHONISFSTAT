{
  "nbformat": 4,
  "nbformat_minor": 0,
  "metadata": {
    "kernelspec": {
      "display_name": "Python 3",
      "language": "python",
      "name": "python3"
    },
    "language_info": {
      "codemirror_mode": {
        "name": "ipython",
        "version": 3
      },
      "file_extension": ".py",
      "mimetype": "text/x-python",
      "name": "python",
      "nbconvert_exporter": "python",
      "pygments_lexer": "ipython3",
      "version": "3.7.4"
    },
    "colab": {
      "name": "Exercise 2.ipynb",
      "provenance": [],
      "include_colab_link": true
    }
  },
  "cells": [
    {
      "cell_type": "markdown",
      "metadata": {
        "id": "view-in-github",
        "colab_type": "text"
      },
      "source": [
        "<a href=\"https://colab.research.google.com/github/fabnancyuhp/RENDUPYTHONISFSTAT/blob/master/Exercise_2.ipynb\" target=\"_parent\"><img src=\"https://colab.research.google.com/assets/colab-badge.svg\" alt=\"Open In Colab\"/></a>"
      ]
    },
    {
      "cell_type": "markdown",
      "metadata": {
        "id": "euFmTczjU0eA",
        "colab_type": "text"
      },
      "source": [
        "# EXERCISE 2"
      ]
    },
    {
      "cell_type": "markdown",
      "metadata": {
        "id": "UrrK-YN1U0eO",
        "colab_type": "text"
      },
      "source": [
        "## Importing the dataset"
      ]
    },
    {
      "cell_type": "code",
      "metadata": {
        "id": "uSO2Fh7uU0eY",
        "colab_type": "code",
        "colab": {}
      },
      "source": [
        "import pandas as pd\n",
        "NON_VAR = ['WIFE_AGE','WIFE_EDU','HUSB_EDU','NUM_OF_CHILD',\\\n",
        "           'WIFE_RELI','WIFE_WORK','HUSB_OCUP','STA_OF_LIV','MEDIA_EXP','CONTRACEPTIVE']\n",
        "donnee = pd.read_csv(\"cmc.data.txt\",sep=',',header=None,names=NON_VAR)"
      ],
      "execution_count": 0,
      "outputs": []
    },
    {
      "cell_type": "code",
      "metadata": {
        "id": "0znALBK_U0e2",
        "colab_type": "code",
        "colab": {}
      },
      "source": [
        "features = [o for o in donnee.columns if o !='CONTRACEPTIVE']\n",
        "X = donnee[features]\n",
        "Y = donnee['CONTRACEPTIVE']"
      ],
      "execution_count": 0,
      "outputs": []
    },
    {
      "cell_type": "code",
      "metadata": {
        "id": "rUaBgR0TU0fJ",
        "colab_type": "code",
        "colab": {}
      },
      "source": [
        "#transformation of a variable into a dummy \n",
        "\n",
        "import numpy as np\n",
        "Y = np.where(Y==1,0,1)"
      ],
      "execution_count": 0,
      "outputs": []
    },
    {
      "cell_type": "code",
      "metadata": {
        "id": "SnSuCsCQU0fZ",
        "colab_type": "code",
        "colab": {}
      },
      "source": [
        "import pandas as pd\n",
        "a_dummies = ['WIFE_EDU','HUSB_EDU','HUSB_OCUP','STA_OF_LIV']\n",
        "\n",
        "for var in a_dummies:\n",
        "    X.loc[:,var] = X.loc[:,var].copy().astype(str)\n",
        "\n",
        "X_dum = pd.get_dummies(X[a_dummies])   "
      ],
      "execution_count": 0,
      "outputs": []
    },
    {
      "cell_type": "code",
      "metadata": {
        "id": "hIHYrwy5U0fq",
        "colab_type": "code",
        "colab": {}
      },
      "source": [
        "A_garder = [var for var in list(X) if var not in a_dummies]\n",
        "X = X[A_garder]\n",
        "\n",
        "X = pd.concat([X,X_dum],axis=1)"
      ],
      "execution_count": 0,
      "outputs": []
    },
    {
      "cell_type": "code",
      "metadata": {
        "id": "HlS1XNYeU0f6",
        "colab_type": "code",
        "colab": {},
        "outputId": "e6ee63e0-14eb-45bb-bff6-d97195f3ce96"
      },
      "source": [
        "donnee.head(5)"
      ],
      "execution_count": 0,
      "outputs": [
        {
          "output_type": "execute_result",
          "data": {
            "text/html": [
              "<div>\n",
              "<style scoped>\n",
              "    .dataframe tbody tr th:only-of-type {\n",
              "        vertical-align: middle;\n",
              "    }\n",
              "\n",
              "    .dataframe tbody tr th {\n",
              "        vertical-align: top;\n",
              "    }\n",
              "\n",
              "    .dataframe thead th {\n",
              "        text-align: right;\n",
              "    }\n",
              "</style>\n",
              "<table border=\"1\" class=\"dataframe\">\n",
              "  <thead>\n",
              "    <tr style=\"text-align: right;\">\n",
              "      <th></th>\n",
              "      <th>WIFE_AGE</th>\n",
              "      <th>WIFE_EDU</th>\n",
              "      <th>HUSB_EDU</th>\n",
              "      <th>NUM_OF_CHILD</th>\n",
              "      <th>WIFE_RELI</th>\n",
              "      <th>WIFE_WORK</th>\n",
              "      <th>HUSB_OCUP</th>\n",
              "      <th>STA_OF_LIV</th>\n",
              "      <th>MEDIA_EXP</th>\n",
              "      <th>CONTRACEPTIVE</th>\n",
              "    </tr>\n",
              "  </thead>\n",
              "  <tbody>\n",
              "    <tr>\n",
              "      <td>0</td>\n",
              "      <td>24</td>\n",
              "      <td>2</td>\n",
              "      <td>3</td>\n",
              "      <td>3</td>\n",
              "      <td>1</td>\n",
              "      <td>1</td>\n",
              "      <td>2</td>\n",
              "      <td>3</td>\n",
              "      <td>0</td>\n",
              "      <td>1</td>\n",
              "    </tr>\n",
              "    <tr>\n",
              "      <td>1</td>\n",
              "      <td>45</td>\n",
              "      <td>1</td>\n",
              "      <td>3</td>\n",
              "      <td>10</td>\n",
              "      <td>1</td>\n",
              "      <td>1</td>\n",
              "      <td>3</td>\n",
              "      <td>4</td>\n",
              "      <td>0</td>\n",
              "      <td>1</td>\n",
              "    </tr>\n",
              "    <tr>\n",
              "      <td>2</td>\n",
              "      <td>43</td>\n",
              "      <td>2</td>\n",
              "      <td>3</td>\n",
              "      <td>7</td>\n",
              "      <td>1</td>\n",
              "      <td>1</td>\n",
              "      <td>3</td>\n",
              "      <td>4</td>\n",
              "      <td>0</td>\n",
              "      <td>1</td>\n",
              "    </tr>\n",
              "    <tr>\n",
              "      <td>3</td>\n",
              "      <td>42</td>\n",
              "      <td>3</td>\n",
              "      <td>2</td>\n",
              "      <td>9</td>\n",
              "      <td>1</td>\n",
              "      <td>1</td>\n",
              "      <td>3</td>\n",
              "      <td>3</td>\n",
              "      <td>0</td>\n",
              "      <td>1</td>\n",
              "    </tr>\n",
              "    <tr>\n",
              "      <td>4</td>\n",
              "      <td>36</td>\n",
              "      <td>3</td>\n",
              "      <td>3</td>\n",
              "      <td>8</td>\n",
              "      <td>1</td>\n",
              "      <td>1</td>\n",
              "      <td>3</td>\n",
              "      <td>2</td>\n",
              "      <td>0</td>\n",
              "      <td>1</td>\n",
              "    </tr>\n",
              "  </tbody>\n",
              "</table>\n",
              "</div>"
            ],
            "text/plain": [
              "   WIFE_AGE  WIFE_EDU  HUSB_EDU  NUM_OF_CHILD  WIFE_RELI  WIFE_WORK  \\\n",
              "0        24         2         3             3          1          1   \n",
              "1        45         1         3            10          1          1   \n",
              "2        43         2         3             7          1          1   \n",
              "3        42         3         2             9          1          1   \n",
              "4        36         3         3             8          1          1   \n",
              "\n",
              "   HUSB_OCUP  STA_OF_LIV  MEDIA_EXP  CONTRACEPTIVE  \n",
              "0          2           3          0              1  \n",
              "1          3           4          0              1  \n",
              "2          3           4          0              1  \n",
              "3          3           3          0              1  \n",
              "4          3           2          0              1  "
            ]
          },
          "metadata": {
            "tags": []
          },
          "execution_count": 61
        }
      ]
    },
    {
      "cell_type": "code",
      "metadata": {
        "id": "vKoWI1oOU0gM",
        "colab_type": "code",
        "colab": {}
      },
      "source": [
        "from sklearn.model_selection import train_test_split\n",
        "X_train,X_test,Y_train,Y_test = train_test_split(X,Y,random_state=1998,test_size=0.3)"
      ],
      "execution_count": 0,
      "outputs": []
    },
    {
      "cell_type": "markdown",
      "metadata": {
        "id": "MaFCH0NgU0gb",
        "colab_type": "text"
      },
      "source": [
        "## Decisione tree model"
      ]
    },
    {
      "cell_type": "code",
      "metadata": {
        "id": "T4MituOfU0gh",
        "colab_type": "code",
        "colab": {}
      },
      "source": [
        "from sklearn.tree import DecisionTreeClassifier\n",
        "arbre = DecisionTreeClassifier()"
      ],
      "execution_count": 0,
      "outputs": []
    },
    {
      "cell_type": "code",
      "metadata": {
        "id": "foeDod5wU0gz",
        "colab_type": "code",
        "colab": {},
        "outputId": "7668d06e-b7d9-4354-aaa9-72208f73ab7c"
      },
      "source": [
        "#trainig the model\n",
        "arbre.fit(X_train,Y_train)"
      ],
      "execution_count": 0,
      "outputs": [
        {
          "output_type": "execute_result",
          "data": {
            "text/plain": [
              "DecisionTreeClassifier(class_weight=None, criterion='gini', max_depth=None,\n",
              "                       max_features=None, max_leaf_nodes=None,\n",
              "                       min_impurity_decrease=0.0, min_impurity_split=None,\n",
              "                       min_samples_leaf=1, min_samples_split=2,\n",
              "                       min_weight_fraction_leaf=0.0, presort=False,\n",
              "                       random_state=None, splitter='best')"
            ]
          },
          "metadata": {
            "tags": []
          },
          "execution_count": 64
        }
      ]
    },
    {
      "cell_type": "code",
      "metadata": {
        "id": "U6hxWeaoU0hE",
        "colab_type": "code",
        "colab": {}
      },
      "source": [
        "#prediction:\n",
        "Y_pred = arbre.predict(X_test)"
      ],
      "execution_count": 0,
      "outputs": []
    },
    {
      "cell_type": "code",
      "metadata": {
        "id": "Mu00BhAbU0hY",
        "colab_type": "code",
        "colab": {},
        "outputId": "13c0971b-772f-4eb3-c662-680482d061f9"
      },
      "source": [
        "#calculating the performance in the test set\n",
        "\n",
        "from sklearn.metrics import accuracy_score\n",
        "accuracy_score(Y_test,Y_pred)"
      ],
      "execution_count": 0,
      "outputs": [
        {
          "output_type": "execute_result",
          "data": {
            "text/plain": [
              "0.6764705882352942"
            ]
          },
          "metadata": {
            "tags": []
          },
          "execution_count": 66
        }
      ]
    },
    {
      "cell_type": "markdown",
      "metadata": {
        "id": "68EUmfVRU0ho",
        "colab_type": "text"
      },
      "source": [
        "## Model 2"
      ]
    },
    {
      "cell_type": "code",
      "metadata": {
        "id": "9MdFnbA5U0hw",
        "colab_type": "code",
        "colab": {},
        "outputId": "527411f3-f1f2-44e7-fde4-b89ba3c80099"
      },
      "source": [
        "#creating the model\n",
        "arbrebis = DecisionTreeClassifier(random_state=1998, criterion='gini', max_depth=9, min_samples_split=4,\n",
        "min_samples_leaf=3)\n",
        "\n",
        "#training\n",
        "\n",
        "arbrebis.fit(X_train,Y_train)\n",
        "\n",
        "#prediction:\n",
        "Y_pred = arbrebis.predict(X_test)\n",
        "\n",
        "#calculating the performance in the test set\n",
        "\n",
        "from sklearn.metrics import accuracy_score\n",
        "accuracy_score(Y_test,Y_pred)"
      ],
      "execution_count": 0,
      "outputs": [
        {
          "output_type": "execute_result",
          "data": {
            "text/plain": [
              "0.7013574660633484"
            ]
          },
          "metadata": {
            "tags": []
          },
          "execution_count": 67
        }
      ]
    },
    {
      "cell_type": "code",
      "metadata": {
        "id": "FlcP2YcEU0h-",
        "colab_type": "code",
        "colab": {}
      },
      "source": [
        "Y_pred_prob = arbrebis.predict_proba(X_test)\n",
        "\n",
        "Y_pred_prob1=arbrebis.predict_proba(X_test)[:,1]\n",
        "\n"
      ],
      "execution_count": 0,
      "outputs": []
    },
    {
      "cell_type": "code",
      "metadata": {
        "id": "84Vq2iS4U0iQ",
        "colab_type": "code",
        "colab": {},
        "outputId": "adb48380-9ba2-433c-b9cc-ce426d3bc119"
      },
      "source": [
        "from sklearn.metrics import roc_auc_score\n",
        "roc_auc_score(Y_test,Y_pred_prob1)"
      ],
      "execution_count": 0,
      "outputs": [
        {
          "output_type": "execute_result",
          "data": {
            "text/plain": [
              "0.7405039527752864"
            ]
          },
          "metadata": {
            "tags": []
          },
          "execution_count": 69
        }
      ]
    },
    {
      "cell_type": "code",
      "metadata": {
        "id": "d_WxngrLU0ie",
        "colab_type": "code",
        "colab": {},
        "outputId": "e37e7395-c33a-4c7e-e314-bc9ab871562b"
      },
      "source": [
        "from sklearn.metrics import roc_curve, auc\n",
        "fpr, tpr, thresholds = roc_curve(Y_test,arbrebis.predict_proba(X_test)[:,1])\n",
        "auc(fpr,tpr)"
      ],
      "execution_count": 0,
      "outputs": [
        {
          "output_type": "execute_result",
          "data": {
            "text/plain": [
              "0.7405039527752864"
            ]
          },
          "metadata": {
            "tags": []
          },
          "execution_count": 70
        }
      ]
    },
    {
      "cell_type": "code",
      "metadata": {
        "id": "TMgO0MZiU0io",
        "colab_type": "code",
        "colab": {},
        "outputId": "70838968-075c-4563-f15b-1c7cdcdc026a"
      },
      "source": [
        "import numpy as np\n",
        "\n",
        "import matplotlib.pyplot as plt\n",
        "plt.plot(fpr,tpr,label = \"SCORE AUC RDF:\"+str(np.round(auc(fpr,tpr),4)))\n",
        "plt.plot([0,1],[0,1],color='blue')\n",
        "plt.ylabel(\"tpr\",fontsize='large')\n",
        "plt.xlabel(\"fpr\",fontsize='large')\n",
        "plt.fill_between(fpr, fpr, tpr,color='grey')\n",
        "plt.legend(loc=4)\n",
        "plt.show"
      ],
      "execution_count": 0,
      "outputs": [
        {
          "output_type": "execute_result",
          "data": {
            "text/plain": [
              "<function matplotlib.pyplot.show(*args, **kw)>"
            ]
          },
          "metadata": {
            "tags": []
          },
          "execution_count": 71
        },
        {
          "output_type": "display_data",
          "data": {
            "image/png": "[encoded data removed]",
            "text/plain": [
              "<Figure size 432x288 with 1 Axes>"
            ]
          },
          "metadata": {
            "tags": [],
            "needs_background": "light"
          }
        }
      ]
    },
    {
      "cell_type": "code",
      "metadata": {
        "id": "s7HTxzubU0i4",
        "colab_type": "code",
        "colab": {},
        "outputId": "bf60df9d-577c-4712-af17-124d930e6ab9"
      },
      "source": [
        "NON_FEATURES = X_train.columns\n",
        "import numpy as np\n",
        "IMPORTANCE_FEATURES = 100*np.round(arbrebis.feature_importances_,2)\n",
        "loca = np.arange(len(IMPORTANCE_FEATURES))\n",
        "index = np.argsort(IMPORTANCE_FEATURES)[::-1]\n",
        "\n",
        "IMPORTANCE_FEATURES = IMPORTANCE_FEATURES[index][0:15]\n",
        "NON_FEATURES = NON_FEATURES[index][0:15]\n",
        "loca = loca[0:15]\n",
        "import matplotlib.pyplot as plt\n",
        "plt.bar(loca,IMPORTANCE_FEATURES,edgecolor='red',color='red')\n",
        "plt.yticks([])\n",
        "plt.xticks(loca,NON_FEATURES,color='black',rotation=80)\n",
        "plt.box(False)\n",
        "for i in range(0,len(NON_FEATURES)):\n",
        "    plt.text(loca[i]-0.3,IMPORTANCE_FEATURES[i],str(np.round(IMPORTANCE_FEATURES[i],1)))\n",
        "plt.show"
      ],
      "execution_count": 0,
      "outputs": [
        {
          "output_type": "execute_result",
          "data": {
            "text/plain": [
              "<function matplotlib.pyplot.show(*args, **kw)>"
            ]
          },
          "metadata": {
            "tags": []
          },
          "execution_count": 72
        },
        {
          "output_type": "display_data",
          "data": {
            "image/png": "[encoded data removed]",
            "text/plain": [
              "<Figure size 432x288 with 1 Axes>"
            ]
          },
          "metadata": {
            "tags": [],
            "needs_background": "light"
          }
        }
      ]
    },
    {
      "cell_type": "code",
      "metadata": {
        "id": "ReEcz_o1U0jQ",
        "colab_type": "code",
        "colab": {}
      },
      "source": [
        ""
      ],
      "execution_count": 0,
      "outputs": []
    },
    {
      "cell_type": "code",
      "metadata": {
        "id": "nAhh_9VsU0je",
        "colab_type": "code",
        "colab": {}
      },
      "source": [
        ""
      ],
      "execution_count": 0,
      "outputs": []
    }
  ]
}