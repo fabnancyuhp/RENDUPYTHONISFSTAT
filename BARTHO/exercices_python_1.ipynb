{
  "nbformat": 4,
  "nbformat_minor": 0,
  "metadata": {
    "kernelspec": {
      "display_name": "Python 3",
      "language": "python",
      "name": "python3"
    },
    "language_info": {
      "codemirror_mode": {
        "name": "ipython",
        "version": 3
      },
      "file_extension": ".py",
      "mimetype": "text/x-python",
      "name": "python",
      "nbconvert_exporter": "python",
      "pygments_lexer": "ipython3",
      "version": "3.7.4"
    },
    "colab": {
      "name": "exercices python 1.ipynb",
      "provenance": [],
      "include_colab_link": true
    }
  },
  "cells": [
    {
      "cell_type": "markdown",
      "metadata": {
        "id": "view-in-github",
        "colab_type": "text"
      },
      "source": [
        "<a href=\"https://colab.research.google.com/github/fabnancyuhp/RENDUPYTHONISFSTAT/blob/master/exercices_python_1.ipynb\" target=\"_parent\"><img src=\"https://colab.research.google.com/assets/colab-badge.svg\" alt=\"Open In Colab\"/></a>"
      ]
    },
    {
      "cell_type": "markdown",
      "metadata": {
        "id": "dOKtABYw8saH",
        "colab_type": "text"
      },
      "source": [
        "Exercice 1"
      ]
    },
    {
      "cell_type": "code",
      "metadata": {
        "id": "n-LDOg0u8saO",
        "colab_type": "code",
        "colab": {},
        "outputId": "18e91dfb-c8fb-402f-8d4c-cc4e3265fb25"
      },
      "source": [
        "import numpy as np\n",
        "A = np.array([[5,2.6,5,9],[4,3.6,9,10],[5.5,4,6,7]])\n",
        "A"
      ],
      "execution_count": 0,
      "outputs": [
        {
          "output_type": "execute_result",
          "data": {
            "text/plain": [
              "array([[ 5. ,  2.6,  5. ,  9. ],\n",
              "       [ 4. ,  3.6,  9. , 10. ],\n",
              "       [ 5.5,  4. ,  6. ,  7. ]])"
            ]
          },
          "metadata": {
            "tags": []
          },
          "execution_count": 6
        }
      ]
    },
    {
      "cell_type": "code",
      "metadata": {
        "id": "rqPpg_mI8saZ",
        "colab_type": "code",
        "colab": {}
      },
      "source": [
        "moyennecol = np.mean(A,axis=0)\n",
        "moyenneligne = np.mean(A, axis = 1)"
      ],
      "execution_count": 0,
      "outputs": []
    },
    {
      "cell_type": "code",
      "metadata": {
        "id": "XKyNwjlm8sag",
        "colab_type": "code",
        "colab": {},
        "outputId": "f6220836-2894-4676-ce61-a3d89f06f5d4"
      },
      "source": [
        "moyennecol"
      ],
      "execution_count": 0,
      "outputs": [
        {
          "output_type": "execute_result",
          "data": {
            "text/plain": [
              "array([4.83333333, 3.4       , 6.66666667, 8.66666667])"
            ]
          },
          "metadata": {
            "tags": []
          },
          "execution_count": 8
        }
      ]
    },
    {
      "cell_type": "code",
      "metadata": {
        "id": "Q38GpDj68sap",
        "colab_type": "code",
        "colab": {},
        "outputId": "3be38ae8-5614-445b-9be3-980c471bb663"
      },
      "source": [
        "moyenneligne"
      ],
      "execution_count": 0,
      "outputs": [
        {
          "output_type": "execute_result",
          "data": {
            "text/plain": [
              "array([5.4  , 6.65 , 5.625])"
            ]
          },
          "metadata": {
            "tags": []
          },
          "execution_count": 9
        }
      ]
    },
    {
      "cell_type": "markdown",
      "metadata": {
        "id": "_OxgMPuc8say",
        "colab_type": "text"
      },
      "source": [
        "Exercice 2"
      ]
    },
    {
      "cell_type": "code",
      "metadata": {
        "id": "XnqfZFag8sa0",
        "colab_type": "code",
        "colab": {},
        "outputId": "608f2e9d-b029-46e8-d118-ab09be9cbdc1"
      },
      "source": [
        "import numpy as np\n",
        "etats = np.array(['voit','velo','trot'])\n",
        "probabilites = np.array([1/6, 2/6, 3/6])\n",
        "S = np.random.choice(etats, size=10, replace=True, p=probabilites)\n",
        "S"
      ],
      "execution_count": 0,
      "outputs": [
        {
          "output_type": "execute_result",
          "data": {
            "text/plain": [
              "array(['velo', 'trot', 'trot', 'trot', 'voit', 'velo', 'velo', 'trot',\n",
              "       'velo', 'voit'], dtype='<U4')"
            ]
          },
          "metadata": {
            "tags": []
          },
          "execution_count": 10
        }
      ]
    },
    {
      "cell_type": "markdown",
      "metadata": {
        "id": "0rQb0cTN8sa7",
        "colab_type": "text"
      },
      "source": [
        "Exercice 3"
      ]
    },
    {
      "cell_type": "code",
      "metadata": {
        "id": "1rYmcOww8sbA",
        "colab_type": "code",
        "colab": {},
        "outputId": "83023878-aa35-4091-def4-f628d6bd9d3b"
      },
      "source": [
        "import numpy as np\n",
        "C1 = [2*np.ones(4)]\n",
        "C1 =np.insert(C1,2,5)\n",
        "C1 = [C1]\n",
        "C1"
      ],
      "execution_count": 0,
      "outputs": [
        {
          "output_type": "execute_result",
          "data": {
            "text/plain": [
              "[array([2., 2., 5., 2., 2.])]"
            ]
          },
          "metadata": {
            "tags": []
          },
          "execution_count": 11
        }
      ]
    },
    {
      "cell_type": "code",
      "metadata": {
        "id": "kRjWRdBu8sbK",
        "colab_type": "code",
        "colab": {},
        "outputId": "7fe2e6d1-1623-4516-bfc3-d7641f1127e2"
      },
      "source": [
        "np.concatenate([C1,C1,C1,C1,C1],axis=0)"
      ],
      "execution_count": 0,
      "outputs": [
        {
          "output_type": "execute_result",
          "data": {
            "text/plain": [
              "array([[2., 2., 5., 2., 2.],\n",
              "       [2., 2., 5., 2., 2.],\n",
              "       [2., 2., 5., 2., 2.],\n",
              "       [2., 2., 5., 2., 2.],\n",
              "       [2., 2., 5., 2., 2.]])"
            ]
          },
          "metadata": {
            "tags": []
          },
          "execution_count": 12
        }
      ]
    },
    {
      "cell_type": "markdown",
      "metadata": {
        "id": "7LqRTTWo8sbP",
        "colab_type": "text"
      },
      "source": [
        "Exercice 4"
      ]
    },
    {
      "cell_type": "code",
      "metadata": {
        "id": "xjwaK5xg8sbQ",
        "colab_type": "code",
        "colab": {
          "base_uri": "https://localhost:8080/",
          "height": 282
        },
        "outputId": "eed960b9-bfc6-4907-d3dc-3e5d28489ded"
      },
      "source": [
        "#Q1\n",
        "from scipy.special import gamma\n",
        "import numpy as np\n",
        "import matplotlib.pyplot as plt\n",
        "x = np.linspace(0,20,100)\n",
        "y = (1/gamma(3))*(x**2)*np.exp(-x)\n",
        "plt.plot(x,y)\n",
        "\n",
        "#Q2\n",
        "z = np.linspace(3,10,20)\n",
        "w = (1/gamma(3))*(z**2)*np.exp(-z)\n",
        "plt.fill_between(z,w,color='blue',alpha=0.3)\n",
        "#plt.show() ??"
      ],
      "execution_count": 1,
      "outputs": [
        {
          "output_type": "execute_result",
          "data": {
            "text/plain": [
              "<matplotlib.collections.PolyCollection at 0x7f8da6d5ff60>"
            ]
          },
          "metadata": {
            "tags": []
          },
          "execution_count": 1
        },
        {
          "output_type": "display_data",
          "data": {
            "image/png": "[encoded data removed]",
            "text/plain": [
              "<Figure size 432x288 with 1 Axes>"
            ]
          },
          "metadata": {
            "tags": []
          }
        }
      ]
    },
    {
      "cell_type": "code",
      "metadata": {
        "id": "OJCO7pzD8sbb",
        "colab_type": "code",
        "colab": {},
        "outputId": "0433100c-2f95-450b-a00f-074d3bfa87a7"
      },
      "source": [
        "#Q3\n",
        "import numpy as np\n",
        "import matplotlib.pyplot as plt\n",
        "from scipy.integrate import quad\n",
        "\n",
        "def f(x):\n",
        "    y = (1/gamma(3))*(x**2)*np.exp(-x)\n",
        "    return y\n",
        "quad(f,3,10)"
      ],
      "execution_count": 0,
      "outputs": [
        {
          "output_type": "execute_result",
          "data": {
            "text/plain": [
              "(0.420420685411332, 4.667607249723504e-15)"
            ]
          },
          "metadata": {
            "tags": []
          },
          "execution_count": 14
        }
      ]
    },
    {
      "cell_type": "markdown",
      "metadata": {
        "id": "HCia7eXZ8sbl",
        "colab_type": "text"
      },
      "source": [
        "Exercice 5"
      ]
    },
    {
      "cell_type": "code",
      "metadata": {
        "id": "whJAdDpy8sbm",
        "colab_type": "code",
        "colab": {},
        "outputId": "895566bc-5cea-4a84-992f-687ca87408ce"
      },
      "source": [
        "import numpy as np\n",
        "import matplotlib.pyplot as plt\n",
        "\n",
        "np.random.seed(1998)\n",
        "T=1000\n",
        "proba = [0.1, 0.2, 0.3, 0.4]\n",
        "etat = np.array(['A','B','C','D'])\n",
        "Simu = np.random.choice(etat,size=T, replace=True, p=proba)\n",
        "\n",
        "\n",
        "nbA=0\n",
        "nbB=0\n",
        "nbC=0\n",
        "nbD=0\n",
        "\n",
        "for i in range(T):\n",
        "    if(Simu[i]=='A'): \n",
        "        nbA+=1\n",
        "    if(Simu[i]=='B'): \n",
        "        nbB+=1\n",
        "    if Simu[i]=='C': \n",
        "        nbC+=1\n",
        "    if Simu[i]=='D': \n",
        "        nbD+=1\n",
        "        \n",
        "\n",
        "plt.bar([1,2,3,4],[nbA/1000,nbB/1000,nbC/1000,nbD/1000],1)\n",
        "\n",
        "axes=plt.gca()\n",
        "axes.xaxis.set_ticklabels(['','A','','B','','C','','D'])"
      ],
      "execution_count": 0,
      "outputs": [
        {
          "output_type": "execute_result",
          "data": {
            "text/plain": [
              "[Text(0, 0, ''),\n",
              " Text(0, 0, 'A'),\n",
              " Text(0, 0, ''),\n",
              " Text(0, 0, 'B'),\n",
              " Text(0, 0, ''),\n",
              " Text(0, 0, 'C'),\n",
              " Text(0, 0, ''),\n",
              " Text(0, 0, 'D')]"
            ]
          },
          "metadata": {
            "tags": []
          },
          "execution_count": 15
        },
        {
          "output_type": "display_data",
          "data": {
            "image/png": "[encoded data removed]",
            "text/plain": [
              "<Figure size 432x288 with 1 Axes>"
            ]
          },
          "metadata": {
            "tags": [],
            "needs_background": "light"
          }
        }
      ]
    },
    {
      "cell_type": "markdown",
      "metadata": {
        "id": "Vp6Hhwla8sbt",
        "colab_type": "text"
      },
      "source": [
        "Exercice 6"
      ]
    },
    {
      "cell_type": "code",
      "metadata": {
        "id": "O7nDpeHk8sbv",
        "colab_type": "code",
        "colab": {},
        "outputId": "535e6383-50c8-44a2-cae8-e3650274fb3a"
      },
      "source": [
        "#Q1\n",
        "import numpy as np\n",
        "vect = np.random.normal(6,3,1000)\n",
        "\n",
        "#Q2\n",
        "plt.hist(vect,bins='sturges',density=True)\n",
        "\n",
        "#Q3\n",
        "x = np.linspace(-6,16,1000)\n",
        "y = 1/(np.sqrt(18*np.pi))*np.exp(-1/2*(((x-6)/3)**2))\n",
        "plt.plot(x,y)"
      ],
      "execution_count": 0,
      "outputs": [
        {
          "output_type": "execute_result",
          "data": {
            "text/plain": [
              "[<matplotlib.lines.Line2D at 0x151badb5d0>]"
            ]
          },
          "metadata": {
            "tags": []
          },
          "execution_count": 16
        },
        {
          "output_type": "display_data",
          "data": {
            "image/png": "[encoded data removed]",
            "text/plain": [
              "<Figure size 432x288 with 1 Axes>"
            ]
          },
          "metadata": {
            "tags": [],
            "needs_background": "light"
          }
        }
      ]
    },
    {
      "cell_type": "markdown",
      "metadata": {
        "id": "TqcW6Zvq8sbz",
        "colab_type": "text"
      },
      "source": [
        "Exercice 7"
      ]
    },
    {
      "cell_type": "code",
      "metadata": {
        "id": "b7WI-nCr8sb1",
        "colab_type": "code",
        "colab": {},
        "outputId": "ff0424af-4f1b-489f-a8b6-a777b614322d"
      },
      "source": [
        "import numpy as np\n",
        "\n",
        "\n",
        "p=32455859/(32455859+34534967) #probabilité empirique d'être une femme\n",
        "\n",
        "\n",
        "T=1000 #nombre total de bateaux \n",
        "\n",
        "N=0 #nombre de bateaux trop lourds\n",
        " \n",
        "for j in range(T): #on simule le nombre d'hommes et de femmes de tous les bateaux\n",
        "    \n",
        "    etat = np.array(['Femme','Homme'])\n",
        "    probabilites = np.array([p,1-p])\n",
        "    simu = np.random.choice(etat,size=100,replace=True, p=probabilites)\n",
        "    \n",
        "    poids=0\n",
        "    \n",
        "    \n",
        "    for i in range(100): #au sein d'un bateau, on simule le poids des voyageyrs\n",
        "        if simu[i]=='Homme':\n",
        "            x=np.random.normal(loc=77.4,scale=12)\n",
        "        elif simu[i]=='Femme':\n",
        "            x=np.random.normal(loc=62.4,scale=10.9)\n",
        "        poids+=x\n",
        "        \n",
        "\n",
        "\n",
        "    if poids >= 7200:\n",
        "        N+=1\n",
        "    \n",
        "print(\"Le risque est environ de :\",N/T)\n",
        "\n",
        "\n"
      ],
      "execution_count": 0,
      "outputs": [
        {
          "output_type": "stream",
          "text": [
            "Le risque est environ de : 0.084\n"
          ],
          "name": "stdout"
        }
      ]
    },
    {
      "cell_type": "markdown",
      "metadata": {
        "id": "wu1ijUD18scC",
        "colab_type": "text"
      },
      "source": [
        "Exercice 8"
      ]
    },
    {
      "cell_type": "markdown",
      "metadata": {
        "id": "NTlQz7HW8scE",
        "colab_type": "text"
      },
      "source": [
        "Les matrices de variances des lois normales étant diagonales, une réalisation de chacune d'elle peut être obtenue grâce à deux simulations de lois normales unidimensionnelles."
      ]
    },
    {
      "cell_type": "code",
      "metadata": {
        "id": "62U-EIdU8scG",
        "colab_type": "code",
        "colab": {},
        "outputId": "3d02267b-6630-4512-d281-b6a7459964ff"
      },
      "source": [
        "import numpy as np\n",
        "import matplotlib.pyplot as plt\n",
        "\n",
        "x=[]\n",
        "y=[]\n",
        "N=10000\n",
        "for i in range(N):\n",
        "    temp = np.random.uniform(0,1)\n",
        "    if temp <= 1/3:        #On choisit la première loi bidimensionnelle avec proba 1/3\n",
        "        x.append(np.random.normal(0,1))\n",
        "        y.append(np.random.normal(0,1))\n",
        "    elif temp > 1/3:\n",
        "        x.append(np.random.normal(1,0.25))\n",
        "        y.append(np.random.normal(1,0.25))\n",
        "\n",
        "plt.scatter(x,y,alpha=0.1)\n"
      ],
      "execution_count": 0,
      "outputs": [
        {
          "output_type": "execute_result",
          "data": {
            "text/plain": [
              "<matplotlib.collections.PathCollection at 0x151e86e350>"
            ]
          },
          "metadata": {
            "tags": []
          },
          "execution_count": 58
        },
        {
          "output_type": "display_data",
          "data": {
            "image/png": "[encoded data removed]",
            "text/plain": [
              "<Figure size 432x288 with 1 Axes>"
            ]
          },
          "metadata": {
            "tags": [],
            "needs_background": "light"
          }
        }
      ]
    },
    {
      "cell_type": "code",
      "metadata": {
        "id": "8PUV_NmX8scM",
        "colab_type": "code",
        "colab": {}
      },
      "source": [
        ""
      ],
      "execution_count": 0,
      "outputs": []
    }
  ]
}
