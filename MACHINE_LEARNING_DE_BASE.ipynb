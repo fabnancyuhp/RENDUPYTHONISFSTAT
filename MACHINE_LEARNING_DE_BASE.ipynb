{
  "nbformat": 4,
  "nbformat_minor": 0,
  "metadata": {
    "kernelspec": {
      "display_name": "Python 3",
      "language": "python",
      "name": "python3"
    },
    "language_info": {
      "codemirror_mode": {
        "name": "ipython",
        "version": 3
      },
      "file_extension": ".py",
      "mimetype": "text/x-python",
      "name": "python",
      "nbconvert_exporter": "python",
      "pygments_lexer": "ipython3",
      "version": "3.7.1"
    },
    "colab": {
      "name": "MACHINE LEARNING DE BASE.ipynb",
      "provenance": [],
      "include_colab_link": true
    }
  },
  "cells": [
    {
      "cell_type": "markdown",
      "metadata": {
        "id": "view-in-github",
        "colab_type": "text"
      },
      "source": [
        "<a href=\"https://colab.research.google.com/github/fabnancyuhp/RENDUPYTHONISFSTAT/blob/master/MACHINE_LEARNING_DE_BASE.ipynb\" target=\"_parent\"><img src=\"https://colab.research.google.com/assets/colab-badge.svg\" alt=\"Open In Colab\"/></a>"
      ]
    },
    {
      "cell_type": "markdown",
      "metadata": {
        "id": "JKHUP_RaH5eF",
        "colab_type": "text"
      },
      "source": [
        "Dans ce chapitre on montre des utilisations de la régression logistic et des arbres de décision. On aborde aussi les matrices de confusion, les scores auc ainsi que les courbe ROC."
      ]
    },
    {
      "cell_type": "markdown",
      "metadata": {
        "id": "olFZaKx9H5eU",
        "colab_type": "text"
      },
      "source": [
        "# Machine learning sur les données diabete\n",
        "Dans cette section, le but est de montrer l'utilisation du machine learning sur les  données diabéte. Le but est de prédire si la personne est testé positive pour le diabéte (valeur 1) ou non (valeur 0).<br>\n",
        "Les données sont téléchargeable\n",
        "* https://raw.githubusercontent.com/jbrownlee/Datasets/master/pima-indians-diabetes.data.csv\n",
        "* https://1drv.ms/u/s!Am09h0q2OIX0cL4kHlfXInGaJn4?e=QcafFJ"
      ]
    },
    {
      "cell_type": "markdown",
      "metadata": {
        "id": "cWXrx3uzH5ep",
        "colab_type": "text"
      },
      "source": [
        "On décrit les variables du dataset diabete si-dessous. Toutes les variables sont numériques.\n",
        "   1. Number of times pregnant\n",
        "   2. Plasma glucose concentration a 2 hours in an oral glucose tolerance test\n",
        "   3. Diastolic blood pressure (mm Hg)\n",
        "   4. Triceps skin fold thickness (mm)\n",
        "   5. 2-Hour serum insulin (mu U/ml)\n",
        "   6. Body mass index (weight in kg/(height in m)^2)\n",
        "   7. Diabetes pedigree function\n",
        "   8. Age (years)\n",
        "   9. Class variable (0 or 1)"
      ]
    },
    {
      "cell_type": "markdown",
      "metadata": {
        "id": "ccuLpF2ZH5ew",
        "colab_type": "text"
      },
      "source": [
        "## Préparation des données"
      ]
    },
    {
      "cell_type": "markdown",
      "metadata": {
        "id": "0GHiiF6KH5e3",
        "colab_type": "text"
      },
      "source": [
        "On commence par importer les données à l'aide du package pandas. Pandas est un package conçu pour manipuler des dataframe."
      ]
    },
    {
      "cell_type": "code",
      "metadata": {
        "id": "Cy1Gg5DWH5fE",
        "colab_type": "code",
        "colab": {}
      },
      "source": [
        "import pandas as pd\n",
        "list_col = ['Plas_glucose_conc','Dias_blood_pressure','Triceps_skin_fold_thi','Hour_serum_insulin', \\\n",
        "            'Body_mass_index','Diabet_pedi_func','Age','Class_variable']\n",
        "diabete  = pd.read_csv(\"pima-indians-diabetes.data.csv\",sep=',',header=None,names=list_col) #dataframe des données"
      ],
      "execution_count": 0,
      "outputs": []
    },
    {
      "cell_type": "code",
      "metadata": {
        "id": "F-gxpsDIH5fb",
        "colab_type": "code",
        "colab": {},
        "outputId": "231384f6-9822-4822-c8c6-af21fc82ed60"
      },
      "source": [
        "diabete.head(2)"
      ],
      "execution_count": 0,
      "outputs": [
        {
          "output_type": "execute_result",
          "data": {
            "text/html": [
              "<div>\n",
              "<style scoped>\n",
              "    .dataframe tbody tr th:only-of-type {\n",
              "        vertical-align: middle;\n",
              "    }\n",
              "\n",
              "    .dataframe tbody tr th {\n",
              "        vertical-align: top;\n",
              "    }\n",
              "\n",
              "    .dataframe thead th {\n",
              "        text-align: right;\n",
              "    }\n",
              "</style>\n",
              "<table border=\"1\" class=\"dataframe\">\n",
              "  <thead>\n",
              "    <tr style=\"text-align: right;\">\n",
              "      <th></th>\n",
              "      <th>Plas_glucose_conc</th>\n",
              "      <th>Dias_blood_pressure</th>\n",
              "      <th>Triceps_skin_fold_thi</th>\n",
              "      <th>Hour_serum_insulin</th>\n",
              "      <th>Body_mass_index</th>\n",
              "      <th>Diabet_pedi_func</th>\n",
              "      <th>Age</th>\n",
              "      <th>Class_variable</th>\n",
              "    </tr>\n",
              "  </thead>\n",
              "  <tbody>\n",
              "    <tr>\n",
              "      <th>6</th>\n",
              "      <td>148</td>\n",
              "      <td>72</td>\n",
              "      <td>35</td>\n",
              "      <td>0</td>\n",
              "      <td>33.6</td>\n",
              "      <td>0.627</td>\n",
              "      <td>50</td>\n",
              "      <td>1</td>\n",
              "    </tr>\n",
              "    <tr>\n",
              "      <th>1</th>\n",
              "      <td>85</td>\n",
              "      <td>66</td>\n",
              "      <td>29</td>\n",
              "      <td>0</td>\n",
              "      <td>26.6</td>\n",
              "      <td>0.351</td>\n",
              "      <td>31</td>\n",
              "      <td>0</td>\n",
              "    </tr>\n",
              "  </tbody>\n",
              "</table>\n",
              "</div>"
            ],
            "text/plain": [
              "   Plas_glucose_conc  Dias_blood_pressure  Triceps_skin_fold_thi  \\\n",
              "6                148                   72                     35   \n",
              "1                 85                   66                     29   \n",
              "\n",
              "   Hour_serum_insulin  Body_mass_index  Diabet_pedi_func  Age  Class_variable  \n",
              "6                   0             33.6             0.627   50               1  \n",
              "1                   0             26.6             0.351   31               0  "
            ]
          },
          "metadata": {
            "tags": []
          },
          "execution_count": 10
        }
      ]
    },
    {
      "cell_type": "markdown",
      "metadata": {
        "id": "mkFsOsWBH5fv",
        "colab_type": "text"
      },
      "source": [
        "La variable que l'on veut prédire est Class_variable (target_vlaues). Les autres variables sont les features, c'est à dire les variables explicatives. On va donc séparer ce dataframe en 2. X est l'ensemble des features, Y la variable à predire."
      ]
    },
    {
      "cell_type": "code",
      "metadata": {
        "id": "GeD5YaW9H5f1",
        "colab_type": "code",
        "colab": {}
      },
      "source": [
        "features = [colonne for colonne in diabete.columns if colonne!='Class_variable']\n",
        "X = diabete[features]\n",
        "Y = diabete['Class_variable']"
      ],
      "execution_count": 0,
      "outputs": []
    },
    {
      "cell_type": "markdown",
      "metadata": {
        "id": "MHhyqzi8H5gG",
        "colab_type": "text"
      },
      "source": [
        "On creer un ensemble d'apprentissage et de test. On utilise sklearn.model_selection.train_test_split. "
      ]
    },
    {
      "cell_type": "code",
      "metadata": {
        "id": "l0TZtbNOH5gM",
        "colab_type": "code",
        "colab": {}
      },
      "source": [
        "from sklearn.model_selection import train_test_split\n",
        "X_train,X_test,Y_train,Y_test = train_test_split(X,Y,random_state=1998,test_size=0.3)"
      ],
      "execution_count": 0,
      "outputs": []
    },
    {
      "cell_type": "markdown",
      "metadata": {
        "id": "89rvf752H5gf",
        "colab_type": "text"
      },
      "source": [
        "On affiche le début de X_train et le début de Y_train:"
      ]
    },
    {
      "cell_type": "code",
      "metadata": {
        "id": "_zsKI073H5gj",
        "colab_type": "code",
        "colab": {},
        "outputId": "b6144a30-358b-41d4-c7f3-97fb82a7a3ab"
      },
      "source": [
        "X_train.head(2)"
      ],
      "execution_count": 0,
      "outputs": [
        {
          "output_type": "execute_result",
          "data": {
            "text/html": [
              "<div>\n",
              "<style scoped>\n",
              "    .dataframe tbody tr th:only-of-type {\n",
              "        vertical-align: middle;\n",
              "    }\n",
              "\n",
              "    .dataframe tbody tr th {\n",
              "        vertical-align: top;\n",
              "    }\n",
              "\n",
              "    .dataframe thead th {\n",
              "        text-align: right;\n",
              "    }\n",
              "</style>\n",
              "<table border=\"1\" class=\"dataframe\">\n",
              "  <thead>\n",
              "    <tr style=\"text-align: right;\">\n",
              "      <th></th>\n",
              "      <th>Plas_glucose_conc</th>\n",
              "      <th>Dias_blood_pressure</th>\n",
              "      <th>Triceps_skin_fold_thi</th>\n",
              "      <th>Hour_serum_insulin</th>\n",
              "      <th>Body_mass_index</th>\n",
              "      <th>Diabet_pedi_func</th>\n",
              "      <th>Age</th>\n",
              "    </tr>\n",
              "  </thead>\n",
              "  <tbody>\n",
              "    <tr>\n",
              "      <th>4</th>\n",
              "      <td>128</td>\n",
              "      <td>70</td>\n",
              "      <td>0</td>\n",
              "      <td>0</td>\n",
              "      <td>34.3</td>\n",
              "      <td>0.303</td>\n",
              "      <td>24</td>\n",
              "    </tr>\n",
              "    <tr>\n",
              "      <th>6</th>\n",
              "      <td>147</td>\n",
              "      <td>80</td>\n",
              "      <td>0</td>\n",
              "      <td>0</td>\n",
              "      <td>29.5</td>\n",
              "      <td>0.178</td>\n",
              "      <td>50</td>\n",
              "    </tr>\n",
              "  </tbody>\n",
              "</table>\n",
              "</div>"
            ],
            "text/plain": [
              "   Plas_glucose_conc  Dias_blood_pressure  Triceps_skin_fold_thi  \\\n",
              "4                128                   70                      0   \n",
              "6                147                   80                      0   \n",
              "\n",
              "   Hour_serum_insulin  Body_mass_index  Diabet_pedi_func  Age  \n",
              "4                   0             34.3             0.303   24  \n",
              "6                   0             29.5             0.178   50  "
            ]
          },
          "metadata": {
            "tags": []
          },
          "execution_count": 13
        }
      ]
    },
    {
      "cell_type": "code",
      "metadata": {
        "id": "zZETP1OgH5g0",
        "colab_type": "code",
        "colab": {},
        "outputId": "3f0f9475-cf5c-4377-8816-ebb3987e4c34"
      },
      "source": [
        "Y_train.head(2)"
      ],
      "execution_count": 0,
      "outputs": [
        {
          "output_type": "execute_result",
          "data": {
            "text/plain": [
              "4    0\n",
              "6    1\n",
              "Name: Class_variable, dtype: int64"
            ]
          },
          "metadata": {
            "tags": []
          },
          "execution_count": 14
        }
      ]
    },
    {
      "cell_type": "markdown",
      "metadata": {
        "id": "Tt6o2R6SH5hD",
        "colab_type": "text"
      },
      "source": [
        "## Régression logistique sur les données diabète\n",
        "Voici le lien sur la documentation sklearn en lien avec la régression logistique: \n",
        "https://scikit-learn.org/stable/modules/generated/sklearn.linear_model.LogisticRegression.html <br>\n",
        "On va faire une régression logistique sur les données diabète en plusieurs étapes:\n",
        "* on appelle le modèle de régression logistque\n",
        "* on entraine le modèle avec X_train et Y_train"
      ]
    },
    {
      "cell_type": "markdown",
      "metadata": {
        "id": "BPP5Z7hUH5hH",
        "colab_type": "text"
      },
      "source": [
        "1/ On appelle le modèle de régression logistique. On a les paramètres suivants:\n",
        "* penality : Used to specify the norm used in the penalization\n",
        "* solver : Algorithm to use in the optimization problem.\n",
        "* max_iter : Maximum number of iterations taken for the solvers to converge."
      ]
    },
    {
      "cell_type": "code",
      "metadata": {
        "id": "aP5oc9tIH5hL",
        "colab_type": "code",
        "colab": {}
      },
      "source": [
        "from sklearn.linear_model import LogisticRegression\n",
        "clf  = LogisticRegression(penalty='l2',random_state=1998, solver='liblinear',max_iter=1000, multi_class='auto')"
      ],
      "execution_count": 0,
      "outputs": []
    },
    {
      "cell_type": "markdown",
      "metadata": {
        "id": "cTg839adH5hZ",
        "colab_type": "text"
      },
      "source": [
        "2/ On entraine le modèle avec X_train et Y_train:"
      ]
    },
    {
      "cell_type": "code",
      "metadata": {
        "id": "dHQ1Ys3uH5hd",
        "colab_type": "code",
        "colab": {},
        "outputId": "53ada75e-bb27-47f0-f88b-5f0c44b6cf6a"
      },
      "source": [
        "clf.fit(X_train,Y_train)"
      ],
      "execution_count": 0,
      "outputs": [
        {
          "output_type": "execute_result",
          "data": {
            "text/plain": [
              "LogisticRegression(C=1.0, class_weight=None, dual=False, fit_intercept=True,\n",
              "                   intercept_scaling=1, l1_ratio=None, max_iter=1000,\n",
              "                   multi_class='auto', n_jobs=None, penalty='l2',\n",
              "                   random_state=1998, solver='liblinear', tol=0.0001, verbose=0,\n",
              "                   warm_start=False)"
            ]
          },
          "metadata": {
            "tags": []
          },
          "execution_count": 5
        }
      ]
    },
    {
      "cell_type": "markdown",
      "metadata": {
        "id": "FBzTWN9pH5hu",
        "colab_type": "text"
      },
      "source": [
        "3/ On calcule les prévisions puis la précision du modèle:"
      ]
    },
    {
      "cell_type": "code",
      "metadata": {
        "id": "8PqBf6GeH5hy",
        "colab_type": "code",
        "colab": {}
      },
      "source": [
        "Y_pred = clf.predict(X_test)"
      ],
      "execution_count": 0,
      "outputs": []
    },
    {
      "cell_type": "code",
      "metadata": {
        "id": "vTPNRpVAH5iB",
        "colab_type": "code",
        "colab": {},
        "outputId": "9bee07fd-2182-40d1-f7dc-ea2b0bfe8c4a"
      },
      "source": [
        "from sklearn.metrics import accuracy_score\n",
        "accuracy_score(Y_test,Y_pred)  #proportion de prédictions correctes"
      ],
      "execution_count": 0,
      "outputs": [
        {
          "output_type": "execute_result",
          "data": {
            "text/plain": [
              "0.7922077922077922"
            ]
          },
          "metadata": {
            "tags": []
          },
          "execution_count": 7
        }
      ]
    },
    {
      "cell_type": "markdown",
      "metadata": {
        "id": "zyDdL1UEH5iO",
        "colab_type": "text"
      },
      "source": [
        "On affiche la matrice de confusion:"
      ]
    },
    {
      "cell_type": "code",
      "metadata": {
        "id": "h9uOW6v_H5iS",
        "colab_type": "code",
        "colab": {},
        "outputId": "a05b38d9-fd8a-4aef-92ea-aa8ff510f9e4"
      },
      "source": [
        "from sklearn.metrics import confusion_matrix\n",
        "confusion_matrix(Y_test,Y_pred)  #(VP, FP) (FN,VN) colonne : vraies valeurs ligne : valeurs prédites"
      ],
      "execution_count": 0,
      "outputs": [
        {
          "output_type": "execute_result",
          "data": {
            "text/plain": [
              "array([[129,  21],\n",
              "       [ 27,  54]], dtype=int64)"
            ]
          },
          "metadata": {
            "tags": []
          },
          "execution_count": 8
        }
      ]
    },
    {
      "cell_type": "markdown",
      "metadata": {
        "id": "E5K7-svCH5ih",
        "colab_type": "text"
      },
      "source": [
        "4/On calcule les prévison en probabilité du modèle"
      ]
    },
    {
      "cell_type": "code",
      "metadata": {
        "id": "PjB6oamvH5il",
        "colab_type": "code",
        "colab": {}
      },
      "source": [
        "Y_pred_prob = clf.predict_proba(X_test) #proba d'appartenir à la classe 0,1"
      ],
      "execution_count": 0,
      "outputs": []
    },
    {
      "cell_type": "markdown",
      "metadata": {
        "id": "xFLVUvozH5iy",
        "colab_type": "text"
      },
      "source": [
        "5/On calule le score AUC puis on trace la courbe ROC"
      ]
    },
    {
      "cell_type": "code",
      "metadata": {
        "id": "z7IkDmZPH5i3",
        "colab_type": "code",
        "colab": {},
        "outputId": "89b0d686-8f98-4f10-c2d1-e7467e0ea334"
      },
      "source": [
        "from sklearn.metrics import roc_auc_score, auc\n",
        "roc_auc_score(Y_test,clf.predict_proba(X_test)[:,1])  #y_true, y_score de la classe avec le label le + grand"
      ],
      "execution_count": 0,
      "outputs": [
        {
          "output_type": "execute_result",
          "data": {
            "text/plain": [
              "0.8301234567901234"
            ]
          },
          "metadata": {
            "tags": []
          },
          "execution_count": 10
        }
      ]
    },
    {
      "cell_type": "markdown",
      "metadata": {
        "id": "VrgCsjitH5jC",
        "colab_type": "text"
      },
      "source": [
        "6/ On trace la courbe ROC: on utilise la fonction sklearn.metrics.roc_curve qui calcul les taux de faux positive (fpr) et les taux de vrais positif (tpr) ainsi que le seuils threshold"
      ]
    },
    {
      "cell_type": "code",
      "metadata": {
        "id": "ZsSy4L_NH5jF",
        "colab_type": "code",
        "colab": {},
        "outputId": "bc83b4f6-5b0d-44c4-df9b-9c7f4244ea65"
      },
      "source": [
        "from sklearn.metrics import roc_curve, auc\n",
        "fpr, tpr, threshold = roc_curve(Y_test,clf.predict_proba(X_test)[:,1])\n",
        "auc(fpr,tpr)"
      ],
      "execution_count": 0,
      "outputs": [
        {
          "output_type": "execute_result",
          "data": {
            "text/plain": [
              "0.8301234567901234"
            ]
          },
          "metadata": {
            "tags": []
          },
          "execution_count": 11
        }
      ]
    },
    {
      "cell_type": "code",
      "metadata": {
        "id": "HPGQ8PUuH5jS",
        "colab_type": "code",
        "colab": {},
        "outputId": "7551fbe1-fbc6-46fd-95a0-b7e4f91d6ae6"
      },
      "source": [
        "import numpy as np   \n",
        "#ROC TVP en fonction des TFP\n",
        "import matplotlib.pyplot as plt\n",
        "plt.plot(fpr,tpr,label = \"SCORE AUC:\"+str(np.round(auc(fpr,tpr),4)))  #arrondi 4 chiffres\n",
        "plt.plot([0,1],[0,1],color='blue') #1ère bissectrice\n",
        "plt.ylabel(\"tpr\",fontsize='large')\n",
        "plt.xlabel(\"fpr\",fontsize='large')\n",
        "plt.fill_between(fpr, fpr, tpr,color='grey')\n",
        "plt.legend(loc=4)\n",
        "plt.show()"
      ],
      "execution_count": 0,
      "outputs": [
        {
          "output_type": "execute_result",
          "data": {
            "image/png": "[encoded data removed]",
            "text/plain": [
              "<Figure size 432x288 with 1 Axes>"
            ]
          },
          "metadata": {
            "tags": [],
            "needs_background": "light"
          },
          "execution_count": 223
        }
      ]
    },
    {
      "cell_type": "markdown",
      "metadata": {
        "id": "ADuBaLD6H5jj",
        "colab_type": "text"
      },
      "source": [
        "7/ On affiche les valeurs des coéficients et les variables associées:"
      ]
    },
    {
      "cell_type": "code",
      "metadata": {
        "id": "7qarpaAqH5jn",
        "colab_type": "code",
        "colab": {},
        "outputId": "c5bd8608-efc0-480c-c329-29d8be2a09d8"
      },
      "source": [
        "clf.coef_[0]"
      ],
      "execution_count": 0,
      "outputs": [
        {
          "output_type": "execute_result",
          "data": {
            "text/plain": [
              "array([ 2.42425522e-02, -1.51853680e-02, -5.41700553e-03, -3.72285194e-04,\n",
              "        5.18429618e-02,  5.95564210e-01,  3.09601172e-02])"
            ]
          },
          "metadata": {
            "tags": []
          },
          "execution_count": 16
        }
      ]
    },
    {
      "cell_type": "code",
      "metadata": {
        "id": "asY4ctVmH5j0",
        "colab_type": "code",
        "colab": {},
        "outputId": "24231f8b-ced4-46db-e9b1-dd6daac08bc9"
      },
      "source": [
        "X_train.columns"
      ],
      "execution_count": 0,
      "outputs": [
        {
          "output_type": "execute_result",
          "data": {
            "text/plain": [
              "Index(['Plas_glucose_conc', 'Dias_blood_pressure', 'Triceps_skin_fold_thi',\n",
              "       'Hour_serum_insulin', 'Body_mass_index', 'Diabet_pedi_func', 'Age'],\n",
              "      dtype='object')"
            ]
          },
          "metadata": {
            "tags": []
          },
          "execution_count": 17
        }
      ]
    },
    {
      "cell_type": "markdown",
      "metadata": {
        "id": "hX18GLTaH5j_",
        "colab_type": "text"
      },
      "source": [
        "## Arbre de décision sur les données diabète"
      ]
    },
    {
      "cell_type": "markdown",
      "metadata": {
        "id": "s_8FuLzRH5kC",
        "colab_type": "text"
      },
      "source": [
        "1/ On appelle l'objet arbre de décision. On a les paramètres suivants (non exhaustif):\n",
        "* criterion : The function to measure the quality of a split. Supported criteria are “gini” for the Gini impurity and “entropy” for the information gain.\n",
        "* max_depth : The maximum depth of the tree\n",
        "* min_samples_split : The minimum number of samples required to split an internal node\n",
        "* max_features : The number of features to consider when looking for the best split"
      ]
    },
    {
      "cell_type": "code",
      "metadata": {
        "id": "FEmKzvdlH5kH",
        "colab_type": "code",
        "colab": {}
      },
      "source": [
        "from sklearn.tree import DecisionTreeClassifier\n",
        "dtc = DecisionTreeClassifier(criterion='gini',max_depth=3,min_samples_split=2)"
      ],
      "execution_count": 0,
      "outputs": []
    },
    {
      "cell_type": "markdown",
      "metadata": {
        "id": "f8hGrIS1H5kS",
        "colab_type": "text"
      },
      "source": [
        "2/ On entraine le modèle avec X_train et Y_train:"
      ]
    },
    {
      "cell_type": "code",
      "metadata": {
        "id": "GBSfjswJH5kU",
        "colab_type": "code",
        "colab": {},
        "outputId": "1403f503-443b-4302-d3f2-8557d7b7388b"
      },
      "source": [
        "dtc.fit(X_train,Y_train)"
      ],
      "execution_count": 0,
      "outputs": [
        {
          "output_type": "execute_result",
          "data": {
            "text/plain": [
              "DecisionTreeClassifier(ccp_alpha=0.0, class_weight=None, criterion='gini',\n",
              "                       max_depth=3, max_features=None, max_leaf_nodes=None,\n",
              "                       min_impurity_decrease=0.0, min_impurity_split=None,\n",
              "                       min_samples_leaf=1, min_samples_split=2,\n",
              "                       min_weight_fraction_leaf=0.0, presort='deprecated',\n",
              "                       random_state=None, splitter='best')"
            ]
          },
          "metadata": {
            "tags": []
          },
          "execution_count": 5
        }
      ]
    },
    {
      "cell_type": "markdown",
      "metadata": {
        "id": "NxVNHTfGH5kl",
        "colab_type": "text"
      },
      "source": [
        "3/ On calcule les prévisions puis la précision du modèle:"
      ]
    },
    {
      "cell_type": "code",
      "metadata": {
        "id": "q6Yh7pQhH5ks",
        "colab_type": "code",
        "colab": {}
      },
      "source": [
        "Y_pred = dtc.predict(X_test)"
      ],
      "execution_count": 0,
      "outputs": []
    },
    {
      "cell_type": "code",
      "metadata": {
        "id": "kR6q3rIzH5k1",
        "colab_type": "code",
        "colab": {},
        "outputId": "75de3c5c-761a-450a-afc0-db0939737c56"
      },
      "source": [
        "from sklearn.metrics import accuracy_score\n",
        "accuracy_score(Y_test,Y_pred)"
      ],
      "execution_count": 0,
      "outputs": [
        {
          "output_type": "execute_result",
          "data": {
            "text/plain": [
              "0.7445887445887446"
            ]
          },
          "metadata": {
            "tags": []
          },
          "execution_count": 7
        }
      ]
    },
    {
      "cell_type": "markdown",
      "metadata": {
        "id": "kDikaD0aH5lA",
        "colab_type": "text"
      },
      "source": [
        "4/ On affiche la matrice de confusion:"
      ]
    },
    {
      "cell_type": "code",
      "metadata": {
        "id": "-QD_70yoH5lF",
        "colab_type": "code",
        "colab": {},
        "outputId": "935634e7-a32b-4408-da93-7d2e01325a7b"
      },
      "source": [
        "from sklearn.metrics import confusion_matrix\n",
        "confusion_matrix(Y_test,Y_pred)"
      ],
      "execution_count": 0,
      "outputs": [
        {
          "output_type": "execute_result",
          "data": {
            "text/plain": [
              "array([[132,  18],\n",
              "       [ 41,  40]])"
            ]
          },
          "metadata": {
            "tags": []
          },
          "execution_count": 8
        }
      ]
    },
    {
      "cell_type": "markdown",
      "metadata": {
        "id": "lDqqzdD3H5lQ",
        "colab_type": "text"
      },
      "source": [
        "5/On dessine l'arbre de décision:"
      ]
    },
    {
      "cell_type": "code",
      "metadata": {
        "id": "uMPJNIEtH5lT",
        "colab_type": "code",
        "colab": {}
      },
      "source": [
        "#from sklearn.tree import plot_tree\n",
        "#plot_tree(dtc.fit(X_train,Y_train)) "
      ],
      "execution_count": 0,
      "outputs": []
    },
    {
      "cell_type": "code",
      "metadata": {
        "id": "EgTZLkWsH5lb",
        "colab_type": "code",
        "colab": {},
        "outputId": "4b898544-03ca-4c25-f928-c2361e7d09c7"
      },
      "source": [
        "import graphviz \n",
        "from sklearn.tree import export_graphviz\n",
        "import graphviz\n",
        "dot_data = export_graphviz(dtc, out_file=None) \n",
        "graph = graphviz.Source(dot_data) \n",
        "graph.render(\"diabete\") "
      ],
      "execution_count": 0,
      "outputs": [
        {
          "output_type": "execute_result",
          "data": {
            "text/plain": [
              "'diabete.pdf'"
            ]
          },
          "metadata": {
            "tags": []
          },
          "execution_count": 13
        }
      ]
    },
    {
      "cell_type": "markdown",
      "metadata": {
        "id": "37ozk7NSH5lk",
        "colab_type": "text"
      },
      "source": [
        "6/On calcule les prévisons en probabilité du modèle"
      ]
    },
    {
      "cell_type": "code",
      "metadata": {
        "id": "ddcBm4u8H5ln",
        "colab_type": "code",
        "colab": {}
      },
      "source": [
        "Y_pred_prob = dtc.predict_proba(X_test)"
      ],
      "execution_count": 0,
      "outputs": []
    },
    {
      "cell_type": "markdown",
      "metadata": {
        "id": "IWxLS-vcH5lx",
        "colab_type": "text"
      },
      "source": [
        "7/ On calcule le score auc"
      ]
    },
    {
      "cell_type": "code",
      "metadata": {
        "id": "U8fDmJ07H5l0",
        "colab_type": "code",
        "colab": {},
        "outputId": "3f47fd56-1e02-4879-eb73-a6788d297801"
      },
      "source": [
        "from sklearn.metrics import roc_auc_score\n",
        "roc_auc_score(Y_test,dtc.predict_proba(X_test)[:,1])"
      ],
      "execution_count": 0,
      "outputs": [
        {
          "output_type": "execute_result",
          "data": {
            "text/plain": [
              "0.7664609053497942"
            ]
          },
          "metadata": {
            "tags": []
          },
          "execution_count": 55
        }
      ]
    },
    {
      "cell_type": "markdown",
      "metadata": {
        "id": "qtYknsWpH5l-",
        "colab_type": "text"
      },
      "source": [
        "8/ On trace la courbe ROC: on utilise la fonction sklearn.metrics.roc_curve qui calcul les taux de faux positive (fpr) et les taux de vrais positif (tpr) ainsi que le seuils threshold"
      ]
    },
    {
      "cell_type": "code",
      "metadata": {
        "id": "jNzSWPV1H5mD",
        "colab_type": "code",
        "colab": {},
        "outputId": "6de4912a-09db-404e-d9f4-cda0f33fd992"
      },
      "source": [
        "from sklearn.metrics import roc_curve, auc\n",
        "fpr, tpr, thresholds = roc_curve(Y_test,dtc.predict_proba(X_test)[:,1])\n",
        "auc(fpr,tpr)"
      ],
      "execution_count": 0,
      "outputs": [
        {
          "output_type": "execute_result",
          "data": {
            "text/plain": [
              "0.7664609053497942"
            ]
          },
          "metadata": {
            "tags": []
          },
          "execution_count": 58
        }
      ]
    },
    {
      "cell_type": "code",
      "metadata": {
        "id": "VmX4n-KoH5mK",
        "colab_type": "code",
        "colab": {},
        "outputId": "1feb7cdb-8adf-426a-a719-a5c85faef981"
      },
      "source": [
        "import numpy as np\n",
        "\n",
        "import matplotlib.pyplot as plt\n",
        "plt.plot(fpr,tpr,label = \"SCORE AUC ARBRE:\"+str(np.round(auc(fpr,tpr),4)))\n",
        "plt.plot([0,1],[0,1],color='blue')\n",
        "plt.ylabel(\"tpr\",fontsize='large')\n",
        "plt.xlabel(\"fpr\",fontsize='large')\n",
        "plt.fill_between(fpr, fpr, tpr,color='grey')\n",
        "plt.legend(loc=4)\n",
        "plt.show"
      ],
      "execution_count": 0,
      "outputs": [
        {
          "output_type": "execute_result",
          "data": {
            "text/plain": [
              "<function matplotlib.pyplot.show(*args, **kw)>"
            ]
          },
          "metadata": {
            "tags": []
          },
          "execution_count": 60
        },
        {
          "output_type": "execute_result",
          "data": {
            "image/png": "[encoded data removed]",
            "text/plain": [
              "<Figure size 432x288 with 1 Axes>"
            ]
          },
          "metadata": {
            "tags": [],
            "needs_background": "light"
          },
          "execution_count": 60
        }
      ]
    },
    {
      "cell_type": "markdown",
      "metadata": {
        "id": "rHow8SPXH5mR",
        "colab_type": "text"
      },
      "source": [
        "9/On étudie l'importance des features:"
      ]
    },
    {
      "cell_type": "code",
      "metadata": {
        "id": "a0j3PY8TH5mU",
        "colab_type": "code",
        "colab": {},
        "outputId": "060c31d1-e239-4d2d-be16-872301b7185d"
      },
      "source": [
        "import numpy as np\n",
        "importance = dtc.feature_importances_\n",
        "nom_feature = X_train.columns \n",
        "\n",
        "index = np.argsort(importance)[::-1]\n",
        "\n",
        "nom_feature_ord = nom_feature[index]\n",
        "importance_ord = np.round(100*importance[index],2)"
      ],
      "execution_count": 0,
      "outputs": [
        {
          "output_type": "execute_result",
          "data": {
            "text/plain": [
              "array([56.54, 23.77, 19.69,  0.  ,  0.  ,  0.  ,  0.  ])"
            ]
          },
          "metadata": {
            "tags": []
          },
          "execution_count": 71
        }
      ]
    },
    {
      "cell_type": "code",
      "metadata": {
        "id": "3N20QLDMH5mb",
        "colab_type": "code",
        "colab": {},
        "outputId": "880d3d47-3c4c-4e4a-8cdb-2920db661e28"
      },
      "source": [
        "import numpy as np\n",
        "import matplotlib.pyplot as plt\n",
        "\n",
        "y_pos = np.arange(len(nom_feature_ord))\n",
        "\n",
        "\n",
        "\n",
        "plt.bar(y_pos,importance_ord,edgecolor='navy',color='blue')\n",
        "plt.xticks(y_pos,nom_feature_ord,color='black',rotation=80)\n",
        "plt.box(False)\n",
        "plt.yticks([])\n",
        "for i in range(0,len(nom_feature_ord)):\n",
        "    plt.text(y_pos[i]-0.25,importance_ord[i]+0.5,str(importance_ord[i]))\n",
        "plt.show()"
      ],
      "execution_count": 0,
      "outputs": [
        {
          "output_type": "execute_result",
          "data": {
            "image/png": "[encoded data removed]",
            "text/plain": [
              "<Figure size 432x288 with 1 Axes>"
            ]
          },
          "metadata": {
            "tags": [],
            "needs_background": "light"
          },
          "execution_count": 72
        }
      ]
    },
    {
      "cell_type": "markdown",
      "metadata": {
        "id": "7qX-fEkiH5mj",
        "colab_type": "text"
      },
      "source": [
        "### Random forest sur les données diabète"
      ]
    },
    {
      "cell_type": "markdown",
      "metadata": {
        "id": "0JD_cCyhH5mm",
        "colab_type": "text"
      },
      "source": [
        "Le principe d'une forest aléatoire est de construire un plusieurs arbres de décision indépendant (bagging) et d'assembler leurs prédiction. Chaque arbre peut être vue comme un individue qui vote. C'est le vote majoritaire qui est la prédiction."
      ]
    },
    {
      "cell_type": "markdown",
      "metadata": {
        "id": "wm9SYHpgH5mn",
        "colab_type": "text"
      },
      "source": [
        "1/ On va construire un arbre de décision rdf avec les paramètres suivants:\n",
        "* n_estimators=300 (nombre d'arbre est 300)\n",
        "* criterion='gini': The function to measure the quality of a split.\n",
        "* max_depth=7 : The maximum depth of the tree.\n",
        "* min_samples_split=3 : The minimum number of samples required to split an internal node"
      ]
    },
    {
      "cell_type": "code",
      "metadata": {
        "id": "GcLap_iLH5mp",
        "colab_type": "code",
        "colab": {},
        "outputId": "f8909f7d-08f9-4f3b-c144-13c0ea13a917"
      },
      "source": [
        "from sklearn.ensemble import RandomForestClassifier\n",
        "rdf = RandomForestClassifier(n_estimators=300, criterion='gini',\\\n",
        "                             random_state=1998,max_depth=7, min_samples_split=3,min_samples_leaf=2)\n",
        "rdf.fit(X_train,Y_train)"
      ],
      "execution_count": 0,
      "outputs": [
        {
          "output_type": "execute_result",
          "data": {
            "text/plain": [
              "RandomForestClassifier(bootstrap=True, class_weight=None, criterion='gini',\n",
              "            max_depth=7, max_features='auto', max_leaf_nodes=None,\n",
              "            min_impurity_decrease=0.0, min_impurity_split=None,\n",
              "            min_samples_leaf=2, min_samples_split=3,\n",
              "            min_weight_fraction_leaf=0.0, n_estimators=300, n_jobs=None,\n",
              "            oob_score=False, random_state=1998, verbose=0,\n",
              "            warm_start=False)"
            ]
          },
          "metadata": {
            "tags": []
          },
          "execution_count": 142
        }
      ]
    },
    {
      "cell_type": "markdown",
      "metadata": {
        "id": "gsqpS9BpH5mz",
        "colab_type": "text"
      },
      "source": [
        "2/ On calcule la précision du modèle"
      ]
    },
    {
      "cell_type": "code",
      "metadata": {
        "id": "h2ck-jkyH5m4",
        "colab_type": "code",
        "colab": {},
        "outputId": "f8fbaf1a-6ab2-4595-d2e7-5cc1cce14e30"
      },
      "source": [
        "from sklearn.metrics import accuracy_score\n",
        "accuracy_score(Y_test,rdf.predict(X_test))"
      ],
      "execution_count": 0,
      "outputs": [
        {
          "output_type": "execute_result",
          "data": {
            "text/plain": [
              "0.7705627705627706"
            ]
          },
          "metadata": {
            "tags": []
          },
          "execution_count": 143
        }
      ]
    },
    {
      "cell_type": "markdown",
      "metadata": {
        "id": "dawGCcPWH5nA",
        "colab_type": "text"
      },
      "source": [
        "3/ On calcule le score AUC"
      ]
    },
    {
      "cell_type": "code",
      "metadata": {
        "id": "inA2pnLmH5nD",
        "colab_type": "code",
        "colab": {},
        "outputId": "95d7d80f-78f2-4b7f-bd3e-22f01c157c72"
      },
      "source": [
        "from sklearn.metrics import roc_auc_score\n",
        "roc_auc_score(Y_test,rdf.predict_proba(X_test)[:,1])"
      ],
      "execution_count": 0,
      "outputs": [
        {
          "output_type": "execute_result",
          "data": {
            "text/plain": [
              "0.8411522633744857"
            ]
          },
          "metadata": {
            "tags": []
          },
          "execution_count": 144
        }
      ]
    },
    {
      "cell_type": "markdown",
      "metadata": {
        "id": "hvnk03A0H5nL",
        "colab_type": "text"
      },
      "source": [
        "4/ On construit la courbe ROC avec X_test et Y_test:"
      ]
    },
    {
      "cell_type": "code",
      "metadata": {
        "id": "pZOZdeZCH5nR",
        "colab_type": "code",
        "colab": {},
        "outputId": "f6cb1612-38d2-403d-8693-13c6d1c11044"
      },
      "source": [
        "from sklearn.metrics import roc_curve, auc\n",
        "fpr, tpr, thresholds = roc_curve(Y_test,rdf.predict_proba(X_test)[:,1])\n",
        "auc(fpr,tpr)"
      ],
      "execution_count": 0,
      "outputs": [
        {
          "output_type": "execute_result",
          "data": {
            "text/plain": [
              "0.8411522633744857"
            ]
          },
          "metadata": {
            "tags": []
          },
          "execution_count": 145
        }
      ]
    },
    {
      "cell_type": "code",
      "metadata": {
        "id": "_5j_DLykH5nZ",
        "colab_type": "code",
        "colab": {},
        "outputId": "9c5b7d2a-40f4-44dd-dbdc-5c5391bf2c79"
      },
      "source": [
        "import numpy as np\n",
        "\n",
        "import matplotlib.pyplot as plt\n",
        "plt.plot(fpr,tpr,label = \"SCORE AUC RDF:\"+str(np.round(auc(fpr,tpr),4)))\n",
        "plt.plot([0,1],[0,1],color='blue')\n",
        "plt.ylabel(\"tpr\",fontsize='large')\n",
        "plt.xlabel(\"fpr\",fontsize='large')\n",
        "plt.fill_between(fpr, fpr, tpr,color='grey')\n",
        "plt.legend(loc=4)\n",
        "plt.show"
      ],
      "execution_count": 0,
      "outputs": [
        {
          "output_type": "execute_result",
          "data": {
            "text/plain": [
              "<function matplotlib.pyplot.show(*args, **kw)>"
            ]
          },
          "metadata": {
            "tags": []
          },
          "execution_count": 146
        },
        {
          "output_type": "execute_result",
          "data": {
            "image/png": "[encoded data removed]",
            "text/plain": [
              "<Figure size 432x288 with 1 Axes>"
            ]
          },
          "metadata": {
            "tags": [],
            "needs_background": "light"
          },
          "execution_count": 146
        }
      ]
    },
    {
      "cell_type": "markdown",
      "metadata": {
        "id": "Hi5JFuyBH5nj",
        "colab_type": "text"
      },
      "source": [
        "# Exercice : Machine learning sur le le dataset contraceptive-method-choice"
      ]
    },
    {
      "cell_type": "markdown",
      "metadata": {
        "id": "CxU9qquKH5nl",
        "colab_type": "text"
      },
      "source": [
        "Dans cette section on applique la régression logistique et l'arbre aléatoire au dataset travel insurance. Dans une premiere partie on manipule les données. Vous devez executer les cellule tout en lisant attentivement cette partie. Il faudrat comprendre cette dernière pour pouvoir fair le projet.<br>\n",
        "Le dataset vient du site kaggle : https://www.kaggle.com/faizunnabi/contraceptive-method-choice.<br> \n",
        "Vous pouvez charger les données en suivant ce lien: https://1drv.ms/t/s!Am09h0q2OIX0ccOvloeR-pTUI1Y?e=y2pPgL"
      ]
    },
    {
      "cell_type": "markdown",
      "metadata": {
        "id": "s4SvC6niH5nm",
        "colab_type": "text"
      },
      "source": [
        "### Manipulation des données \n",
        "Dans ce dataset nous avons les variables suivantes:\n",
        " 1. Wife's age (numerical)\n",
        " 2. Wife's education (categorical) 1=low, 2, 3, 4=high\n",
        " 3. Husband's education (categorical) 1=low, 2, 3, 4=high\n",
        " 4. Number of children ever born (numerical)\n",
        " 5. Wife's religion (binary) 0=Non-Islam, 1=Islam\n",
        " 6. Wife's now working? (binary) 0=Yes, 1=No\n",
        " 7. Husband's occupation (categorical) 1, 2, 3, 4\n",
        " 8. Standard-of-living index (categorical) 1=low, 2, 3, 4=high\n",
        " 9. Media exposure (binary) 0=Good, 1=Not good\n",
        " 10. Contraceptive method used (class attribute) 1=No-use ,2=Long-term,3=Short-term\n",
        " \n",
        "La variable Contraceptive method used est la variable que l'on veut prédire  "
      ]
    },
    {
      "cell_type": "markdown",
      "metadata": {
        "id": "KMCXuqLaH5np",
        "colab_type": "text"
      },
      "source": [
        "On importe les données:"
      ]
    },
    {
      "cell_type": "code",
      "metadata": {
        "id": "6T-IlUgGH5nr",
        "colab_type": "code",
        "colab": {}
      },
      "source": [
        "import pandas as pd\n",
        "#remplacer le chemin\n",
        "NON_VAR = ['WIFE_AGE','WIFE_EDU','HUSB_EDU','NUM_OF_CHILD',\\\n",
        "           'WIFE_RELI','WIFE_WORK','HUSB_OCUP','STA_OF_LIV','MEDIA_EXP','CONTRACEPTIVE']\n",
        "donnee = pd.read_csv(\"cmc.data.txt\",sep=',',header=None,names=NON_VAR)"
      ],
      "execution_count": 0,
      "outputs": []
    },
    {
      "cell_type": "markdown",
      "metadata": {
        "id": "qyMhCvoUH5nz",
        "colab_type": "text"
      },
      "source": [
        "On regarde la répartition de la variable cible"
      ]
    },
    {
      "cell_type": "code",
      "metadata": {
        "id": "iIuCU0gqH5n2",
        "colab_type": "code",
        "colab": {},
        "outputId": "565f54de-2927-4546-ec8a-e24a49a13428"
      },
      "source": [
        "donnee['CONTRACEPTIVE'].value_counts()"
      ],
      "execution_count": 0,
      "outputs": [
        {
          "output_type": "execute_result",
          "data": {
            "text/plain": [
              "1    629\n",
              "3    511\n",
              "2    333\n",
              "Name: CONTRACEPTIVE, dtype: int64"
            ]
          },
          "metadata": {
            "tags": []
          },
          "execution_count": 2
        }
      ]
    },
    {
      "cell_type": "markdown",
      "metadata": {
        "id": "gZyzfLBkH5n_",
        "colab_type": "text"
      },
      "source": [
        "On affiche les colonnes du dataset:"
      ]
    },
    {
      "cell_type": "code",
      "metadata": {
        "id": "DtWvMiLNH5oB",
        "colab_type": "code",
        "colab": {},
        "outputId": "8cc19773-08f0-4f9a-ba00-e7a2989c13ee"
      },
      "source": [
        "donnee.columns"
      ],
      "execution_count": 0,
      "outputs": [
        {
          "output_type": "execute_result",
          "data": {
            "text/plain": [
              "Index(['WIFE_AGE', 'WIFE_EDU', 'HUSB_EDU', 'NUM_OF_CHILD', 'WIFE_RELI',\n",
              "       'WIFE_WORK', 'HUSB_OCUP', 'STA_OF_LIV', 'MEDIA_EXP', 'CONTRACEPTIVE'],\n",
              "      dtype='object')"
            ]
          },
          "metadata": {
            "tags": []
          },
          "execution_count": 3
        }
      ]
    },
    {
      "cell_type": "markdown",
      "metadata": {
        "id": "rrvPH0RXH5oH",
        "colab_type": "text"
      },
      "source": [
        "On sépare la colonne Claim que l'on veut prédire des autres:"
      ]
    },
    {
      "cell_type": "code",
      "metadata": {
        "id": "9lvFcuavH5oK",
        "colab_type": "code",
        "colab": {}
      },
      "source": [
        "features = [o for o in donnee.columns if o !='CONTRACEPTIVE']\n",
        "X = donnee[features]\n",
        "Y = donnee['CONTRACEPTIVE']"
      ],
      "execution_count": 0,
      "outputs": []
    },
    {
      "cell_type": "markdown",
      "metadata": {
        "id": "mdF5hsxfH5oQ",
        "colab_type": "text"
      },
      "source": [
        "On réduit le problème à 2 classes : 0 n'utilise pas la contraception, 1 utilise la contraception:"
      ]
    },
    {
      "cell_type": "code",
      "metadata": {
        "id": "rR6GeP_-H5oU",
        "colab_type": "code",
        "colab": {}
      },
      "source": [
        "import numpy as np\n",
        "Y_red = np.where(Y==1,0,1) #recodage vaut 0 si contraception=1 vaut 1 sinon"
      ],
      "execution_count": 0,
      "outputs": []
    },
    {
      "cell_type": "markdown",
      "metadata": {
        "id": "oVSSLGmFH5oc",
        "colab_type": "text"
      },
      "source": [
        "* On dummifie certaine variables catégorielles : 'WIFE_EDU','HUSB_EDU','HUSB_OCUP','STA_OF_LIV'.\n",
        "* Les varaibles catégorielles 'WIFE_RELI', 'WIFE_WORK', MEDIA_EXP sont déja dummifiés\n"
      ]
    },
    {
      "cell_type": "markdown",
      "metadata": {
        "id": "UwhF7mfkH5oe",
        "colab_type": "text"
      },
      "source": [
        "On convertie les variables a dummifier en caractère/string"
      ]
    },
    {
      "cell_type": "code",
      "metadata": {
        "id": "byKZ-Pf1H5og",
        "colab_type": "code",
        "colab": {},
        "outputId": "82b74e1a-0d61-45f6-a667-211a6cda37f3"
      },
      "source": [
        "import pandas as pd\n",
        "a_dummies = ['WIFE_EDU','HUSB_EDU','HUSB_OCUP','STA_OF_LIV']  #label\n",
        "\n",
        "for var in a_dummies:             #dummie=indicator 0/1   loc: accéder aux var par label\n",
        "    X.loc[:,var] = X.loc[:,var].copy().astype(str)\n",
        "\n",
        "X_dum = pd.get_dummies(X[a_dummies])   #convertit les var en dummie"
      ],
      "execution_count": 0,
      "outputs": [
        {
          "output_type": "stream",
          "text": [
            "C:\\ProgramData\\Anaconda3\\lib\\site-packages\\pandas\\core\\indexing.py:543: SettingWithCopyWarning: \n",
            "A value is trying to be set on a copy of a slice from a DataFrame.\n",
            "Try using .loc[row_indexer,col_indexer] = value instead\n",
            "\n",
            "See the caveats in the documentation: http://pandas.pydata.org/pandas-docs/stable/indexing.html#indexing-view-versus-copy\n",
            "  self.obj[item] = s\n"
          ],
          "name": "stderr"
        }
      ]
    },
    {
      "cell_type": "markdown",
      "metadata": {
        "id": "NXWwDXBgH5op",
        "colab_type": "text"
      },
      "source": [
        "Ensuite on enlève les varaibles ['WIFE_EDU','HUSB_EDU','HUSB_OCUP','STA_OF_LIV'] et on concatène avec X_dum:"
      ]
    },
    {
      "cell_type": "code",
      "metadata": {
        "id": "VfFKxsZKH5or",
        "colab_type": "code",
        "colab": {}
      },
      "source": [
        "A_garder = [var for var in list(X) if var not in a_dummies]\n",
        "X = X[A_garder]\n",
        "\n",
        "X = pd.concat([X,X_dum],axis=1)"
      ],
      "execution_count": 0,
      "outputs": []
    },
    {
      "cell_type": "markdown",
      "metadata": {
        "id": "IiCJt1KRH5oy",
        "colab_type": "text"
      },
      "source": [
        "### Exercice 1 : régression logistique sur les données contraceptive-method-choice\n",
        "On utilise X et Y_red: X est l'ensembles des features (variables explicatives). Y_red est la target value, c'est à dire la variable que l'on veut prédire"
      ]
    },
    {
      "cell_type": "markdown",
      "metadata": {
        "id": "yvpkst3lH5o1",
        "colab_type": "text"
      },
      "source": [
        "1/ Diviser en échantillon d'apprentissage et de test. On utilisera train_test_split comme dans l'exemple ci-dessus. On prendra l'option random_state=1998. L'échantillon dapprentissage s'appelle X_train, Y_train et celui de test s'appelle X_test, Y_test."
      ]
    },
    {
      "cell_type": "code",
      "metadata": {
        "id": "Z6XpZeOtH5o_",
        "colab_type": "code",
        "colab": {}
      },
      "source": [
        "from sklearn.model_selection import train_test_split\n",
        "X_train, X_test,Y_train, Y_test = train_test_split(X,Y_red,test_size=0.33,random_state=1998)"
      ],
      "execution_count": 0,
      "outputs": []
    },
    {
      "cell_type": "markdown",
      "metadata": {
        "id": "T7plKjzxH5pJ",
        "colab_type": "text"
      },
      "source": [
        "2/ Appeler un modèle de régression logistique, avec les parametre suivants:\n",
        "* penalty='l2'\n",
        "* solver='lbfgs'\n",
        "* C=1/2\n",
        "* max_iter=1000\n",
        "\n",
        "Ce medèle s'appelle logit1"
      ]
    },
    {
      "cell_type": "code",
      "metadata": {
        "id": "oAmyLv3XH5pM",
        "colab_type": "code",
        "colab": {}
      },
      "source": [
        "from sklearn.linear_model import LogisticRegression\n",
        "logit1  = LogisticRegression(penalty='l2',random_state=1998, solver='lbfgs',max_iter=1000, multi_class='auto', C=1/2)"
      ],
      "execution_count": 0,
      "outputs": []
    },
    {
      "cell_type": "markdown",
      "metadata": {
        "id": "Y0PRkvnhH5pT",
        "colab_type": "text"
      },
      "source": [
        "3/Entrainer le moèle logit1 avec les données X_train et Y_train."
      ]
    },
    {
      "cell_type": "code",
      "metadata": {
        "id": "YkgkUtY2H5pU",
        "colab_type": "code",
        "colab": {},
        "outputId": "f2db21bf-2920-434a-e6d5-40f67ead8b92"
      },
      "source": [
        "logit1.fit(X_train,Y_train)"
      ],
      "execution_count": 0,
      "outputs": [
        {
          "output_type": "execute_result",
          "data": {
            "text/plain": [
              "LogisticRegression(C=0.5, class_weight=None, dual=False, fit_intercept=True,\n",
              "          intercept_scaling=1, max_iter=1000, multi_class='auto',\n",
              "          n_jobs=None, penalty='l2', random_state=1998, solver='lbfgs',\n",
              "          tol=0.0001, verbose=0, warm_start=False)"
            ]
          },
          "metadata": {
            "tags": []
          },
          "execution_count": 10
        }
      ]
    },
    {
      "cell_type": "markdown",
      "metadata": {
        "id": "C-h8JZjKH5pb",
        "colab_type": "text"
      },
      "source": [
        "4/ Faite la prévision Y_pred que logit1 produit avec X_test. "
      ]
    },
    {
      "cell_type": "code",
      "metadata": {
        "id": "QAy5mgcUH5pe",
        "colab_type": "code",
        "colab": {}
      },
      "source": [
        "Y_pred = logit1.predict(X_test)   #prédiction de Y en fonction de X_test"
      ],
      "execution_count": 0,
      "outputs": []
    },
    {
      "cell_type": "markdown",
      "metadata": {
        "id": "cjJGs6ufH5pj",
        "colab_type": "text"
      },
      "source": [
        "5/ Calculer la précision du modèle logit1 sur les données de test."
      ]
    },
    {
      "cell_type": "code",
      "metadata": {
        "id": "aCisSMNUH5pl",
        "colab_type": "code",
        "colab": {},
        "outputId": "d8f24487-82b5-457c-90b8-27d730eee2a8"
      },
      "source": [
        "from sklearn.metrics import accuracy_score\n",
        "accuracy_score(Y_test,Y_pred)  #proportion de prédictions correctes"
      ],
      "execution_count": 0,
      "outputs": [
        {
          "output_type": "execute_result",
          "data": {
            "text/plain": [
              "0.6632443531827515"
            ]
          },
          "metadata": {
            "tags": []
          },
          "execution_count": 12
        }
      ]
    },
    {
      "cell_type": "markdown",
      "metadata": {
        "id": "Rwtip7JTH5pt",
        "colab_type": "text"
      },
      "source": [
        "6/Calculer la matrice de confusion de logit1 sur les donnée X_test, Y_test."
      ]
    },
    {
      "cell_type": "code",
      "metadata": {
        "id": "tyJFkA8VH5pu",
        "colab_type": "code",
        "colab": {},
        "outputId": "cbcd8ea1-87ba-47ec-aa56-8bdd4eda386f"
      },
      "source": [
        "from sklearn.metrics import confusion_matrix\n",
        "confusion_matrix(Y_test,Y_pred) "
      ],
      "execution_count": 0,
      "outputs": [
        {
          "output_type": "execute_result",
          "data": {
            "text/plain": [
              "array([[ 97, 114],\n",
              "       [ 50, 226]], dtype=int64)"
            ]
          },
          "metadata": {
            "tags": []
          },
          "execution_count": 13
        }
      ]
    },
    {
      "cell_type": "markdown",
      "metadata": {
        "id": "CWUlHuIeH5p1",
        "colab_type": "text"
      },
      "source": [
        "7/Calculer les prévisions en probabilité du modèle sur les données X_test."
      ]
    },
    {
      "cell_type": "code",
      "metadata": {
        "id": "9kQZHFiyH5p3",
        "colab_type": "code",
        "colab": {}
      },
      "source": [
        "Y_pred_prob = logit1.predict_proba(X_test)    #proba d'appartenir aux classes 0,1"
      ],
      "execution_count": 0,
      "outputs": []
    },
    {
      "cell_type": "markdown",
      "metadata": {
        "id": "nXbtWzzJH5p9",
        "colab_type": "text"
      },
      "source": [
        "8/Calculer le score AUC du modèle logit1 sur les données."
      ]
    },
    {
      "cell_type": "code",
      "metadata": {
        "id": "QERAOu0mH5qA",
        "colab_type": "code",
        "colab": {},
        "outputId": "9c422c82-2ae8-4110-c9e5-93d0bba8d149"
      },
      "source": [
        "from sklearn.metrics import roc_auc_score, auc\n",
        "roc_auc_score(Y_test,logit1.predict_proba(X_test)[:,1])     #score AUC"
      ],
      "execution_count": 0,
      "outputs": [
        {
          "output_type": "execute_result",
          "data": {
            "text/plain": [
              "0.7064015385672093"
            ]
          },
          "metadata": {
            "tags": []
          },
          "execution_count": 15
        }
      ]
    },
    {
      "cell_type": "markdown",
      "metadata": {
        "id": "ANPecnpLH5qI",
        "colab_type": "text"
      },
      "source": [
        "9/ tracer la cource ROC de logit1 sur les données X_test, Y_test"
      ]
    },
    {
      "cell_type": "code",
      "metadata": {
        "id": "11BVjziJH5qL",
        "colab_type": "code",
        "colab": {},
        "outputId": "8cb6ba9e-df40-43b6-ad95-31e687d9608a"
      },
      "source": [
        "from sklearn.metrics import roc_curve, auc\n",
        "fpr, tpr, threshold = roc_curve(Y_test,logit1.predict_proba(X_test)[:,1])\n",
        "auc(fpr,tpr)"
      ],
      "execution_count": 0,
      "outputs": [
        {
          "output_type": "execute_result",
          "data": {
            "text/plain": [
              "0.7064015385672093"
            ]
          },
          "metadata": {
            "tags": []
          },
          "execution_count": 16
        }
      ]
    },
    {
      "cell_type": "code",
      "metadata": {
        "id": "ad9nlQueH5qT",
        "colab_type": "code",
        "colab": {},
        "outputId": "21e5d0fd-f460-4b1d-9b33-e29f6832a2eb"
      },
      "source": [
        "import numpy as np   \n",
        "#ROC TVP en fonction des TFP\n",
        "import matplotlib.pyplot as plt\n",
        "plt.plot(fpr,tpr,label = \"SCORE AUC:\"+str(np.round(auc(fpr,tpr),4)))  #arrondi 4 chiffres\n",
        "plt.plot([0,1],[0,1],color='blue') #1ère bissectrice\n",
        "plt.ylabel(\"tpr\",fontsize='large')\n",
        "plt.xlabel(\"fpr\",fontsize='large')\n",
        "plt.fill_between(fpr, fpr, tpr,color='grey')\n",
        "plt.legend(loc=4)\n",
        "plt.show()"
      ],
      "execution_count": 0,
      "outputs": [
        {
          "output_type": "display_data",
          "data": {
            "image/png": "[encoded data removed]",
            "text/plain": [
              "<Figure size 432x288 with 1 Axes>"
            ]
          },
          "metadata": {
            "tags": [],
            "needs_background": "light"
          }
        }
      ]
    },
    {
      "cell_type": "markdown",
      "metadata": {
        "id": "0L3cc4nkH5qb",
        "colab_type": "text"
      },
      "source": [
        "### Exercice 2 : arbre de décision"
      ]
    },
    {
      "cell_type": "markdown",
      "metadata": {
        "id": "EIfCik-LH5qd",
        "colab_type": "text"
      },
      "source": [
        "1/ Diviser en échantillon d'apprentissage et de test. On utilisera train_test_split comme dans l'exemple ci-dessus. On prendra l'option random_state=1998. L'échantillon dapprentissage s'appelle X_train, Y_train et celui de test s'appelle X_test, Y_test."
      ]
    },
    {
      "cell_type": "code",
      "metadata": {
        "id": "qII8T-FjH5qf",
        "colab_type": "code",
        "colab": {}
      },
      "source": [
        "from sklearn.model_selection import train_test_split\n",
        "X_train, X_test,Y_train, Y_test = train_test_split(X,Y_red,test_size=0.33,random_state=1998)"
      ],
      "execution_count": 0,
      "outputs": []
    },
    {
      "cell_type": "markdown",
      "metadata": {
        "id": "5KN-ktEzH5qo",
        "colab_type": "text"
      },
      "source": [
        "2/ Faire un modele d'arbre de décision sklearn.tree.DecisionTreeClassifier. Ce modele s'appelle arbre."
      ]
    },
    {
      "cell_type": "code",
      "metadata": {
        "id": "663u2yPQH5qq",
        "colab_type": "code",
        "colab": {}
      },
      "source": [
        "from sklearn.tree import DecisionTreeClassifier\n",
        "arbre = DecisionTreeClassifier(criterion='gini',max_depth=3,min_samples_split=2)"
      ],
      "execution_count": 0,
      "outputs": []
    },
    {
      "cell_type": "markdown",
      "metadata": {
        "id": "pk1E4BOAH5qy",
        "colab_type": "text"
      },
      "source": [
        "3/ Entrainer le modèle arbre avec les données X_train et Y_train "
      ]
    },
    {
      "cell_type": "code",
      "metadata": {
        "id": "zMSTS9kvH5q0",
        "colab_type": "code",
        "colab": {},
        "outputId": "bf16f0a3-947e-4506-dd70-8c739b36a768"
      },
      "source": [
        "arbre.fit(X_train,Y_train)"
      ],
      "execution_count": 0,
      "outputs": [
        {
          "output_type": "execute_result",
          "data": {
            "text/plain": [
              "DecisionTreeClassifier(class_weight=None, criterion='gini', max_depth=3,\n",
              "            max_features=None, max_leaf_nodes=None,\n",
              "            min_impurity_decrease=0.0, min_impurity_split=None,\n",
              "            min_samples_leaf=1, min_samples_split=2,\n",
              "            min_weight_fraction_leaf=0.0, presort=False, random_state=None,\n",
              "            splitter='best')"
            ]
          },
          "metadata": {
            "tags": []
          },
          "execution_count": 21
        }
      ]
    },
    {
      "cell_type": "markdown",
      "metadata": {
        "id": "g3lPfxDyH5q8",
        "colab_type": "text"
      },
      "source": [
        "4/ Calculer les prédictions Y_pred du modèle arbre sur les données X_test. "
      ]
    },
    {
      "cell_type": "code",
      "metadata": {
        "id": "NTOchpXCH5q-",
        "colab_type": "code",
        "colab": {}
      },
      "source": [
        "Y_pred = arbre.predict(X_test)"
      ],
      "execution_count": 0,
      "outputs": []
    },
    {
      "cell_type": "markdown",
      "metadata": {
        "id": "0MyrldJTH5rX",
        "colab_type": "text"
      },
      "source": [
        "5/ Calculer la précision du modèle arbre sur les données X_test et Y_test"
      ]
    },
    {
      "cell_type": "code",
      "metadata": {
        "id": "qJKPGY_YH5rY",
        "colab_type": "code",
        "colab": {},
        "outputId": "82a13d93-3555-407c-847b-1c61f528d6c9"
      },
      "source": [
        "from sklearn.metrics import accuracy_score\n",
        "accuracy_score(Y_test,Y_pred)"
      ],
      "execution_count": 0,
      "outputs": [
        {
          "output_type": "execute_result",
          "data": {
            "text/plain": [
              "0.6817248459958932"
            ]
          },
          "metadata": {
            "tags": []
          },
          "execution_count": 23
        }
      ]
    },
    {
      "cell_type": "markdown",
      "metadata": {
        "id": "ZIDgCkHJH5re",
        "colab_type": "text"
      },
      "source": [
        "6/ Faire un modèle d'arbre de décision arbrebis avec les paramètre suivants\n",
        "* random_state=1998\n",
        "* criterion='gini'\n",
        "* max_depth=9\n",
        "* min_samples_split=4\n",
        "* min_samples_leaf=3\n",
        "En trainer ce modèle"
      ]
    },
    {
      "cell_type": "code",
      "metadata": {
        "id": "6WW0pQl-H5rg",
        "colab_type": "code",
        "colab": {}
      },
      "source": [
        "from sklearn.tree import DecisionTreeClassifier\n",
        "arbrebis = DecisionTreeClassifier(random_state=1998,criterion='gini',max_depth=9,min_samples_split=4,min_samples_leaf=3)"
      ],
      "execution_count": 0,
      "outputs": []
    },
    {
      "cell_type": "code",
      "metadata": {
        "id": "bThiedWgH5rs",
        "colab_type": "code",
        "colab": {},
        "outputId": "2bebae71-eb5b-4fd2-d744-2c0b3032e948"
      },
      "source": [
        "arbrebis.fit(X_train,Y_train)"
      ],
      "execution_count": 0,
      "outputs": [
        {
          "output_type": "execute_result",
          "data": {
            "text/plain": [
              "DecisionTreeClassifier(class_weight=None, criterion='gini', max_depth=9,\n",
              "            max_features=None, max_leaf_nodes=None,\n",
              "            min_impurity_decrease=0.0, min_impurity_split=None,\n",
              "            min_samples_leaf=3, min_samples_split=4,\n",
              "            min_weight_fraction_leaf=0.0, presort=False, random_state=1998,\n",
              "            splitter='best')"
            ]
          },
          "metadata": {
            "tags": []
          },
          "execution_count": 25
        }
      ]
    },
    {
      "cell_type": "markdown",
      "metadata": {
        "id": "X5703fNQH5rx",
        "colab_type": "text"
      },
      "source": [
        "7/Calculer la précision du modèle sur les données X_test et Y_test."
      ]
    },
    {
      "cell_type": "code",
      "metadata": {
        "id": "26d3k6hoH5rz",
        "colab_type": "code",
        "colab": {}
      },
      "source": [
        "Y_pred = arbrebis.predict(X_test)"
      ],
      "execution_count": 0,
      "outputs": []
    },
    {
      "cell_type": "code",
      "metadata": {
        "id": "r5C9X-ITH5r5",
        "colab_type": "code",
        "colab": {},
        "outputId": "dd586e23-ae53-42dd-9c0c-32f840ce1111"
      },
      "source": [
        "from sklearn.metrics import accuracy_score\n",
        "accuracy_score(Y_test,Y_pred)"
      ],
      "execution_count": 0,
      "outputs": [
        {
          "output_type": "execute_result",
          "data": {
            "text/plain": [
              "0.702258726899384"
            ]
          },
          "metadata": {
            "tags": []
          },
          "execution_count": 27
        }
      ]
    },
    {
      "cell_type": "markdown",
      "metadata": {
        "id": "g9EgPG4OH5sA",
        "colab_type": "text"
      },
      "source": [
        "8/ Calculer la prédiction en probabilité du modèle arbrebis sur X_test, Y_test."
      ]
    },
    {
      "cell_type": "code",
      "metadata": {
        "id": "NMZWGdWDH5sB",
        "colab_type": "code",
        "colab": {}
      },
      "source": [
        "Y_pred_prob = arbrebis.predict_proba(X_test)"
      ],
      "execution_count": 0,
      "outputs": []
    },
    {
      "cell_type": "markdown",
      "metadata": {
        "id": "jnMUH08JH5sJ",
        "colab_type": "text"
      },
      "source": [
        "9/ Caluler le score AUC du modèle arbrebis sur les données X_test et Y_test."
      ]
    },
    {
      "cell_type": "code",
      "metadata": {
        "id": "CW8lCQ8jH5sL",
        "colab_type": "code",
        "colab": {},
        "outputId": "31231b85-8a43-4a3c-8e72-84e0c266a214"
      },
      "source": [
        "from sklearn.metrics import roc_auc_score\n",
        "roc_auc_score(Y_test,arbrebis.predict_proba(X_test)[:,1])"
      ],
      "execution_count": 0,
      "outputs": [
        {
          "output_type": "execute_result",
          "data": {
            "text/plain": [
              "0.7134332715159009"
            ]
          },
          "metadata": {
            "tags": []
          },
          "execution_count": 29
        }
      ]
    },
    {
      "cell_type": "markdown",
      "metadata": {
        "id": "-54MsAU3H5sQ",
        "colab_type": "text"
      },
      "source": [
        "10/ Faire la courbe roc du modèle arbrebis"
      ]
    },
    {
      "cell_type": "code",
      "metadata": {
        "id": "Yxy7BK40H5sS",
        "colab_type": "code",
        "colab": {},
        "outputId": "dd6dc7c3-feb1-47ec-f1ce-a25653b751f5"
      },
      "source": [
        "from sklearn.metrics import roc_curve, auc\n",
        "fpr, tpr, thresholds = roc_curve(Y_test,arbrebis.predict_proba(X_test)[:,1])\n",
        "auc(fpr,tpr)"
      ],
      "execution_count": 0,
      "outputs": [
        {
          "output_type": "execute_result",
          "data": {
            "text/plain": [
              "0.7134332715159009"
            ]
          },
          "metadata": {
            "tags": []
          },
          "execution_count": 30
        }
      ]
    },
    {
      "cell_type": "code",
      "metadata": {
        "id": "hehO19MkH5sY",
        "colab_type": "code",
        "colab": {},
        "outputId": "8bb6a0bc-e866-4edf-d49f-df33ea6f815c"
      },
      "source": [
        "import numpy as np\n",
        "\n",
        "import matplotlib.pyplot as plt\n",
        "plt.plot(fpr,tpr,label = \"SCORE AUC ARBRE:\"+str(np.round(auc(fpr,tpr),4)))\n",
        "plt.plot([0,1],[0,1],color='blue')\n",
        "plt.ylabel(\"tpr\",fontsize='large')\n",
        "plt.xlabel(\"fpr\",fontsize='large')\n",
        "plt.fill_between(fpr, fpr, tpr,color='grey')\n",
        "plt.legend(loc=4)\n",
        "plt.show"
      ],
      "execution_count": 0,
      "outputs": [
        {
          "output_type": "execute_result",
          "data": {
            "text/plain": [
              "<function matplotlib.pyplot.show(*args, **kw)>"
            ]
          },
          "metadata": {
            "tags": []
          },
          "execution_count": 31
        },
        {
          "output_type": "display_data",
          "data": {
            "image/png": "[encoded data removed]",
            "text/plain": [
              "<Figure size 432x288 with 1 Axes>"
            ]
          },
          "metadata": {
            "tags": [],
            "needs_background": "light"
          }
        }
      ]
    },
    {
      "cell_type": "markdown",
      "metadata": {
        "id": "HpGAG9X_H5se",
        "colab_type": "text"
      },
      "source": [
        "11/Ilustrer l'importance des features par un diagramme en baton. On gardera les 15 features les plus importants."
      ]
    },
    {
      "cell_type": "code",
      "metadata": {
        "id": "vCrIOFRgH5sg",
        "colab_type": "code",
        "colab": {},
        "outputId": "dd3ce6ad-9580-4db1-b9bb-314c83fc6cbd"
      },
      "source": [
        "NON_FEATURES = X_train.columns\n",
        "\n",
        "import numpy as np\n",
        "IMPORTANCE_FEATURES = 100*np.round(arbrebis.feature_importances_,2)\n",
        "loca = np.arange(len(IMPORTANCE_FEATURES))\n",
        "\n",
        "index = np.argsort(IMPORTANCE_FEATURES)[::-1]\n",
        "\n",
        "#on ordonne \n",
        "IMPORTANCE_FEATURES = IMPORTANCE_FEATURES[index][0:15]\n",
        "NON_FEATURES = NON_FEATURES[index][0:15]\n",
        "loca  = loca[0:15]\n",
        "\n",
        "import matplotlib.pyplot as plt\n",
        "plt.bar(loca,IMPORTANCE_FEATURES,edgecolor='red',color='red')\n",
        "plt.yticks([])\n",
        "plt.xticks(loca,NON_FEATURES,color='black',rotation=80)\n",
        "plt.box(False)\n",
        "for i in range(0,len(NON_FEATURES)):\n",
        "    plt.text(loca[i]-0.3,IMPORTANCE_FEATURES[i],str(np.round(IMPORTANCE_FEATURES[i],1)))\n",
        "plt.show"
      ],
      "execution_count": 0,
      "outputs": [
        {
          "output_type": "execute_result",
          "data": {
            "text/plain": [
              "<function matplotlib.pyplot.show(*args, **kw)>"
            ]
          },
          "metadata": {
            "tags": []
          },
          "execution_count": 32
        },
        {
          "output_type": "display_data",
          "data": {
            "image/png": "[encoded data removed]",
            "text/plain": [
              "<Figure size 432x288 with 1 Axes>"
            ]
          },
          "metadata": {
            "tags": [],
            "needs_background": "light"
          }
        }
      ]
    },
    {
      "cell_type": "markdown",
      "metadata": {
        "id": "HhHlK3GpH5sq",
        "colab_type": "text"
      },
      "source": [
        "### Exercice 3 : random forest sur les données contraceptive-method-choice"
      ]
    },
    {
      "cell_type": "markdown",
      "metadata": {
        "id": "wsA1r-LwH5sz",
        "colab_type": "text"
      },
      "source": [
        "1/ Faire un modèle de random forest randfo de la manière suivante:\n",
        "* criterion='gini'\n",
        "* random_state=1998\n",
        "* la profondeur de chaques arbre est 9\n",
        "* min_samples_split=3\n",
        "* min_samples_leaf=2\n",
        "* max_features=0.7\n",
        "Entrainer le modèle randfo avec les données X_train et Y_train"
      ]
    },
    {
      "cell_type": "code",
      "metadata": {
        "id": "OYE4zSigH5s3",
        "colab_type": "code",
        "colab": {}
      },
      "source": [
        "from sklearn.ensemble import RandomForestClassifier\n",
        "randfo = RandomForestClassifier(n_estimators=300, criterion='gini', random_state=1998, \\\n",
        "                                max_depth=9, min_samples_split=3,min_samples_leaf=2,max_features=0.7)"
      ],
      "execution_count": 0,
      "outputs": []
    },
    {
      "cell_type": "code",
      "metadata": {
        "id": "9VRhMOUiH5s-",
        "colab_type": "code",
        "colab": {},
        "outputId": "27cbadbe-d2ef-4a88-9f3b-738c59555a4a"
      },
      "source": [
        "randfo.fit(X_train,Y_train)"
      ],
      "execution_count": 0,
      "outputs": [
        {
          "output_type": "execute_result",
          "data": {
            "text/plain": [
              "RandomForestClassifier(bootstrap=True, class_weight=None, criterion='gini',\n",
              "            max_depth=9, max_features=0.7, max_leaf_nodes=None,\n",
              "            min_impurity_decrease=0.0, min_impurity_split=None,\n",
              "            min_samples_leaf=2, min_samples_split=3,\n",
              "            min_weight_fraction_leaf=0.0, n_estimators=300, n_jobs=None,\n",
              "            oob_score=False, random_state=1998, verbose=0,\n",
              "            warm_start=False)"
            ]
          },
          "metadata": {
            "tags": []
          },
          "execution_count": 34
        }
      ]
    },
    {
      "cell_type": "markdown",
      "metadata": {
        "id": "sqMtz-O5H5tF",
        "colab_type": "text"
      },
      "source": [
        "2/Donner une interpretation du paramètre max_features."
      ]
    },
    {
      "cell_type": "markdown",
      "metadata": {
        "id": "6JLfVxiZH5tG",
        "colab_type": "text"
      },
      "source": [
        "Pour chaque arbre, max_features représente la taille du sous-échantillon de régresseurs choisi aléatoirement parmis les régresseurs qu'on utilise pour trouver la meilleure séparation possible d'un noeud. \n",
        "Ici on considère 70% des régresseurs. "
      ]
    },
    {
      "cell_type": "markdown",
      "metadata": {
        "id": "4SAsWz-0H5tI",
        "colab_type": "text"
      },
      "source": [
        "3/ Calculer la précision randfo sur X_test et Y_test."
      ]
    },
    {
      "cell_type": "code",
      "metadata": {
        "id": "LcGrnjW2H5tK",
        "colab_type": "code",
        "colab": {},
        "outputId": "ee2fa404-5f79-40ce-f169-1df429c1ce4e"
      },
      "source": [
        "from sklearn.metrics import accuracy_score\n",
        "accuracy_score(Y_test,randfo.predict(X_test))"
      ],
      "execution_count": 0,
      "outputs": [
        {
          "output_type": "execute_result",
          "data": {
            "text/plain": [
              "0.7268993839835729"
            ]
          },
          "metadata": {
            "tags": []
          },
          "execution_count": 35
        }
      ]
    },
    {
      "cell_type": "markdown",
      "metadata": {
        "id": "QARN2mJ3H5tQ",
        "colab_type": "text"
      },
      "source": [
        "4/ Calculer le score AUC de randfo sur X_test et Y_test."
      ]
    },
    {
      "cell_type": "code",
      "metadata": {
        "id": "WFrBay7pH5tS",
        "colab_type": "code",
        "colab": {},
        "outputId": "c0848c9e-403d-4709-d28e-713eb48b62d6"
      },
      "source": [
        "from sklearn.metrics import roc_auc_score\n",
        "roc_auc_score(Y_test,randfo.predict_proba(X_test)[:,1])"
      ],
      "execution_count": 0,
      "outputs": [
        {
          "output_type": "execute_result",
          "data": {
            "text/plain": [
              "0.7696957208599492"
            ]
          },
          "metadata": {
            "tags": []
          },
          "execution_count": 36
        }
      ]
    },
    {
      "cell_type": "code",
      "metadata": {
        "id": "BN83esmnH5tY",
        "colab_type": "code",
        "colab": {}
      },
      "source": [
        ""
      ],
      "execution_count": 0,
      "outputs": []
    }
  ]
}