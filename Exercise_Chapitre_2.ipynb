{
  "nbformat": 4,
  "nbformat_minor": 0,
  "metadata": {
    "kernelspec": {
      "display_name": "Python 3",
      "language": "python",
      "name": "python3"
    },
    "language_info": {
      "codemirror_mode": {
        "name": "ipython",
        "version": 3
      },
      "file_extension": ".py",
      "mimetype": "text/x-python",
      "name": "python",
      "nbconvert_exporter": "python",
      "pygments_lexer": "ipython3",
      "version": "3.6.5"
    },
    "colab": {
      "name": "Exercise_Chapitre_2.ipynb",
      "provenance": [],
      "include_colab_link": true
    }
  },
  "cells": [
    {
      "cell_type": "markdown",
      "metadata": {
        "id": "view-in-github",
        "colab_type": "text"
      },
      "source": [
        "<a href=\"https://colab.research.google.com/github/fabnancyuhp/RENDUPYTHONISFSTAT/blob/master/Exercise_Chapitre_2.ipynb\" target=\"_parent\"><img src=\"https://colab.research.google.com/assets/colab-badge.svg\" alt=\"Open In Colab\"/></a>"
      ]
    },
    {
      "cell_type": "markdown",
      "metadata": {
        "id": "BHzuf3wOoHoO",
        "colab_type": "text"
      },
      "source": [
        "# Exercice : Machine learning sur le le dataset contraceptive-method-choice"
      ]
    },
    {
      "cell_type": "markdown",
      "metadata": {
        "id": "I8Af4r1hoHoT",
        "colab_type": "text"
      },
      "source": [
        "Dans cette section on applique la régression logistique et l'arbre aléatoire au dataset travel insurance. Dans une premiere partie on manipule les données. Vous devez executer les cellule tout en lisant attentivement cette partie. Il faudrat comprendre cette dernière pour pouvoir fair le projet.<br>\n",
        "Le dataset vient du site kaggle : https://www.kaggle.com/faizunnabi/contraceptive-method-choice.<br> \n",
        "Vous pouvez charger les données en suivant ce lien: https://1drv.ms/t/s!Am09h0q2OIX0ccOvloeR-pTUI1Y?e=y2pPgL"
      ]
    },
    {
      "cell_type": "markdown",
      "metadata": {
        "id": "Whp1j780oHoV",
        "colab_type": "text"
      },
      "source": [
        "### Manipulation des données \n",
        "Dans ce dataset nous avons les variables suivantes:\n",
        " 1. Wife's age (numerical)\n",
        " 2. Wife's education (categorical) 1=low, 2, 3, 4=high\n",
        " 3. Husband's education (categorical) 1=low, 2, 3, 4=high\n",
        " 4. Number of children ever born (numerical)\n",
        " 5. Wife's religion (binary) 0=Non-Islam, 1=Islam\n",
        " 6. Wife's now working? (binary) 0=Yes, 1=No\n",
        " 7. Husband's occupation (categorical) 1, 2, 3, 4\n",
        " 8. Standard-of-living index (categorical) 1=low, 2, 3, 4=high\n",
        " 9. Media exposure (binary) 0=Good, 1=Not good\n",
        " 10. Contraceptive method used (class attribute) 1=No-use ,2=Long-term,3=Short-term\n",
        " \n",
        "La variable Contraceptive method used est la variable que l'on veut prédire  "
      ]
    },
    {
      "cell_type": "code",
      "metadata": {
        "id": "KBGAC6EmoHoX",
        "colab_type": "code",
        "colab": {}
      },
      "source": [
        "import pandas as pd\n",
        "import numpy as np\n",
        "import matplotlib.pyplot as plt\n",
        "\n",
        "from sklearn.model_selection import train_test_split\n",
        "from sklearn.linear_model import LogisticRegression\n",
        "\n",
        "from sklearn.metrics import accuracy_score\n",
        "from sklearn.metrics import confusion_matrix\n",
        "from sklearn.metrics import roc_auc_score, auc, roc_curve"
      ],
      "execution_count": 0,
      "outputs": []
    },
    {
      "cell_type": "markdown",
      "metadata": {
        "id": "4_BB0GmVoHoe",
        "colab_type": "text"
      },
      "source": [
        "Manipulation des données (preprocessing)"
      ]
    },
    {
      "cell_type": "code",
      "metadata": {
        "id": "tE4ECnE2oHof",
        "colab_type": "code",
        "colab": {},
        "outputId": "1a72864b-e441-40c4-b2ed-6a7f816876a2"
      },
      "source": [
        "NON_VAR = ['WIFE_AGE', 'WIFE_EDU', 'HUSB_EDU', 'NUM_OF_CHILD',\n",
        "           'WIFE_RELI', 'WIFE_WORK', 'HUSB_OCUP', 'STA_OF_LIV',\n",
        "           'MEDIA_EXP', 'CONTRACEPTIVE']\n",
        "\n",
        "donnee = pd.read_csv(\"/Users/danielhaik/Desktop/cmc.data.txt\",\n",
        "                     sep=\",\", header=None, names=NON_VAR)\n",
        "\n",
        "donnee['CONTRACEPTIVE'].value_counts()\n",
        "\n",
        "features = [o for o in donnee.columns if o != 'CONTRACEPTIVE']\n",
        "\n",
        "X = donnee[features]\n",
        "\n",
        "Y = donnee['CONTRACEPTIVE']\n",
        "\n",
        "Y_red = np.where(Y == 1, 0, 1)\n",
        "\n",
        "a_dummies = ['WIFE_EDU', 'HUSB_EDU', 'HUSB_OCUP', 'STA_OF_LIV']\n",
        "\n",
        "for var in a_dummies:\n",
        "    X.loc[:, var] = X.loc[:, var].copy().astype(str)\n",
        "\n",
        "X_dum = pd.get_dummies(X[a_dummies])\n",
        "\n",
        "A_garder = [var for var in list(X) if var not in a_dummies]\n",
        "X = X[A_garder]\n",
        "\n",
        "X = pd.concat([X, X_dum], axis=1)"
      ],
      "execution_count": 0,
      "outputs": [
        {
          "output_type": "stream",
          "text": [
            "/Users/danielhaik/anaconda3/lib/python3.6/site-packages/pandas/core/indexing.py:543: SettingWithCopyWarning: \n",
            "A value is trying to be set on a copy of a slice from a DataFrame.\n",
            "Try using .loc[row_indexer,col_indexer] = value instead\n",
            "\n",
            "See the caveats in the documentation: http://pandas.pydata.org/pandas-docs/stable/indexing.html#indexing-view-versus-copy\n",
            "  self.obj[item] = s\n"
          ],
          "name": "stderr"
        }
      ]
    },
    {
      "cell_type": "markdown",
      "metadata": {
        "id": "X_CKBRGyoHom",
        "colab_type": "text"
      },
      "source": [
        "### Exercice 1 : régression logistique sur les données contraceptive-method-choice\n",
        "On utilise X et Y_red: X est l'ensembles des features (variables explicatives). Y_red est la target value, c'est à dire la variable que l'on veut prédire"
      ]
    },
    {
      "cell_type": "markdown",
      "metadata": {
        "id": "MvQmKR8woHoo",
        "colab_type": "text"
      },
      "source": [
        "1/ Diviser en échantillon d'apprentissage et de test. On utilisera train_test_split comme dans l'exemple ci-dessus. On prendra l'option random_state=1998. L'échantillon dapprentissage s'appelle X_train, Y_train et celui de test s'appelle X_test, Y_test."
      ]
    },
    {
      "cell_type": "code",
      "metadata": {
        "id": "8lEPzrsAoHoq",
        "colab_type": "code",
        "colab": {}
      },
      "source": [
        "X_train, X_test, Y_train, Y_test = train_test_split(X, Y_red,\n",
        "                                                    random_state=1998,\n",
        "                                                    test_size=0.3)"
      ],
      "execution_count": 0,
      "outputs": []
    },
    {
      "cell_type": "markdown",
      "metadata": {
        "id": "b9Rt0-ftoHov",
        "colab_type": "text"
      },
      "source": [
        "2/ Appeler un modèle de régression logistique, avec les parametre suivants:\n",
        "* penalty='l2'\n",
        "* solver='lbfgs'\n",
        "* C=1/2\n",
        "* max_iter=1000\n",
        "\n",
        "Ce medèle s'appelle logit1"
      ]
    },
    {
      "cell_type": "code",
      "metadata": {
        "id": "y4rN6XOJoHow",
        "colab_type": "code",
        "colab": {}
      },
      "source": [
        "clf = LogisticRegression(penalty='l2', solver='lbfgs', C=1/2,\n",
        "                         max_iter=1000)"
      ],
      "execution_count": 0,
      "outputs": []
    },
    {
      "cell_type": "markdown",
      "metadata": {
        "id": "LgtSSlvAoHo2",
        "colab_type": "text"
      },
      "source": [
        "3/Entrainer le moèle logit1 avec les données X_train et Y_train."
      ]
    },
    {
      "cell_type": "code",
      "metadata": {
        "id": "Phhf5b6boHo4",
        "colab_type": "code",
        "colab": {},
        "outputId": "084d0f1e-cf18-4660-a6a1-210972eb2d87"
      },
      "source": [
        "clf.fit(X_train, Y_train)\n"
      ],
      "execution_count": 0,
      "outputs": [
        {
          "output_type": "execute_result",
          "data": {
            "text/plain": [
              "LogisticRegression(C=0.5, class_weight=None, dual=False, fit_intercept=True,\n",
              "          intercept_scaling=1, max_iter=1000, multi_class='ovr', n_jobs=1,\n",
              "          penalty='l2', random_state=None, solver='lbfgs', tol=0.0001,\n",
              "          verbose=0, warm_start=False)"
            ]
          },
          "metadata": {
            "tags": []
          },
          "execution_count": 8
        }
      ]
    },
    {
      "cell_type": "markdown",
      "metadata": {
        "id": "g2jh_9KHoHo-",
        "colab_type": "text"
      },
      "source": [
        "4/ Faite la prévision Y_pred que logit1 produit avec X_test. "
      ]
    },
    {
      "cell_type": "code",
      "metadata": {
        "id": "UWlS22luoHo_",
        "colab_type": "code",
        "colab": {}
      },
      "source": [
        "Y_pred = clf.predict(X_test)"
      ],
      "execution_count": 0,
      "outputs": []
    },
    {
      "cell_type": "markdown",
      "metadata": {
        "id": "J6mqwADVoHpF",
        "colab_type": "text"
      },
      "source": [
        "5/ Calculer la précision du modèle logit1 sur les données de test."
      ]
    },
    {
      "cell_type": "code",
      "metadata": {
        "id": "PUv-o9EWoHpH",
        "colab_type": "code",
        "colab": {},
        "outputId": "e53b3c09-3f6e-4d99-d0d4-9ab60c8228a6"
      },
      "source": [
        "accuracy_score(Y_test, Y_pred)"
      ],
      "execution_count": 0,
      "outputs": [
        {
          "output_type": "execute_result",
          "data": {
            "text/plain": [
              "0.665158371040724"
            ]
          },
          "metadata": {
            "tags": []
          },
          "execution_count": 11
        }
      ]
    },
    {
      "cell_type": "markdown",
      "metadata": {
        "id": "QhtBfarkoHpN",
        "colab_type": "text"
      },
      "source": [
        "6/Calculer la matrice de confusion de logit1 sur les donnée X_test, Y_test."
      ]
    },
    {
      "cell_type": "code",
      "metadata": {
        "id": "CPY-q-yKoHpO",
        "colab_type": "code",
        "colab": {},
        "outputId": "81395dda-5d0c-4a8c-ee08-407ae68d8f41"
      },
      "source": [
        "confusion_matrix(Y_test, Y_pred)"
      ],
      "execution_count": 0,
      "outputs": [
        {
          "output_type": "execute_result",
          "data": {
            "text/plain": [
              "array([[ 90, 101],\n",
              "       [ 47, 204]])"
            ]
          },
          "metadata": {
            "tags": []
          },
          "execution_count": 12
        }
      ]
    },
    {
      "cell_type": "markdown",
      "metadata": {
        "id": "mcGm2ylwoHpU",
        "colab_type": "text"
      },
      "source": [
        "7/Calculer les prévisions en probabilité du modèle sur les données X_test."
      ]
    },
    {
      "cell_type": "code",
      "metadata": {
        "id": "A2xfxjRboHpW",
        "colab_type": "code",
        "colab": {}
      },
      "source": [
        "Y_pred_prob = clf.predict_proba(X_test)"
      ],
      "execution_count": 0,
      "outputs": []
    },
    {
      "cell_type": "markdown",
      "metadata": {
        "id": "CQx1HPIKoHpa",
        "colab_type": "text"
      },
      "source": [
        "8/Calculer le score AUC du modèle logit1 sur les données."
      ]
    },
    {
      "cell_type": "code",
      "metadata": {
        "id": "DyzjS4y5oHpb",
        "colab_type": "code",
        "colab": {}
      },
      "source": [
        "score_auc = roc_auc_score(Y_test, Y_pred_prob[:, 1])"
      ],
      "execution_count": 0,
      "outputs": []
    },
    {
      "cell_type": "markdown",
      "metadata": {
        "id": "HhvWHT_noHpg",
        "colab_type": "text"
      },
      "source": [
        "9/ tracer la cource ROC de logit1 sur les données X_test, Y_test"
      ]
    },
    {
      "cell_type": "code",
      "metadata": {
        "id": "HFqhs212oHpj",
        "colab_type": "code",
        "colab": {},
        "outputId": "86e263af-c6d4-407c-9087-6ba0ec3958f7"
      },
      "source": [
        "fpr, tpr, threshold = roc_curve(Y_test, Y_pred_prob[:, 1])\n",
        "\n",
        "plt.plot(fpr, tpr, label='SCORE AUC:'+str(np.round(auc(fpr, tpr), 4)))\n",
        "plt.plot([0, 1], [0, 1], color='blue')\n",
        "plt.ylabel(\"tpr\", fontsize='large')\n",
        "plt.xlabel('fpr', fontsize='large')\n",
        "plt.fill_between(fpr, fpr, tpr, color='grey')\n",
        "plt.legend(loc=4)\n",
        "plt.show()"
      ],
      "execution_count": 0,
      "outputs": [
        {
          "output_type": "display_data",
          "data": {
            "image/png": "[encoded data removed]",
            "text/plain": [
              "<Figure size 432x288 with 1 Axes>"
            ]
          },
          "metadata": {
            "tags": []
          }
        }
      ]
    },
    {
      "cell_type": "markdown",
      "metadata": {
        "id": "g72wNHNEoHpp",
        "colab_type": "text"
      },
      "source": [
        "### Exercice 2 : arbre de décision"
      ]
    },
    {
      "cell_type": "markdown",
      "metadata": {
        "id": "_5S8zOE2oHpr",
        "colab_type": "text"
      },
      "source": [
        "1/ Diviser en échantillon d'apprentissage et de test. On utilisera train_test_split comme dans l'exemple ci-dessus. On prendra l'option random_state=1998. L'échantillon dapprentissage s'appelle X_train, Y_train et celui de test s'appelle X_test, Y_test."
      ]
    },
    {
      "cell_type": "markdown",
      "metadata": {
        "id": "njfL67qEoHps",
        "colab_type": "text"
      },
      "source": [
        "2/ Faire un modele d'arbre de décision sklearn.tree.DecisionTreeClassifier. Ce modele s'appelle arbre."
      ]
    },
    {
      "cell_type": "code",
      "metadata": {
        "id": "HbtHMOicoHpt",
        "colab_type": "code",
        "colab": {}
      },
      "source": [
        "from sklearn.tree import DecisionTreeClassifier\n",
        "arbre = DecisionTreeClassifier(criterion=\"gini\", max_depth=3, min_samples_split=2)"
      ],
      "execution_count": 0,
      "outputs": []
    },
    {
      "cell_type": "markdown",
      "metadata": {
        "id": "Kzh1DXUPoHpy",
        "colab_type": "text"
      },
      "source": [
        "3/ Entrainer le modèle arbre avec les données X_train et Y_train "
      ]
    },
    {
      "cell_type": "code",
      "metadata": {
        "id": "oKaN2QzXoHpz",
        "colab_type": "code",
        "colab": {},
        "outputId": "9e3a2fd0-35c1-48b9-9d1e-a7d20d8e2910"
      },
      "source": [
        "arbre.fit(X_train, Y_train)"
      ],
      "execution_count": 0,
      "outputs": [
        {
          "output_type": "execute_result",
          "data": {
            "text/plain": [
              "DecisionTreeClassifier(class_weight=None, criterion='gini', max_depth=3,\n",
              "            max_features=None, max_leaf_nodes=None,\n",
              "            min_impurity_decrease=0.0, min_impurity_split=None,\n",
              "            min_samples_leaf=1, min_samples_split=2,\n",
              "            min_weight_fraction_leaf=0.0, presort=False, random_state=None,\n",
              "            splitter='best')"
            ]
          },
          "metadata": {
            "tags": []
          },
          "execution_count": 18
        }
      ]
    },
    {
      "cell_type": "markdown",
      "metadata": {
        "id": "8PczMNAfoHp4",
        "colab_type": "text"
      },
      "source": [
        "4/ Calculer les prédictions Y_pred du modèle arbre sur les données X_test. "
      ]
    },
    {
      "cell_type": "code",
      "metadata": {
        "id": "7L-J7eEaoHp7",
        "colab_type": "code",
        "colab": {}
      },
      "source": [
        "Y_pred_arbre = arbre.predict(X_test)"
      ],
      "execution_count": 0,
      "outputs": []
    },
    {
      "cell_type": "markdown",
      "metadata": {
        "id": "8oQ2xvJboHqC",
        "colab_type": "text"
      },
      "source": [
        "5/ Calculer la précision du modèle arbre sur les données X_test et Y_test"
      ]
    },
    {
      "cell_type": "code",
      "metadata": {
        "id": "UADZ6Ab_oHqD",
        "colab_type": "code",
        "colab": {},
        "outputId": "10485697-17c5-475f-a0dc-ccfa69aef409"
      },
      "source": [
        "score_arbre = accuracy_score(Y_test, Y_pred_arbre)\n",
        "score_arbre"
      ],
      "execution_count": 0,
      "outputs": [
        {
          "output_type": "execute_result",
          "data": {
            "text/plain": [
              "0.6968325791855203"
            ]
          },
          "metadata": {
            "tags": []
          },
          "execution_count": 21
        }
      ]
    },
    {
      "cell_type": "markdown",
      "metadata": {
        "id": "eNWWU3qyoHqJ",
        "colab_type": "text"
      },
      "source": [
        "6/ Faire un modèle d'arbre de décision arbrebis avec les paramètre suivants\n",
        "* random_state=1998\n",
        "* criterion='gini'\n",
        "* max_depth=9\n",
        "* min_samples_split=4\n",
        "* min_samples_leaf=3\n",
        "En trainer ce modèle"
      ]
    },
    {
      "cell_type": "code",
      "metadata": {
        "id": "jS0ZUiP_oHqL",
        "colab_type": "code",
        "colab": {},
        "outputId": "1e624995-3942-4230-f0c3-e9ee21cd2366"
      },
      "source": [
        "arbrebis = DecisionTreeClassifier(random_state=1998, criterion=\"gini\", max_depth=9,\n",
        "                                  min_samples_split=4, min_samples_leaf=3)\n",
        "arbrebis.fit(X_train, Y_train)"
      ],
      "execution_count": 0,
      "outputs": [
        {
          "output_type": "execute_result",
          "data": {
            "text/plain": [
              "DecisionTreeClassifier(class_weight=None, criterion='gini', max_depth=9,\n",
              "            max_features=None, max_leaf_nodes=None,\n",
              "            min_impurity_decrease=0.0, min_impurity_split=None,\n",
              "            min_samples_leaf=3, min_samples_split=4,\n",
              "            min_weight_fraction_leaf=0.0, presort=False, random_state=1998,\n",
              "            splitter='best')"
            ]
          },
          "metadata": {
            "tags": []
          },
          "execution_count": 22
        }
      ]
    },
    {
      "cell_type": "markdown",
      "metadata": {
        "id": "1d9wIkvIoHqR",
        "colab_type": "text"
      },
      "source": [
        "7/Calculer la précision du modèle sur les données X_test et Y_test."
      ]
    },
    {
      "cell_type": "code",
      "metadata": {
        "id": "PJ8SHt_MoHqS",
        "colab_type": "code",
        "colab": {}
      },
      "source": [
        "Y_pred_arbrebis = arbrebis.predict(X_test)\n",
        "score_arbrebis = accuracy_score(Y_test, Y_pred_arbrebis)"
      ],
      "execution_count": 0,
      "outputs": []
    },
    {
      "cell_type": "markdown",
      "metadata": {
        "id": "nVlGgZf1oHqW",
        "colab_type": "text"
      },
      "source": [
        "8/ Calculer la prédiction en probabilité du modèle arbrebis sur X_test, Y_test."
      ]
    },
    {
      "cell_type": "code",
      "metadata": {
        "id": "ijxbz4VaoHqY",
        "colab_type": "code",
        "colab": {}
      },
      "source": [
        "Y_pred_proba_arbrebis = arbrebis.predict_proba(X_test)"
      ],
      "execution_count": 0,
      "outputs": []
    },
    {
      "cell_type": "markdown",
      "metadata": {
        "id": "BHXbYvwGoHqd",
        "colab_type": "text"
      },
      "source": [
        "9/ Caluler le score AUC du modèle arbrebis sur les données X_test et Y_test."
      ]
    },
    {
      "cell_type": "code",
      "metadata": {
        "id": "UHWQflx4oHqe",
        "colab_type": "code",
        "colab": {}
      },
      "source": [
        "score_auc_arbrebis = roc_auc_score(Y_test, Y_pred_proba_arbrebis[:, 1])"
      ],
      "execution_count": 0,
      "outputs": []
    },
    {
      "cell_type": "markdown",
      "metadata": {
        "id": "KLcw92Q8oHqj",
        "colab_type": "text"
      },
      "source": [
        "10/ Faire la courbe roc du modèle arbrebis"
      ]
    },
    {
      "cell_type": "code",
      "metadata": {
        "id": "KI3SOY-zoHqk",
        "colab_type": "code",
        "colab": {},
        "outputId": "9c0bc721-46de-4d6f-c5d0-c6cc048779ed"
      },
      "source": [
        "fpr_arbrebis, tpr_arbrebis, threshold_2 = roc_curve(Y_test, Y_pred_proba_arbrebis[:, 1])\n",
        "\n",
        "plt.plot(fpr_arbrebis, tpr_arbrebis, label='SCORE AUC:'+str(np.round(auc(fpr_arbrebis, tpr_arbrebis), 4)))\n",
        "plt.plot([0, 1], [0, 1], color='blue')\n",
        "plt.ylabel(\"tpr_arbrebis\", fontsize='large')\n",
        "plt.xlabel('fpr_arbrebis', fontsize='large')\n",
        "plt.fill_between(fpr_arbrebis, fpr_arbrebis, tpr_arbrebis, color='grey')\n",
        "plt.legend(loc=4)\n",
        "plt.show()"
      ],
      "execution_count": 0,
      "outputs": [
        {
          "output_type": "display_data",
          "data": {
            "image/png": "[encoded data removed]",
            "text/plain": [
              "<Figure size 432x288 with 1 Axes>"
            ]
          },
          "metadata": {
            "tags": []
          }
        }
      ]
    },
    {
      "cell_type": "markdown",
      "metadata": {
        "id": "TNrBCzV-oHqp",
        "colab_type": "text"
      },
      "source": [
        "11/Ilustrer l'importance des features par un diagramme en baton. On gardera les 15 features les plus importants."
      ]
    },
    {
      "cell_type": "code",
      "metadata": {
        "id": "KG_QODAloHqq",
        "colab_type": "code",
        "colab": {},
        "outputId": "a9eb2e7e-dd00-434a-ce93-6f8b82b02f2f"
      },
      "source": [
        "NON_FEATURES = X_train.columns\n",
        "\n",
        "import numpy as np\n",
        "IMPORTANCE_FEATURES = 100*np.round(arbrebis.feature_importances_,2)\n",
        "loca = np.arange(len(IMPORTANCE_FEATURES))\n",
        "\n",
        "index = np.argsort(IMPORTANCE_FEATURES)[::-1]\n",
        "\n",
        "#on ordonne \n",
        "IMPORTANCE_FEATURES = IMPORTANCE_FEATURES[index][0:15]\n",
        "NON_FEATURES = NON_FEATURES[index][0:15]\n",
        "loca  = loca[0:15]\n",
        "\n",
        "import matplotlib.pyplot as plt\n",
        "plt.bar(loca,IMPORTANCE_FEATURES,edgecolor='red',color='red')\n",
        "plt.yticks([])\n",
        "plt.xticks(loca,NON_FEATURES,color='black',rotation=80)\n",
        "plt.box(False)\n",
        "for i in range(0,len(NON_FEATURES)):\n",
        "    plt.text(loca[i]-0.3,IMPORTANCE_FEATURES[i],str(np.round(IMPORTANCE_FEATURES[i],1)))\n",
        "plt.show"
      ],
      "execution_count": 0,
      "outputs": [
        {
          "output_type": "execute_result",
          "data": {
            "text/plain": [
              "<function matplotlib.pyplot.show(*args, **kw)>"
            ]
          },
          "metadata": {
            "tags": []
          },
          "execution_count": 27
        },
        {
          "output_type": "display_data",
          "data": {
            "image/png": "[encoded data removed]",
            "text/plain": [
              "<Figure size 432x288 with 1 Axes>"
            ]
          },
          "metadata": {
            "tags": []
          }
        }
      ]
    },
    {
      "cell_type": "markdown",
      "metadata": {
        "id": "MWHKx3o6oHqu",
        "colab_type": "text"
      },
      "source": [
        "### Exercice 3 : random forest sur les données contraceptive-method-choice"
      ]
    },
    {
      "cell_type": "markdown",
      "metadata": {
        "id": "7O6x-b3RoHqw",
        "colab_type": "text"
      },
      "source": [
        "1/ Faire un modèle de random forest randfo de la manière suivante:\n",
        "* criterion='gini'\n",
        "* random_state=1998\n",
        "* la profondeur de chaques arbre est 9\n",
        "* min_samples_split=3\n",
        "* min_samples_leaf=2\n",
        "* max_features=0.7\n",
        "Entrainer le modèle randfo avec les données X_train et Y_train"
      ]
    },
    {
      "cell_type": "code",
      "metadata": {
        "id": "jz37W7wLoHqx",
        "colab_type": "code",
        "colab": {},
        "outputId": "f2469afc-5a2d-4868-a521-d308579bd707"
      },
      "source": [
        "from sklearn.ensemble import RandomForestClassifier\n",
        "\n",
        "randfo = RandomForestClassifier(criterion=\"gini\", random_state=1998, max_depth=9,\n",
        "                                min_samples_split=3, min_samples_leaf=2,\n",
        "                                max_features=0.7)\n",
        "randfo.fit(X_train, Y_train)"
      ],
      "execution_count": 0,
      "outputs": [
        {
          "output_type": "execute_result",
          "data": {
            "text/plain": [
              "RandomForestClassifier(bootstrap=True, class_weight=None, criterion='gini',\n",
              "            max_depth=9, max_features=0.7, max_leaf_nodes=None,\n",
              "            min_impurity_decrease=0.0, min_impurity_split=None,\n",
              "            min_samples_leaf=2, min_samples_split=3,\n",
              "            min_weight_fraction_leaf=0.0, n_estimators=10, n_jobs=1,\n",
              "            oob_score=False, random_state=1998, verbose=0,\n",
              "            warm_start=False)"
            ]
          },
          "metadata": {
            "tags": []
          },
          "execution_count": 28
        }
      ]
    },
    {
      "cell_type": "markdown",
      "metadata": {
        "id": "osBDp3mjoHq2",
        "colab_type": "text"
      },
      "source": [
        "2/Donner une interpretation du paramètre max_features."
      ]
    },
    {
      "cell_type": "markdown",
      "metadata": {
        "id": "q3U-6hT7oHq4",
        "colab_type": "text"
      },
      "source": [
        "En indiquant max_features=0.7 l'algorithme sélectionne 70% de toutes les features pour diviser les noeuds l'arbre, ici il y a 21 features, il en selectionne donc aléatoirement 15 pour spliter les noeuds."
      ]
    },
    {
      "cell_type": "code",
      "metadata": {
        "id": "5L9Sw3ENoHq8",
        "colab_type": "code",
        "colab": {},
        "outputId": "a51f7cb2-aefe-4200-eeb9-f4e981d513d1"
      },
      "source": [
        "randfo.n_features_"
      ],
      "execution_count": 0,
      "outputs": [
        {
          "output_type": "execute_result",
          "data": {
            "text/plain": [
              "21"
            ]
          },
          "metadata": {
            "tags": []
          },
          "execution_count": 29
        }
      ]
    },
    {
      "cell_type": "markdown",
      "metadata": {
        "id": "DuNG6cUYoHrC",
        "colab_type": "text"
      },
      "source": [
        "3/ Calculer la précision randfo sur X_test et Y_test."
      ]
    },
    {
      "cell_type": "code",
      "metadata": {
        "id": "YuKtDd9aoHrD",
        "colab_type": "code",
        "colab": {},
        "outputId": "b9961f07-1bc7-4f00-fb16-d459a42f624d"
      },
      "source": [
        "Y_pred_randfo = randfo.predict(X_test)\n",
        "score_randfo = accuracy_score(Y_test, Y_pred_randfo)\n",
        "score_randfo"
      ],
      "execution_count": 0,
      "outputs": [
        {
          "output_type": "execute_result",
          "data": {
            "text/plain": [
              "0.7217194570135747"
            ]
          },
          "metadata": {
            "tags": []
          },
          "execution_count": 31
        }
      ]
    },
    {
      "cell_type": "markdown",
      "metadata": {
        "id": "wulKhBRXoHrI",
        "colab_type": "text"
      },
      "source": [
        "4/ Calculer le score AUC de randfo sur X_test et Y_test."
      ]
    },
    {
      "cell_type": "code",
      "metadata": {
        "id": "uDM5s_98oHrL",
        "colab_type": "code",
        "colab": {},
        "outputId": "ee4ec564-a31f-404f-844d-10e071060143"
      },
      "source": [
        "Y_pred_proba_randfo = randfo.predict_proba(X_test)\n",
        "score_auc_randfo = roc_auc_score(Y_test, Y_pred_proba_randfo[:, 1])\n",
        "score_auc_randfo"
      ],
      "execution_count": 0,
      "outputs": [
        {
          "output_type": "execute_result",
          "data": {
            "text/plain": [
              "0.7885943138441"
            ]
          },
          "metadata": {
            "tags": []
          },
          "execution_count": 33
        }
      ]
    },
    {
      "cell_type": "markdown",
      "metadata": {
        "id": "6ZQTKQpDoHrQ",
        "colab_type": "text"
      },
      "source": [
        "The best model for this data set seems to be the Random Forest qui a la meilleure précision\n"
      ]
    }
  ]
}